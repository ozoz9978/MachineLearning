{
 "cells": [
  {
   "cell_type": "markdown",
   "id": "e39bbad5-8c0b-4c6e-9db8-5e06a48da969",
   "metadata": {},
   "source": [
    "# 공분산 행렬 구하기"
   ]
  },
  {
   "cell_type": "code",
   "execution_count": 1,
   "id": "6eef171f-0115-4ca0-9028-43e8cba9bfd0",
   "metadata": {},
   "outputs": [],
   "source": [
    "import numpy as np\n",
    "np.set_printoptions(precision=3, suppress=True)"
   ]
  },
  {
   "cell_type": "code",
   "execution_count": 2,
   "id": "46e31823-99c7-43d5-9fd9-9dde287f1ac4",
   "metadata": {},
   "outputs": [],
   "source": [
    "x = [[177.7, 68.1, 91.8], \n",
    "     [168, 60.2, 89.3], \n",
    "     [165.3, 49.1, 84.9], \n",
    "     [159.1, 42, 86.3], \n",
    "     [176.4, 73.3, 93.8],\n",
    "     [176, 57.2, 92.5], \n",
    "     [170, 59.8, 89.8], \n",
    "     [164.6, 51.6, 88.5], \n",
    "     [174.4, 70.2, 91.7], \n",
    "     [174.8, 58.8, 91.6]]"
   ]
  },
  {
   "cell_type": "code",
   "execution_count": 4,
   "id": "c9cc48d5-0179-4299-8514-4c9c5cfda0f0",
   "metadata": {},
   "outputs": [
    {
     "name": "stdout",
     "output_type": "stream",
     "text": [
      "키 컬럼 분산:38.74900000000002\n",
      "열평균:[170.63  59.03  90.02]\n"
     ]
    }
   ],
   "source": [
    "x = np.array(x)\n",
    "print(f'키 컬럼 분산:{np.var(x[:,0],ddof=1)}') # 각행의 첫열만 분산계산하기\n",
    "# ddof 보통 표본분산계싼할때 설정 1로\n",
    "print(f'열평균:{np.mean(x,axis=0)}')"
   ]
  },
  {
   "cell_type": "markdown",
   "id": "c184f300-5b74-48aa-9a20-9525c6748551",
   "metadata": {},
   "source": [
    "# 데이터 분포 맞추기 위해 평균값을 빼준다 대비를 본다"
   ]
  },
  {
   "cell_type": "code",
   "execution_count": 8,
   "id": "c65225a4-3fd7-494d-9e8b-fca0d1b260dc",
   "metadata": {},
   "outputs": [
    {
     "name": "stdout",
     "output_type": "stream",
     "text": [
      "[[  7.07   9.07   1.78]\n",
      " [ -2.63   1.17  -0.72]\n",
      " [ -5.33  -9.93  -5.12]\n",
      " [-11.53 -17.03  -3.72]\n",
      " [  5.77  14.27   3.78]\n",
      " [  5.37  -1.83   2.48]\n",
      " [ -0.63   0.77  -0.22]\n",
      " [ -6.03  -7.43  -1.52]\n",
      " [  3.77  11.17   1.68]\n",
      " [  4.17  -0.23   1.58]]\n",
      "공분산행렬[[38.749 52.035 15.779]\n",
      " [52.035 95.54  23.158]\n",
      " [15.779 23.158  7.984]]\n"
     ]
    }
   ],
   "source": [
    "x = x-np.mean(x,axis=0)\n",
    "print(x)\n",
    "cov = (x.T@x)/(len(x)-1)\n",
    "print(f'공분산행렬{cov}')"
   ]
  },
  {
   "cell_type": "markdown",
   "id": "14a668d0-304c-4e26-b3e2-f751b73c0766",
   "metadata": {},
   "source": [
    "# np.cov 함수와 결과 비교"
   ]
  },
  {
   "cell_type": "code",
   "execution_count": 9,
   "id": "507c3f22-624c-42d5-b270-30077b3f1127",
   "metadata": {},
   "outputs": [
    {
     "name": "stdout",
     "output_type": "stream",
     "text": [
      "[[38.749 52.035 15.779]\n",
      " [52.035 95.54  23.158]\n",
      " [15.779 23.158  7.984]]\n"
     ]
    }
   ],
   "source": [
    "print(np.cov(x,rowvar=False))#rowvar=True : 각 행의 분산, rowvar=False:각 열의 분산"
   ]
  },
  {
   "cell_type": "markdown",
   "id": "a4533741-256c-4f73-ac94-371ad1d2190f",
   "metadata": {},
   "source": [
    "# 고유값, 고유벡터 행렬 구하기`"
   ]
  },
  {
   "cell_type": "code",
   "execution_count": 13,
   "id": "22fbeb52-61d0-493d-97c2-fca09a012690",
   "metadata": {},
   "outputs": [
    {
     "name": "stdout",
     "output_type": "stream",
     "text": [
      "고유값: [132.696   8.307   1.27 ]\n",
      "고유벡터: [[-0.501 -0.803 -0.323]\n",
      " [-0.838  0.544 -0.054]\n",
      " [-0.219 -0.244  0.945]]\n"
     ]
    }
   ],
   "source": [
    "eigenvalue, eigenvector = np.linalg.eig(cov)\n",
    "print('고유값:',eigenvalue) #고유값 알아서 큰순으로 정렬해서 나옴\n",
    "print('고유벡터:',eigenvector)"
   ]
  },
  {
   "cell_type": "code",
   "execution_count": 24,
   "id": "7218e66b-e3c0-4122-8f9d-083bc7f0067d",
   "metadata": {},
   "outputs": [
    {
     "name": "stdout",
     "output_type": "stream",
     "text": [
      "고유값 대각행렬:\n",
      "[[132.696   0.      0.   ]\n",
      " [  0.      8.307   0.   ]\n",
      " [  0.      0.      1.27 ]]\n",
      "첫번째 고유벡터와 두번째 고유벡터의 내적\n",
      "0.0\n",
      "첫번째 고유벡터와 세번째 고유벡터의 내적\n",
      "0.0\n",
      "두번째 고유벡터와 세번째 고유벡터의 내적\n",
      "0.0\n"
     ]
    }
   ],
   "source": [
    "print('고유값 대각행렬:')\n",
    "eig_matrix = np.identity(3) * eigenvalue\n",
    "print(eig_matrix)\n",
    "print('첫번째 고유벡터와 두번째 고유벡터의 내적')\n",
    "# 두 벡터가 서로 직교하면 내적 값이 0이 된다\n",
    "# PC2는 원점을 통과해서 PC1과 직교하는 벡터가 된다.\n",
    "a = eigenvector[:,0].T.dot(eigenvector[:,1])\n",
    "print(np.round(a,3))\n",
    "print('첫번째 고유벡터와 세번째 고유벡터의 내적')\n",
    "a = eigenvector[:,0].T.dot(eigenvector[:,2])\n",
    "print(np.round(a,3))\n",
    "print('두번째 고유벡터와 세번째 고유벡터의 내적')\n",
    "a = eigenvector[:,1].T.dot(eigenvector[:,2])\n",
    "print(np.round(a,3))"
   ]
  },
  {
   "cell_type": "code",
   "execution_count": 26,
   "id": "cf6fe207-8628-4ab9-ac66-826d5ca41d73",
   "metadata": {},
   "outputs": [
    {
     "name": "stdout",
     "output_type": "stream",
     "text": [
      "[[38.749 52.035 15.779]\n",
      " [52.035 95.54  23.158]\n",
      " [15.779 23.158  7.984]]\n",
      "[[38.749 52.035 15.779]\n",
      " [52.035 95.54  23.158]\n",
      " [15.779 23.158  7.984]]\n"
     ]
    }
   ],
   "source": [
    "print(cov)\n",
    "# 고유값 분해를 통한 공분산 행렬 : 고유벡터 행렬(@곱하기)고유값 대각행렬@고유벡터행렬의역행렬\n",
    "print(eigenvector@eig_matrix@np.linalg.inv(eigenvector))"
   ]
  },
  {
   "cell_type": "markdown",
   "id": "bf6f38d0-5a10-4dc5-85ab-5cb154c258f0",
   "metadata": {},
   "source": [
    "# 첫번째 주성분(PC1) 구하기\n",
    "- 가장 큰 분산을 나타내는 가장 큰 고유값으로 만든 고유벡터에 표준화된 관측치를 내적하여 만든다."
   ]
  },
  {
   "cell_type": "code",
   "execution_count": 28,
   "id": "7b0eaebb-722f-435f-9892-b3ce5125593b",
   "metadata": {},
   "outputs": [
    {
     "name": "stdout",
     "output_type": "stream",
     "text": [
      "[-11.526   0.494  12.106  20.85  -15.668  -1.699  -0.281   9.574 -11.61\n",
      "  -2.241]\n"
     ]
    }
   ],
   "source": [
    "PC1 = eigenvector[:,0].dot(x.T)\n",
    "print(np.round(PC1,3))"
   ]
  },
  {
   "cell_type": "markdown",
   "id": "851c7329-79a0-4095-8e01-e759c28c20cf",
   "metadata": {},
   "source": [
    "# 공분산을 이용한 주성분 분석"
   ]
  },
  {
   "cell_type": "code",
   "execution_count": 29,
   "id": "dd627b35-3ea8-45ee-bd58-ad8e5503c5fc",
   "metadata": {},
   "outputs": [
    {
     "name": "stdout",
     "output_type": "stream",
     "text": [
      "PCA를 이용한 차원축소 3->2차원\n",
      "고유벡처 VT - 주성분 2개 선택\n",
      "[[-0.501 -0.838 -0.219]\n",
      " [-0.803  0.544 -0.244]]\n",
      "고유벡터VT와 데이터XT의 내적\n",
      "[[-11.526  -1.18 ]\n",
      " [  0.494   2.924]\n",
      " [ 12.106   0.129]\n",
      " [ 20.85    0.906]\n",
      " [-15.668   2.204]\n",
      " [ -1.699  -5.912]\n",
      " [ -0.281   0.978]\n",
      " [  9.574   1.173]\n",
      " [-11.61    2.637]\n",
      " [ -2.241  -3.859]]\n"
     ]
    }
   ],
   "source": [
    "print('PCA를 이용한 차원축소 3->2차원')\n",
    "VT = np.array([eigenvector[:,0], eigenvector[:,1]])\n",
    "print('고유벡처 VT - 주성분 2개 선택')\n",
    "print(VT)\n",
    "print('고유벡터VT와 데이터XT의 내적')\n",
    "z = VT.dot(x.T)\n",
    "print(z.T)"
   ]
  },
  {
   "cell_type": "markdown",
   "id": "32be4211-49fc-415a-b777-e21e08ab855a",
   "metadata": {},
   "source": [
    "# PCA클래스 VS 결과 비교"
   ]
  },
  {
   "cell_type": "code",
   "execution_count": 30,
   "id": "c3384d46-2a47-4423-8fc8-3028228eb08a",
   "metadata": {},
   "outputs": [
    {
     "name": "stdout",
     "output_type": "stream",
     "text": [
      "(10, 2)\n",
      "[[-11.526   1.18 ]\n",
      " [  0.494  -2.924]\n",
      " [ 12.106  -0.129]\n",
      " [ 20.85   -0.906]\n",
      " [-15.668  -2.204]\n",
      " [ -1.699   5.912]\n",
      " [ -0.281  -0.978]\n",
      " [  9.574  -1.173]\n",
      " [-11.61   -2.637]\n",
      " [ -2.241   3.859]]\n"
     ]
    }
   ],
   "source": [
    "from sklearn.decomposition import PCA\n",
    "\n",
    "model = PCA(n_components=2)\n",
    "pca = model.fit_transform(x)\n",
    "print(pca.shape)\n",
    "print(pca)"
   ]
  },
  {
   "cell_type": "markdown",
   "id": "5a41a5e4-205a-46e5-b577-e5aad6d6ef9f",
   "metadata": {},
   "source": [
    "# PCA가 차지하는 분산 비율 구하기"
   ]
  },
  {
   "cell_type": "code",
   "execution_count": 31,
   "id": "5e9d2629-33bf-424e-92e4-b852f3f9a53d",
   "metadata": {},
   "outputs": [
    {
     "name": "stdout",
     "output_type": "stream",
     "text": [
      "[0.933 0.058]\n",
      "분산합계:0.99\n"
     ]
    }
   ],
   "source": [
    "print(model.explained_variance_ratio_) # 각각 첫번째 두번째 고유값의 비율을 의미\n",
    "print(f'분산합계:{np.sum(model.explained_variance_ratio_):.2f}')"
   ]
  },
  {
   "cell_type": "markdown",
   "id": "bb5b2a30-1399-4130-88cb-46e481cbf0af",
   "metadata": {},
   "source": [
    "# 고유벡터 행렬"
   ]
  },
  {
   "cell_type": "code",
   "execution_count": 32,
   "id": "ab606989-1248-466c-adb4-0b8b50a1d353",
   "metadata": {},
   "outputs": [
    {
     "name": "stdout",
     "output_type": "stream",
     "text": [
      "[[-0.501 -0.838 -0.219]\n",
      " [ 0.803 -0.544  0.244]]\n"
     ]
    }
   ],
   "source": [
    "print(model.components_)"
   ]
  },
  {
   "cell_type": "code",
   "execution_count": 33,
   "id": "6c59aec8-f4dd-4062-9c96-70f0d429cbe3",
   "metadata": {},
   "outputs": [
    {
     "name": "stdout",
     "output_type": "stream",
     "text": [
      "[132.696   8.307]\n"
     ]
    }
   ],
   "source": [
    "#고유값\n",
    "print(model.explained_variance_)"
   ]
  }
 ],
 "metadata": {
  "kernelspec": {
   "display_name": "Python 3 (ipykernel)",
   "language": "python",
   "name": "python3"
  },
  "language_info": {
   "codemirror_mode": {
    "name": "ipython",
    "version": 3
   },
   "file_extension": ".py",
   "mimetype": "text/x-python",
   "name": "python",
   "nbconvert_exporter": "python",
   "pygments_lexer": "ipython3",
   "version": "3.11.7"
  }
 },
 "nbformat": 4,
 "nbformat_minor": 5
}
