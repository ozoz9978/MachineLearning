{
 "cells": [
  {
   "cell_type": "markdown",
   "id": "45458639-9388-4903-9f64-92de65805539",
   "metadata": {},
   "source": [
    "# 20 뉴스그룹 분류"
   ]
  },
  {
   "cell_type": "markdown",
   "id": "63888248-942a-42ca-8cb0-3420b7fd99e4",
   "metadata": {},
   "source": [
    "## 텍스트 데이터 확인"
   ]
  },
  {
   "cell_type": "code",
   "execution_count": 45,
   "id": "458ea992-0e5e-4d00-8740-8c0af85fea21",
   "metadata": {},
   "outputs": [],
   "source": [
    "# fetch_20newsgroups: 20개의 주제에 대한 18,846개의 뉴스데이터를 제공하는 셋\n",
    "from sklearn.datasets import fetch_20newsgroups\n",
    "import numpy as np\n",
    "# subset : 로드할 데이터 세트를 선택\n",
    "# 훈련세트는 train 테스트 세트는 test 둘다는 all\n",
    "news_data = fetch_20newsgroups(subset='all',random_state=100)"
   ]
  },
  {
   "cell_type": "code",
   "execution_count": 46,
   "id": "c1352763-251d-400d-9445-8a9266e8aa85",
   "metadata": {},
   "outputs": [
    {
     "name": "stdout",
     "output_type": "stream",
     "text": [
      "<class 'sklearn.utils._bunch.Bunch'>\n",
      "(18846,)\n"
     ]
    }
   ],
   "source": [
    "print(type(news_data))\n",
    "print(np.array(news_data.data).shape)"
   ]
  },
  {
   "cell_type": "code",
   "execution_count": 47,
   "id": "533fc6a2-e8d7-498a-a046-abce5de50514",
   "metadata": {},
   "outputs": [
    {
     "name": "stdout",
     "output_type": "stream",
     "text": [
      "target 클래스의 값과 분포\n",
      "{'alt.atheism': 799, 'comp.graphics': 973, 'comp.os.ms-windows.misc': 985, 'comp.sys.ibm.pc.hardware': 982, 'comp.sys.mac.hardware': 963, 'comp.windows.x': 988, 'misc.forsale': 975, 'rec.autos': 990, 'rec.motorcycles': 996, 'rec.sport.baseball': 994, 'rec.sport.hockey': 999, 'sci.crypt': 991, 'sci.electronics': 984, 'sci.med': 990, 'sci.space': 987, 'soc.religion.christian': 997, 'talk.politics.guns': 910, 'talk.politics.mideast': 940, 'talk.politics.misc': 775, 'talk.religion.misc': 628}\n"
     ]
    }
   ],
   "source": [
    "print('target 클래스의 값과 분포')\n",
    "print(dict(zip(np.unique(news_data.target_names),np.bincount(news_data.target))))"
   ]
  },
  {
   "cell_type": "code",
   "execution_count": 48,
   "id": "c3d9f314-3901-4d04-a6c5-4bbaeec7e267",
   "metadata": {
    "scrolled": true
   },
   "outputs": [
    {
     "name": "stdout",
     "output_type": "stream",
     "text": [
      "From: ggr@koonda.acci.com.au (Greg Rose)\n",
      "Subject: Authentication and one-time-pads (was: Re: Advanced one time pad)\n",
      "Summary: presents one-time-pad based MAC\n",
      "Organization: Australian Computing and Communications Institute\n",
      "Lines: 93\n",
      "\n",
      "In article <1s1dbmINNehb@elang05.acslab.umbc.edu> olson@umbc.edu (Bryan Olson; CMSC (G)) writes:\n",
      ">The one-time-pad yeilds ideal security, but has a well-known flaw in\n",
      ">authentication.  Suppose you use a random bit stream as the pad, and\n",
      ">exclusive-or as the encryption operation.  If an adversary knows the \n",
      ">plaintext of a message, he can change it into any other message.  \n",
      ">Here's how it works.\n",
      ">\n",
      ">Alice is sending Bob a plaintext P, under a key stream S\n",
      ">Alice computes the ciphertext C = S xor P,  and sends it to Bob.\n",
      ">\n",
      ">Eve knows the plainext P, but wants the message to appear as P'.\n",
      ">Eve intercepts C, and computes  C' = C xor P xor P' = S xor P'.\n",
      ">Eve sends C' to Bob.\n",
      ">\n",
      ">Bob decrypts C' by computing  C'xor S = P',  thus receiving the \n",
      ">false message which was substituted by Eve.\n",
      "\n",
      "Firstly, an aside:\n",
      "\n",
      "I agree that the weakness exists, but I have a lot of trouble\n",
      "believing that it represents a difficulty in real life. Given:\n",
      "\n",
      "1. the purpose of the one-time pad is to give unbreakable security,\n",
      "and the expense of key distribution etc., imply that the clients\n",
      "really do want that level of security\n",
      "\n",
      "2. These same people want to keep P a secret\n",
      "\n",
      "I find it hard to believe that Eve might happen to have a copy of P\n",
      "lying around.\n",
      "\n",
      "(I am aware that the same argument applies to Eve knowing even a small\n",
      "part of the message, but Eve must know EXACTLY where (which bytes) in\n",
      "C her known susequence starts, or the result will be garbled. I find\n",
      "this at least as surprising.)\n",
      "\n",
      "Back to the question:\n",
      "\n",
      "If I had the resources to use a one-time-pad for such transmissions, I\n",
      "would also append a Message Authentication Code to the message, using up\n",
      "the next bits of the one-time-pad as the key perhaps. Your original\n",
      "question basically asked whether there was any way to authenticate the\n",
      "message with the same degree of security as the Pad itself provided,\n",
      "and I don't know the answer. However, I would propose the following\n",
      "for discussion.\n",
      "\n",
      "Alice and Bob have an arbitrary number of secret, random bits to\n",
      "share, which Eve doesn't know. She finds them out (effectively) by\n",
      "knowing some P and the corresponding C. It is the fact that they\n",
      "CORRESPOND that causes the problem. If a message authentication code was to\n",
      "be created using some one-time-pad operation such that Eve could not\n",
      "know which parts of the MAC were affected by which parts of the input,\n",
      "she would be unable to forge a MAC to correspond.\n",
      "\n",
      "What is required is a non-linear combiner of parts of the message.\n",
      "(Non-linear so that simply xoring or subtracting or whatever doesn't\n",
      "have exactly the same effect).\n",
      "\n",
      "Now, at the end of the encrypted message C, Alice appends a n-bit MAC\n",
      "computed as follows (S2 means the next full chunk of the one time pad):\n",
      "  1. compute C2 = P xor S2, and pad to an n-bit boundary with more of S\n",
      "  2. break C2 into n-bit chunks\n",
      "  3. set MAC to 0 (initialisation vector)\n",
      "  4. for i in each chunk sequentially\n",
      "       set MAC = MAC NLOP C2[i]\n",
      "\n",
      "At the end of this process MAC is the Message Authentication Code.\n",
      "\n",
      "(Bob verifies the MAC in the obvious manner; he recovers the\n",
      "plaintext P, then uses some more of his pad to reproduce the MAC in\n",
      "the same manner.)\n",
      "\n",
      "NLOP is the non-linear operator, and there is the rub. The simplest\n",
      "non-linear operator I can think of is an S-box; that is, have a fixed\n",
      "(even published) permutation of the n-bit integers, an indexable table\n",
      "called Sbox, and use:\n",
      "  x NLOP y = x xor Sbox[y].\n",
      "\n",
      "Practically speaking, I think this solves your problem, as Eve never\n",
      "sees the intermediate output C2, and hence can't deduce S2 or perform any valid\n",
      "substitution on it.\n",
      "\n",
      "Also practically speaking, you want the MAC to be fairly large, say 32\n",
      "bits, but you might not want a 4 gigabyte (say) S-box, so you might\n",
      "work on 4 byte-sized S-boxes, but I think that is an irrelevant detail\n",
      "for the discussion at hand.\n",
      "\n",
      "Who will be first to point out my errors, or give me a pointer to some\n",
      "literature?\n",
      "--\n",
      "Greg Rose                 Australian Computing and Communications Institute\n",
      "ggr@acci.com.au                                              +61 18 174 842\n",
      "`Use of the standard phrase \"HIJACKED\" may be inadvisable' -- CAA\n",
      "\n"
     ]
    }
   ],
   "source": [
    "print(news_data.data[0])"
   ]
  },
  {
   "cell_type": "code",
   "execution_count": 22,
   "id": "9d069522-ceef-4db5-8a55-7eaf9ad7f77d",
   "metadata": {
    "scrolled": true
   },
   "outputs": [
    {
     "name": "stdout",
     "output_type": "stream",
     "text": [
      "\n",
      "Firstly, an aside:\n",
      "\n",
      "I agree that the weakness exists, but I have a lot of trouble\n",
      "believing that it represents a difficulty in real life. Given:\n",
      "\n",
      "1. the purpose of the one-time pad is to give unbreakable security,\n",
      "and the expense of key distribution etc., imply that the clients\n",
      "really do want that level of security\n",
      "\n",
      "2. These same people want to keep P a secret\n",
      "\n",
      "I find it hard to believe that Eve might happen to have a copy of P\n",
      "lying around.\n",
      "\n",
      "(I am aware that the same argument applies to Eve knowing even a small\n",
      "part of the message, but Eve must know EXACTLY where (which bytes) in\n",
      "C her known susequence starts, or the result will be garbled. I find\n",
      "this at least as surprising.)\n",
      "\n",
      "Back to the question:\n",
      "\n",
      "If I had the resources to use a one-time-pad for such transmissions, I\n",
      "would also append a Message Authentication Code to the message, using up\n",
      "the next bits of the one-time-pad as the key perhaps. Your original\n",
      "question basically asked whether there was any way to authenticate the\n",
      "message with the same degree of security as the Pad itself provided,\n",
      "and I don't know the answer. However, I would propose the following\n",
      "for discussion.\n",
      "\n",
      "Alice and Bob have an arbitrary number of secret, random bits to\n",
      "share, which Eve doesn't know. She finds them out (effectively) by\n",
      "knowing some P and the corresponding C. It is the fact that they\n",
      "CORRESPOND that causes the problem. If a message authentication code was to\n",
      "be created using some one-time-pad operation such that Eve could not\n",
      "know which parts of the MAC were affected by which parts of the input,\n",
      "she would be unable to forge a MAC to correspond.\n",
      "\n",
      "What is required is a non-linear combiner of parts of the message.\n",
      "(Non-linear so that simply xoring or subtracting or whatever doesn't\n",
      "have exactly the same effect).\n",
      "\n",
      "Now, at the end of the encrypted message C, Alice appends a n-bit MAC\n",
      "computed as follows (S2 means the next full chunk of the one time pad):\n",
      "  1. compute C2 = P xor S2, and pad to an n-bit boundary with more of S\n",
      "  2. break C2 into n-bit chunks\n",
      "  3. set MAC to 0 (initialisation vector)\n",
      "  4. for i in each chunk sequentially\n",
      "       set MAC = MAC NLOP C2[i]\n",
      "\n",
      "At the end of this process MAC is the Message Authentication Code.\n",
      "\n",
      "(Bob verifies the MAC in the obvious manner; he recovers the\n",
      "plaintext P, then uses some more of his pad to reproduce the MAC in\n",
      "the same manner.)\n",
      "\n",
      "NLOP is the non-linear operator, and there is the rub. The simplest\n",
      "non-linear operator I can think of is an S-box; that is, have a fixed\n",
      "(even published) permutation of the n-bit integers, an indexable table\n",
      "called Sbox, and use:\n",
      "  x NLOP y = x xor Sbox[y].\n",
      "\n",
      "Practically speaking, I think this solves your problem, as Eve never\n",
      "sees the intermediate output C2, and hence can't deduce S2 or perform any valid\n",
      "substitution on it.\n",
      "\n",
      "Also practically speaking, you want the MAC to be fairly large, say 32\n",
      "bits, but you might not want a 4 gigabyte (say) S-box, so you might\n",
      "work on 4 byte-sized S-boxes, but I think that is an irrelevant detail\n",
      "for the discussion at hand.\n",
      "\n",
      "Who will be first to point out my errors, or give me a pointer to some\n",
      "literature?\n"
     ]
    }
   ],
   "source": [
    "news_data = fetch_20newsgroups(subset='all', remove=('headers','footers','quotes'),random_state=100)\n",
    "print(news_data.data[0])"
   ]
  },
  {
   "cell_type": "markdown",
   "id": "a7845388-817c-4390-8d2c-a540f641ad98",
   "metadata": {},
   "source": [
    "## 학습데이터 / 평가 데이터 분리"
   ]
  },
  {
   "cell_type": "code",
   "execution_count": 49,
   "id": "849b7c12-3fe9-40fd-ab6a-6dcd7837d740",
   "metadata": {},
   "outputs": [
    {
     "name": "stdout",
     "output_type": "stream",
     "text": [
      "학습데이터 크기:11,314, 테스트 데이터 크기:7,532\n"
     ]
    }
   ],
   "source": [
    "train_news = news_data = fetch_20newsgroups(subset='train', remove=('headers','footers','quotes'),random_state=100)\n",
    "x_train = train_news.data\n",
    "y_train = train_news.target\n",
    "\n",
    "test_news = news_data = fetch_20newsgroups(subset='test', remove=('headers','footers','quotes'),random_state=100)\n",
    "x_test = test_news.data\n",
    "y_test = test_news.target\n",
    "\n",
    "print(f'학습데이터 크기:{len(x_train):,}, 테스트 데이터 크기:{len(x_test):,}')"
   ]
  },
  {
   "cell_type": "markdown",
   "id": "a03f0994-9d28-4e55-83f5-55d67aabcc01",
   "metadata": {},
   "source": [
    "## 피쳐 벡터화"
   ]
  },
  {
   "cell_type": "markdown",
   "id": "c09363d0-c8e9-4370-971e-cae340b902b4",
   "metadata": {},
   "source": [
    "### CountVectorize 사용"
   ]
  },
  {
   "cell_type": "code",
   "execution_count": 50,
   "id": "39fa2649-7c3b-4f89-ba28-729f6b8dabda",
   "metadata": {
    "scrolled": true
   },
   "outputs": [
    {
     "name": "stdout",
     "output_type": "stream",
     "text": [
      "학습데이터 텍스트의 vector shape:(11314, 101487)\n",
      "사전에 포함된 단어 갯수: 101487\n"
     ]
    }
   ],
   "source": [
    "from sklearn.feature_extraction.text import CountVectorizer\n",
    "from nltk.corpus import stopwords\n",
    "\n",
    "cnt_vect = CountVectorizer(stop_words=stopwords.words('english'))\n",
    "cnt_vect.fit(x_train)\n",
    "x_train_cnt_vect = cnt_vect.fit_transform(x_train)\n",
    "\n",
    "# 학습데이터로 fit된 countervectorizer을 이용해서 테스트 데이터를 feature extraction 변환 수행\n",
    "x_test_cnt_vect = cnt_vect.transform(x_test)\n",
    "print(f'학습데이터 텍스트의 vector shape:{x_train_cnt_vect.shape}') # 행 : 뉴스기사의 개수, 열 : 단어의 개수\n",
    "print('사전에 포함된 단어 갯수:', len(cnt_vect.vocabulary_))\n",
    "# print(x_train_cnt_vect[0])"
   ]
  },
  {
   "cell_type": "markdown",
   "id": "66a04d5b-2c04-4aca-91d8-9aec79b81198",
   "metadata": {},
   "source": [
    "### TfidVectorizer 사용 - 1"
   ]
  },
  {
   "cell_type": "code",
   "execution_count": 51,
   "id": "8f93ed2a-abb0-4baa-9456-0b14df4fdbc3",
   "metadata": {},
   "outputs": [],
   "source": [
    "from sklearn.feature_extraction.text import TfidfVectorizer\n",
    "tfidf_vect = TfidfVectorizer(stop_words=stopwords.words('english'))\n",
    "tfidf_vect.fit(x_train)\n",
    "x_train_tfidf_vect = tfidf_vect.transform(x_train)\n",
    "x_test_tfidf_vect = tfidf_vect.transform(x_test)"
   ]
  },
  {
   "cell_type": "markdown",
   "id": "1e54dfb0-57c9-45a7-8fe3-bf4b87fbe589",
   "metadata": {},
   "source": [
    "### TfidVectorizer 사용 - 2\n",
    "- N-gram (1,2) 적용\n",
    "- max_df :  전체 문서에 걸쳐서 너무 높은 빈도수를 가지는 단어 피쳐를 제외\n",
    "- min_df :  전체 문서에 걸쳐서 낮은 빈도수를 가지는 단어 피처를 제외\n",
    "- ngram_range : 모델의 단어 순서를 어느 정도 보강하기 위한 범위(범위 최솟값, 범위 최댓값)\n",
    "  >- (1,2) 로 하면 토큰화된 단어를 1개씩 그리고 순서대로 2개씩 묶어서 피처로 추출한다"
   ]
  },
  {
   "cell_type": "code",
   "execution_count": 53,
   "id": "460dbf42-bdb9-47f9-99ad-e2c75d31a212",
   "metadata": {},
   "outputs": [],
   "source": [
    "tfidf_vect = TfidfVectorizer(stop_words=stopwords.words('english'),ngram_range=(1,2), max_df=300)\n",
    "tfidf_vect.fit(x_train)\n",
    "x_train_tfidf_vect = tfidf_vect.transform(x_train)\n",
    "x_test_tfidf_vect = tfidf_vect.transform(x_test)"
   ]
  },
  {
   "cell_type": "code",
   "execution_count": 54,
   "id": "f3076747-588d-4ee4-8b0b-7163eba409e9",
   "metadata": {},
   "outputs": [
    {
     "name": "stdout",
     "output_type": "stream",
     "text": [
      "990299\n"
     ]
    }
   ],
   "source": [
    "print(len(tfidf_vect.vocabulary_))"
   ]
  },
  {
   "cell_type": "markdown",
   "id": "d80d7908-b141-44bd-895e-e269f3c1bbc2",
   "metadata": {},
   "source": [
    "## 모델 학습 및 평가"
   ]
  },
  {
   "cell_type": "code",
   "execution_count": 52,
   "id": "50a3f1b5-a7b9-4807-a4b5-b41db01f8945",
   "metadata": {
    "scrolled": true
   },
   "outputs": [
    {
     "name": "stdout",
     "output_type": "stream",
     "text": [
      "정확도:0.6500265533722783\n"
     ]
    }
   ],
   "source": [
    "from sklearn.linear_model import LogisticRegression\n",
    "from sklearn.metrics import accuracy_score\n",
    "\n",
    "lr_clf = LogisticRegression(solver='liblinear')\n",
    "lr_clf. fit(x_train_tfidf_vect, y_train)\n",
    "\n",
    "y_hat = lr_clf.predict(x_test_cnt_vect)\n",
    "print(f'정확도:{accuracy_score(y_test,y_hat)}')"
   ]
  },
  {
   "cell_type": "code",
   "execution_count": 55,
   "id": "38f668f7-ef7d-4247-aaf2-930d2fe6677c",
   "metadata": {},
   "outputs": [
    {
     "name": "stdout",
     "output_type": "stream",
     "text": [
      "정확도: 0.692\n"
     ]
    }
   ],
   "source": [
    "lr_clf = LogisticRegression(solver='liblinear')\n",
    "lr_clf.fit(x_train_tfidf_vect, y_train) #문서 형태로 되있는 xtrain말고 벡트값\n",
    "\n",
    "y_hat = lr_clf.predict(x_test_tfidf_vect)\n",
    "print(f'정확도: {accuracy_score(y_test, y_hat):.3f}')"
   ]
  },
  {
   "cell_type": "markdown",
   "id": "7dad1c8b-fa6f-48d4-af89-77377c5d43a2",
   "metadata": {},
   "source": [
    "## 하이퍼 파라메터 튜닝"
   ]
  },
  {
   "cell_type": "code",
   "execution_count": null,
   "id": "e6308de3-eefe-4e21-8e2e-9c49a2fb7014",
   "metadata": {},
   "outputs": [],
   "source": [
    "from sklearn.model_selection import GridSearchCV\n",
    "\n",
    "params = {'C':[0.01, 0.1, 1, 5, 10]}\n",
    "grid_cv_lr = GridSearchCV(lr_clf,param_grid=params, cv=3, scoring='accuracy')\n",
    "grid_cv_lr.fit(x_train_tfidf_vect, y_train)\n",
    "print('최적 파라메터:', grid_cv_lr.best_params_)\n",
    "y_hat = grid_cv_lr.best_estimator_.predict(x_train_tfidf_vect)\n",
    "print(f'정확도:{accuracy_score(y_test,y_hat):.3f}')"
   ]
  }
 ],
 "metadata": {
  "kernelspec": {
   "display_name": "Python 3 (ipykernel)",
   "language": "python",
   "name": "python3"
  },
  "language_info": {
   "codemirror_mode": {
    "name": "ipython",
    "version": 3
   },
   "file_extension": ".py",
   "mimetype": "text/x-python",
   "name": "python",
   "nbconvert_exporter": "python",
   "pygments_lexer": "ipython3",
   "version": "3.11.7"
  }
 },
 "nbformat": 4,
 "nbformat_minor": 5
}
