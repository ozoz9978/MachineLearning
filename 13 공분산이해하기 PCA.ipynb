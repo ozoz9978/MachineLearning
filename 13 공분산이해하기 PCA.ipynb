{
 "cells": [
  {
   "cell_type": "markdown",
   "id": "689ce584-3ece-42c0-8ed9-22be7eab02d8",
   "metadata": {},
   "source": [
    "# 육상선수 종목별 기록 데이터"
   ]
  },
  {
   "cell_type": "code",
   "execution_count": 1,
   "id": "244d1e90-5957-4afa-aee3-da54bfba9e21",
   "metadata": {},
   "outputs": [],
   "source": [
    "import numpy as np\n",
    "A = np.array([\n",
    "              [3.73, 1.86, 15.8, 4.05, 7.27, 45.66, 34.92 ],\n",
    "              [3.57, 1.80, 16.23, 2.96, 6.71, 42.56, 37.31],\n",
    "              [3.22, 1.83, 14.20, 3.51, 6.68, 44.54, 39.23],\n",
    "              [2.81, 1.80, 15.23, 2.69, 6.25, 42.78, 31.19],\n",
    "              [2.91, 1.74, 14.76, 2.68, 6.32, 47.46, 35.53],\n",
    "              [2.67, 1.83, 13.50, 1.96, 6.33, 42.82, 37.64]\n",
    "])"
   ]
  },
  {
   "cell_type": "markdown",
   "id": "3d4dca29-9804-4165-a160-d3ec6952b252",
   "metadata": {},
   "source": [
    "# 허들종목 (0번컬럼) 기록 데이터 통계지표"
   ]
  },
  {
   "cell_type": "code",
   "execution_count": 3,
   "id": "b75bb27a-2fe7-4fe5-981e-f32a66e487e5",
   "metadata": {},
   "outputs": [
    {
     "name": "stdout",
     "output_type": "stream",
     "text": [
      "허들 종목 기록 데이터\n",
      "[3.73 3.57 3.22 2.81 2.91 2.67]\n",
      "평균:3.152\n",
      "분산:0.154\n"
     ]
    }
   ],
   "source": [
    "print('허들 종목 기록 데이터')\n",
    "hurdles = A[:,0]\n",
    "print(hurdles)\n",
    "print(f'평균:{np.mean(hurdles):.3f}')\n",
    "print(f'분산:{np.var(hurdles, ddof=1):.3f}') # ddof : 자유도\n",
    "print(f'표편:{np.std(hurdles):.3f}')"
   ]
  },
  {
   "cell_type": "markdown",
   "id": "4d07c942-d66c-4c4e-905e-3717a03fc8c5",
   "metadata": {},
   "source": [
    "# 공분산 행렬"
   ]
  },
  {
   "cell_type": "code",
   "execution_count": 9,
   "id": "0c624dc1-5fb7-45e7-b29f-829b98b7064c",
   "metadata": {},
   "outputs": [
    {
     "name": "stdout",
     "output_type": "stream",
     "text": [
      "[Coveriance Matrix]\n",
      "[[ 0.18  0.01  0.32  0.26  0.15  0.11  0.22]\n",
      " [ 0.01  0.   -0.    0.01  0.01 -0.03  0.02]\n",
      " [ 0.32 -0.    1.03  0.39  0.2  -0.03 -1.06]\n",
      " [ 0.26  0.01  0.39  0.53  0.24  0.52  0.08]\n",
      " [ 0.15  0.01  0.2   0.24  0.15  0.16  0.21]\n",
      " [ 0.11 -0.03 -0.03  0.52  0.16  3.88  0.09]\n",
      " [ 0.22  0.02 -1.06  0.08  0.21  0.09  7.87]]\n"
     ]
    }
   ],
   "source": [
    "print('[Coveriance Matrix]')\n",
    "# rowvar : True( 기본값 ) 행이 변수를 나타내며 열은 각 변수의 관측치를 나타낸다.\n",
    "B = np.cov(A, rowvar=False)\n",
    "print(np.round(B,2))\n",
    "#print(B)"
   ]
  },
  {
   "cell_type": "code",
   "execution_count": 10,
   "id": "df89f1b3-1a74-4172-bfb4-584ba4479951",
   "metadata": {},
   "outputs": [
    {
     "name": "stdout",
     "output_type": "stream",
     "text": [
      "[[ 1.84256667e-01  7.36000000e-03  3.24893333e-01  2.61910000e-01\n",
      "   1.51253333e-01  1.08713333e-01  2.22240000e-01]\n",
      " [ 7.36000000e-03  1.68000000e-03 -7.60000000e-04  1.35600000e-02\n",
      "   1.03400000e-02 -2.90800000e-02  2.22600000e-02]\n",
      " [ 3.24893333e-01 -7.60000000e-04  1.02806667e+00  3.88260000e-01\n",
      "   1.99426667e-01 -2.62533333e-02 -1.05972000e+00]\n",
      " [ 2.61910000e-01  1.35600000e-02  3.88260000e-01  5.28110000e-01\n",
      "   2.43560000e-01  5.23940000e-01  7.84600000e-02]\n",
      " [ 1.51253333e-01  1.03400000e-02  1.99426667e-01  2.43560000e-01\n",
      "   1.48186667e-01  1.57186667e-01  2.10000000e-01]\n",
      " [ 1.08713333e-01 -2.90800000e-02 -2.62533333e-02  5.23940000e-01\n",
      "   1.57186667e-01  3.88422667e+00  8.52800000e-02]\n",
      " [ 2.22240000e-01  2.22600000e-02 -1.05972000e+00  7.84600000e-02\n",
      "   2.10000000e-01  8.52800000e-02  7.87132000e+00]]\n"
     ]
    }
   ],
   "source": [
    "col_mean = np.mean(A, axis=0)\n",
    "A = A - col_mean\n",
    "cov = np.matmul(A.T, A) / (len(A) - 1)\n",
    "print(cov)"
   ]
  }
 ],
 "metadata": {
  "kernelspec": {
   "display_name": "Python 3 (ipykernel)",
   "language": "python",
   "name": "python3"
  },
  "language_info": {
   "codemirror_mode": {
    "name": "ipython",
    "version": 3
   },
   "file_extension": ".py",
   "mimetype": "text/x-python",
   "name": "python",
   "nbconvert_exporter": "python",
   "pygments_lexer": "ipython3",
   "version": "3.11.7"
  }
 },
 "nbformat": 4,
 "nbformat_minor": 5
}
