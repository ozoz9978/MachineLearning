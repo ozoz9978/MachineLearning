{
 "cells": [
  {
   "cell_type": "markdown",
   "id": "3c134b48-34d4-4721-a13c-12b1fdfecb72",
   "metadata": {},
   "source": [
    "# konlpy 모듈 테스트"
   ]
  },
  {
   "cell_type": "code",
   "execution_count": 11,
   "id": "133ddfde-cf8d-481f-a07f-c51bead6fb39",
   "metadata": {},
   "outputs": [
    {
     "name": "stdout",
     "output_type": "stream",
     "text": [
      "안녕\tNNG,행위,T,안녕,*,*,*,*\n",
      "하\tXSV,*,F,하,*,*,*,*\n",
      "세요\tEP+EF,*,F,세요,Inflect,EP,EF,시/EP/*+어요/EF/*\n",
      ".\tSF,*,*,*,*,*,*,*\n",
      "달\tNNG,*,T,달,*,*,*,*\n",
      "콩\tNNG,*,T,콩,*,*,*,*\n",
      "이\tJKS,*,F,이,*,*,*,*\n",
      "예비\tNNG,행위,F,예비,*,*,*,*\n",
      "맘\tNNG,*,T,맘,*,*,*,*\n",
      "입니다\tVCP+EF,*,F,입니다,Inflect,VCP,EF,이/VCP/*+ᄇ니다/EF/*\n",
      ".\tSF,*,*,*,*,*,*,*\n",
      "EOS\n",
      "\n"
     ]
    }
   ],
   "source": [
    "import MeCab\n",
    "m = MeCab.Tagger()\n",
    "print(m.parse('안녕하세요. 달콩이 예비맘입니다.'))"
   ]
  },
  {
   "cell_type": "code",
   "execution_count": 12,
   "id": "e18cbab2-2ee0-4859-8fd3-5ef0b90da772",
   "metadata": {},
   "outputs": [
    {
     "name": "stdout",
     "output_type": "stream",
     "text": [
      "['안녕', '하', '세요', '.', '테스', '형', '입니다', '.']\n"
     ]
    }
   ],
   "source": [
    "from konlpy.tag import Mecab\n",
    "mecab_tokenizer = Mecab(dicpath='c:/mecab/mecab-ko-dic/').morphs\n",
    "print(mecab_tokenizer('안녕하세요. 테스형입니다.'))"
   ]
  },
  {
   "cell_type": "code",
   "execution_count": 13,
   "id": "ae44f541-bc6b-4b2e-8a2a-13d1417f273d",
   "metadata": {},
   "outputs": [
    {
     "data": {
      "text/html": [
       "<div>\n",
       "<style scoped>\n",
       "    .dataframe tbody tr th:only-of-type {\n",
       "        vertical-align: middle;\n",
       "    }\n",
       "\n",
       "    .dataframe tbody tr th {\n",
       "        vertical-align: top;\n",
       "    }\n",
       "\n",
       "    .dataframe thead th {\n",
       "        text-align: right;\n",
       "    }\n",
       "</style>\n",
       "<table border=\"1\" class=\"dataframe\">\n",
       "  <thead>\n",
       "    <tr style=\"text-align: right;\">\n",
       "      <th></th>\n",
       "      <th>id</th>\n",
       "      <th>document</th>\n",
       "      <th>label</th>\n",
       "    </tr>\n",
       "  </thead>\n",
       "  <tbody>\n",
       "    <tr>\n",
       "      <th>0</th>\n",
       "      <td>9976970</td>\n",
       "      <td>아 더빙.. 진짜 짜증나네요 목소리</td>\n",
       "      <td>0</td>\n",
       "    </tr>\n",
       "    <tr>\n",
       "      <th>1</th>\n",
       "      <td>3819312</td>\n",
       "      <td>흠...포스터보고 초딩영화줄....오버연기조차 가볍지 않구나</td>\n",
       "      <td>1</td>\n",
       "    </tr>\n",
       "    <tr>\n",
       "      <th>2</th>\n",
       "      <td>10265843</td>\n",
       "      <td>너무재밓었다그래서보는것을추천한다</td>\n",
       "      <td>0</td>\n",
       "    </tr>\n",
       "    <tr>\n",
       "      <th>3</th>\n",
       "      <td>9045019</td>\n",
       "      <td>교도소 이야기구먼 ..솔직히 재미는 없다..평점 조정</td>\n",
       "      <td>0</td>\n",
       "    </tr>\n",
       "    <tr>\n",
       "      <th>4</th>\n",
       "      <td>6483659</td>\n",
       "      <td>사이몬페그의 익살스런 연기가 돋보였던 영화!스파이더맨에서 늙어보이기만 했던 커스틴 ...</td>\n",
       "      <td>1</td>\n",
       "    </tr>\n",
       "  </tbody>\n",
       "</table>\n",
       "</div>"
      ],
      "text/plain": [
       "         id                                           document  label\n",
       "0   9976970                                아 더빙.. 진짜 짜증나네요 목소리      0\n",
       "1   3819312                  흠...포스터보고 초딩영화줄....오버연기조차 가볍지 않구나      1\n",
       "2  10265843                                  너무재밓었다그래서보는것을추천한다      0\n",
       "3   9045019                      교도소 이야기구먼 ..솔직히 재미는 없다..평점 조정      0\n",
       "4   6483659  사이몬페그의 익살스런 연기가 돋보였던 영화!스파이더맨에서 늙어보이기만 했던 커스틴 ...      1"
      ]
     },
     "metadata": {},
     "output_type": "display_data"
    },
    {
     "name": "stdout",
     "output_type": "stream",
     "text": [
      "(150000, 3)\n"
     ]
    }
   ],
   "source": [
    "import pandas as pd\n",
    "train_df = pd.read_csv('./데이터셋/ratings_train.txt', sep='\\t')\n",
    "display(train_df.head())\n",
    "print(train_df.shape)"
   ]
  },
  {
   "cell_type": "code",
   "execution_count": 14,
   "id": "ec0db7da-32f2-4bd7-abf4-6179ec52cc2e",
   "metadata": {},
   "outputs": [
    {
     "data": {
      "text/html": [
       "<div>\n",
       "<style scoped>\n",
       "    .dataframe tbody tr th:only-of-type {\n",
       "        vertical-align: middle;\n",
       "    }\n",
       "\n",
       "    .dataframe tbody tr th {\n",
       "        vertical-align: top;\n",
       "    }\n",
       "\n",
       "    .dataframe thead th {\n",
       "        text-align: right;\n",
       "    }\n",
       "</style>\n",
       "<table border=\"1\" class=\"dataframe\">\n",
       "  <thead>\n",
       "    <tr style=\"text-align: right;\">\n",
       "      <th></th>\n",
       "      <th>id</th>\n",
       "      <th>document</th>\n",
       "      <th>label</th>\n",
       "    </tr>\n",
       "  </thead>\n",
       "  <tbody>\n",
       "    <tr>\n",
       "      <th>0</th>\n",
       "      <td>9976970</td>\n",
       "      <td>아 더빙.. 진짜 짜증나네요 목소리</td>\n",
       "      <td>0</td>\n",
       "    </tr>\n",
       "    <tr>\n",
       "      <th>1</th>\n",
       "      <td>3819312</td>\n",
       "      <td>흠...포스터보고 초딩영화줄....오버연기조차 가볍지 않구나</td>\n",
       "      <td>1</td>\n",
       "    </tr>\n",
       "    <tr>\n",
       "      <th>2</th>\n",
       "      <td>10265843</td>\n",
       "      <td>너무재밓었다그래서보는것을추천한다</td>\n",
       "      <td>0</td>\n",
       "    </tr>\n",
       "    <tr>\n",
       "      <th>3</th>\n",
       "      <td>9045019</td>\n",
       "      <td>교도소 이야기구먼 ..솔직히 재미는 없다..평점 조정</td>\n",
       "      <td>0</td>\n",
       "    </tr>\n",
       "    <tr>\n",
       "      <th>4</th>\n",
       "      <td>6483659</td>\n",
       "      <td>사이몬페그의 익살스런 연기가 돋보였던 영화!스파이더맨에서 늙어보이기만 했던 커스틴 ...</td>\n",
       "      <td>1</td>\n",
       "    </tr>\n",
       "  </tbody>\n",
       "</table>\n",
       "</div>"
      ],
      "text/plain": [
       "         id                                           document  label\n",
       "0   9976970                                아 더빙.. 진짜 짜증나네요 목소리      0\n",
       "1   3819312                  흠...포스터보고 초딩영화줄....오버연기조차 가볍지 않구나      1\n",
       "2  10265843                                  너무재밓었다그래서보는것을추천한다      0\n",
       "3   9045019                      교도소 이야기구먼 ..솔직히 재미는 없다..평점 조정      0\n",
       "4   6483659  사이몬페그의 익살스런 연기가 돋보였던 영화!스파이더맨에서 늙어보이기만 했던 커스틴 ...      1"
      ]
     },
     "metadata": {},
     "output_type": "display_data"
    },
    {
     "name": "stdout",
     "output_type": "stream",
     "text": [
      "(150000, 3)\n"
     ]
    }
   ],
   "source": [
    "test_df = pd.read_csv('./데이터셋/ratings_test.txt', sep='\\t',encoding='utf-8')\n",
    "display(train_df.head())\n",
    "print(train_df.shape)"
   ]
  },
  {
   "cell_type": "markdown",
   "id": "485b720c-c213-4900-bd91-1042658f9999",
   "metadata": {},
   "source": [
    "# 학습 데이터의 긍정/ 부정 비율 확인"
   ]
  },
  {
   "cell_type": "code",
   "execution_count": 15,
   "id": "c6d4e8b8-6f82-48b6-a214-1e42f10f14a1",
   "metadata": {},
   "outputs": [
    {
     "name": "stdout",
     "output_type": "stream",
     "text": [
      "label\n",
      "0    75173\n",
      "1    74827\n",
      "Name: count, dtype: int64\n"
     ]
    }
   ],
   "source": [
    "print(train_df['label'].value_counts())"
   ]
  },
  {
   "cell_type": "markdown",
   "id": "67586bcb-4953-4f7c-abf8-5c8be5a55a09",
   "metadata": {},
   "source": [
    "# 결측치 확인"
   ]
  },
  {
   "cell_type": "code",
   "execution_count": 16,
   "id": "19784a69-9471-447f-b54a-6a25fc6bccb5",
   "metadata": {},
   "outputs": [
    {
     "name": "stdout",
     "output_type": "stream",
     "text": [
      "id          0\n",
      "document    5\n",
      "label       0\n",
      "dtype: int64\n"
     ]
    }
   ],
   "source": [
    "print(train_df.isna().sum())"
   ]
  },
  {
   "cell_type": "markdown",
   "id": "cf63526b-4b0e-4462-96e4-914c92cbca43",
   "metadata": {},
   "source": [
    "# 평가 데이터의 긍정/ 부정 비율 확인"
   ]
  },
  {
   "cell_type": "code",
   "execution_count": 17,
   "id": "67aa8ca6-900f-4199-bcd9-64798db210ed",
   "metadata": {},
   "outputs": [
    {
     "name": "stdout",
     "output_type": "stream",
     "text": [
      "label\n",
      "1    25173\n",
      "0    24827\n",
      "Name: count, dtype: int64\n"
     ]
    }
   ],
   "source": [
    "print(test_df['label'].value_counts())"
   ]
  },
  {
   "cell_type": "markdown",
   "id": "65feb309-0f56-4c25-80f7-f53c968bf766",
   "metadata": {},
   "source": [
    "# 데이터 전처리"
   ]
  },
  {
   "cell_type": "markdown",
   "id": "b841c1d3-88f4-4eaf-aafa-9a36db71a726",
   "metadata": {},
   "source": [
    "## 결측치 처리"
   ]
  },
  {
   "cell_type": "code",
   "execution_count": 18,
   "id": "0f022ad4-40eb-487f-8cdd-107eaabfe54a",
   "metadata": {},
   "outputs": [],
   "source": [
    "train_df.dropna(inplace=True)\n",
    "test_df.dropna(inplace = True)"
   ]
  },
  {
   "cell_type": "markdown",
   "id": "531e0e34-e1b3-4e21-a052-90f766855bfd",
   "metadata": {},
   "source": [
    "## id 컬럼 삭제"
   ]
  },
  {
   "cell_type": "code",
   "execution_count": 19,
   "id": "77ad6edd-e445-4585-bfba-ccf401f30b84",
   "metadata": {},
   "outputs": [],
   "source": [
    "train_df.drop('id',axis=1,inplace=True)\n",
    "test_df.drop('id',axis=1,inplace=True)"
   ]
  },
  {
   "cell_type": "markdown",
   "id": "a7d0134e-d745-4f25-a539-5676908a86c7",
   "metadata": {},
   "source": [
    "# konlpy, Mecab을 이용한 단어 토큰화"
   ]
  },
  {
   "cell_type": "code",
   "execution_count": 20,
   "id": "ec2774d2-aba8-4ac1-8516-0f491c636df3",
   "metadata": {},
   "outputs": [
    {
     "name": "stdout",
     "output_type": "stream",
     "text": [
      "['아 더 빙 . . 진짜 짜증 나 네요 목소리', '흠 . .. 포스터 보고 초딩 영화 줄 . ... 오버 연기 조차 가볍 지 않 구나', '너무 재 밓었다그래서보는것을추천한다', '교도소 이야기 구먼 . . 솔직히 재미 는 없 다 . . 평점 조정', '사이몬페그 의 익살 스런 연기 가 돋보였 던 영화 ! 스파이더맨 에서 늙 어 보이 기 만 했 던 커스틴 던스트 가 너무나 도 이뻐 보였 다']\n"
     ]
    }
   ],
   "source": [
    "from konlpy.tag import Mecab\n",
    "mecab = Mecab(dicpath='c:/mecab/mecab-ko-dic/')\n",
    "tokens = [ mecab.morphs(text) for text in train_df['document']]\n",
    "tokens = list(map(lambda x: ' '.join(x), tokens))\n",
    "print(tokens[:5])"
   ]
  },
  {
   "cell_type": "markdown",
   "id": "1aff796c-2589-4ef5-8e2e-539eed025f23",
   "metadata": {},
   "source": [
    "# KNU 한글 감성어 사전 로딩"
   ]
  },
  {
   "cell_type": "code",
   "execution_count": 21,
   "id": "d3160b61-8291-4948-bc87-794755ada991",
   "metadata": {},
   "outputs": [
    {
     "name": "stdout",
     "output_type": "stream",
     "text": [
      "(14843, 3)\n",
      "           word word_root polarity\n",
      "2808     다독다독하다        다독        1\n",
      "3686    마음을 졸이다     마음 졸이       -1\n",
      "9901   우그러지게 하다   우그러지 하다       -1\n",
      "6904      생기 있는      생기 있        1\n",
      "12905    크게 감동이      크 감동        2\n",
      "<class 'pandas.core.frame.DataFrame'>\n",
      "RangeIndex: 14843 entries, 0 to 14842\n",
      "Data columns (total 3 columns):\n",
      " #   Column     Non-Null Count  Dtype \n",
      "---  ------     --------------  ----- \n",
      " 0   word       14843 non-null  object\n",
      " 1   word_root  14843 non-null  object\n",
      " 2   polarity   14843 non-null  object\n",
      "dtypes: object(3)\n",
      "memory usage: 348.0+ KB\n",
      "None\n"
     ]
    }
   ],
   "source": [
    "import json\n",
    "import pandas as pd\n",
    "with open('./데이터셋/SentiWord_info.json', encoding='utf-8', mode = 'r') as f:\n",
    "    sentiWor_info = json.load(f)\n",
    "sentiWor_df = pd.DataFrame(sentiWor_info)\n",
    "print(sentiWor_df.shape)\n",
    "print(sentiWor_df.sample(5))\n",
    "print(sentiWor_df.info())"
   ]
  },
  {
   "cell_type": "code",
   "execution_count": 23,
   "id": "2346b143-6e84-4c7a-947b-ee21731f8409",
   "metadata": {},
   "outputs": [],
   "source": [
    "sentiWor_df['polarity'] = sentiWor_df['polarity'].astype(int)"
   ]
  },
  {
   "cell_type": "code",
   "execution_count": 24,
   "id": "03894569-f949-4783-ad92-7415c410c8d3",
   "metadata": {},
   "outputs": [
    {
     "name": "stdout",
     "output_type": "stream",
     "text": [
      "감성 지수 최대값:  2\n",
      "감성 지수 최소값:  -2\n",
      "감성 지수 평균값:  -0.48258438321094116\n"
     ]
    }
   ],
   "source": [
    "print('감성 지수 최대값: ', sentiWor_df['polarity'].max())\n",
    "print('감성 지수 최소값: ', sentiWor_df['polarity'].min())\n",
    "print('감성 지수 평균값: ', sentiWor_df['polarity'].mean())"
   ]
  },
  {
   "cell_type": "code",
   "execution_count": 25,
   "id": "0e7ec28f-66dc-4369-ad72-5a0a347d7832",
   "metadata": {},
   "outputs": [
    {
     "name": "stdout",
     "output_type": "stream",
     "text": [
      "polarity\n",
      "-1    5029\n",
      "-2    4797\n",
      " 2    2597\n",
      " 1    2266\n",
      " 0     154\n",
      "Name: count, dtype: int64\n"
     ]
    }
   ],
   "source": [
    "print(sentiWor_df['polarity'].value_counts())"
   ]
  },
  {
   "cell_type": "markdown",
   "id": "559ce53a-c7ca-445d-8545-1910f07e0d15",
   "metadata": {},
   "source": [
    "# 토큰화된 문장과 감성사전 비교를 통한 감성지수 산출"
   ]
  },
  {
   "cell_type": "code",
   "execution_count": 1,
   "id": "d0b21a66-0eb4-44e1-a9d0-4c2b41efff4a",
   "metadata": {},
   "outputs": [
    {
     "ename": "NameError",
     "evalue": "name 'pd' is not defined",
     "output_type": "error",
     "traceback": [
      "\u001b[1;31m---------------------------------------------------------------------------\u001b[0m",
      "\u001b[1;31mNameError\u001b[0m                                 Traceback (most recent call last)",
      "Cell \u001b[1;32mIn[1], line 1\u001b[0m\n\u001b[1;32m----> 1\u001b[0m sentiment_score \u001b[38;5;241m=\u001b[39m pd\u001b[38;5;241m.\u001b[39mDataFrame(columns\u001b[38;5;241m=\u001b[39m[\u001b[38;5;124m'\u001b[39m\u001b[38;5;124mreview\u001b[39m\u001b[38;5;124m'\u001b[39m, \u001b[38;5;124m'\u001b[39m\u001b[38;5;124msentiment_score\u001b[39m\u001b[38;5;124m'\u001b[39m])\n",
      "\u001b[1;31mNameError\u001b[0m: name 'pd' is not defined"
     ]
    }
   ],
   "source": [
    "sentiment_score = pd.DataFrame(columns=['review', 'sentiment_score'])"
   ]
  },
  {
   "cell_type": "code",
   "execution_count": null,
   "id": "79001d22-8ce4-4106-bab5-5952244bf887",
   "metadata": {},
   "outputs": [],
   "source": [
    "idx = 0\n",
    "for review in tokens : \n",
    "    senti_score = 0\n",
    "    for i in range(len(sentiWor_df)) :\n",
    "        if sentiWor_df['word'][i] in review: \n",
    "            senti_score += sentiWor_df['polarity'][i]\n",
    "    sentiment_score.loc[idx] = [review, senti_score]\n",
    "    idx += 1"
   ]
  },
  {
   "cell_type": "markdown",
   "id": "75b71cc1-2c4f-4d06-8f59-213de0b41400",
   "metadata": {},
   "source": [
    "# 리뷰 감성 값 DataFrame 저장"
   ]
  },
  {
   "cell_type": "code",
   "execution_count": 27,
   "id": "c5a66f6d-f619-4d71-89de-c9a4319dac36",
   "metadata": {},
   "outputs": [
    {
     "data": {
      "text/plain": [
       "['./sentiment_score.pkl']"
      ]
     },
     "execution_count": 27,
     "metadata": {},
     "output_type": "execute_result"
    }
   ],
   "source": [
    "import joblib\n",
    "joblib.dump(sentiment_score, './sentiment_score.pkl')"
   ]
  },
  {
   "cell_type": "code",
   "execution_count": 28,
   "id": "97fabe0a-1d09-4088-90f2-71c8392b2ef0",
   "metadata": {},
   "outputs": [
    {
     "data": {
      "text/html": [
       "<div>\n",
       "<style scoped>\n",
       "    .dataframe tbody tr th:only-of-type {\n",
       "        vertical-align: middle;\n",
       "    }\n",
       "\n",
       "    .dataframe tbody tr th {\n",
       "        vertical-align: top;\n",
       "    }\n",
       "\n",
       "    .dataframe thead th {\n",
       "        text-align: right;\n",
       "    }\n",
       "</style>\n",
       "<table border=\"1\" class=\"dataframe\">\n",
       "  <thead>\n",
       "    <tr style=\"text-align: right;\">\n",
       "      <th></th>\n",
       "      <th>review</th>\n",
       "      <th>sentiment_score</th>\n",
       "    </tr>\n",
       "  </thead>\n",
       "  <tbody>\n",
       "    <tr>\n",
       "      <th>0</th>\n",
       "      <td>아 더 빙 . . 진짜 짜증 나 네요 목소리</td>\n",
       "      <td>-2</td>\n",
       "    </tr>\n",
       "    <tr>\n",
       "      <th>1</th>\n",
       "      <td>흠 . .. 포스터 보고 초딩 영화 줄 . ... 오버 연기 조차 가볍 지 않 구나</td>\n",
       "      <td>-2</td>\n",
       "    </tr>\n",
       "    <tr>\n",
       "      <th>2</th>\n",
       "      <td>너무 재 밓었다그래서보는것을추천한다</td>\n",
       "      <td>-1</td>\n",
       "    </tr>\n",
       "    <tr>\n",
       "      <th>3</th>\n",
       "      <td>교도소 이야기 구먼 . . 솔직히 재미 는 없 다 . . 평점 조정</td>\n",
       "      <td>3</td>\n",
       "    </tr>\n",
       "    <tr>\n",
       "      <th>4</th>\n",
       "      <td>사이몬페그 의 익살 스런 연기 가 돋보였 던 영화 ! 스파이더맨 에서 늙 어 보이 ...</td>\n",
       "      <td>-2</td>\n",
       "    </tr>\n",
       "  </tbody>\n",
       "</table>\n",
       "</div>"
      ],
      "text/plain": [
       "                                              review  sentiment_score\n",
       "0                           아 더 빙 . . 진짜 짜증 나 네요 목소리               -2\n",
       "1     흠 . .. 포스터 보고 초딩 영화 줄 . ... 오버 연기 조차 가볍 지 않 구나               -2\n",
       "2                                너무 재 밓었다그래서보는것을추천한다               -1\n",
       "3              교도소 이야기 구먼 . . 솔직히 재미 는 없 다 . . 평점 조정                3\n",
       "4  사이몬페그 의 익살 스런 연기 가 돋보였 던 영화 ! 스파이더맨 에서 늙 어 보이 ...               -2"
      ]
     },
     "metadata": {},
     "output_type": "display_data"
    },
    {
     "name": "stdout",
     "output_type": "stream",
     "text": [
      "(149995, 2)\n"
     ]
    }
   ],
   "source": [
    "import joblib\n",
    "senti_score = joblib.load('./데이터셋/sentiment_score.pkl')\n",
    "display(senti_score.head())\n",
    "print(senti_score.shape)"
   ]
  },
  {
   "cell_type": "code",
   "execution_count": 29,
   "id": "8d750052-6e71-4b50-8ac6-52ee18feda62",
   "metadata": {},
   "outputs": [
    {
     "data": {
      "image/png": "[encoded data removed]",
      "text/plain": [
       "<Figure size 640x480 with 1 Axes>"
      ]
     },
     "metadata": {},
     "output_type": "display_data"
    }
   ],
   "source": [
    "import seaborn as sns\n",
    "import matplotlib.pyplot as plt\n",
    "sns.violinplot(data=senti_score, y='sentiment_score')\n",
    "plt.show()"
   ]
  },
  {
   "cell_type": "markdown",
   "id": "2282e790-df3d-49fd-9f81-a43a667f2059",
   "metadata": {},
   "source": [
    "# 감성 값 긍/부정 레이블 값으로 치환\n",
    "- 감성 값이 임계치 이상인 경우는 긍정으로, 미만인 경우는 부정의 값을 갖는 label값으로 치환"
   ]
  },
  {
   "cell_type": "code",
   "execution_count": 30,
   "id": "f3600650-54fe-4ddd-aae1-6bc4a946949d",
   "metadata": {},
   "outputs": [],
   "source": [
    "senti_score['label'] = senti_score['sentiment_score'].map(lambda x: 1 if x >= 0 else 0)"
   ]
  },
  {
   "cell_type": "code",
   "execution_count": 7,
   "id": "811e14a7-734f-4414-afaa-3acde9ad28b0",
   "metadata": {},
   "outputs": [
    {
     "name": "stdout",
     "output_type": "stream",
     "text": [
      "label\n",
      "1    84501\n",
      "0    65494\n",
      "Name: count, dtype: int64\n"
     ]
    }
   ],
   "source": [
    "print(senti_score['label'].value_counts())"
   ]
  },
  {
   "cell_type": "markdown",
   "id": "a14a85a4-f66a-46e6-9b80-03bf70dce4c3",
   "metadata": {},
   "source": [
    "# 모델 성능 평가"
   ]
  },
  {
   "cell_type": "code",
   "execution_count": 31,
   "id": "d4692ce1-d946-401a-8a09-bfd3bf5cb024",
   "metadata": {},
   "outputs": [
    {
     "name": "stdout",
     "output_type": "stream",
     "text": [
      "[[38589 36581]\n",
      " [26905 47920]]\n",
      "정확도:0.577\n"
     ]
    }
   ],
   "source": [
    "from sklearn.metrics import confusion_matrix, accuracy_score\n",
    "\n",
    "y_target = train_df['label']\n",
    "y_hat = senti_score['label']\n",
    "cm = confusion_matrix(y_target,y_hat)\n",
    "print(cm)\n",
    "print(f'정확도:{accuracy_score(y_target, y_hat):.3f}')"
   ]
  },
  {
   "cell_type": "markdown",
   "id": "e0f75c4d-e538-4712-a0e3-65cb8c78963c",
   "metadata": {},
   "source": [
    "- 추가분석사항\n",
    "한글을 제외한 다른 문자 제거 -> 제거 결과 아무런 값도 남지 않은 레코드 확인 후 삭제\n",
    "- 불용어 제거 : 한글 불용어 사전은 별도로 구성 필요"
   ]
  }
 ],
 "metadata": {
  "kernelspec": {
   "display_name": "Python 3 (ipykernel)",
   "language": "python",
   "name": "python3"
  },
  "language_info": {
   "codemirror_mode": {
    "name": "ipython",
    "version": 3
   },
   "file_extension": ".py",
   "mimetype": "text/x-python",
   "name": "python",
   "nbconvert_exporter": "python",
   "pygments_lexer": "ipython3",
   "version": "3.11.7"
  }
 },
 "nbformat": 4,
 "nbformat_minor": 5
}
