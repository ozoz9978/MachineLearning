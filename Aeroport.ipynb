{
 "cells": [
  {
   "cell_type": "markdown",
   "id": "97565974-372a-41d2-9a7f-b464a571cd32",
   "metadata": {},
   "source": [
    "# 패키지로딩"
   ]
  },
  {
   "cell_type": "code",
   "execution_count": 9,
   "id": "eabc0de8-c409-4d7d-93c0-24800fcba64a",
   "metadata": {},
   "outputs": [],
   "source": [
    "from sklearn.ensemble import RandomForestClassifier\n",
    "from sklearn.linear_model import LogisticRegression"
   ]
  },
  {
   "cell_type": "markdown",
   "id": "ab582255-26d5-4c3c-a262-f9330b8358c2",
   "metadata": {},
   "source": [
    "# 데이터 로딩 및 확인"
   ]
  },
  {
   "cell_type": "code",
   "execution_count": 10,
   "id": "c8bbbd36-03e2-488e-bf69-f872a74ea6d7",
   "metadata": {},
   "outputs": [
    {
     "name": "stdout",
     "output_type": "stream",
     "text": [
      "(365, 4)\n"
     ]
    },
    {
     "data": {
      "text/html": [
       "<div>\n",
       "<style scoped>\n",
       "    .dataframe tbody tr th:only-of-type {\n",
       "        vertical-align: middle;\n",
       "    }\n",
       "\n",
       "    .dataframe tbody tr th {\n",
       "        vertical-align: top;\n",
       "    }\n",
       "\n",
       "    .dataframe thead th {\n",
       "        text-align: right;\n",
       "    }\n",
       "</style>\n",
       "<table border=\"1\" class=\"dataframe\">\n",
       "  <thead>\n",
       "    <tr style=\"text-align: right;\">\n",
       "      <th></th>\n",
       "      <th>airport_id</th>\n",
       "      <th>city</th>\n",
       "      <th>state</th>\n",
       "      <th>name</th>\n",
       "    </tr>\n",
       "  </thead>\n",
       "  <tbody>\n",
       "    <tr>\n",
       "      <th>0</th>\n",
       "      <td>10165</td>\n",
       "      <td>Adak Island</td>\n",
       "      <td>AK</td>\n",
       "      <td>Adak</td>\n",
       "    </tr>\n",
       "    <tr>\n",
       "      <th>1</th>\n",
       "      <td>10299</td>\n",
       "      <td>Anchorage</td>\n",
       "      <td>AK</td>\n",
       "      <td>Ted Stevens Anchorage International</td>\n",
       "    </tr>\n",
       "    <tr>\n",
       "      <th>2</th>\n",
       "      <td>10304</td>\n",
       "      <td>Aniak</td>\n",
       "      <td>AK</td>\n",
       "      <td>Aniak Airport</td>\n",
       "    </tr>\n",
       "    <tr>\n",
       "      <th>3</th>\n",
       "      <td>10754</td>\n",
       "      <td>Barrow</td>\n",
       "      <td>AK</td>\n",
       "      <td>Wiley Post/Will Rogers Memorial</td>\n",
       "    </tr>\n",
       "    <tr>\n",
       "      <th>4</th>\n",
       "      <td>10551</td>\n",
       "      <td>Bethel</td>\n",
       "      <td>AK</td>\n",
       "      <td>Bethel Airport</td>\n",
       "    </tr>\n",
       "  </tbody>\n",
       "</table>\n",
       "</div>"
      ],
      "text/plain": [
       "   airport_id         city state                                  name\n",
       "0       10165  Adak Island    AK                                  Adak\n",
       "1       10299    Anchorage    AK   Ted Stevens Anchorage International\n",
       "2       10304        Aniak    AK                         Aniak Airport\n",
       "3       10754       Barrow    AK       Wiley Post/Will Rogers Memorial\n",
       "4       10551       Bethel    AK                        Bethel Airport"
      ]
     },
     "metadata": {},
     "output_type": "display_data"
    }
   ],
   "source": [
    "df_airport = pd.read_csv(\"./데이터셋/Airport Codes Dataset.csv\")\n",
    "print(df_airport.shape)\n",
    "display(df_airport.head())"
   ]
  },
  {
   "cell_type": "code",
   "execution_count": 11,
   "id": "25872a86-1b09-4bf6-b0fc-eda5d69b2c9c",
   "metadata": {},
   "outputs": [
    {
     "name": "stdout",
     "output_type": "stream",
     "text": [
      "(504397, 18)\n"
     ]
    },
    {
     "data": {
      "text/html": [
       "<div>\n",
       "<style scoped>\n",
       "    .dataframe tbody tr th:only-of-type {\n",
       "        vertical-align: middle;\n",
       "    }\n",
       "\n",
       "    .dataframe tbody tr th {\n",
       "        vertical-align: top;\n",
       "    }\n",
       "\n",
       "    .dataframe thead th {\n",
       "        text-align: right;\n",
       "    }\n",
       "</style>\n",
       "<table border=\"1\" class=\"dataframe\">\n",
       "  <thead>\n",
       "    <tr style=\"text-align: right;\">\n",
       "      <th></th>\n",
       "      <th>Year</th>\n",
       "      <th>Quarter</th>\n",
       "      <th>Month</th>\n",
       "      <th>DayofMonth</th>\n",
       "      <th>DayOfWeek</th>\n",
       "      <th>Carrier</th>\n",
       "      <th>OriginAirportID</th>\n",
       "      <th>DestAirportID</th>\n",
       "      <th>CRSDepTime</th>\n",
       "      <th>DepTimeBlk</th>\n",
       "      <th>DepDelay</th>\n",
       "      <th>DepDel15</th>\n",
       "      <th>CRSArrTime</th>\n",
       "      <th>ArrTimeBlk</th>\n",
       "      <th>ArrDelay</th>\n",
       "      <th>ArrDel15</th>\n",
       "      <th>Cancelled</th>\n",
       "      <th>Diverted</th>\n",
       "    </tr>\n",
       "  </thead>\n",
       "  <tbody>\n",
       "    <tr>\n",
       "      <th>0</th>\n",
       "      <td>2011</td>\n",
       "      <td>4</td>\n",
       "      <td>10</td>\n",
       "      <td>6</td>\n",
       "      <td>4</td>\n",
       "      <td>WN</td>\n",
       "      <td>13495</td>\n",
       "      <td>12191</td>\n",
       "      <td>1435</td>\n",
       "      <td>1400-1459</td>\n",
       "      <td>2.0</td>\n",
       "      <td>0.0</td>\n",
       "      <td>1550</td>\n",
       "      <td>1500-1559</td>\n",
       "      <td>-6.0</td>\n",
       "      <td>0.0</td>\n",
       "      <td>0</td>\n",
       "      <td>0</td>\n",
       "    </tr>\n",
       "    <tr>\n",
       "      <th>1</th>\n",
       "      <td>2011</td>\n",
       "      <td>4</td>\n",
       "      <td>10</td>\n",
       "      <td>6</td>\n",
       "      <td>4</td>\n",
       "      <td>WN</td>\n",
       "      <td>13495</td>\n",
       "      <td>12191</td>\n",
       "      <td>1330</td>\n",
       "      <td>1300-1359</td>\n",
       "      <td>-4.0</td>\n",
       "      <td>0.0</td>\n",
       "      <td>1445</td>\n",
       "      <td>1400-1459</td>\n",
       "      <td>-12.0</td>\n",
       "      <td>0.0</td>\n",
       "      <td>0</td>\n",
       "      <td>0</td>\n",
       "    </tr>\n",
       "    <tr>\n",
       "      <th>2</th>\n",
       "      <td>2011</td>\n",
       "      <td>4</td>\n",
       "      <td>10</td>\n",
       "      <td>6</td>\n",
       "      <td>4</td>\n",
       "      <td>WN</td>\n",
       "      <td>13495</td>\n",
       "      <td>12191</td>\n",
       "      <td>1030</td>\n",
       "      <td>1000-1059</td>\n",
       "      <td>-2.0</td>\n",
       "      <td>0.0</td>\n",
       "      <td>1145</td>\n",
       "      <td>1100-1159</td>\n",
       "      <td>-14.0</td>\n",
       "      <td>0.0</td>\n",
       "      <td>0</td>\n",
       "      <td>0</td>\n",
       "    </tr>\n",
       "    <tr>\n",
       "      <th>3</th>\n",
       "      <td>2011</td>\n",
       "      <td>4</td>\n",
       "      <td>10</td>\n",
       "      <td>6</td>\n",
       "      <td>4</td>\n",
       "      <td>WN</td>\n",
       "      <td>13495</td>\n",
       "      <td>12889</td>\n",
       "      <td>1900</td>\n",
       "      <td>1900-1959</td>\n",
       "      <td>0.0</td>\n",
       "      <td>0.0</td>\n",
       "      <td>2055</td>\n",
       "      <td>2000-2059</td>\n",
       "      <td>-6.0</td>\n",
       "      <td>0.0</td>\n",
       "      <td>0</td>\n",
       "      <td>0</td>\n",
       "    </tr>\n",
       "    <tr>\n",
       "      <th>4</th>\n",
       "      <td>2011</td>\n",
       "      <td>4</td>\n",
       "      <td>10</td>\n",
       "      <td>6</td>\n",
       "      <td>4</td>\n",
       "      <td>WN</td>\n",
       "      <td>13495</td>\n",
       "      <td>12889</td>\n",
       "      <td>1340</td>\n",
       "      <td>1300-1359</td>\n",
       "      <td>-1.0</td>\n",
       "      <td>0.0</td>\n",
       "      <td>1530</td>\n",
       "      <td>1500-1559</td>\n",
       "      <td>2.0</td>\n",
       "      <td>0.0</td>\n",
       "      <td>0</td>\n",
       "      <td>0</td>\n",
       "    </tr>\n",
       "  </tbody>\n",
       "</table>\n",
       "</div>"
      ],
      "text/plain": [
       "   Year  Quarter  Month  DayofMonth  DayOfWeek Carrier  OriginAirportID  \\\n",
       "0  2011        4     10           6          4      WN            13495   \n",
       "1  2011        4     10           6          4      WN            13495   \n",
       "2  2011        4     10           6          4      WN            13495   \n",
       "3  2011        4     10           6          4      WN            13495   \n",
       "4  2011        4     10           6          4      WN            13495   \n",
       "\n",
       "   DestAirportID  CRSDepTime DepTimeBlk  DepDelay  DepDel15  CRSArrTime  \\\n",
       "0          12191        1435  1400-1459       2.0       0.0        1550   \n",
       "1          12191        1330  1300-1359      -4.0       0.0        1445   \n",
       "2          12191        1030  1000-1059      -2.0       0.0        1145   \n",
       "3          12889        1900  1900-1959       0.0       0.0        2055   \n",
       "4          12889        1340  1300-1359      -1.0       0.0        1530   \n",
       "\n",
       "  ArrTimeBlk  ArrDelay  ArrDel15  Cancelled  Diverted  \n",
       "0  1500-1559      -6.0       0.0          0         0  \n",
       "1  1400-1459     -12.0       0.0          0         0  \n",
       "2  1100-1159     -14.0       0.0          0         0  \n",
       "3  2000-2059      -6.0       0.0          0         0  \n",
       "4  1500-1559       2.0       0.0          0         0  "
      ]
     },
     "metadata": {},
     "output_type": "display_data"
    }
   ],
   "source": [
    "df_flight = pd.read_csv(\"./데이터셋/Flight on-time performance.csv\")\n",
    "print(df_flight.shape)\n",
    "display(df_flight.head())"
   ]
  },
  {
   "cell_type": "code",
   "execution_count": 14,
   "id": "90641562-5e4a-4c3f-9c9f-4c32936869dd",
   "metadata": {},
   "outputs": [
    {
     "name": "stdout",
     "output_type": "stream",
     "text": [
      "Year                  0\n",
      "Quarter               0\n",
      "Month                 0\n",
      "DayofMonth            0\n",
      "DayOfWeek             0\n",
      "Carrier               0\n",
      "OriginAirportID       0\n",
      "DestAirportID         0\n",
      "CRSDepTime            0\n",
      "DepTimeBlk            0\n",
      "DepDelay           3697\n",
      "DepDel15           3697\n",
      "CRSArrTime            0\n",
      "ArrTimeBlk            0\n",
      "ArrDelay           4717\n",
      "ArrDel15           4717\n",
      "Cancelled             0\n",
      "Diverted              0\n",
      "dtype: int64\n",
      "airport_id    0\n",
      "city          0\n",
      "state         0\n",
      "name          0\n",
      "dtype: int64\n"
     ]
    }
   ],
   "source": [
    "print(df_flight.isna().sum())\n",
    "print(df_airport.isna().sum())"
   ]
  },
  {
   "cell_type": "markdown",
   "id": "cd7086de-a3f7-43f2-ae85-6e4b0186b401",
   "metadata": {},
   "source": [
    "# 데이터 전처리"
   ]
  },
  {
   "cell_type": "markdown",
   "id": "4caadee7-2465-4ba3-867c-bfdec20f2bf7",
   "metadata": {},
   "source": [
    "## 공항정보 데이터의 컬럼 이름을 출발공항으로 변경"
   ]
  },
  {
   "cell_type": "code",
   "execution_count": 15,
   "id": "429303d2-430d-4d38-b9b7-c52b0815919d",
   "metadata": {},
   "outputs": [
    {
     "data": {
      "text/html": [
       "<div>\n",
       "<style scoped>\n",
       "    .dataframe tbody tr th:only-of-type {\n",
       "        vertical-align: middle;\n",
       "    }\n",
       "\n",
       "    .dataframe tbody tr th {\n",
       "        vertical-align: top;\n",
       "    }\n",
       "\n",
       "    .dataframe thead th {\n",
       "        text-align: right;\n",
       "    }\n",
       "</style>\n",
       "<table border=\"1\" class=\"dataframe\">\n",
       "  <thead>\n",
       "    <tr style=\"text-align: right;\">\n",
       "      <th></th>\n",
       "      <th>airport_id</th>\n",
       "      <th>Ori-city</th>\n",
       "      <th>Ori-state</th>\n",
       "      <th>Ori-airport</th>\n",
       "    </tr>\n",
       "  </thead>\n",
       "  <tbody>\n",
       "    <tr>\n",
       "      <th>0</th>\n",
       "      <td>10165</td>\n",
       "      <td>Adak Island</td>\n",
       "      <td>AK</td>\n",
       "      <td>Adak</td>\n",
       "    </tr>\n",
       "    <tr>\n",
       "      <th>1</th>\n",
       "      <td>10299</td>\n",
       "      <td>Anchorage</td>\n",
       "      <td>AK</td>\n",
       "      <td>Ted Stevens Anchorage International</td>\n",
       "    </tr>\n",
       "    <tr>\n",
       "      <th>2</th>\n",
       "      <td>10304</td>\n",
       "      <td>Aniak</td>\n",
       "      <td>AK</td>\n",
       "      <td>Aniak Airport</td>\n",
       "    </tr>\n",
       "    <tr>\n",
       "      <th>3</th>\n",
       "      <td>10754</td>\n",
       "      <td>Barrow</td>\n",
       "      <td>AK</td>\n",
       "      <td>Wiley Post/Will Rogers Memorial</td>\n",
       "    </tr>\n",
       "    <tr>\n",
       "      <th>4</th>\n",
       "      <td>10551</td>\n",
       "      <td>Bethel</td>\n",
       "      <td>AK</td>\n",
       "      <td>Bethel Airport</td>\n",
       "    </tr>\n",
       "  </tbody>\n",
       "</table>\n",
       "</div>"
      ],
      "text/plain": [
       "   airport_id     Ori-city Ori-state                           Ori-airport\n",
       "0       10165  Adak Island        AK                                  Adak\n",
       "1       10299    Anchorage        AK   Ted Stevens Anchorage International\n",
       "2       10304        Aniak        AK                         Aniak Airport\n",
       "3       10754       Barrow        AK       Wiley Post/Will Rogers Memorial\n",
       "4       10551       Bethel        AK                        Bethel Airport"
      ]
     },
     "metadata": {},
     "output_type": "display_data"
    }
   ],
   "source": [
    "df_ori_airport = df_airport.rename(columns={'city':'Ori-city','state':'Ori-state','name':'Ori-airport'})\n",
    "display(df_ori_airport.head())"
   ]
  },
  {
   "cell_type": "markdown",
   "id": "3de355bc-5fa9-42a9-80ed-e56b6b4102ea",
   "metadata": {},
   "source": [
    "## 비행정보 데이터와 출발공항 정보 데이터 병합"
   ]
  },
  {
   "cell_type": "code",
   "execution_count": 17,
   "id": "b9ca50a9-abff-4979-8d2b-8b37b211ae50",
   "metadata": {},
   "outputs": [],
   "source": [
    "merged_df1 = pd.merge(df_flight, df_ori_airport,left_on='OriginAirportID',right_on='airport_id')\n",
    "# 중복된 출발공항 id 열 삭제\n",
    "merged_df1.drop ( 'airport_id', axis=1, inplace=True)"
   ]
  },
  {
   "cell_type": "code",
   "execution_count": 20,
   "id": "ee5c069c-ff2a-4fb3-be25-fac46c1c5495",
   "metadata": {},
   "outputs": [
    {
     "name": "stdout",
     "output_type": "stream",
     "text": [
      "   Year  Quarter  Month  DayofMonth  DayOfWeek Carrier  OriginAirportID  \\\n",
      "0  2011        4     10           6          4      WN            13495   \n",
      "1  2011        4     10           6          4      WN            13495   \n",
      "2  2011        4     10           6          4      WN            13495   \n",
      "3  2011        4     10           7          5      WN            13495   \n",
      "4  2011        4     10           7          5      WN            13495   \n",
      "\n",
      "   DestAirportID  CRSDepTime DepTimeBlk  ...  ArrDel15  Cancelled  Diverted  \\\n",
      "0          12191        1435  1400-1459  ...       0.0          0         0   \n",
      "1          12191        1330  1300-1359  ...       0.0          0         0   \n",
      "2          12191        1030  1000-1059  ...       0.0          0         0   \n",
      "3          12191         820  0800-0859  ...       0.0          0         0   \n",
      "4          12191        1205  1200-1259  ...       0.0          0         0   \n",
      "\n",
      "      Ori-city  Ori-state                                 Ori-airport  \\\n",
      "0  New Orleans         LA   Louis Armstrong New Orleans International   \n",
      "1  New Orleans         LA   Louis Armstrong New Orleans International   \n",
      "2  New Orleans         LA   Louis Armstrong New Orleans International   \n",
      "3  New Orleans         LA   Louis Armstrong New Orleans International   \n",
      "4  New Orleans         LA   Louis Armstrong New Orleans International   \n",
      "\n",
      "   airport_id  Dest-city Dest-state      Dest-airport  \n",
      "0       12191    Houston         TX   William P Hobby  \n",
      "1       12191    Houston         TX   William P Hobby  \n",
      "2       12191    Houston         TX   William P Hobby  \n",
      "3       12191    Houston         TX   William P Hobby  \n",
      "4       12191    Houston         TX   William P Hobby  \n",
      "\n",
      "[5 rows x 25 columns]\n"
     ]
    },
    {
     "data": {
      "text/plain": [
       "Index(['Year', 'Quarter', 'Month', 'DayofMonth', 'DayOfWeek', 'Carrier',\n",
       "       'OriginAirportID', 'DestAirportID', 'CRSDepTime', 'DepTimeBlk',\n",
       "       'DepDelay', 'DepDel15', 'CRSArrTime', 'ArrTimeBlk', 'ArrDelay',\n",
       "       'ArrDel15', 'Cancelled', 'Diverted'],\n",
       "      dtype='object')"
      ]
     },
     "execution_count": 20,
     "metadata": {},
     "output_type": "execute_result"
    }
   ],
   "source": [
    "df_dest_airport = df_airport.rename(columns={'city':'Dest-city','state':'Dest-state','name':'Dest-airport'})\n",
    "# 1차 병합된 비행정보 데이터와 도착공항 정보데이터 병합\n",
    "merged_df2 = pd.merge(merged_df1,df_dest_airport,left_on='DestAirportID',right_on='airport_id')\n",
    "print(merged_df2.head())\n",
    "merged_df2.drop ('airport_id', axis=1, inplace=True)\n",
    "df2.columns"
   ]
  },
  {
   "cell_type": "code",
   "execution_count": 21,
   "id": "02fa2a94-2d29-4c88-94d7-139942bba613",
   "metadata": {},
   "outputs": [],
   "source": [
    "df_flight_info = merged_df2[['DayOfWeek', 'Carrier','DepTimeBlk','DepDelay', 'DepDel15','ArrTimeBlk', 'ArrDelay','ArrDel15','Ori-city','Ori-state','Ori-airport','Dest-city' ,'Dest-state','Dest-airport']]"
   ]
  },
  {
   "cell_type": "code",
   "execution_count": 29,
   "id": "4555a77b-c83f-486a-9451-4c89d0a1fd54",
   "metadata": {},
   "outputs": [],
   "source": [
    "df_flight_info = df_flight_info.dropna()"
   ]
  },
  {
   "cell_type": "markdown",
   "id": "83db8798-7b38-476f-aca6-9e38e5e002a0",
   "metadata": {},
   "source": [
    "## 범주형 데이터 인코딩"
   ]
  },
  {
   "cell_type": "code",
   "execution_count": 30,
   "id": "fe95f03b-a554-4769-a5fb-d5f49d48ed3f",
   "metadata": {},
   "outputs": [],
   "source": [
    "for col in [col for col in df_flight_info.columns if df_flight_info[col].dtype == 'object']:\n",
    "    print(f'컬럼명: {col:<15s}\\t유니크 값 개수:{df_flight_info[col].unique().size}')"
   ]
  },
  {
   "cell_type": "markdown",
   "id": "16133c96-f650-41fa-bdcd-24989245c90c",
   "metadata": {},
   "source": [
    "## 라벨인코딩"
   ]
  },
  {
   "cell_type": "code",
   "execution_count": 31,
   "id": "006fa28d-59aa-4310-a4b7-85b2c30b7ece",
   "metadata": {},
   "outputs": [],
   "source": [
    "encoder = LabelEncoder()\n",
    "df_flight_info = df_flight_info.apply(lambda col : encoder.fit_transform(col) if col.dtype == object else col)"
   ]
  },
  {
   "cell_type": "markdown",
   "id": "44e776e0-cec6-47bf-a2ab-d4ffb4350c49",
   "metadata": {},
   "source": [
    "## 데이터 분할"
   ]
  },
  {
   "cell_type": "code",
   "execution_count": 34,
   "id": "b6f9f48c-528d-4966-90ea-e29d5580b490",
   "metadata": {},
   "outputs": [],
   "source": [
    "x = df_flight_info.drop('ArrDel15',axis=1)\n",
    "y = df_flight_info['ArrDel15']\n",
    "\n",
    "x_train, x_test, y_train, y_test = train_test_split ( x,y,train_size=0.7,random_state=0, stratify=y)"
   ]
  },
  {
   "cell_type": "markdown",
   "id": "f2672426-f0c7-42cb-aa53-656367551dee",
   "metadata": {},
   "source": [
    "## 학습 및 평가"
   ]
  },
  {
   "cell_type": "code",
   "execution_count": 35,
   "id": "b620ff2b-c3c2-4293-8522-0cbc2c20c886",
   "metadata": {},
   "outputs": [
    {
     "data": {
      "text/html": [
       "<style>#sk-container-id-1 {color: black;background-color: white;}#sk-container-id-1 pre{padding: 0;}#sk-container-id-1 div.sk-toggleable {background-color: white;}#sk-container-id-1 label.sk-toggleable__label {cursor: pointer;display: block;width: 100%;margin-bottom: 0;padding: 0.3em;box-sizing: border-box;text-align: center;}#sk-container-id-1 label.sk-toggleable__label-arrow:before {content: \"▸\";float: left;margin-right: 0.25em;color: #696969;}#sk-container-id-1 label.sk-toggleable__label-arrow:hover:before {color: black;}#sk-container-id-1 div.sk-estimator:hover label.sk-toggleable__label-arrow:before {color: black;}#sk-container-id-1 div.sk-toggleable__content {max-height: 0;max-width: 0;overflow: hidden;text-align: left;background-color: #f0f8ff;}#sk-container-id-1 div.sk-toggleable__content pre {margin: 0.2em;color: black;border-radius: 0.25em;background-color: #f0f8ff;}#sk-container-id-1 input.sk-toggleable__control:checked~div.sk-toggleable__content {max-height: 200px;max-width: 100%;overflow: auto;}#sk-container-id-1 input.sk-toggleable__control:checked~label.sk-toggleable__label-arrow:before {content: \"▾\";}#sk-container-id-1 div.sk-estimator input.sk-toggleable__control:checked~label.sk-toggleable__label {background-color: #d4ebff;}#sk-container-id-1 div.sk-label input.sk-toggleable__control:checked~label.sk-toggleable__label {background-color: #d4ebff;}#sk-container-id-1 input.sk-hidden--visually {border: 0;clip: rect(1px 1px 1px 1px);clip: rect(1px, 1px, 1px, 1px);height: 1px;margin: -1px;overflow: hidden;padding: 0;position: absolute;width: 1px;}#sk-container-id-1 div.sk-estimator {font-family: monospace;background-color: #f0f8ff;border: 1px dotted black;border-radius: 0.25em;box-sizing: border-box;margin-bottom: 0.5em;}#sk-container-id-1 div.sk-estimator:hover {background-color: #d4ebff;}#sk-container-id-1 div.sk-parallel-item::after {content: \"\";width: 100%;border-bottom: 1px solid gray;flex-grow: 1;}#sk-container-id-1 div.sk-label:hover label.sk-toggleable__label {background-color: #d4ebff;}#sk-container-id-1 div.sk-serial::before {content: \"\";position: absolute;border-left: 1px solid gray;box-sizing: border-box;top: 0;bottom: 0;left: 50%;z-index: 0;}#sk-container-id-1 div.sk-serial {display: flex;flex-direction: column;align-items: center;background-color: white;padding-right: 0.2em;padding-left: 0.2em;position: relative;}#sk-container-id-1 div.sk-item {position: relative;z-index: 1;}#sk-container-id-1 div.sk-parallel {display: flex;align-items: stretch;justify-content: center;background-color: white;position: relative;}#sk-container-id-1 div.sk-item::before, #sk-container-id-1 div.sk-parallel-item::before {content: \"\";position: absolute;border-left: 1px solid gray;box-sizing: border-box;top: 0;bottom: 0;left: 50%;z-index: -1;}#sk-container-id-1 div.sk-parallel-item {display: flex;flex-direction: column;z-index: 1;position: relative;background-color: white;}#sk-container-id-1 div.sk-parallel-item:first-child::after {align-self: flex-end;width: 50%;}#sk-container-id-1 div.sk-parallel-item:last-child::after {align-self: flex-start;width: 50%;}#sk-container-id-1 div.sk-parallel-item:only-child::after {width: 0;}#sk-container-id-1 div.sk-dashed-wrapped {border: 1px dashed gray;margin: 0 0.4em 0.5em 0.4em;box-sizing: border-box;padding-bottom: 0.4em;background-color: white;}#sk-container-id-1 div.sk-label label {font-family: monospace;font-weight: bold;display: inline-block;line-height: 1.2em;}#sk-container-id-1 div.sk-label-container {text-align: center;}#sk-container-id-1 div.sk-container {/* jupyter's `normalize.less` sets `[hidden] { display: none; }` but bootstrap.min.css set `[hidden] { display: none !important; }` so we also need the `!important` here to be able to override the default hidden behavior on the sphinx rendered scikit-learn.org. See: https://github.com/scikit-learn/scikit-learn/issues/21755 */display: inline-block !important;position: relative;}#sk-container-id-1 div.sk-text-repr-fallback {display: none;}</style><div id=\"sk-container-id-1\" class=\"sk-top-container\"><div class=\"sk-text-repr-fallback\"><pre>RandomForestClassifier()</pre><b>In a Jupyter environment, please rerun this cell to show the HTML representation or trust the notebook. <br />On GitHub, the HTML representation is unable to render, please try loading this page with nbviewer.org.</b></div><div class=\"sk-container\" hidden><div class=\"sk-item\"><div class=\"sk-estimator sk-toggleable\"><input class=\"sk-toggleable__control sk-hidden--visually\" id=\"sk-estimator-id-1\" type=\"checkbox\" checked><label for=\"sk-estimator-id-1\" class=\"sk-toggleable__label sk-toggleable__label-arrow\">RandomForestClassifier</label><div class=\"sk-toggleable__content\"><pre>RandomForestClassifier()</pre></div></div></div></div></div>"
      ],
      "text/plain": [
       "RandomForestClassifier()"
      ]
     },
     "execution_count": 35,
     "metadata": {},
     "output_type": "execute_result"
    }
   ],
   "source": [
    "model = RandomForestClassifier()\n",
    "model.fit(x_train, y_train)"
   ]
  },
  {
   "cell_type": "code",
   "execution_count": 41,
   "id": "0c1f0abc-d825-4687-9b54-081aea70a032",
   "metadata": {},
   "outputs": [
    {
     "name": "stdout",
     "output_type": "stream",
     "text": [
      "1.0\n"
     ]
    }
   ],
   "source": [
    "y_hat = model.predict(x_test)\n",
    "print(accuracy_score(y_test,y_hat)) # 정확도"
   ]
  },
  {
   "cell_type": "markdown",
   "id": "6e328bd3-55ce-465c-b368-98f74574cf4b",
   "metadata": {},
   "source": [
    "# Features Importance"
   ]
  },
  {
   "cell_type": "code",
   "execution_count": 40,
   "id": "66c6e328-d516-46f6-a49c-884e2133afd3",
   "metadata": {},
   "outputs": [],
   "source": [
    "importance = {k:v for k,v in zip(x.columns, model.feature_importances_)}\n",
    "df_importance = pd.DataFrame(pd.Series(importance), columns = ['Importance']).sort_values('Importance', ascending=False)\n"
   ]
  },
  {
   "cell_type": "markdown",
   "id": "89bc4d54-fedf-4571-8019-ec63c0d402a7",
   "metadata": {},
   "source": [
    "## 학습 및 평가"
   ]
  },
  {
   "cell_type": "code",
   "execution_count": null,
   "id": "b3f01b13-f832-4bd7-ad33-d663a72ed8b0",
   "metadata": {},
   "outputs": [],
   "source": [
    "model =RandomForestClassifier()\n",
    "model.fit(x_train, y_train)\n",
    "print(accuracy_score(y_test,y_hat))"
   ]
  },
  {
   "cell_type": "code",
   "execution_count": null,
   "id": "2bfcf3bf-c29f-4f29-ae9c-5549b3ad7f83",
   "metadata": {},
   "outputs": [],
   "source": [
    "model = LogisticRegression(solver = 'sag', max_iter=2000)\n",
    "model.fit(x_train, y_train)\n",
    "print(accuracy_score(y_test,y_hat))"
   ]
  },
  {
   "cell_type": "markdown",
   "id": "d00fbe06-023a-432b-a8c3-40810c3e8bf5",
   "metadata": {},
   "source": [
    "# 회귀계수 가중치"
   ]
  },
  {
   "cell_type": "code",
   "execution_count": null,
   "id": "bdec7935-ecf1-4814-a921-7ff979065541",
   "metadata": {},
   "outputs": [],
   "source": [
    "weight = {k:v for k,v in zip(x.columns, model.coef_)}\n",
    "df_weight = pd.DataFrame(pd.Series(weight), columns=['가중치']).sort_values('가중치', ascending =False)\n",
    "display(df_weight)                 "
   ]
  }
 ],
 "metadata": {
  "kernelspec": {
   "display_name": "Python 3 (ipykernel)",
   "language": "python",
   "name": "python3"
  },
  "language_info": {
   "codemirror_mode": {
    "name": "ipython",
    "version": 3
   },
   "file_extension": ".py",
   "mimetype": "text/x-python",
   "name": "python",
   "nbconvert_exporter": "python",
   "pygments_lexer": "ipython3",
   "version": "3.11.7"
  }
 },
 "nbformat": 4,
 "nbformat_minor": 5
}
