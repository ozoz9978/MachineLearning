{
 "cells": [
  {
   "cell_type": "markdown",
   "id": "6ecc47f6-d402-4967-86be-e62a337ee5f1",
   "metadata": {},
   "source": [
    "# 앙상블회귀"
   ]
  },
  {
   "cell_type": "markdown",
   "id": "a04c62bf-96b4-4467-9a9f-5422f6f8e0be",
   "metadata": {},
   "source": [
    "## (공통) 데이터 로딩 및 분할"
   ]
  },
  {
   "cell_type": "code",
   "execution_count": 23,
   "id": "8f86d9ee-f81c-425d-9b47-d214add56190",
   "metadata": {},
   "outputs": [],
   "source": [
    "import pandas as pd\n",
    "import numpy as np\n",
    "from sklearn.model_selection import train_test_split\n",
    "from sklearn.metrics import mean_squared_error, r2_score\n",
    "from sklearn.preprocessing import StandardScaler\n",
    "import warnings \n",
    "warnings.filterwarnings(action='ignore')\n",
    "df = pd.read_csv('./데이터셋/HousingData.csv')\n",
    "df = df.ffill()\n",
    "x = df.drop('MEDV', axis=1)\n",
    "y = df['MEDV']\n",
    "x = StandardScaler().fit_transform(x)\n",
    "x_train, x_test, y_train, y_test = train_test_split(x,y,train_size=0.8, random_state=1)"
   ]
  },
  {
   "cell_type": "markdown",
   "id": "12c9115a-3703-4c1b-a842-0e5eb2ab221c",
   "metadata": {},
   "source": [
    "## Voting\n",
    "- 동일 데이터셋에 대해 서로 다른 회귀모형 알고리즘을 사용하여 각 모델 예측결과의 평균값을 반환한다."
   ]
  },
  {
   "cell_type": "markdown",
   "id": "a54249f6-b3cb-43de-9b5a-52f85c49e4c2",
   "metadata": {},
   "source": [
    "### 패키지 로딩"
   ]
  },
  {
   "cell_type": "code",
   "execution_count": 4,
   "id": "07a8b0a4-b150-4091-9781-1f2e8359bc0a",
   "metadata": {},
   "outputs": [],
   "source": [
    "from sklearn.linear_model import LinearRegression, Lasso, Ridge\n",
    "from sklearn.ensemble import VotingRegressor"
   ]
  },
  {
   "cell_type": "markdown",
   "id": "1af3c6d5-af27-4ca4-a543-0a57d2cd012d",
   "metadata": {},
   "source": [
    "### 모델생성"
   ]
  },
  {
   "cell_type": "code",
   "execution_count": 5,
   "id": "dcf5ce39-5072-4c97-bec9-75ad122dbc96",
   "metadata": {},
   "outputs": [],
   "source": [
    "lasso = Lasso(alpha=0.05)\n",
    "ridge = Ridge(alpha = 1)\n",
    "linear = LinearRegression()\n",
    "vot_r = VotingRegressor(estimators=[('Lasso',lasso),('Ridge',ridge),('Linear',linear)])"
   ]
  },
  {
   "cell_type": "markdown",
   "id": "8b6e193c-c726-4d15-980b-9e3490d4e155",
   "metadata": {},
   "source": [
    "### 학습 및 평가"
   ]
  },
  {
   "cell_type": "code",
   "execution_count": 6,
   "id": "a0aa4bec-f8c6-4174-a7c2-44231768b4c0",
   "metadata": {},
   "outputs": [
    {
     "name": "stdout",
     "output_type": "stream",
     "text": [
      "RMSE:4.9880009647013885\n",
      "R2-score:0.748\n"
     ]
    }
   ],
   "source": [
    "vot_r.fit(x_train,y_train)\n",
    "y_hat = vot_r.predict(x_test)\n",
    "print(f'RMSE:{np.sqrt(mean_squared_error(y_test, y_hat))}')\n",
    "print(f'R2-score:{r2_score(y_test, y_hat):.3f}')"
   ]
  },
  {
   "cell_type": "markdown",
   "id": "934efbe4-eb6b-46e3-95f1-549513119a4d",
   "metadata": {},
   "source": [
    "### 개별 회귀모형 학습결과 비교"
   ]
  },
  {
   "cell_type": "code",
   "execution_count": 7,
   "id": "369aeefa-f054-457f-af87-5efdbb808676",
   "metadata": {},
   "outputs": [
    {
     "name": "stdout",
     "output_type": "stream",
     "text": [
      "RMSE:5.021356937393728\n",
      "R2-score:0.745\n",
      "================================================================================\n",
      "RMSE:4.977514696280816\n",
      "R2-score:0.749\n",
      "================================================================================\n",
      "RMSE:4.975979876218403\n",
      "R2-score:0.749\n",
      "================================================================================\n"
     ]
    }
   ],
   "source": [
    "estimators = [('Lasso',lasso),('Ridge',ridge),('Linear',linear)]\n",
    "for name, model in estimators:\n",
    "    model.fit(x_train,y_train)\n",
    "    y_hat = model.predict(x_test)\n",
    "    print(f'RMSE:{np.sqrt(mean_squared_error(y_test, y_hat))}')\n",
    "    print(f'R2-score:{r2_score(y_test, y_hat):.3f}')\n",
    "    print('='*80)"
   ]
  },
  {
   "cell_type": "markdown",
   "id": "bec1d902-6026-4f7f-ae06-82423a3b4653",
   "metadata": {},
   "source": [
    "## Boosting"
   ]
  },
  {
   "cell_type": "markdown",
   "id": "53ef01f0-f30b-4fe5-89b3-eba8daadd4c7",
   "metadata": {},
   "source": [
    "### AdaBOOST"
   ]
  },
  {
   "cell_type": "markdown",
   "id": "38d370a8-5baf-4bf0-81cc-54e12adbe282",
   "metadata": {},
   "source": [
    "#### 패키지로딩"
   ]
  },
  {
   "cell_type": "code",
   "execution_count": 8,
   "id": "eb4ed68c-0ce8-4948-a6f5-d657a68ae1b4",
   "metadata": {},
   "outputs": [],
   "source": [
    "from sklearn.ensemble import AdaBoostRegressor\n",
    "from sklearn.tree import DecisionTreeRegressor"
   ]
  },
  {
   "cell_type": "markdown",
   "id": "2b71569c-8503-408b-ad87-036c57c1cbac",
   "metadata": {},
   "source": [
    "#### 모델생성"
   ]
  },
  {
   "cell_type": "code",
   "execution_count": 9,
   "id": "606c3e79-4eec-4654-ba03-3a43b529a14d",
   "metadata": {},
   "outputs": [],
   "source": [
    "ada_r = AdaBoostRegressor(base_estimator=DecisionTreeRegressor(max_depth=4),n_estimators=300, random_state=0)"
   ]
  },
  {
   "cell_type": "markdown",
   "id": "161ab73b-f2a5-4d1f-b4f0-be5380b63ede",
   "metadata": {},
   "source": [
    "#### 학습 및 평가"
   ]
  },
  {
   "cell_type": "code",
   "execution_count": 10,
   "id": "94afa454-c454-4244-96aa-96f706a64d0f",
   "metadata": {},
   "outputs": [
    {
     "name": "stdout",
     "output_type": "stream",
     "text": [
      "RMSE:3.6056716464950664\n",
      "R2-score:0.868\n"
     ]
    }
   ],
   "source": [
    "ada_r.fit(x_train,y_train)\n",
    "y_hat = ada_r.predict(x_test)\n",
    "print(f'RMSE:{np.sqrt(mean_squared_error(y_test, y_hat))}')\n",
    "print(f'R2-score:{r2_score(y_test, y_hat):.3f}')"
   ]
  },
  {
   "cell_type": "markdown",
   "id": "d1bdef21-503b-4d09-aa87-a8fdf3aa8a7f",
   "metadata": {},
   "source": [
    "### GradientBoost"
   ]
  },
  {
   "cell_type": "markdown",
   "id": "3873f5bb-fe25-4ac5-929b-f969c4c4ca82",
   "metadata": {},
   "source": [
    "#### DecisionTreeRegressor 를 활용한 그레디언트 부스팅 원리 이해"
   ]
  },
  {
   "cell_type": "code",
   "execution_count": 11,
   "id": "149ca994-31e1-4e63-9600-7e053d98f742",
   "metadata": {},
   "outputs": [],
   "source": [
    "from sklearn.tree import DecisionTreeRegressor\n",
    "np.random.seed(10)\n",
    "x_ = np.random.rand(100,1) - 0.5 # [-0.5,0.5) 범위 데이터 100x1 모양으로 생성\n",
    "y_ = 3 * x_[:,0]**2  + 0.05*np.random.randn(100) # y= 3x^2 + noise"
   ]
  },
  {
   "cell_type": "code",
   "execution_count": 12,
   "id": "da79e2dd-fc62-4cbc-af00-f62a9cc30505",
   "metadata": {},
   "outputs": [
    {
     "data": {
      "text/plain": [
       "array([0.27623009, 0.70126328, 0.05048995])"
      ]
     },
     "execution_count": 12,
     "metadata": {},
     "output_type": "execute_result"
    }
   ],
   "source": [
    "y_[:3]"
   ]
  },
  {
   "cell_type": "code",
   "execution_count": 13,
   "id": "4a64c68b-b938-4596-bb42-e54000597b01",
   "metadata": {},
   "outputs": [
    {
     "data": {
      "text/html": [
       "<style>#sk-container-id-1 {color: black;background-color: white;}#sk-container-id-1 pre{padding: 0;}#sk-container-id-1 div.sk-toggleable {background-color: white;}#sk-container-id-1 label.sk-toggleable__label {cursor: pointer;display: block;width: 100%;margin-bottom: 0;padding: 0.3em;box-sizing: border-box;text-align: center;}#sk-container-id-1 label.sk-toggleable__label-arrow:before {content: \"▸\";float: left;margin-right: 0.25em;color: #696969;}#sk-container-id-1 label.sk-toggleable__label-arrow:hover:before {color: black;}#sk-container-id-1 div.sk-estimator:hover label.sk-toggleable__label-arrow:before {color: black;}#sk-container-id-1 div.sk-toggleable__content {max-height: 0;max-width: 0;overflow: hidden;text-align: left;background-color: #f0f8ff;}#sk-container-id-1 div.sk-toggleable__content pre {margin: 0.2em;color: black;border-radius: 0.25em;background-color: #f0f8ff;}#sk-container-id-1 input.sk-toggleable__control:checked~div.sk-toggleable__content {max-height: 200px;max-width: 100%;overflow: auto;}#sk-container-id-1 input.sk-toggleable__control:checked~label.sk-toggleable__label-arrow:before {content: \"▾\";}#sk-container-id-1 div.sk-estimator input.sk-toggleable__control:checked~label.sk-toggleable__label {background-color: #d4ebff;}#sk-container-id-1 div.sk-label input.sk-toggleable__control:checked~label.sk-toggleable__label {background-color: #d4ebff;}#sk-container-id-1 input.sk-hidden--visually {border: 0;clip: rect(1px 1px 1px 1px);clip: rect(1px, 1px, 1px, 1px);height: 1px;margin: -1px;overflow: hidden;padding: 0;position: absolute;width: 1px;}#sk-container-id-1 div.sk-estimator {font-family: monospace;background-color: #f0f8ff;border: 1px dotted black;border-radius: 0.25em;box-sizing: border-box;margin-bottom: 0.5em;}#sk-container-id-1 div.sk-estimator:hover {background-color: #d4ebff;}#sk-container-id-1 div.sk-parallel-item::after {content: \"\";width: 100%;border-bottom: 1px solid gray;flex-grow: 1;}#sk-container-id-1 div.sk-label:hover label.sk-toggleable__label {background-color: #d4ebff;}#sk-container-id-1 div.sk-serial::before {content: \"\";position: absolute;border-left: 1px solid gray;box-sizing: border-box;top: 0;bottom: 0;left: 50%;z-index: 0;}#sk-container-id-1 div.sk-serial {display: flex;flex-direction: column;align-items: center;background-color: white;padding-right: 0.2em;padding-left: 0.2em;position: relative;}#sk-container-id-1 div.sk-item {position: relative;z-index: 1;}#sk-container-id-1 div.sk-parallel {display: flex;align-items: stretch;justify-content: center;background-color: white;position: relative;}#sk-container-id-1 div.sk-item::before, #sk-container-id-1 div.sk-parallel-item::before {content: \"\";position: absolute;border-left: 1px solid gray;box-sizing: border-box;top: 0;bottom: 0;left: 50%;z-index: -1;}#sk-container-id-1 div.sk-parallel-item {display: flex;flex-direction: column;z-index: 1;position: relative;background-color: white;}#sk-container-id-1 div.sk-parallel-item:first-child::after {align-self: flex-end;width: 50%;}#sk-container-id-1 div.sk-parallel-item:last-child::after {align-self: flex-start;width: 50%;}#sk-container-id-1 div.sk-parallel-item:only-child::after {width: 0;}#sk-container-id-1 div.sk-dashed-wrapped {border: 1px dashed gray;margin: 0 0.4em 0.5em 0.4em;box-sizing: border-box;padding-bottom: 0.4em;background-color: white;}#sk-container-id-1 div.sk-label label {font-family: monospace;font-weight: bold;display: inline-block;line-height: 1.2em;}#sk-container-id-1 div.sk-label-container {text-align: center;}#sk-container-id-1 div.sk-container {/* jupyter's `normalize.less` sets `[hidden] { display: none; }` but bootstrap.min.css set `[hidden] { display: none !important; }` so we also need the `!important` here to be able to override the default hidden behavior on the sphinx rendered scikit-learn.org. See: https://github.com/scikit-learn/scikit-learn/issues/21755 */display: inline-block !important;position: relative;}#sk-container-id-1 div.sk-text-repr-fallback {display: none;}</style><div id=\"sk-container-id-1\" class=\"sk-top-container\"><div class=\"sk-text-repr-fallback\"><pre>DecisionTreeRegressor(max_depth=3, random_state=10)</pre><b>In a Jupyter environment, please rerun this cell to show the HTML representation or trust the notebook. <br />On GitHub, the HTML representation is unable to render, please try loading this page with nbviewer.org.</b></div><div class=\"sk-container\" hidden><div class=\"sk-item\"><div class=\"sk-estimator sk-toggleable\"><input class=\"sk-toggleable__control sk-hidden--visually\" id=\"sk-estimator-id-1\" type=\"checkbox\" checked><label for=\"sk-estimator-id-1\" class=\"sk-toggleable__label sk-toggleable__label-arrow\">DecisionTreeRegressor</label><div class=\"sk-toggleable__content\"><pre>DecisionTreeRegressor(max_depth=3, random_state=10)</pre></div></div></div></div></div>"
      ],
      "text/plain": [
       "DecisionTreeRegressor(max_depth=3, random_state=10)"
      ]
     },
     "execution_count": 13,
     "metadata": {},
     "output_type": "execute_result"
    }
   ],
   "source": [
    "tree_reg1 = DecisionTreeRegressor(max_depth=3,random_state=10)\n",
    "tree_reg1.fit(x_,y_)"
   ]
  },
  {
   "cell_type": "code",
   "execution_count": 14,
   "id": "bd0326a0-14e3-41ad-ad76-4bfe89cc27e7",
   "metadata": {},
   "outputs": [
    {
     "data": {
      "text/html": [
       "<style>#sk-container-id-2 {color: black;background-color: white;}#sk-container-id-2 pre{padding: 0;}#sk-container-id-2 div.sk-toggleable {background-color: white;}#sk-container-id-2 label.sk-toggleable__label {cursor: pointer;display: block;width: 100%;margin-bottom: 0;padding: 0.3em;box-sizing: border-box;text-align: center;}#sk-container-id-2 label.sk-toggleable__label-arrow:before {content: \"▸\";float: left;margin-right: 0.25em;color: #696969;}#sk-container-id-2 label.sk-toggleable__label-arrow:hover:before {color: black;}#sk-container-id-2 div.sk-estimator:hover label.sk-toggleable__label-arrow:before {color: black;}#sk-container-id-2 div.sk-toggleable__content {max-height: 0;max-width: 0;overflow: hidden;text-align: left;background-color: #f0f8ff;}#sk-container-id-2 div.sk-toggleable__content pre {margin: 0.2em;color: black;border-radius: 0.25em;background-color: #f0f8ff;}#sk-container-id-2 input.sk-toggleable__control:checked~div.sk-toggleable__content {max-height: 200px;max-width: 100%;overflow: auto;}#sk-container-id-2 input.sk-toggleable__control:checked~label.sk-toggleable__label-arrow:before {content: \"▾\";}#sk-container-id-2 div.sk-estimator input.sk-toggleable__control:checked~label.sk-toggleable__label {background-color: #d4ebff;}#sk-container-id-2 div.sk-label input.sk-toggleable__control:checked~label.sk-toggleable__label {background-color: #d4ebff;}#sk-container-id-2 input.sk-hidden--visually {border: 0;clip: rect(1px 1px 1px 1px);clip: rect(1px, 1px, 1px, 1px);height: 1px;margin: -1px;overflow: hidden;padding: 0;position: absolute;width: 1px;}#sk-container-id-2 div.sk-estimator {font-family: monospace;background-color: #f0f8ff;border: 1px dotted black;border-radius: 0.25em;box-sizing: border-box;margin-bottom: 0.5em;}#sk-container-id-2 div.sk-estimator:hover {background-color: #d4ebff;}#sk-container-id-2 div.sk-parallel-item::after {content: \"\";width: 100%;border-bottom: 1px solid gray;flex-grow: 1;}#sk-container-id-2 div.sk-label:hover label.sk-toggleable__label {background-color: #d4ebff;}#sk-container-id-2 div.sk-serial::before {content: \"\";position: absolute;border-left: 1px solid gray;box-sizing: border-box;top: 0;bottom: 0;left: 50%;z-index: 0;}#sk-container-id-2 div.sk-serial {display: flex;flex-direction: column;align-items: center;background-color: white;padding-right: 0.2em;padding-left: 0.2em;position: relative;}#sk-container-id-2 div.sk-item {position: relative;z-index: 1;}#sk-container-id-2 div.sk-parallel {display: flex;align-items: stretch;justify-content: center;background-color: white;position: relative;}#sk-container-id-2 div.sk-item::before, #sk-container-id-2 div.sk-parallel-item::before {content: \"\";position: absolute;border-left: 1px solid gray;box-sizing: border-box;top: 0;bottom: 0;left: 50%;z-index: -1;}#sk-container-id-2 div.sk-parallel-item {display: flex;flex-direction: column;z-index: 1;position: relative;background-color: white;}#sk-container-id-2 div.sk-parallel-item:first-child::after {align-self: flex-end;width: 50%;}#sk-container-id-2 div.sk-parallel-item:last-child::after {align-self: flex-start;width: 50%;}#sk-container-id-2 div.sk-parallel-item:only-child::after {width: 0;}#sk-container-id-2 div.sk-dashed-wrapped {border: 1px dashed gray;margin: 0 0.4em 0.5em 0.4em;box-sizing: border-box;padding-bottom: 0.4em;background-color: white;}#sk-container-id-2 div.sk-label label {font-family: monospace;font-weight: bold;display: inline-block;line-height: 1.2em;}#sk-container-id-2 div.sk-label-container {text-align: center;}#sk-container-id-2 div.sk-container {/* jupyter's `normalize.less` sets `[hidden] { display: none; }` but bootstrap.min.css set `[hidden] { display: none !important; }` so we also need the `!important` here to be able to override the default hidden behavior on the sphinx rendered scikit-learn.org. See: https://github.com/scikit-learn/scikit-learn/issues/21755 */display: inline-block !important;position: relative;}#sk-container-id-2 div.sk-text-repr-fallback {display: none;}</style><div id=\"sk-container-id-2\" class=\"sk-top-container\"><div class=\"sk-text-repr-fallback\"><pre>DecisionTreeRegressor(max_depth=3, random_state=11)</pre><b>In a Jupyter environment, please rerun this cell to show the HTML representation or trust the notebook. <br />On GitHub, the HTML representation is unable to render, please try loading this page with nbviewer.org.</b></div><div class=\"sk-container\" hidden><div class=\"sk-item\"><div class=\"sk-estimator sk-toggleable\"><input class=\"sk-toggleable__control sk-hidden--visually\" id=\"sk-estimator-id-2\" type=\"checkbox\" checked><label for=\"sk-estimator-id-2\" class=\"sk-toggleable__label sk-toggleable__label-arrow\">DecisionTreeRegressor</label><div class=\"sk-toggleable__content\"><pre>DecisionTreeRegressor(max_depth=3, random_state=11)</pre></div></div></div></div></div>"
      ],
      "text/plain": [
       "DecisionTreeRegressor(max_depth=3, random_state=11)"
      ]
     },
     "execution_count": 14,
     "metadata": {},
     "output_type": "execute_result"
    }
   ],
   "source": [
    "y2 = y_ - tree_reg1.predict(x_) # 첫번째 모델에 의해 만들어진 오차\n",
    "tree_reg2 = DecisionTreeRegressor(max_depth=3,random_state=11)\n",
    "tree_reg2.fit(x_,y2) # 이전 예측기가 만든 오차에 대해 다음 의사결정 나무가 학습"
   ]
  },
  {
   "cell_type": "code",
   "execution_count": 15,
   "id": "d7cbe961-a66d-4211-a4d2-0ef66b139315",
   "metadata": {},
   "outputs": [
    {
     "data": {
      "text/html": [
       "<style>#sk-container-id-3 {color: black;background-color: white;}#sk-container-id-3 pre{padding: 0;}#sk-container-id-3 div.sk-toggleable {background-color: white;}#sk-container-id-3 label.sk-toggleable__label {cursor: pointer;display: block;width: 100%;margin-bottom: 0;padding: 0.3em;box-sizing: border-box;text-align: center;}#sk-container-id-3 label.sk-toggleable__label-arrow:before {content: \"▸\";float: left;margin-right: 0.25em;color: #696969;}#sk-container-id-3 label.sk-toggleable__label-arrow:hover:before {color: black;}#sk-container-id-3 div.sk-estimator:hover label.sk-toggleable__label-arrow:before {color: black;}#sk-container-id-3 div.sk-toggleable__content {max-height: 0;max-width: 0;overflow: hidden;text-align: left;background-color: #f0f8ff;}#sk-container-id-3 div.sk-toggleable__content pre {margin: 0.2em;color: black;border-radius: 0.25em;background-color: #f0f8ff;}#sk-container-id-3 input.sk-toggleable__control:checked~div.sk-toggleable__content {max-height: 200px;max-width: 100%;overflow: auto;}#sk-container-id-3 input.sk-toggleable__control:checked~label.sk-toggleable__label-arrow:before {content: \"▾\";}#sk-container-id-3 div.sk-estimator input.sk-toggleable__control:checked~label.sk-toggleable__label {background-color: #d4ebff;}#sk-container-id-3 div.sk-label input.sk-toggleable__control:checked~label.sk-toggleable__label {background-color: #d4ebff;}#sk-container-id-3 input.sk-hidden--visually {border: 0;clip: rect(1px 1px 1px 1px);clip: rect(1px, 1px, 1px, 1px);height: 1px;margin: -1px;overflow: hidden;padding: 0;position: absolute;width: 1px;}#sk-container-id-3 div.sk-estimator {font-family: monospace;background-color: #f0f8ff;border: 1px dotted black;border-radius: 0.25em;box-sizing: border-box;margin-bottom: 0.5em;}#sk-container-id-3 div.sk-estimator:hover {background-color: #d4ebff;}#sk-container-id-3 div.sk-parallel-item::after {content: \"\";width: 100%;border-bottom: 1px solid gray;flex-grow: 1;}#sk-container-id-3 div.sk-label:hover label.sk-toggleable__label {background-color: #d4ebff;}#sk-container-id-3 div.sk-serial::before {content: \"\";position: absolute;border-left: 1px solid gray;box-sizing: border-box;top: 0;bottom: 0;left: 50%;z-index: 0;}#sk-container-id-3 div.sk-serial {display: flex;flex-direction: column;align-items: center;background-color: white;padding-right: 0.2em;padding-left: 0.2em;position: relative;}#sk-container-id-3 div.sk-item {position: relative;z-index: 1;}#sk-container-id-3 div.sk-parallel {display: flex;align-items: stretch;justify-content: center;background-color: white;position: relative;}#sk-container-id-3 div.sk-item::before, #sk-container-id-3 div.sk-parallel-item::before {content: \"\";position: absolute;border-left: 1px solid gray;box-sizing: border-box;top: 0;bottom: 0;left: 50%;z-index: -1;}#sk-container-id-3 div.sk-parallel-item {display: flex;flex-direction: column;z-index: 1;position: relative;background-color: white;}#sk-container-id-3 div.sk-parallel-item:first-child::after {align-self: flex-end;width: 50%;}#sk-container-id-3 div.sk-parallel-item:last-child::after {align-self: flex-start;width: 50%;}#sk-container-id-3 div.sk-parallel-item:only-child::after {width: 0;}#sk-container-id-3 div.sk-dashed-wrapped {border: 1px dashed gray;margin: 0 0.4em 0.5em 0.4em;box-sizing: border-box;padding-bottom: 0.4em;background-color: white;}#sk-container-id-3 div.sk-label label {font-family: monospace;font-weight: bold;display: inline-block;line-height: 1.2em;}#sk-container-id-3 div.sk-label-container {text-align: center;}#sk-container-id-3 div.sk-container {/* jupyter's `normalize.less` sets `[hidden] { display: none; }` but bootstrap.min.css set `[hidden] { display: none !important; }` so we also need the `!important` here to be able to override the default hidden behavior on the sphinx rendered scikit-learn.org. See: https://github.com/scikit-learn/scikit-learn/issues/21755 */display: inline-block !important;position: relative;}#sk-container-id-3 div.sk-text-repr-fallback {display: none;}</style><div id=\"sk-container-id-3\" class=\"sk-top-container\"><div class=\"sk-text-repr-fallback\"><pre>DecisionTreeRegressor(max_depth=3, random_state=12)</pre><b>In a Jupyter environment, please rerun this cell to show the HTML representation or trust the notebook. <br />On GitHub, the HTML representation is unable to render, please try loading this page with nbviewer.org.</b></div><div class=\"sk-container\" hidden><div class=\"sk-item\"><div class=\"sk-estimator sk-toggleable\"><input class=\"sk-toggleable__control sk-hidden--visually\" id=\"sk-estimator-id-3\" type=\"checkbox\" checked><label for=\"sk-estimator-id-3\" class=\"sk-toggleable__label sk-toggleable__label-arrow\">DecisionTreeRegressor</label><div class=\"sk-toggleable__content\"><pre>DecisionTreeRegressor(max_depth=3, random_state=12)</pre></div></div></div></div></div>"
      ],
      "text/plain": [
       "DecisionTreeRegressor(max_depth=3, random_state=12)"
      ]
     },
     "execution_count": 15,
     "metadata": {},
     "output_type": "execute_result"
    }
   ],
   "source": [
    "y3 = y2 - tree_reg2.predict(x_) # 첫번째 모델에 의해 만들어진 오차\n",
    "tree_reg3 = DecisionTreeRegressor(max_depth=3,random_state=12)\n",
    "tree_reg3.fit(x_,y3)"
   ]
  },
  {
   "cell_type": "markdown",
   "id": "ac373b31-1827-4414-8dc0-03cbdd1c5684",
   "metadata": {},
   "source": [
    "- 새로운 샘플에 대한 예측을 만들려면 모든 모델의 예측을 더한다."
   ]
  },
  {
   "cell_type": "code",
   "execution_count": 16,
   "id": "ee482dda-9f50-4ce6-97d0-6535383e5598",
   "metadata": {},
   "outputs": [
    {
     "name": "stdout",
     "output_type": "stream",
     "text": [
      "[0.48433793 0.02328039 0.67494791]\n"
     ]
    }
   ],
   "source": [
    "x_new = np.array([[-0.4], [0.], [0.5]])\n",
    "result = np.sum(model.predict(x_new) for model in (tree_reg1, tree_reg2, tree_reg3))\n",
    "print(result)"
   ]
  },
  {
   "cell_type": "markdown",
   "id": "fbde5c3d-9bd4-4e85-b80e-d4c48ca52dbf",
   "metadata": {},
   "source": [
    "- 그래디언트 부스트 예측결과 시각화"
   ]
  },
  {
   "cell_type": "code",
   "execution_count": 17,
   "id": "0b49691c-ee3c-4521-b5a1-e5631e6773ba",
   "metadata": {},
   "outputs": [
    {
     "data": {
      "image/png": "[encoded data removed]",
      "text/plain": [
       "<Figure size 1100x1100 with 6 Axes>"
      ]
     },
     "metadata": {},
     "output_type": "display_data"
    }
   ],
   "source": [
    "import matplotlib.pyplot as plt\n",
    "import matplotlib \n",
    "\n",
    "matplotlib.rc('font', family='Malgun Gothic')\n",
    "matplotlib.rcParams['axes.unicode_minus'] = False\n",
    "\n",
    "def plot_predictions(regressors, X, y, axes, style,\n",
    "                     label=None, data_style=\"b.\", data_label=None):\n",
    "    x1 = np.linspace(axes[0], axes[1], 500)\n",
    "    y_pred = sum(regressor.predict(x1.reshape(-1, 1))\n",
    "                 for regressor in regressors)    \n",
    "    plt.plot(X[:, 0], y, data_style, label=data_label)\n",
    "    plt.plot(x1, y_pred, style, linewidth=2, label=label)\n",
    "    if label or data_label:\n",
    "        plt.legend(loc=\"upper center\")\n",
    "    plt.axis(axes)\n",
    "\n",
    "plt.figure(figsize=(11, 11))\n",
    "\n",
    "plt.subplot(3, 2, 1)\n",
    "plot_predictions([tree_reg1], x_, y_, axes=[-0.5, 0.5, -0.2, 0.8], style=\"g-\",\n",
    "                 label=\"$h_1(x_1)$\", data_label=\"훈련 세트\")\n",
    "plt.ylabel(\"$y$  \", rotation=0)\n",
    "plt.title(\"잔여 오차와 예측\")\n",
    "\n",
    "plt.subplot(3, 2, 2)\n",
    "plot_predictions([tree_reg1], x_, y_, axes=[-0.5, 0.5, -0.2, 0.8], style=\"r-\",\n",
    "                 label=\"$h(x_1) = h_1(x_1)$\", data_label=\"훈련 세트\")\n",
    "plt.title(\"앙상블의 예측\")\n",
    "\n",
    "plt.subplot(3, 2, 3)\n",
    "plot_predictions([tree_reg2], x_, y2, axes=[-0.5, 0.5, -0.4, 0.6], style=\"g-\",\n",
    "                 label=\"$h_2(x_1)$\", data_style=\"k+\",\n",
    "                 data_label=\"잔여 오차: $y - h_1(x_1)$\")\n",
    "plt.ylabel(\"$y$  \", rotation=0)\n",
    "\n",
    "plt.subplot(3, 2, 4)\n",
    "plot_predictions([tree_reg1, tree_reg2], x_, y_, axes=[-0.5, 0.5, -0.2, 0.8],\n",
    "                  style=\"r-\", label=\"$h(x_1) = h_1(x_1) + h_2(x_1)$\")\n",
    "\n",
    "plt.subplot(3, 2, 5)\n",
    "plot_predictions([tree_reg3], x_, y3, axes=[-0.5, 0.5, -0.4, 0.6], style=\"g-\",\n",
    "                 label=\"$h_3(x_1)$\", data_style=\"k+\",\n",
    "                 data_label=\"잔여 오차: $y - h_1(x_1) - h_2(x_1)$\")\n",
    "plt.xlabel(\"$x_1$\")\n",
    "plt.ylabel(\"$y$  \", rotation=0)\n",
    "\n",
    "plt.subplot(3, 2, 6)\n",
    "plot_predictions([tree_reg1, tree_reg2, tree_reg3], x_, y_,\n",
    "                 axes=[-0.5, 0.5, -0.2, 0.8], style=\"r-\",\n",
    "                 label=\"$h(x_1) = h_1(x_1) + h_2(x_1) + h_3(x_1)$\")\n",
    "plt.xlabel(\"$x_1$\")\n",
    "\n",
    "plt.show()"
   ]
  },
  {
   "cell_type": "markdown",
   "id": "dc5cba97-c174-45a9-ac1f-cab481ac6465",
   "metadata": {},
   "source": [
    "### Gradient Boosting Regressor 와의 비교"
   ]
  },
  {
   "cell_type": "code",
   "execution_count": 19,
   "id": "3c101e54-8414-43a9-a422-80f7c56c59c5",
   "metadata": {},
   "outputs": [
    {
     "data": {
      "text/html": [
       "<style>#sk-container-id-5 {color: black;background-color: white;}#sk-container-id-5 pre{padding: 0;}#sk-container-id-5 div.sk-toggleable {background-color: white;}#sk-container-id-5 label.sk-toggleable__label {cursor: pointer;display: block;width: 100%;margin-bottom: 0;padding: 0.3em;box-sizing: border-box;text-align: center;}#sk-container-id-5 label.sk-toggleable__label-arrow:before {content: \"▸\";float: left;margin-right: 0.25em;color: #696969;}#sk-container-id-5 label.sk-toggleable__label-arrow:hover:before {color: black;}#sk-container-id-5 div.sk-estimator:hover label.sk-toggleable__label-arrow:before {color: black;}#sk-container-id-5 div.sk-toggleable__content {max-height: 0;max-width: 0;overflow: hidden;text-align: left;background-color: #f0f8ff;}#sk-container-id-5 div.sk-toggleable__content pre {margin: 0.2em;color: black;border-radius: 0.25em;background-color: #f0f8ff;}#sk-container-id-5 input.sk-toggleable__control:checked~div.sk-toggleable__content {max-height: 200px;max-width: 100%;overflow: auto;}#sk-container-id-5 input.sk-toggleable__control:checked~label.sk-toggleable__label-arrow:before {content: \"▾\";}#sk-container-id-5 div.sk-estimator input.sk-toggleable__control:checked~label.sk-toggleable__label {background-color: #d4ebff;}#sk-container-id-5 div.sk-label input.sk-toggleable__control:checked~label.sk-toggleable__label {background-color: #d4ebff;}#sk-container-id-5 input.sk-hidden--visually {border: 0;clip: rect(1px 1px 1px 1px);clip: rect(1px, 1px, 1px, 1px);height: 1px;margin: -1px;overflow: hidden;padding: 0;position: absolute;width: 1px;}#sk-container-id-5 div.sk-estimator {font-family: monospace;background-color: #f0f8ff;border: 1px dotted black;border-radius: 0.25em;box-sizing: border-box;margin-bottom: 0.5em;}#sk-container-id-5 div.sk-estimator:hover {background-color: #d4ebff;}#sk-container-id-5 div.sk-parallel-item::after {content: \"\";width: 100%;border-bottom: 1px solid gray;flex-grow: 1;}#sk-container-id-5 div.sk-label:hover label.sk-toggleable__label {background-color: #d4ebff;}#sk-container-id-5 div.sk-serial::before {content: \"\";position: absolute;border-left: 1px solid gray;box-sizing: border-box;top: 0;bottom: 0;left: 50%;z-index: 0;}#sk-container-id-5 div.sk-serial {display: flex;flex-direction: column;align-items: center;background-color: white;padding-right: 0.2em;padding-left: 0.2em;position: relative;}#sk-container-id-5 div.sk-item {position: relative;z-index: 1;}#sk-container-id-5 div.sk-parallel {display: flex;align-items: stretch;justify-content: center;background-color: white;position: relative;}#sk-container-id-5 div.sk-item::before, #sk-container-id-5 div.sk-parallel-item::before {content: \"\";position: absolute;border-left: 1px solid gray;box-sizing: border-box;top: 0;bottom: 0;left: 50%;z-index: -1;}#sk-container-id-5 div.sk-parallel-item {display: flex;flex-direction: column;z-index: 1;position: relative;background-color: white;}#sk-container-id-5 div.sk-parallel-item:first-child::after {align-self: flex-end;width: 50%;}#sk-container-id-5 div.sk-parallel-item:last-child::after {align-self: flex-start;width: 50%;}#sk-container-id-5 div.sk-parallel-item:only-child::after {width: 0;}#sk-container-id-5 div.sk-dashed-wrapped {border: 1px dashed gray;margin: 0 0.4em 0.5em 0.4em;box-sizing: border-box;padding-bottom: 0.4em;background-color: white;}#sk-container-id-5 div.sk-label label {font-family: monospace;font-weight: bold;display: inline-block;line-height: 1.2em;}#sk-container-id-5 div.sk-label-container {text-align: center;}#sk-container-id-5 div.sk-container {/* jupyter's `normalize.less` sets `[hidden] { display: none; }` but bootstrap.min.css set `[hidden] { display: none !important; }` so we also need the `!important` here to be able to override the default hidden behavior on the sphinx rendered scikit-learn.org. See: https://github.com/scikit-learn/scikit-learn/issues/21755 */display: inline-block !important;position: relative;}#sk-container-id-5 div.sk-text-repr-fallback {display: none;}</style><div id=\"sk-container-id-5\" class=\"sk-top-container\"><div class=\"sk-text-repr-fallback\"><pre>GradientBoostingRegressor(learning_rate=1, n_estimators=3)</pre><b>In a Jupyter environment, please rerun this cell to show the HTML representation or trust the notebook. <br />On GitHub, the HTML representation is unable to render, please try loading this page with nbviewer.org.</b></div><div class=\"sk-container\" hidden><div class=\"sk-item\"><div class=\"sk-estimator sk-toggleable\"><input class=\"sk-toggleable__control sk-hidden--visually\" id=\"sk-estimator-id-5\" type=\"checkbox\" checked><label for=\"sk-estimator-id-5\" class=\"sk-toggleable__label sk-toggleable__label-arrow\">GradientBoostingRegressor</label><div class=\"sk-toggleable__content\"><pre>GradientBoostingRegressor(learning_rate=1, n_estimators=3)</pre></div></div></div></div></div>"
      ],
      "text/plain": [
       "GradientBoostingRegressor(learning_rate=1, n_estimators=3)"
      ]
     },
     "execution_count": 19,
     "metadata": {},
     "output_type": "execute_result"
    }
   ],
   "source": [
    "from sklearn.ensemble import GradientBoostingRegressor\n",
    "# 학습률 : 각 트리의 기여 정도(default = 1), 낮게 설정하면 훈련데이터를 학습시키기 위해 많은 기여를하게 된다. 미분값이 작거나 학습초기면 학습률 크게 쓰고, 학습막바지거나 미분값이 크면 학습률 작게씀\n",
    "gbr1 = GradientBoostingRegressor(max_depth=3, n_estimators=3, learning_rate=1)\n",
    "gbr1.fit(x_,y_)"
   ]
  },
  {
   "cell_type": "code",
   "execution_count": 20,
   "id": "e3d09d4d-a373-4d64-bb07-76329f0800b4",
   "metadata": {},
   "outputs": [
    {
     "data": {
      "text/html": [
       "<style>#sk-container-id-6 {color: black;background-color: white;}#sk-container-id-6 pre{padding: 0;}#sk-container-id-6 div.sk-toggleable {background-color: white;}#sk-container-id-6 label.sk-toggleable__label {cursor: pointer;display: block;width: 100%;margin-bottom: 0;padding: 0.3em;box-sizing: border-box;text-align: center;}#sk-container-id-6 label.sk-toggleable__label-arrow:before {content: \"▸\";float: left;margin-right: 0.25em;color: #696969;}#sk-container-id-6 label.sk-toggleable__label-arrow:hover:before {color: black;}#sk-container-id-6 div.sk-estimator:hover label.sk-toggleable__label-arrow:before {color: black;}#sk-container-id-6 div.sk-toggleable__content {max-height: 0;max-width: 0;overflow: hidden;text-align: left;background-color: #f0f8ff;}#sk-container-id-6 div.sk-toggleable__content pre {margin: 0.2em;color: black;border-radius: 0.25em;background-color: #f0f8ff;}#sk-container-id-6 input.sk-toggleable__control:checked~div.sk-toggleable__content {max-height: 200px;max-width: 100%;overflow: auto;}#sk-container-id-6 input.sk-toggleable__control:checked~label.sk-toggleable__label-arrow:before {content: \"▾\";}#sk-container-id-6 div.sk-estimator input.sk-toggleable__control:checked~label.sk-toggleable__label {background-color: #d4ebff;}#sk-container-id-6 div.sk-label input.sk-toggleable__control:checked~label.sk-toggleable__label {background-color: #d4ebff;}#sk-container-id-6 input.sk-hidden--visually {border: 0;clip: rect(1px 1px 1px 1px);clip: rect(1px, 1px, 1px, 1px);height: 1px;margin: -1px;overflow: hidden;padding: 0;position: absolute;width: 1px;}#sk-container-id-6 div.sk-estimator {font-family: monospace;background-color: #f0f8ff;border: 1px dotted black;border-radius: 0.25em;box-sizing: border-box;margin-bottom: 0.5em;}#sk-container-id-6 div.sk-estimator:hover {background-color: #d4ebff;}#sk-container-id-6 div.sk-parallel-item::after {content: \"\";width: 100%;border-bottom: 1px solid gray;flex-grow: 1;}#sk-container-id-6 div.sk-label:hover label.sk-toggleable__label {background-color: #d4ebff;}#sk-container-id-6 div.sk-serial::before {content: \"\";position: absolute;border-left: 1px solid gray;box-sizing: border-box;top: 0;bottom: 0;left: 50%;z-index: 0;}#sk-container-id-6 div.sk-serial {display: flex;flex-direction: column;align-items: center;background-color: white;padding-right: 0.2em;padding-left: 0.2em;position: relative;}#sk-container-id-6 div.sk-item {position: relative;z-index: 1;}#sk-container-id-6 div.sk-parallel {display: flex;align-items: stretch;justify-content: center;background-color: white;position: relative;}#sk-container-id-6 div.sk-item::before, #sk-container-id-6 div.sk-parallel-item::before {content: \"\";position: absolute;border-left: 1px solid gray;box-sizing: border-box;top: 0;bottom: 0;left: 50%;z-index: -1;}#sk-container-id-6 div.sk-parallel-item {display: flex;flex-direction: column;z-index: 1;position: relative;background-color: white;}#sk-container-id-6 div.sk-parallel-item:first-child::after {align-self: flex-end;width: 50%;}#sk-container-id-6 div.sk-parallel-item:last-child::after {align-self: flex-start;width: 50%;}#sk-container-id-6 div.sk-parallel-item:only-child::after {width: 0;}#sk-container-id-6 div.sk-dashed-wrapped {border: 1px dashed gray;margin: 0 0.4em 0.5em 0.4em;box-sizing: border-box;padding-bottom: 0.4em;background-color: white;}#sk-container-id-6 div.sk-label label {font-family: monospace;font-weight: bold;display: inline-block;line-height: 1.2em;}#sk-container-id-6 div.sk-label-container {text-align: center;}#sk-container-id-6 div.sk-container {/* jupyter's `normalize.less` sets `[hidden] { display: none; }` but bootstrap.min.css set `[hidden] { display: none !important; }` so we also need the `!important` here to be able to override the default hidden behavior on the sphinx rendered scikit-learn.org. See: https://github.com/scikit-learn/scikit-learn/issues/21755 */display: inline-block !important;position: relative;}#sk-container-id-6 div.sk-text-repr-fallback {display: none;}</style><div id=\"sk-container-id-6\" class=\"sk-top-container\"><div class=\"sk-text-repr-fallback\"><pre>GradientBoostingRegressor(learning_rate=0.05, n_estimators=500)</pre><b>In a Jupyter environment, please rerun this cell to show the HTML representation or trust the notebook. <br />On GitHub, the HTML representation is unable to render, please try loading this page with nbviewer.org.</b></div><div class=\"sk-container\" hidden><div class=\"sk-item\"><div class=\"sk-estimator sk-toggleable\"><input class=\"sk-toggleable__control sk-hidden--visually\" id=\"sk-estimator-id-6\" type=\"checkbox\" checked><label for=\"sk-estimator-id-6\" class=\"sk-toggleable__label sk-toggleable__label-arrow\">GradientBoostingRegressor</label><div class=\"sk-toggleable__content\"><pre>GradientBoostingRegressor(learning_rate=0.05, n_estimators=500)</pre></div></div></div></div></div>"
      ],
      "text/plain": [
       "GradientBoostingRegressor(learning_rate=0.05, n_estimators=500)"
      ]
     },
     "execution_count": 20,
     "metadata": {},
     "output_type": "execute_result"
    }
   ],
   "source": [
    "# n_iter_no_change : 조기종료 관련 지정된 횟수의 반복동안 점수향상이 없으면 학습 중단\n",
    "gbr2 = GradientBoostingRegressor(max_depth=3, n_estimators=500, learning_rate=0.05)\n",
    "gbr2.fit(x_,y_)"
   ]
  },
  {
   "cell_type": "code",
   "execution_count": 85,
   "id": "32b7187d-a1e7-4265-8790-935119c42642",
   "metadata": {},
   "outputs": [
    {
     "name": "stdout",
     "output_type": "stream",
     "text": [
      "500\n"
     ]
    }
   ],
   "source": [
    "print(gbr2.n_estimators_)"
   ]
  },
  {
   "cell_type": "code",
   "execution_count": 21,
   "id": "3518a0c5-76cd-4ea2-a386-8045ed0830ed",
   "metadata": {},
   "outputs": [
    {
     "data": {
      "image/png": "[encoded data removed]",
      "text/plain": [
       "<Figure size 1100x400 with 1 Axes>"
      ]
     },
     "metadata": {},
     "output_type": "display_data"
    }
   ],
   "source": [
    "plt.figure(figsize=(11, 4))\n",
    "\n",
    "plt.subplot(1, 2, 1)\n",
    "plot_predictions([gbr1], x_, y_, axes=[-0.5, 0.5, -0.2, 0.8], style=\"r-\",\n",
    "                 label=\"앙상블예측\")\n",
    "plt.ylabel(\"$y$  \", rotation=0)\n",
    "plt.title(f'learning_rate={gbr1.learning_rate},n_estimators={gbr1.n_estimators_}')\n",
    "plt.show()"
   ]
  },
  {
   "cell_type": "code",
   "execution_count": 22,
   "id": "82036fed-f1ad-4f14-a2f0-5b7c304dd026",
   "metadata": {},
   "outputs": [
    {
     "data": {
      "image/png": "[encoded data removed]",
      "text/plain": [
       "<Figure size 1100x400 with 1 Axes>"
      ]
     },
     "metadata": {},
     "output_type": "display_data"
    }
   ],
   "source": [
    "plt.figure(figsize=(11, 4))\n",
    "\n",
    "plt.subplot(1, 2, 1)\n",
    "plot_predictions([gbr2], x_, y_, axes=[-0.5, 0.5, -0.2, 0.8], style=\"r-\",\n",
    "                 label=\"앙상블예측\")\n",
    "plt.ylabel(\"$y$  \", rotation=0)\n",
    "plt.title(f'learning_rate={gbr2.learning_rate},n_estimators={gbr2.n_estimators_}')\n",
    "plt.show()"
   ]
  },
  {
   "cell_type": "markdown",
   "id": "3acd4485-296d-426e-a43e-8e0615b65605",
   "metadata": {},
   "source": [
    "#### GradientBoostingRegressor"
   ]
  },
  {
   "cell_type": "code",
   "execution_count": 23,
   "id": "4f631ae7-e08e-4283-984f-358e96f2a144",
   "metadata": {},
   "outputs": [
    {
     "data": {
      "text/html": [
       "<style>#sk-container-id-7 {color: black;background-color: white;}#sk-container-id-7 pre{padding: 0;}#sk-container-id-7 div.sk-toggleable {background-color: white;}#sk-container-id-7 label.sk-toggleable__label {cursor: pointer;display: block;width: 100%;margin-bottom: 0;padding: 0.3em;box-sizing: border-box;text-align: center;}#sk-container-id-7 label.sk-toggleable__label-arrow:before {content: \"▸\";float: left;margin-right: 0.25em;color: #696969;}#sk-container-id-7 label.sk-toggleable__label-arrow:hover:before {color: black;}#sk-container-id-7 div.sk-estimator:hover label.sk-toggleable__label-arrow:before {color: black;}#sk-container-id-7 div.sk-toggleable__content {max-height: 0;max-width: 0;overflow: hidden;text-align: left;background-color: #f0f8ff;}#sk-container-id-7 div.sk-toggleable__content pre {margin: 0.2em;color: black;border-radius: 0.25em;background-color: #f0f8ff;}#sk-container-id-7 input.sk-toggleable__control:checked~div.sk-toggleable__content {max-height: 200px;max-width: 100%;overflow: auto;}#sk-container-id-7 input.sk-toggleable__control:checked~label.sk-toggleable__label-arrow:before {content: \"▾\";}#sk-container-id-7 div.sk-estimator input.sk-toggleable__control:checked~label.sk-toggleable__label {background-color: #d4ebff;}#sk-container-id-7 div.sk-label input.sk-toggleable__control:checked~label.sk-toggleable__label {background-color: #d4ebff;}#sk-container-id-7 input.sk-hidden--visually {border: 0;clip: rect(1px 1px 1px 1px);clip: rect(1px, 1px, 1px, 1px);height: 1px;margin: -1px;overflow: hidden;padding: 0;position: absolute;width: 1px;}#sk-container-id-7 div.sk-estimator {font-family: monospace;background-color: #f0f8ff;border: 1px dotted black;border-radius: 0.25em;box-sizing: border-box;margin-bottom: 0.5em;}#sk-container-id-7 div.sk-estimator:hover {background-color: #d4ebff;}#sk-container-id-7 div.sk-parallel-item::after {content: \"\";width: 100%;border-bottom: 1px solid gray;flex-grow: 1;}#sk-container-id-7 div.sk-label:hover label.sk-toggleable__label {background-color: #d4ebff;}#sk-container-id-7 div.sk-serial::before {content: \"\";position: absolute;border-left: 1px solid gray;box-sizing: border-box;top: 0;bottom: 0;left: 50%;z-index: 0;}#sk-container-id-7 div.sk-serial {display: flex;flex-direction: column;align-items: center;background-color: white;padding-right: 0.2em;padding-left: 0.2em;position: relative;}#sk-container-id-7 div.sk-item {position: relative;z-index: 1;}#sk-container-id-7 div.sk-parallel {display: flex;align-items: stretch;justify-content: center;background-color: white;position: relative;}#sk-container-id-7 div.sk-item::before, #sk-container-id-7 div.sk-parallel-item::before {content: \"\";position: absolute;border-left: 1px solid gray;box-sizing: border-box;top: 0;bottom: 0;left: 50%;z-index: -1;}#sk-container-id-7 div.sk-parallel-item {display: flex;flex-direction: column;z-index: 1;position: relative;background-color: white;}#sk-container-id-7 div.sk-parallel-item:first-child::after {align-self: flex-end;width: 50%;}#sk-container-id-7 div.sk-parallel-item:last-child::after {align-self: flex-start;width: 50%;}#sk-container-id-7 div.sk-parallel-item:only-child::after {width: 0;}#sk-container-id-7 div.sk-dashed-wrapped {border: 1px dashed gray;margin: 0 0.4em 0.5em 0.4em;box-sizing: border-box;padding-bottom: 0.4em;background-color: white;}#sk-container-id-7 div.sk-label label {font-family: monospace;font-weight: bold;display: inline-block;line-height: 1.2em;}#sk-container-id-7 div.sk-label-container {text-align: center;}#sk-container-id-7 div.sk-container {/* jupyter's `normalize.less` sets `[hidden] { display: none; }` but bootstrap.min.css set `[hidden] { display: none !important; }` so we also need the `!important` here to be able to override the default hidden behavior on the sphinx rendered scikit-learn.org. See: https://github.com/scikit-learn/scikit-learn/issues/21755 */display: inline-block !important;position: relative;}#sk-container-id-7 div.sk-text-repr-fallback {display: none;}</style><div id=\"sk-container-id-7\" class=\"sk-top-container\"><div class=\"sk-text-repr-fallback\"><pre>GradientBoostingRegressor(learning_rate=0.05, n_estimators=300, random_state=10)</pre><b>In a Jupyter environment, please rerun this cell to show the HTML representation or trust the notebook. <br />On GitHub, the HTML representation is unable to render, please try loading this page with nbviewer.org.</b></div><div class=\"sk-container\" hidden><div class=\"sk-item\"><div class=\"sk-estimator sk-toggleable\"><input class=\"sk-toggleable__control sk-hidden--visually\" id=\"sk-estimator-id-7\" type=\"checkbox\" checked><label for=\"sk-estimator-id-7\" class=\"sk-toggleable__label sk-toggleable__label-arrow\">GradientBoostingRegressor</label><div class=\"sk-toggleable__content\"><pre>GradientBoostingRegressor(learning_rate=0.05, n_estimators=300, random_state=10)</pre></div></div></div></div></div>"
      ],
      "text/plain": [
       "GradientBoostingRegressor(learning_rate=0.05, n_estimators=300, random_state=10)"
      ]
     },
     "execution_count": 23,
     "metadata": {},
     "output_type": "execute_result"
    }
   ],
   "source": [
    "gbr = GradientBoostingRegressor(\n",
    "    max_depth=3, n_estimators=300, learning_rate=0.05,random_state=10)#n_iter_no_change = 10\n",
    "\n",
    "gbr.fit(x_train,y_train)"
   ]
  },
  {
   "cell_type": "code",
   "execution_count": 24,
   "id": "ff51fe66-b190-496f-a783-15673f7983e0",
   "metadata": {},
   "outputs": [
    {
     "name": "stdout",
     "output_type": "stream",
     "text": [
      "RMSE:3.1413591808662424\n",
      "R2-score:0.900\n"
     ]
    }
   ],
   "source": [
    "y_hat = gbr.predict(x_test)\n",
    "print(f'RMSE:{np.sqrt(mean_squared_error(y_test, y_hat))}')\n",
    "print(f'R2-score:{r2_score(y_test, y_hat):.3f}')"
   ]
  },
  {
   "cell_type": "markdown",
   "id": "10f46ba1-a892-47e8-83b4-73ceb3ae3576",
   "metadata": {},
   "source": [
    "### XGBOOST"
   ]
  },
  {
   "cell_type": "code",
   "execution_count": 90,
   "id": "7243e64a-c2f6-4125-8690-3351a1e6ec2d",
   "metadata": {},
   "outputs": [
    {
     "name": "stdout",
     "output_type": "stream",
     "text": [
      "Requirement already satisfied: xgboost in c:\\users\\user\\anaconda3\\lib\\site-packages (2.0.3)\n",
      "Requirement already satisfied: numpy in c:\\users\\user\\anaconda3\\lib\\site-packages (from xgboost) (1.26.4)\n",
      "Requirement already satisfied: scipy in c:\\users\\user\\anaconda3\\lib\\site-packages (from xgboost) (1.11.4)\n"
     ]
    }
   ],
   "source": [
    "!pip install xgboost"
   ]
  },
  {
   "cell_type": "markdown",
   "id": "c29d8a81-e6ba-40a7-9711-0976394ffff2",
   "metadata": {},
   "source": [
    "#### 파이썬 래퍼 XGBOOST"
   ]
  },
  {
   "cell_type": "markdown",
   "id": "5bb1f7cc-6c87-4eea-8930-69bcbbf124ca",
   "metadata": {},
   "source": [
    "- 패키지 로딩"
   ]
  },
  {
   "cell_type": "code",
   "execution_count": 32,
   "id": "f4b02aa6-a7d6-467f-98ef-115ce389242b",
   "metadata": {},
   "outputs": [],
   "source": [
    "import xgboost as xgb"
   ]
  },
  {
   "cell_type": "markdown",
   "id": "00e77b88-bf64-497d-ad79-c73cfb620e5f",
   "metadata": {},
   "source": [
    "- 학습데이터에서 검증데이터 분리하기"
   ]
  },
  {
   "cell_type": "code",
   "execution_count": 33,
   "id": "8abc9d03-229d-48b5-873a-8bdf657813bf",
   "metadata": {},
   "outputs": [],
   "source": [
    "# x_train, y_train 을 분리해서 90은 학습 10은 검증용으로 사용\n",
    "x_train, x_val, y_train, y_val = train_test_split(x_train,y_train, train_size=0.9, random_state=10)"
   ]
  },
  {
   "cell_type": "markdown",
   "id": "bb8f3116-1360-4b77-8047-1b61536c6821",
   "metadata": {},
   "source": [
    "- DMatrix : XGBOOST 전용 데이터 객체"
   ]
  },
  {
   "cell_type": "code",
   "execution_count": 34,
   "id": "5df98145-0520-4c82-83c1-f1e298428521",
   "metadata": {},
   "outputs": [],
   "source": [
    "feature_names = df.drop('MEDV',axis = 1).columns\n",
    "dtrain = xgb.DMatrix(x_train,y_train,feature_names=list(feature_names))\n",
    "dtest = xgb.DMatrix(x_test,y_test,feature_names=list(feature_names))\n",
    "dval = xgb.DMatrix(x_val,y_val,feature_names=list(feature_names))"
   ]
  },
  {
   "cell_type": "code",
   "execution_count": null,
   "id": "d0b882e9-e766-47be-9c3e-974669ead901",
   "metadata": {},
   "outputs": [],
   "source": [
    "- 모델 생성 및 학습"
   ]
  },
  {
   "cell_type": "code",
   "execution_count": 35,
   "id": "2a7c9240-ab5b-43f4-aa1a-451b40b62450",
   "metadata": {},
   "outputs": [],
   "source": [
    "params = {\n",
    "    'eval_matric':'rmse', # 성능평가지표\n",
    "    'objective' : 'reg:squarederror', # 손실함수 지정\n",
    "    'max_depth':3, # 의사결정나무의 깊이\n",
    "    'eta':0.1 # 학습률\n",
    "}"
   ]
  },
  {
   "cell_type": "code",
   "execution_count": 36,
   "id": "533ef703-6531-46f8-bdcd-5bef54768d92",
   "metadata": {},
   "outputs": [
    {
     "name": "stdout",
     "output_type": "stream",
     "text": [
      "[0]\ttrain-rmse:8.01601\teval-rmse:10.35316\n",
      "[1]\ttrain-rmse:7.41144\teval-rmse:9.62242\n",
      "[2]\ttrain-rmse:6.88883\teval-rmse:8.96965\n",
      "[3]\ttrain-rmse:6.39847\teval-rmse:8.36329\n",
      "[4]\ttrain-rmse:5.96030\teval-rmse:7.80427\n",
      "[5]\ttrain-rmse:5.56733\teval-rmse:7.37520\n",
      "[6]\ttrain-rmse:5.21572\teval-rmse:6.94055\n",
      "[7]\ttrain-rmse:4.90213\teval-rmse:6.64678\n",
      "[8]\ttrain-rmse:4.59788\teval-rmse:6.35684\n",
      "[9]\ttrain-rmse:4.33480\teval-rmse:6.06852\n",
      "[10]\ttrain-rmse:4.10159\teval-rmse:5.85735\n",
      "[11]\ttrain-rmse:3.87565\teval-rmse:5.64415\n",
      "[12]\ttrain-rmse:3.68451\teval-rmse:5.41690\n",
      "[13]\ttrain-rmse:3.51697\teval-rmse:5.25583\n",
      "[14]\ttrain-rmse:3.36356\teval-rmse:5.10084\n",
      "[15]\ttrain-rmse:3.23438\teval-rmse:4.98831\n",
      "[16]\ttrain-rmse:3.10935\teval-rmse:4.90239\n",
      "[17]\ttrain-rmse:3.01166\teval-rmse:4.79128\n",
      "[18]\ttrain-rmse:2.90303\teval-rmse:4.65198\n",
      "[19]\ttrain-rmse:2.81934\teval-rmse:4.59764\n",
      "[20]\ttrain-rmse:2.73682\teval-rmse:4.48545\n",
      "[21]\ttrain-rmse:2.66727\teval-rmse:4.41433\n",
      "[22]\ttrain-rmse:2.59532\teval-rmse:4.35182\n",
      "[23]\ttrain-rmse:2.52794\teval-rmse:4.30767\n",
      "[24]\ttrain-rmse:2.47219\teval-rmse:4.26350\n",
      "[25]\ttrain-rmse:2.41963\teval-rmse:4.22888\n",
      "[26]\ttrain-rmse:2.37485\teval-rmse:4.17451\n",
      "[27]\ttrain-rmse:2.33401\teval-rmse:4.14796\n",
      "[28]\ttrain-rmse:2.29178\teval-rmse:4.13744\n",
      "[29]\ttrain-rmse:2.24353\teval-rmse:4.03001\n",
      "[30]\ttrain-rmse:2.20872\teval-rmse:3.96856\n",
      "[31]\ttrain-rmse:2.17282\teval-rmse:3.99236\n",
      "[32]\ttrain-rmse:2.13250\teval-rmse:3.91004\n",
      "[33]\ttrain-rmse:2.10515\teval-rmse:3.89549\n",
      "[34]\ttrain-rmse:2.07134\teval-rmse:3.88939\n",
      "[35]\ttrain-rmse:2.04521\teval-rmse:3.84198\n",
      "[36]\ttrain-rmse:2.00706\teval-rmse:3.78730\n",
      "[37]\ttrain-rmse:1.98475\teval-rmse:3.76104\n",
      "[38]\ttrain-rmse:1.95733\teval-rmse:3.75681\n",
      "[39]\ttrain-rmse:1.93707\teval-rmse:3.75832\n",
      "[40]\ttrain-rmse:1.91501\teval-rmse:3.75384\n",
      "[41]\ttrain-rmse:1.89692\teval-rmse:3.75318\n",
      "[42]\ttrain-rmse:1.87427\teval-rmse:3.70925\n",
      "[43]\ttrain-rmse:1.85772\teval-rmse:3.70911\n",
      "[44]\ttrain-rmse:1.84095\teval-rmse:3.70331\n",
      "[45]\ttrain-rmse:1.81498\teval-rmse:3.65962\n",
      "[46]\ttrain-rmse:1.79790\teval-rmse:3.65752\n",
      "[47]\ttrain-rmse:1.78411\teval-rmse:3.65850\n",
      "[48]\ttrain-rmse:1.76992\teval-rmse:3.63588\n",
      "[49]\ttrain-rmse:1.75289\teval-rmse:3.62736\n",
      "[50]\ttrain-rmse:1.74280\teval-rmse:3.61256\n",
      "[51]\ttrain-rmse:1.72709\teval-rmse:3.60223\n",
      "[52]\ttrain-rmse:1.71486\teval-rmse:3.60453\n",
      "[53]\ttrain-rmse:1.70291\teval-rmse:3.60472\n",
      "[54]\ttrain-rmse:1.68226\teval-rmse:3.59610\n",
      "[55]\ttrain-rmse:1.67351\teval-rmse:3.60398\n",
      "[56]\ttrain-rmse:1.66104\teval-rmse:3.61464\n",
      "[57]\ttrain-rmse:1.64601\teval-rmse:3.61178\n",
      "[58]\ttrain-rmse:1.63844\teval-rmse:3.60008\n",
      "[59]\ttrain-rmse:1.62717\teval-rmse:3.60805\n",
      "[60]\ttrain-rmse:1.60954\teval-rmse:3.59886\n",
      "[61]\ttrain-rmse:1.60205\teval-rmse:3.60008\n",
      "[62]\ttrain-rmse:1.59299\teval-rmse:3.60492\n",
      "[63]\ttrain-rmse:1.58580\teval-rmse:3.60182\n",
      "[64]\ttrain-rmse:1.57297\teval-rmse:3.59460\n",
      "[65]\ttrain-rmse:1.55710\teval-rmse:3.60393\n",
      "[66]\ttrain-rmse:1.54298\teval-rmse:3.61319\n",
      "[67]\ttrain-rmse:1.53157\teval-rmse:3.59601\n",
      "[68]\ttrain-rmse:1.52556\teval-rmse:3.59651\n",
      "[69]\ttrain-rmse:1.51389\teval-rmse:3.59569\n",
      "[70]\ttrain-rmse:1.50441\teval-rmse:3.58326\n",
      "[71]\ttrain-rmse:1.49654\teval-rmse:3.58136\n",
      "[72]\ttrain-rmse:1.48939\teval-rmse:3.58189\n",
      "[73]\ttrain-rmse:1.47191\teval-rmse:3.57489\n",
      "[74]\ttrain-rmse:1.45785\teval-rmse:3.56336\n",
      "[75]\ttrain-rmse:1.45407\teval-rmse:3.56464\n",
      "[76]\ttrain-rmse:1.44559\teval-rmse:3.57572\n",
      "[77]\ttrain-rmse:1.42834\teval-rmse:3.58415\n",
      "[78]\ttrain-rmse:1.42021\teval-rmse:3.57047\n",
      "[79]\ttrain-rmse:1.41551\teval-rmse:3.57150\n",
      "[80]\ttrain-rmse:1.40418\teval-rmse:3.56333\n",
      "[81]\ttrain-rmse:1.39047\teval-rmse:3.56703\n",
      "[82]\ttrain-rmse:1.38341\teval-rmse:3.55457\n",
      "[83]\ttrain-rmse:1.37668\teval-rmse:3.54664\n",
      "[84]\ttrain-rmse:1.37022\teval-rmse:3.53965\n",
      "[85]\ttrain-rmse:1.35988\teval-rmse:3.54812\n",
      "[86]\ttrain-rmse:1.35044\teval-rmse:3.54287\n",
      "[87]\ttrain-rmse:1.33870\teval-rmse:3.54514\n",
      "[88]\ttrain-rmse:1.32488\teval-rmse:3.54264\n",
      "[89]\ttrain-rmse:1.31827\teval-rmse:3.55181\n",
      "[90]\ttrain-rmse:1.30175\teval-rmse:3.54906\n",
      "[91]\ttrain-rmse:1.29223\teval-rmse:3.54545\n",
      "[92]\ttrain-rmse:1.27732\teval-rmse:3.54205\n",
      "[93]\ttrain-rmse:1.27229\teval-rmse:3.53966\n"
     ]
    }
   ],
   "source": [
    "xgb_model = xgb.train(params=params, dtrain=dtrain, num_boost_round=500, early_stopping_rounds=10, evals = [(dtrain, 'train'), (dval, 'eval')])\n",
    "\n",
    "dtrain = xgb.DMatrix(x_train, y_train)\n",
    "dtest = xgb.DMatrix(x_test, y_test)\n",
    "dval = xgb.DMatrix(x_val, y_val)"
   ]
  },
  {
   "cell_type": "markdown",
   "id": "9ba3b402-d694-410b-ac74-ef9e53471d49",
   "metadata": {},
   "source": [
    "- 모델평가"
   ]
  },
  {
   "cell_type": "code",
   "execution_count": 40,
   "id": "b777b6b9-f672-43e1-a923-74fc58cf86fb",
   "metadata": {},
   "outputs": [
    {
     "ename": "ValueError",
     "evalue": "training data did not have the following fields: CRIM, ZN, INDUS, CHAS, NOX, RM, AGE, DIS, RAD, TAX, PTRATIO, B, LSTAT",
     "output_type": "error",
     "traceback": [
      "\u001b[1;31m---------------------------------------------------------------------------\u001b[0m",
      "\u001b[1;31mValueError\u001b[0m                                Traceback (most recent call last)",
      "Cell \u001b[1;32mIn[40], line 1\u001b[0m\n\u001b[1;32m----> 1\u001b[0m y_hat \u001b[38;5;241m=\u001b[39m xgb_model\u001b[38;5;241m.\u001b[39mpredict(dtest)\n\u001b[0;32m      2\u001b[0m \u001b[38;5;28mprint\u001b[39m(\u001b[38;5;124mf\u001b[39m\u001b[38;5;124m'\u001b[39m\u001b[38;5;124mRMSE:\u001b[39m\u001b[38;5;132;01m{\u001b[39;00mnp\u001b[38;5;241m.\u001b[39msqrt(mean_squared_error(y_test,\u001b[38;5;250m \u001b[39my_hat))\u001b[38;5;132;01m}\u001b[39;00m\u001b[38;5;124m'\u001b[39m)\n\u001b[0;32m      3\u001b[0m \u001b[38;5;28mprint\u001b[39m(\u001b[38;5;124mf\u001b[39m\u001b[38;5;124m'\u001b[39m\u001b[38;5;124mR2-score:\u001b[39m\u001b[38;5;132;01m{\u001b[39;00mr2_score(y_test,\u001b[38;5;250m \u001b[39my_hat)\u001b[38;5;132;01m:\u001b[39;00m\u001b[38;5;124m.3f\u001b[39m\u001b[38;5;132;01m}\u001b[39;00m\u001b[38;5;124m'\u001b[39m)\n",
      "File \u001b[1;32m~\\anaconda3\\Lib\\site-packages\\xgboost\\core.py:2272\u001b[0m, in \u001b[0;36mBooster.predict\u001b[1;34m(self, data, output_margin, pred_leaf, pred_contribs, approx_contribs, pred_interactions, validate_features, training, iteration_range, strict_shape)\u001b[0m\n\u001b[0;32m   2270\u001b[0m \u001b[38;5;28;01mif\u001b[39;00m validate_features:\n\u001b[0;32m   2271\u001b[0m     fn \u001b[38;5;241m=\u001b[39m data\u001b[38;5;241m.\u001b[39mfeature_names\n\u001b[1;32m-> 2272\u001b[0m     \u001b[38;5;28mself\u001b[39m\u001b[38;5;241m.\u001b[39m_validate_features(fn)\n\u001b[0;32m   2273\u001b[0m args \u001b[38;5;241m=\u001b[39m {\n\u001b[0;32m   2274\u001b[0m     \u001b[38;5;124m\"\u001b[39m\u001b[38;5;124mtype\u001b[39m\u001b[38;5;124m\"\u001b[39m: \u001b[38;5;241m0\u001b[39m,\n\u001b[0;32m   2275\u001b[0m     \u001b[38;5;124m\"\u001b[39m\u001b[38;5;124mtraining\u001b[39m\u001b[38;5;124m\"\u001b[39m: training,\n\u001b[1;32m   (...)\u001b[0m\n\u001b[0;32m   2278\u001b[0m     \u001b[38;5;124m\"\u001b[39m\u001b[38;5;124mstrict_shape\u001b[39m\u001b[38;5;124m\"\u001b[39m: strict_shape,\n\u001b[0;32m   2279\u001b[0m }\n\u001b[0;32m   2281\u001b[0m \u001b[38;5;28;01mdef\u001b[39;00m \u001b[38;5;21massign_type\u001b[39m(t: \u001b[38;5;28mint\u001b[39m) \u001b[38;5;241m-\u001b[39m\u001b[38;5;241m>\u001b[39m \u001b[38;5;28;01mNone\u001b[39;00m:\n",
      "File \u001b[1;32m~\\anaconda3\\Lib\\site-packages\\xgboost\\core.py:2942\u001b[0m, in \u001b[0;36mBooster._validate_features\u001b[1;34m(self, feature_names)\u001b[0m\n\u001b[0;32m   2939\u001b[0m     \u001b[38;5;28;01mreturn\u001b[39;00m\n\u001b[0;32m   2941\u001b[0m \u001b[38;5;28;01mif\u001b[39;00m feature_names \u001b[38;5;129;01mis\u001b[39;00m \u001b[38;5;28;01mNone\u001b[39;00m \u001b[38;5;129;01mand\u001b[39;00m \u001b[38;5;28mself\u001b[39m\u001b[38;5;241m.\u001b[39mfeature_names \u001b[38;5;129;01mis\u001b[39;00m \u001b[38;5;129;01mnot\u001b[39;00m \u001b[38;5;28;01mNone\u001b[39;00m:\n\u001b[1;32m-> 2942\u001b[0m     \u001b[38;5;28;01mraise\u001b[39;00m \u001b[38;5;167;01mValueError\u001b[39;00m(\n\u001b[0;32m   2943\u001b[0m         \u001b[38;5;124m\"\u001b[39m\u001b[38;5;124mtraining data did not have the following fields: \u001b[39m\u001b[38;5;124m\"\u001b[39m\n\u001b[0;32m   2944\u001b[0m         \u001b[38;5;241m+\u001b[39m \u001b[38;5;124m\"\u001b[39m\u001b[38;5;124m, \u001b[39m\u001b[38;5;124m\"\u001b[39m\u001b[38;5;241m.\u001b[39mjoin(\u001b[38;5;28mself\u001b[39m\u001b[38;5;241m.\u001b[39mfeature_names)\n\u001b[0;32m   2945\u001b[0m     )\n\u001b[0;32m   2947\u001b[0m \u001b[38;5;28;01mif\u001b[39;00m \u001b[38;5;28mself\u001b[39m\u001b[38;5;241m.\u001b[39mfeature_names \u001b[38;5;241m!=\u001b[39m feature_names:\n\u001b[0;32m   2948\u001b[0m     dat_missing \u001b[38;5;241m=\u001b[39m \u001b[38;5;28mset\u001b[39m(cast(FeatureNames, \u001b[38;5;28mself\u001b[39m\u001b[38;5;241m.\u001b[39mfeature_names)) \u001b[38;5;241m-\u001b[39m \u001b[38;5;28mset\u001b[39m(\n\u001b[0;32m   2949\u001b[0m         cast(FeatureNames, feature_names)\n\u001b[0;32m   2950\u001b[0m     )\n",
      "\u001b[1;31mValueError\u001b[0m: training data did not have the following fields: CRIM, ZN, INDUS, CHAS, NOX, RM, AGE, DIS, RAD, TAX, PTRATIO, B, LSTAT"
     ]
    }
   ],
   "source": [
    "y_hat = xgb_model.predict(dtest)\n",
    "print(f'RMSE:{np.sqrt(mean_squared_error(y_test, y_hat))}')\n",
    "print(f'R2-score:{r2_score(y_test, y_hat):.3f}')"
   ]
  },
  {
   "cell_type": "markdown",
   "id": "4a8c4774-1cfe-41f1-9b5e-0328ec701403",
   "metadata": {},
   "source": [
    "- Feature Importance"
   ]
  },
  {
   "cell_type": "code",
   "execution_count": 38,
   "id": "1695f266-1cb9-480e-9727-cb6d0ae8de49",
   "metadata": {},
   "outputs": [
    {
     "data": {
      "image/png": "[encoded data removed]",
      "text/plain": [
       "<Figure size 640x480 with 1 Axes>"
      ]
     },
     "metadata": {},
     "output_type": "display_data"
    }
   ],
   "source": [
    "import matplotlib.pyplot as plt\n",
    "\n",
    "xgb.plot_importance(xgb_model)\n",
    "plt.show()"
   ]
  },
  {
   "cell_type": "markdown",
   "id": "eeb93177-b4d1-41fe-a18c-860bababbd63",
   "metadata": {},
   "source": [
    "#### 사이킷 런 래퍼 XGBOOST"
   ]
  },
  {
   "cell_type": "code",
   "execution_count": 63,
   "id": "21ac08c5-c5e3-4b6a-bed1-1d8afb624ca1",
   "metadata": {},
   "outputs": [
    {
     "name": "stdout",
     "output_type": "stream",
     "text": [
      "[0]\tvalidation_0-rmse:8.18581\tvalidation_1-rmse:10.00711\n",
      "[1]\tvalidation_0-rmse:7.49476\tvalidation_1-rmse:9.29292\n",
      "[2]\tvalidation_0-rmse:6.86785\tvalidation_1-rmse:8.64739\n",
      "[3]\tvalidation_0-rmse:6.30309\tvalidation_1-rmse:8.10198\n",
      "[4]\tvalidation_0-rmse:5.79392\tvalidation_1-rmse:7.62306\n",
      "[5]\tvalidation_0-rmse:5.32268\tvalidation_1-rmse:7.14142\n",
      "[6]\tvalidation_0-rmse:4.90760\tvalidation_1-rmse:6.71163\n",
      "[7]\tvalidation_0-rmse:4.52095\tvalidation_1-rmse:6.39759\n",
      "[8]\tvalidation_0-rmse:4.17011\tvalidation_1-rmse:6.07919\n",
      "[9]\tvalidation_0-rmse:3.84757\tvalidation_1-rmse:5.76036\n",
      "[10]\tvalidation_0-rmse:3.55826\tvalidation_1-rmse:5.48578\n",
      "[11]\tvalidation_0-rmse:3.29239\tvalidation_1-rmse:5.23513\n",
      "[12]\tvalidation_0-rmse:3.05031\tvalidation_1-rmse:5.01003\n",
      "[13]\tvalidation_0-rmse:2.83194\tvalidation_1-rmse:4.81586\n",
      "[14]\tvalidation_0-rmse:2.63195\tvalidation_1-rmse:4.65988\n",
      "[15]\tvalidation_0-rmse:2.44801\tvalidation_1-rmse:4.53502\n",
      "[16]\tvalidation_0-rmse:2.28532\tvalidation_1-rmse:4.48064\n",
      "[17]\tvalidation_0-rmse:2.13638\tvalidation_1-rmse:4.39567\n",
      "[18]\tvalidation_0-rmse:2.00221\tvalidation_1-rmse:4.36145\n",
      "[19]\tvalidation_0-rmse:1.87264\tvalidation_1-rmse:4.32225\n",
      "[20]\tvalidation_0-rmse:1.75995\tvalidation_1-rmse:4.30137\n",
      "[21]\tvalidation_0-rmse:1.65942\tvalidation_1-rmse:4.28402\n",
      "[22]\tvalidation_0-rmse:1.56108\tvalidation_1-rmse:4.26730\n",
      "[23]\tvalidation_0-rmse:1.47506\tvalidation_1-rmse:4.26022\n",
      "[24]\tvalidation_0-rmse:1.39628\tvalidation_1-rmse:4.24792\n",
      "[25]\tvalidation_0-rmse:1.32369\tvalidation_1-rmse:4.25767\n",
      "[26]\tvalidation_0-rmse:1.25881\tvalidation_1-rmse:4.26208\n",
      "[27]\tvalidation_0-rmse:1.19926\tvalidation_1-rmse:4.26682\n",
      "[28]\tvalidation_0-rmse:1.14643\tvalidation_1-rmse:4.24497\n",
      "[29]\tvalidation_0-rmse:1.09738\tvalidation_1-rmse:4.25995\n",
      "[30]\tvalidation_0-rmse:1.05278\tvalidation_1-rmse:4.24168\n",
      "[31]\tvalidation_0-rmse:1.01186\tvalidation_1-rmse:4.25150\n",
      "[32]\tvalidation_0-rmse:0.97381\tvalidation_1-rmse:4.24310\n",
      "[33]\tvalidation_0-rmse:0.94117\tvalidation_1-rmse:4.23718\n",
      "[34]\tvalidation_0-rmse:0.90444\tvalidation_1-rmse:4.21913\n",
      "[35]\tvalidation_0-rmse:0.87544\tvalidation_1-rmse:4.22524\n",
      "[36]\tvalidation_0-rmse:0.85255\tvalidation_1-rmse:4.22244\n",
      "[37]\tvalidation_0-rmse:0.82944\tvalidation_1-rmse:4.21705\n",
      "[38]\tvalidation_0-rmse:0.79819\tvalidation_1-rmse:4.20634\n",
      "[39]\tvalidation_0-rmse:0.76970\tvalidation_1-rmse:4.20422\n",
      "[40]\tvalidation_0-rmse:0.73664\tvalidation_1-rmse:4.20590\n",
      "[41]\tvalidation_0-rmse:0.70617\tvalidation_1-rmse:4.20774\n",
      "[42]\tvalidation_0-rmse:0.67850\tvalidation_1-rmse:4.20701\n",
      "[43]\tvalidation_0-rmse:0.65240\tvalidation_1-rmse:4.21786\n",
      "[44]\tvalidation_0-rmse:0.63474\tvalidation_1-rmse:4.21614\n",
      "[45]\tvalidation_0-rmse:0.61803\tvalidation_1-rmse:4.21445\n",
      "[46]\tvalidation_0-rmse:0.60785\tvalidation_1-rmse:4.21331\n",
      "[47]\tvalidation_0-rmse:0.59416\tvalidation_1-rmse:4.21116\n",
      "[48]\tvalidation_0-rmse:0.58076\tvalidation_1-rmse:4.21133\n"
     ]
    },
    {
     "data": {
      "text/html": [
       "<style>#sk-container-id-8 {color: black;background-color: white;}#sk-container-id-8 pre{padding: 0;}#sk-container-id-8 div.sk-toggleable {background-color: white;}#sk-container-id-8 label.sk-toggleable__label {cursor: pointer;display: block;width: 100%;margin-bottom: 0;padding: 0.3em;box-sizing: border-box;text-align: center;}#sk-container-id-8 label.sk-toggleable__label-arrow:before {content: \"▸\";float: left;margin-right: 0.25em;color: #696969;}#sk-container-id-8 label.sk-toggleable__label-arrow:hover:before {color: black;}#sk-container-id-8 div.sk-estimator:hover label.sk-toggleable__label-arrow:before {color: black;}#sk-container-id-8 div.sk-toggleable__content {max-height: 0;max-width: 0;overflow: hidden;text-align: left;background-color: #f0f8ff;}#sk-container-id-8 div.sk-toggleable__content pre {margin: 0.2em;color: black;border-radius: 0.25em;background-color: #f0f8ff;}#sk-container-id-8 input.sk-toggleable__control:checked~div.sk-toggleable__content {max-height: 200px;max-width: 100%;overflow: auto;}#sk-container-id-8 input.sk-toggleable__control:checked~label.sk-toggleable__label-arrow:before {content: \"▾\";}#sk-container-id-8 div.sk-estimator input.sk-toggleable__control:checked~label.sk-toggleable__label {background-color: #d4ebff;}#sk-container-id-8 div.sk-label input.sk-toggleable__control:checked~label.sk-toggleable__label {background-color: #d4ebff;}#sk-container-id-8 input.sk-hidden--visually {border: 0;clip: rect(1px 1px 1px 1px);clip: rect(1px, 1px, 1px, 1px);height: 1px;margin: -1px;overflow: hidden;padding: 0;position: absolute;width: 1px;}#sk-container-id-8 div.sk-estimator {font-family: monospace;background-color: #f0f8ff;border: 1px dotted black;border-radius: 0.25em;box-sizing: border-box;margin-bottom: 0.5em;}#sk-container-id-8 div.sk-estimator:hover {background-color: #d4ebff;}#sk-container-id-8 div.sk-parallel-item::after {content: \"\";width: 100%;border-bottom: 1px solid gray;flex-grow: 1;}#sk-container-id-8 div.sk-label:hover label.sk-toggleable__label {background-color: #d4ebff;}#sk-container-id-8 div.sk-serial::before {content: \"\";position: absolute;border-left: 1px solid gray;box-sizing: border-box;top: 0;bottom: 0;left: 50%;z-index: 0;}#sk-container-id-8 div.sk-serial {display: flex;flex-direction: column;align-items: center;background-color: white;padding-right: 0.2em;padding-left: 0.2em;position: relative;}#sk-container-id-8 div.sk-item {position: relative;z-index: 1;}#sk-container-id-8 div.sk-parallel {display: flex;align-items: stretch;justify-content: center;background-color: white;position: relative;}#sk-container-id-8 div.sk-item::before, #sk-container-id-8 div.sk-parallel-item::before {content: \"\";position: absolute;border-left: 1px solid gray;box-sizing: border-box;top: 0;bottom: 0;left: 50%;z-index: -1;}#sk-container-id-8 div.sk-parallel-item {display: flex;flex-direction: column;z-index: 1;position: relative;background-color: white;}#sk-container-id-8 div.sk-parallel-item:first-child::after {align-self: flex-end;width: 50%;}#sk-container-id-8 div.sk-parallel-item:last-child::after {align-self: flex-start;width: 50%;}#sk-container-id-8 div.sk-parallel-item:only-child::after {width: 0;}#sk-container-id-8 div.sk-dashed-wrapped {border: 1px dashed gray;margin: 0 0.4em 0.5em 0.4em;box-sizing: border-box;padding-bottom: 0.4em;background-color: white;}#sk-container-id-8 div.sk-label label {font-family: monospace;font-weight: bold;display: inline-block;line-height: 1.2em;}#sk-container-id-8 div.sk-label-container {text-align: center;}#sk-container-id-8 div.sk-container {/* jupyter's `normalize.less` sets `[hidden] { display: none; }` but bootstrap.min.css set `[hidden] { display: none !important; }` so we also need the `!important` here to be able to override the default hidden behavior on the sphinx rendered scikit-learn.org. See: https://github.com/scikit-learn/scikit-learn/issues/21755 */display: inline-block !important;position: relative;}#sk-container-id-8 div.sk-text-repr-fallback {display: none;}</style><div id=\"sk-container-id-8\" class=\"sk-top-container\"><div class=\"sk-text-repr-fallback\"><pre>XGBRegressor(base_score=None, booster=None, callbacks=None,\n",
       "             colsample_bylevel=None, colsample_bynode=None,\n",
       "             colsample_bytree=None, device=None, early_stopping_rounds=None,\n",
       "             enable_categorical=False, eval_metric=None, feature_types=None,\n",
       "             gamma=None, grow_policy=None, importance_type=None,\n",
       "             interaction_constraints=None, learning_rate=0.1, max_bin=None,\n",
       "             max_cat_threshold=None, max_cat_to_onehot=None,\n",
       "             max_delta_step=None, max_depth=None, max_depths=3, max_leaves=None,\n",
       "             min_child_weight=None, missing=nan, monotone_constraints=None,\n",
       "             multi_strategy=None, n_estimators=500, n_jobs=None,\n",
       "             num_parallel_tree=None, ...)</pre><b>In a Jupyter environment, please rerun this cell to show the HTML representation or trust the notebook. <br />On GitHub, the HTML representation is unable to render, please try loading this page with nbviewer.org.</b></div><div class=\"sk-container\" hidden><div class=\"sk-item\"><div class=\"sk-estimator sk-toggleable\"><input class=\"sk-toggleable__control sk-hidden--visually\" id=\"sk-estimator-id-8\" type=\"checkbox\" checked><label for=\"sk-estimator-id-8\" class=\"sk-toggleable__label sk-toggleable__label-arrow\">XGBRegressor</label><div class=\"sk-toggleable__content\"><pre>XGBRegressor(base_score=None, booster=None, callbacks=None,\n",
       "             colsample_bylevel=None, colsample_bynode=None,\n",
       "             colsample_bytree=None, device=None, early_stopping_rounds=None,\n",
       "             enable_categorical=False, eval_metric=None, feature_types=None,\n",
       "             gamma=None, grow_policy=None, importance_type=None,\n",
       "             interaction_constraints=None, learning_rate=0.1, max_bin=None,\n",
       "             max_cat_threshold=None, max_cat_to_onehot=None,\n",
       "             max_delta_step=None, max_depth=None, max_depths=3, max_leaves=None,\n",
       "             min_child_weight=None, missing=nan, monotone_constraints=None,\n",
       "             multi_strategy=None, n_estimators=500, n_jobs=None,\n",
       "             num_parallel_tree=None, ...)</pre></div></div></div></div></div>"
      ],
      "text/plain": [
       "XGBRegressor(base_score=None, booster=None, callbacks=None,\n",
       "             colsample_bylevel=None, colsample_bynode=None,\n",
       "             colsample_bytree=None, device=None, early_stopping_rounds=None,\n",
       "             enable_categorical=False, eval_metric=None, feature_types=None,\n",
       "             gamma=None, grow_policy=None, importance_type=None,\n",
       "             interaction_constraints=None, learning_rate=0.1, max_bin=None,\n",
       "             max_cat_threshold=None, max_cat_to_onehot=None,\n",
       "             max_delta_step=None, max_depth=None, max_depths=3, max_leaves=None,\n",
       "             min_child_weight=None, missing=nan, monotone_constraints=None,\n",
       "             multi_strategy=None, n_estimators=500, n_jobs=None,\n",
       "             num_parallel_tree=None, ...)"
      ]
     },
     "execution_count": 63,
     "metadata": {},
     "output_type": "execute_result"
    }
   ],
   "source": [
    "from xgboost import XGBRegressor\n",
    "xgb_reg = XGBRegressor(n_estimators = 500, learning_rate = 0.1, max_depths=3)\n",
    "evals = [(x_train, y_train),(x_val,y_val)]\n",
    "xgb_reg.fit(x_train, y_train, early_stopping_rounds = 10, eval_metric = 'rmse',eval_set=evals, verbose = True)"
   ]
  },
  {
   "cell_type": "code",
   "execution_count": 64,
   "id": "712fe7b2-494c-4c2a-b142-5eaf28395ce2",
   "metadata": {},
   "outputs": [
    {
     "name": "stdout",
     "output_type": "stream",
     "text": [
      "RMSE:3.7438768429757294\n",
      "R2-score:0.858\n"
     ]
    }
   ],
   "source": [
    "y_hat = xgb_reg.predict(x_test)\n",
    "print(f'RMSE:{np.sqrt(mean_squared_error(y_test, y_hat))}')\n",
    "print(f'R2-score:{r2_score(y_test, y_hat):.3f}')"
   ]
  },
  {
   "cell_type": "markdown",
   "id": "5458ee18-bde8-43a7-aaf0-6a6256e59667",
   "metadata": {},
   "source": [
    "### LightGBM (사이킷 런 래퍼)"
   ]
  },
  {
   "cell_type": "code",
   "execution_count": 65,
   "id": "06d4847f-73bb-40d7-ab33-dde34a67fe02",
   "metadata": {},
   "outputs": [
    {
     "name": "stdout",
     "output_type": "stream",
     "text": [
      "Requirement already satisfied: lightgbm in c:\\users\\user\\anaconda3\\lib\\site-packages (4.3.0)\n",
      "Requirement already satisfied: numpy in c:\\users\\user\\anaconda3\\lib\\site-packages (from lightgbm) (1.26.4)\n",
      "Requirement already satisfied: scipy in c:\\users\\user\\anaconda3\\lib\\site-packages (from lightgbm) (1.11.4)\n"
     ]
    }
   ],
   "source": [
    "!pip install lightgbm"
   ]
  },
  {
   "cell_type": "code",
   "execution_count": 66,
   "id": "8c2395b0-2d91-4c7d-acdc-ad4da746f394",
   "metadata": {},
   "outputs": [],
   "source": [
    "import lightgbm "
   ]
  },
  {
   "cell_type": "code",
   "execution_count": 67,
   "id": "197bceeb-a6f1-4b7d-860c-c8c9ffaab6ce",
   "metadata": {},
   "outputs": [],
   "source": [
    "from lightgbm import LGBMRegressor, early_stopping"
   ]
  },
  {
   "cell_type": "code",
   "execution_count": 68,
   "id": "3c552281-00e1-454a-a5aa-8c2d350333a7",
   "metadata": {},
   "outputs": [
    {
     "name": "stdout",
     "output_type": "stream",
     "text": [
      "[LightGBM] [Info] Auto-choosing row-wise multi-threading, the overhead of testing was 0.000141 seconds.\n",
      "You can set `force_row_wise=true` to remove the overhead.\n",
      "And if memory is not enough, you can set `force_col_wise=true`.\n",
      "[LightGBM] [Info] Total Bins 741\n",
      "[LightGBM] [Info] Number of data points in the train set: 293, number of used features: 13\n",
      "[LightGBM] [Info] Start training from score 22.522867\n",
      "[LightGBM] [Warning] No further splits with positive gain, best gain: -inf\n",
      "Training until validation scores don't improve for 10 rounds\n",
      "[LightGBM] [Warning] No further splits with positive gain, best gain: -inf\n",
      "[LightGBM] [Warning] No further splits with positive gain, best gain: -inf\n",
      "[LightGBM] [Warning] No further splits with positive gain, best gain: -inf\n",
      "[LightGBM] [Warning] No further splits with positive gain, best gain: -inf\n",
      "[LightGBM] [Warning] No further splits with positive gain, best gain: -inf\n",
      "[LightGBM] [Warning] No further splits with positive gain, best gain: -inf\n",
      "[LightGBM] [Warning] No further splits with positive gain, best gain: -inf\n",
      "[LightGBM] [Warning] No further splits with positive gain, best gain: -inf\n",
      "[LightGBM] [Warning] No further splits with positive gain, best gain: -inf\n",
      "[LightGBM] [Warning] No further splits with positive gain, best gain: -inf\n",
      "[LightGBM] [Warning] No further splits with positive gain, best gain: -inf\n",
      "[LightGBM] [Warning] No further splits with positive gain, best gain: -inf\n",
      "[LightGBM] [Warning] No further splits with positive gain, best gain: -inf\n",
      "[LightGBM] [Warning] No further splits with positive gain, best gain: -inf\n",
      "[LightGBM] [Warning] No further splits with positive gain, best gain: -inf\n",
      "[LightGBM] [Warning] No further splits with positive gain, best gain: -inf\n",
      "[LightGBM] [Warning] No further splits with positive gain, best gain: -inf\n",
      "[LightGBM] [Warning] No further splits with positive gain, best gain: -inf\n",
      "[LightGBM] [Warning] No further splits with positive gain, best gain: -inf\n",
      "[LightGBM] [Warning] No further splits with positive gain, best gain: -inf\n",
      "[LightGBM] [Warning] No further splits with positive gain, best gain: -inf\n",
      "[LightGBM] [Warning] No further splits with positive gain, best gain: -inf\n",
      "[LightGBM] [Warning] No further splits with positive gain, best gain: -inf\n",
      "[LightGBM] [Warning] No further splits with positive gain, best gain: -inf\n",
      "[LightGBM] [Warning] No further splits with positive gain, best gain: -inf\n",
      "[LightGBM] [Warning] No further splits with positive gain, best gain: -inf\n",
      "[LightGBM] [Warning] No further splits with positive gain, best gain: -inf\n",
      "[LightGBM] [Warning] No further splits with positive gain, best gain: -inf\n",
      "[LightGBM] [Warning] No further splits with positive gain, best gain: -inf\n",
      "[LightGBM] [Warning] No further splits with positive gain, best gain: -inf\n",
      "[LightGBM] [Warning] No further splits with positive gain, best gain: -inf\n",
      "[LightGBM] [Warning] No further splits with positive gain, best gain: -inf\n",
      "[LightGBM] [Warning] No further splits with positive gain, best gain: -inf\n",
      "[LightGBM] [Warning] No further splits with positive gain, best gain: -inf\n",
      "[LightGBM] [Warning] No further splits with positive gain, best gain: -inf\n",
      "[LightGBM] [Warning] No further splits with positive gain, best gain: -inf\n",
      "[LightGBM] [Warning] No further splits with positive gain, best gain: -inf\n",
      "[LightGBM] [Warning] No further splits with positive gain, best gain: -inf\n",
      "[LightGBM] [Warning] No further splits with positive gain, best gain: -inf\n",
      "[LightGBM] [Warning] No further splits with positive gain, best gain: -inf\n",
      "[LightGBM] [Warning] No further splits with positive gain, best gain: -inf\n",
      "[LightGBM] [Warning] No further splits with positive gain, best gain: -inf\n",
      "[LightGBM] [Warning] No further splits with positive gain, best gain: -inf\n",
      "[LightGBM] [Warning] No further splits with positive gain, best gain: -inf\n",
      "[LightGBM] [Warning] No further splits with positive gain, best gain: -inf\n",
      "[LightGBM] [Warning] No further splits with positive gain, best gain: -inf\n",
      "[LightGBM] [Warning] No further splits with positive gain, best gain: -inf\n",
      "[LightGBM] [Warning] No further splits with positive gain, best gain: -inf\n",
      "[LightGBM] [Warning] No further splits with positive gain, best gain: -inf\n",
      "[LightGBM] [Warning] No further splits with positive gain, best gain: -inf\n",
      "[LightGBM] [Warning] No further splits with positive gain, best gain: -inf\n",
      "[LightGBM] [Warning] No further splits with positive gain, best gain: -inf\n",
      "Early stopping, best iteration is:\n",
      "[43]\ttraining's rmse: 2.9614\ttraining's l2: 8.76987\tvalid_1's rmse: 4.22167\tvalid_1's l2: 17.8225\n"
     ]
    },
    {
     "data": {
      "text/html": [
       "<style>#sk-container-id-9 {color: black;background-color: white;}#sk-container-id-9 pre{padding: 0;}#sk-container-id-9 div.sk-toggleable {background-color: white;}#sk-container-id-9 label.sk-toggleable__label {cursor: pointer;display: block;width: 100%;margin-bottom: 0;padding: 0.3em;box-sizing: border-box;text-align: center;}#sk-container-id-9 label.sk-toggleable__label-arrow:before {content: \"▸\";float: left;margin-right: 0.25em;color: #696969;}#sk-container-id-9 label.sk-toggleable__label-arrow:hover:before {color: black;}#sk-container-id-9 div.sk-estimator:hover label.sk-toggleable__label-arrow:before {color: black;}#sk-container-id-9 div.sk-toggleable__content {max-height: 0;max-width: 0;overflow: hidden;text-align: left;background-color: #f0f8ff;}#sk-container-id-9 div.sk-toggleable__content pre {margin: 0.2em;color: black;border-radius: 0.25em;background-color: #f0f8ff;}#sk-container-id-9 input.sk-toggleable__control:checked~div.sk-toggleable__content {max-height: 200px;max-width: 100%;overflow: auto;}#sk-container-id-9 input.sk-toggleable__control:checked~label.sk-toggleable__label-arrow:before {content: \"▾\";}#sk-container-id-9 div.sk-estimator input.sk-toggleable__control:checked~label.sk-toggleable__label {background-color: #d4ebff;}#sk-container-id-9 div.sk-label input.sk-toggleable__control:checked~label.sk-toggleable__label {background-color: #d4ebff;}#sk-container-id-9 input.sk-hidden--visually {border: 0;clip: rect(1px 1px 1px 1px);clip: rect(1px, 1px, 1px, 1px);height: 1px;margin: -1px;overflow: hidden;padding: 0;position: absolute;width: 1px;}#sk-container-id-9 div.sk-estimator {font-family: monospace;background-color: #f0f8ff;border: 1px dotted black;border-radius: 0.25em;box-sizing: border-box;margin-bottom: 0.5em;}#sk-container-id-9 div.sk-estimator:hover {background-color: #d4ebff;}#sk-container-id-9 div.sk-parallel-item::after {content: \"\";width: 100%;border-bottom: 1px solid gray;flex-grow: 1;}#sk-container-id-9 div.sk-label:hover label.sk-toggleable__label {background-color: #d4ebff;}#sk-container-id-9 div.sk-serial::before {content: \"\";position: absolute;border-left: 1px solid gray;box-sizing: border-box;top: 0;bottom: 0;left: 50%;z-index: 0;}#sk-container-id-9 div.sk-serial {display: flex;flex-direction: column;align-items: center;background-color: white;padding-right: 0.2em;padding-left: 0.2em;position: relative;}#sk-container-id-9 div.sk-item {position: relative;z-index: 1;}#sk-container-id-9 div.sk-parallel {display: flex;align-items: stretch;justify-content: center;background-color: white;position: relative;}#sk-container-id-9 div.sk-item::before, #sk-container-id-9 div.sk-parallel-item::before {content: \"\";position: absolute;border-left: 1px solid gray;box-sizing: border-box;top: 0;bottom: 0;left: 50%;z-index: -1;}#sk-container-id-9 div.sk-parallel-item {display: flex;flex-direction: column;z-index: 1;position: relative;background-color: white;}#sk-container-id-9 div.sk-parallel-item:first-child::after {align-self: flex-end;width: 50%;}#sk-container-id-9 div.sk-parallel-item:last-child::after {align-self: flex-start;width: 50%;}#sk-container-id-9 div.sk-parallel-item:only-child::after {width: 0;}#sk-container-id-9 div.sk-dashed-wrapped {border: 1px dashed gray;margin: 0 0.4em 0.5em 0.4em;box-sizing: border-box;padding-bottom: 0.4em;background-color: white;}#sk-container-id-9 div.sk-label label {font-family: monospace;font-weight: bold;display: inline-block;line-height: 1.2em;}#sk-container-id-9 div.sk-label-container {text-align: center;}#sk-container-id-9 div.sk-container {/* jupyter's `normalize.less` sets `[hidden] { display: none; }` but bootstrap.min.css set `[hidden] { display: none !important; }` so we also need the `!important` here to be able to override the default hidden behavior on the sphinx rendered scikit-learn.org. See: https://github.com/scikit-learn/scikit-learn/issues/21755 */display: inline-block !important;position: relative;}#sk-container-id-9 div.sk-text-repr-fallback {display: none;}</style><div id=\"sk-container-id-9\" class=\"sk-top-container\"><div class=\"sk-text-repr-fallback\"><pre>LGBMRegressor(max_depth=3, n_estimators=500)</pre><b>In a Jupyter environment, please rerun this cell to show the HTML representation or trust the notebook. <br />On GitHub, the HTML representation is unable to render, please try loading this page with nbviewer.org.</b></div><div class=\"sk-container\" hidden><div class=\"sk-item\"><div class=\"sk-estimator sk-toggleable\"><input class=\"sk-toggleable__control sk-hidden--visually\" id=\"sk-estimator-id-9\" type=\"checkbox\" checked><label for=\"sk-estimator-id-9\" class=\"sk-toggleable__label sk-toggleable__label-arrow\">LGBMRegressor</label><div class=\"sk-toggleable__content\"><pre>LGBMRegressor(max_depth=3, n_estimators=500)</pre></div></div></div></div></div>"
      ],
      "text/plain": [
       "LGBMRegressor(max_depth=3, n_estimators=500)"
      ]
     },
     "execution_count": 68,
     "metadata": {},
     "output_type": "execute_result"
    }
   ],
   "source": [
    "x_train, x_test, y_train, y_test = train_test_split (x_train,y_train,test_size=0.1,random_state=10)\n",
    "lgbm_reg = LGBMRegressor(n_estimators=500, learning_rate=0.1,max_depth=3)\n",
    "evals = [(x_train,y_train),(x_val,y_val)]\n",
    "lgbm_reg.fit(x_train,y_train, eval_metric='rmse',callbacks=[early_stopping(stopping_rounds=10)],eval_set=evals)"
   ]
  },
  {
   "cell_type": "code",
   "execution_count": 69,
   "id": "ab49c3b2-f81c-4ff6-bc9d-aed9bd57dc12",
   "metadata": {},
   "outputs": [
    {
     "name": "stdout",
     "output_type": "stream",
     "text": [
      "RMSE:4.807034989243433\n",
      "R2-score:0.801\n"
     ]
    }
   ],
   "source": [
    "y_hat = lgbm_reg.predict(x_test)\n",
    "print(f'RMSE:{np.sqrt(mean_squared_error(y_test, y_hat))}')\n",
    "print(f'R2-score:{r2_score(y_test, y_hat):.3f}')"
   ]
  },
  {
   "cell_type": "markdown",
   "id": "75921610-b90d-47e7-9d1a-9952037e332d",
   "metadata": {},
   "source": [
    "# 앙상블 분류"
   ]
  },
  {
   "cell_type": "markdown",
   "id": "03789761-ec4b-485c-9902-5a94df1ab769",
   "metadata": {},
   "source": [
    "## (공통) 데이터 로딩 및 분할"
   ]
  },
  {
   "cell_type": "code",
   "execution_count": 16,
   "id": "87e7d1fd-593e-4958-8c80-b023af3ec356",
   "metadata": {},
   "outputs": [],
   "source": [
    "from sklearn.model_selection import train_test_split\n",
    "from sklearn.metrics import accuracy_score, roc_auc_score\n",
    "from sklearn.datasets import load_breast_cancer\n",
    "\n",
    "import numpy as np\n",
    "import pandas as pd"
   ]
  },
  {
   "cell_type": "code",
   "execution_count": 17,
   "id": "52671710-80e8-4483-88f2-64eb20032c91",
   "metadata": {},
   "outputs": [
    {
     "name": "stdout",
     "output_type": "stream",
     "text": [
      "(569, 30)\n"
     ]
    },
    {
     "data": {
      "text/html": [
       "<div>\n",
       "<style scoped>\n",
       "    .dataframe tbody tr th:only-of-type {\n",
       "        vertical-align: middle;\n",
       "    }\n",
       "\n",
       "    .dataframe tbody tr th {\n",
       "        vertical-align: top;\n",
       "    }\n",
       "\n",
       "    .dataframe thead th {\n",
       "        text-align: right;\n",
       "    }\n",
       "</style>\n",
       "<table border=\"1\" class=\"dataframe\">\n",
       "  <thead>\n",
       "    <tr style=\"text-align: right;\">\n",
       "      <th></th>\n",
       "      <th>mean radius</th>\n",
       "      <th>mean texture</th>\n",
       "      <th>mean perimeter</th>\n",
       "      <th>mean area</th>\n",
       "      <th>mean smoothness</th>\n",
       "      <th>mean compactness</th>\n",
       "      <th>mean concavity</th>\n",
       "      <th>mean concave points</th>\n",
       "      <th>mean symmetry</th>\n",
       "      <th>mean fractal dimension</th>\n",
       "      <th>...</th>\n",
       "      <th>worst radius</th>\n",
       "      <th>worst texture</th>\n",
       "      <th>worst perimeter</th>\n",
       "      <th>worst area</th>\n",
       "      <th>worst smoothness</th>\n",
       "      <th>worst compactness</th>\n",
       "      <th>worst concavity</th>\n",
       "      <th>worst concave points</th>\n",
       "      <th>worst symmetry</th>\n",
       "      <th>worst fractal dimension</th>\n",
       "    </tr>\n",
       "  </thead>\n",
       "  <tbody>\n",
       "    <tr>\n",
       "      <th>0</th>\n",
       "      <td>17.99</td>\n",
       "      <td>10.38</td>\n",
       "      <td>122.80</td>\n",
       "      <td>1001.0</td>\n",
       "      <td>0.11840</td>\n",
       "      <td>0.27760</td>\n",
       "      <td>0.3001</td>\n",
       "      <td>0.14710</td>\n",
       "      <td>0.2419</td>\n",
       "      <td>0.07871</td>\n",
       "      <td>...</td>\n",
       "      <td>25.38</td>\n",
       "      <td>17.33</td>\n",
       "      <td>184.60</td>\n",
       "      <td>2019.0</td>\n",
       "      <td>0.1622</td>\n",
       "      <td>0.6656</td>\n",
       "      <td>0.7119</td>\n",
       "      <td>0.2654</td>\n",
       "      <td>0.4601</td>\n",
       "      <td>0.11890</td>\n",
       "    </tr>\n",
       "    <tr>\n",
       "      <th>1</th>\n",
       "      <td>20.57</td>\n",
       "      <td>17.77</td>\n",
       "      <td>132.90</td>\n",
       "      <td>1326.0</td>\n",
       "      <td>0.08474</td>\n",
       "      <td>0.07864</td>\n",
       "      <td>0.0869</td>\n",
       "      <td>0.07017</td>\n",
       "      <td>0.1812</td>\n",
       "      <td>0.05667</td>\n",
       "      <td>...</td>\n",
       "      <td>24.99</td>\n",
       "      <td>23.41</td>\n",
       "      <td>158.80</td>\n",
       "      <td>1956.0</td>\n",
       "      <td>0.1238</td>\n",
       "      <td>0.1866</td>\n",
       "      <td>0.2416</td>\n",
       "      <td>0.1860</td>\n",
       "      <td>0.2750</td>\n",
       "      <td>0.08902</td>\n",
       "    </tr>\n",
       "    <tr>\n",
       "      <th>2</th>\n",
       "      <td>19.69</td>\n",
       "      <td>21.25</td>\n",
       "      <td>130.00</td>\n",
       "      <td>1203.0</td>\n",
       "      <td>0.10960</td>\n",
       "      <td>0.15990</td>\n",
       "      <td>0.1974</td>\n",
       "      <td>0.12790</td>\n",
       "      <td>0.2069</td>\n",
       "      <td>0.05999</td>\n",
       "      <td>...</td>\n",
       "      <td>23.57</td>\n",
       "      <td>25.53</td>\n",
       "      <td>152.50</td>\n",
       "      <td>1709.0</td>\n",
       "      <td>0.1444</td>\n",
       "      <td>0.4245</td>\n",
       "      <td>0.4504</td>\n",
       "      <td>0.2430</td>\n",
       "      <td>0.3613</td>\n",
       "      <td>0.08758</td>\n",
       "    </tr>\n",
       "    <tr>\n",
       "      <th>3</th>\n",
       "      <td>11.42</td>\n",
       "      <td>20.38</td>\n",
       "      <td>77.58</td>\n",
       "      <td>386.1</td>\n",
       "      <td>0.14250</td>\n",
       "      <td>0.28390</td>\n",
       "      <td>0.2414</td>\n",
       "      <td>0.10520</td>\n",
       "      <td>0.2597</td>\n",
       "      <td>0.09744</td>\n",
       "      <td>...</td>\n",
       "      <td>14.91</td>\n",
       "      <td>26.50</td>\n",
       "      <td>98.87</td>\n",
       "      <td>567.7</td>\n",
       "      <td>0.2098</td>\n",
       "      <td>0.8663</td>\n",
       "      <td>0.6869</td>\n",
       "      <td>0.2575</td>\n",
       "      <td>0.6638</td>\n",
       "      <td>0.17300</td>\n",
       "    </tr>\n",
       "    <tr>\n",
       "      <th>4</th>\n",
       "      <td>20.29</td>\n",
       "      <td>14.34</td>\n",
       "      <td>135.10</td>\n",
       "      <td>1297.0</td>\n",
       "      <td>0.10030</td>\n",
       "      <td>0.13280</td>\n",
       "      <td>0.1980</td>\n",
       "      <td>0.10430</td>\n",
       "      <td>0.1809</td>\n",
       "      <td>0.05883</td>\n",
       "      <td>...</td>\n",
       "      <td>22.54</td>\n",
       "      <td>16.67</td>\n",
       "      <td>152.20</td>\n",
       "      <td>1575.0</td>\n",
       "      <td>0.1374</td>\n",
       "      <td>0.2050</td>\n",
       "      <td>0.4000</td>\n",
       "      <td>0.1625</td>\n",
       "      <td>0.2364</td>\n",
       "      <td>0.07678</td>\n",
       "    </tr>\n",
       "  </tbody>\n",
       "</table>\n",
       "<p>5 rows × 30 columns</p>\n",
       "</div>"
      ],
      "text/plain": [
       "   mean radius  mean texture  mean perimeter  mean area  mean smoothness  \\\n",
       "0        17.99         10.38          122.80     1001.0          0.11840   \n",
       "1        20.57         17.77          132.90     1326.0          0.08474   \n",
       "2        19.69         21.25          130.00     1203.0          0.10960   \n",
       "3        11.42         20.38           77.58      386.1          0.14250   \n",
       "4        20.29         14.34          135.10     1297.0          0.10030   \n",
       "\n",
       "   mean compactness  mean concavity  mean concave points  mean symmetry  \\\n",
       "0           0.27760          0.3001              0.14710         0.2419   \n",
       "1           0.07864          0.0869              0.07017         0.1812   \n",
       "2           0.15990          0.1974              0.12790         0.2069   \n",
       "3           0.28390          0.2414              0.10520         0.2597   \n",
       "4           0.13280          0.1980              0.10430         0.1809   \n",
       "\n",
       "   mean fractal dimension  ...  worst radius  worst texture  worst perimeter  \\\n",
       "0                 0.07871  ...         25.38          17.33           184.60   \n",
       "1                 0.05667  ...         24.99          23.41           158.80   \n",
       "2                 0.05999  ...         23.57          25.53           152.50   \n",
       "3                 0.09744  ...         14.91          26.50            98.87   \n",
       "4                 0.05883  ...         22.54          16.67           152.20   \n",
       "\n",
       "   worst area  worst smoothness  worst compactness  worst concavity  \\\n",
       "0      2019.0            0.1622             0.6656           0.7119   \n",
       "1      1956.0            0.1238             0.1866           0.2416   \n",
       "2      1709.0            0.1444             0.4245           0.4504   \n",
       "3       567.7            0.2098             0.8663           0.6869   \n",
       "4      1575.0            0.1374             0.2050           0.4000   \n",
       "\n",
       "   worst concave points  worst symmetry  worst fractal dimension  \n",
       "0                0.2654          0.4601                  0.11890  \n",
       "1                0.1860          0.2750                  0.08902  \n",
       "2                0.2430          0.3613                  0.08758  \n",
       "3                0.2575          0.6638                  0.17300  \n",
       "4                0.1625          0.2364                  0.07678  \n",
       "\n",
       "[5 rows x 30 columns]"
      ]
     },
     "metadata": {},
     "output_type": "display_data"
    }
   ],
   "source": [
    "cancer = load_breast_cancer ()\n",
    "df = pd.DataFrame(cancer.data, columns=cancer.feature_names)\n",
    "print(df.shape)\n",
    "display(df.head())\n",
    "x=df\n",
    "y=cancer.target\n",
    "x_train, x_test, y_train, y_test = train_test_split(x,y,train_size=0.8, stratify=y, random_state=1)"
   ]
  },
  {
   "cell_type": "markdown",
   "id": "80bf87b7-0828-4386-a377-88bd79fc629e",
   "metadata": {},
   "source": [
    "## Voting"
   ]
  },
  {
   "cell_type": "markdown",
   "id": "56eb3605-f932-4a79-8af0-0babbcfc6040",
   "metadata": {},
   "source": [
    "### 패키지 로딩"
   ]
  },
  {
   "cell_type": "code",
   "execution_count": 9,
   "id": "958c92e6-673e-46ac-a81c-3ffac947fa4c",
   "metadata": {},
   "outputs": [],
   "source": [
    "from sklearn.ensemble import VotingClassifier\n",
    "from sklearn.linear_model import LogisticRegression\n",
    "from sklearn.neighbors import KNeighborsClassifier\n",
    "from sklearn.naive_bayes import GaussianNB"
   ]
  },
  {
   "cell_type": "markdown",
   "id": "2db6729f-5e3d-4555-b148-4d015030809b",
   "metadata": {},
   "source": [
    "### 모델생성"
   ]
  },
  {
   "cell_type": "code",
   "execution_count": 13,
   "id": "7d944701-1890-420a-bbf8-085fa9f213b9",
   "metadata": {},
   "outputs": [],
   "source": [
    "logistic = LogisticRegression(max_iter = 2000)\n",
    "knn = KNeighborsClassifier(n_neighbors=3)\n",
    "nb =  GaussianNB()\n",
    "vo_c = VotingClassifier(estimators = [('Logistic', logistic),('KNN', knn),('Naive_Bayes',nb)], voting= 'soft')"
   ]
  },
  {
   "cell_type": "markdown",
   "id": "b50c9f37-f437-401d-bed2-2423bf387b51",
   "metadata": {},
   "source": [
    "### 학습 및 평가"
   ]
  },
  {
   "cell_type": "code",
   "execution_count": 14,
   "id": "d6bf8d06-479e-41ee-938a-7c108402c7df",
   "metadata": {},
   "outputs": [
    {
     "name": "stdout",
     "output_type": "stream",
     "text": [
      "정확도:0.956\n",
      "AUC: 0.992\n"
     ]
    },
    {
     "name": "stderr",
     "output_type": "stream",
     "text": [
      "C:\\Users\\user\\anaconda3\\Lib\\site-packages\\sklearn\\linear_model\\_logistic.py:458: ConvergenceWarning: lbfgs failed to converge (status=1):\n",
      "STOP: TOTAL NO. of ITERATIONS REACHED LIMIT.\n",
      "\n",
      "Increase the number of iterations (max_iter) or scale the data as shown in:\n",
      "    https://scikit-learn.org/stable/modules/preprocessing.html\n",
      "Please also refer to the documentation for alternative solver options:\n",
      "    https://scikit-learn.org/stable/modules/linear_model.html#logistic-regression\n",
      "  n_iter_i = _check_optimize_result(\n"
     ]
    }
   ],
   "source": [
    "vo_c.fit(x_train, y_train)\n",
    "y_hat = vo_c.predict(x_test)\n",
    "print(f'정확도:{accuracy_score(y_test,y_hat):.3f}')\n",
    "print(f'AUC: {roc_auc_score(y_test, vo_c.predict_proba(x_test)[:,1]):.3f}')"
   ]
  },
  {
   "cell_type": "markdown",
   "id": "514e4737-b77f-4f05-8392-1a4947bd8bd3",
   "metadata": {},
   "source": [
    "### 개별 분류모형 학습결과 비교"
   ]
  },
  {
   "cell_type": "code",
   "execution_count": 15,
   "id": "444fba6e-0805-46cf-a312-f1b795f63034",
   "metadata": {},
   "outputs": [
    {
     "name": "stderr",
     "output_type": "stream",
     "text": [
      "C:\\Users\\user\\anaconda3\\Lib\\site-packages\\sklearn\\linear_model\\_logistic.py:458: ConvergenceWarning: lbfgs failed to converge (status=1):\n",
      "STOP: TOTAL NO. of ITERATIONS REACHED LIMIT.\n",
      "\n",
      "Increase the number of iterations (max_iter) or scale the data as shown in:\n",
      "    https://scikit-learn.org/stable/modules/preprocessing.html\n",
      "Please also refer to the documentation for alternative solver options:\n",
      "    https://scikit-learn.org/stable/modules/linear_model.html#logistic-regression\n",
      "  n_iter_i = _check_optimize_result(\n"
     ]
    },
    {
     "name": "stdout",
     "output_type": "stream",
     "text": [
      "Logistic 모델 정확도:0.956\n",
      "Logistic 모델 AUC: 0.992\n",
      "KNN 모델 정확도:0.947\n",
      "KNN 모델 AUC: 0.992\n",
      "Naive_Bayes 모델 정확도:0.939\n",
      "Naive_Bayes 모델 AUC: 0.992\n",
      "================================================================================\n"
     ]
    }
   ],
   "source": [
    "estimators = [('Logistic', logistic),('KNN', knn),('Naive_Bayes',nb)]\n",
    "for name, model in estimators :\n",
    "    model.fit(x_train, y_train)\n",
    "    y_hat = model.predict(x_test)\n",
    "    print(f'{name} 모델 정확도:{accuracy_score(y_test,y_hat):.3f}')\n",
    "    print(f'{name} 모델 AUC: {roc_auc_score(y_test, vo_c.predict_proba(x_test)[:,1]):.3f}')\n",
    "print('='*80)"
   ]
  },
  {
   "cell_type": "markdown",
   "id": "e9c80409-d971-4905-ae74-e557437db991",
   "metadata": {},
   "source": [
    "## Boosting"
   ]
  },
  {
   "cell_type": "markdown",
   "id": "ee05e807-0eab-47f1-b8c1-2c7d1b451dad",
   "metadata": {},
   "source": [
    "### AdaBoost"
   ]
  },
  {
   "cell_type": "markdown",
   "id": "a9730497-7a98-49f7-952b-a6cbb3d5e239",
   "metadata": {},
   "source": [
    "#### 패키지 로딩"
   ]
  },
  {
   "cell_type": "code",
   "execution_count": 16,
   "id": "7fd3d087-82ed-4689-b6a7-49996cc524f6",
   "metadata": {},
   "outputs": [],
   "source": [
    "from sklearn.ensemble import AdaBoostClassifier\n",
    "from sklearn.tree import DecisionTreeClassifier"
   ]
  },
  {
   "cell_type": "markdown",
   "id": "5cd2b4fe-f177-4cbe-9a87-e99fa7737f20",
   "metadata": {},
   "source": [
    "#### 모델 생성"
   ]
  },
  {
   "cell_type": "code",
   "execution_count": 17,
   "id": "c5032cab-8851-4cff-b173-bf89b616d7bc",
   "metadata": {},
   "outputs": [],
   "source": [
    "boo_c = AdaBoostClassifier(base_estimator=DecisionTreeClassifier(max_depth=4), n_estimators=300, random_state=0)"
   ]
  },
  {
   "cell_type": "markdown",
   "id": "db50ad9b-161e-49e8-b427-e84ae25ef09c",
   "metadata": {},
   "source": [
    "#### 학습 및 평가"
   ]
  },
  {
   "cell_type": "code",
   "execution_count": 18,
   "id": "3aacf468-a6d9-472d-a148-57d7f6f681e7",
   "metadata": {},
   "outputs": [
    {
     "name": "stderr",
     "output_type": "stream",
     "text": [
      "C:\\Users\\user\\anaconda3\\Lib\\site-packages\\sklearn\\ensemble\\_base.py:166: FutureWarning: `base_estimator` was renamed to `estimator` in version 1.2 and will be removed in 1.4.\n",
      "  warnings.warn(\n"
     ]
    },
    {
     "name": "stdout",
     "output_type": "stream",
     "text": [
      "정확도:0.974\n",
      "AUC: 0.992\n"
     ]
    }
   ],
   "source": [
    "boo_c.fit(x_train, y_train)\n",
    "y_hat = boo_c.predict(x_test)\n",
    "print(f'정확도:{accuracy_score(y_test,y_hat):.3f}')\n",
    "print(f'AUC: {roc_auc_score(y_test, vo_c.predict_proba(x_test)[:,1]):.3f}')"
   ]
  },
  {
   "cell_type": "markdown",
   "id": "5968f73b-c3b7-48d5-acf5-481a6934accc",
   "metadata": {},
   "source": [
    "### GradientBoost"
   ]
  },
  {
   "cell_type": "markdown",
   "id": "49add9e3-013a-4fae-a7b5-219ebf36d94b",
   "metadata": {},
   "source": [
    "#### 패키지로딩"
   ]
  },
  {
   "cell_type": "code",
   "execution_count": 19,
   "id": "9741d978-30a1-45de-b59e-d3d7f89223ff",
   "metadata": {},
   "outputs": [],
   "source": [
    "from sklearn.ensemble import GradientBoostingClassifier"
   ]
  },
  {
   "cell_type": "markdown",
   "id": "fed94ec6-2301-4746-9c74-166159661d00",
   "metadata": {},
   "source": [
    "####  모델 생성 및 학습"
   ]
  },
  {
   "cell_type": "code",
   "execution_count": 20,
   "id": "2da2185c-8c5a-4b69-98ce-86ea952498aa",
   "metadata": {},
   "outputs": [
    {
     "name": "stdout",
     "output_type": "stream",
     "text": [
      "정확도:0.965\n",
      "AUC: 0.992\n"
     ]
    }
   ],
   "source": [
    "gb_c = GradientBoostingClassifier(random_state=0)\n",
    "gb_c.fit(x_train,y_train)\n",
    "y_hat = gb_c.predict(x_test)\n",
    "print(f'정확도:{accuracy_score(y_test,y_hat):.3f}')\n",
    "print(f'AUC: {roc_auc_score(y_test, vo_c.predict_proba(x_test)[:,1]):.3f}')"
   ]
  },
  {
   "cell_type": "markdown",
   "id": "90d23631-4171-4d3a-90d9-c8eda40c28e0",
   "metadata": {},
   "source": [
    "# 하이퍼 파라미터 튜닝"
   ]
  },
  {
   "cell_type": "code",
   "execution_count": 21,
   "id": "373667cd-e95f-4fee-af67-8810b2d74569",
   "metadata": {},
   "outputs": [
    {
     "name": "stdout",
     "output_type": "stream",
     "text": [
      "최적 파라메터: {'learning_rate': 0.2, 'max_depth': 3, 'min_samples_split': 5, 'n_estimators': 200}\n",
      "평균정확도: 0.9666200900481291\n"
     ]
    }
   ],
   "source": [
    "from sklearn.model_selection import GridSearchCV\n",
    "\n",
    "params = {\n",
    "    'n_estimators': [200,300],\n",
    "    'max_depth' : [3,6,8],\n",
    "    'min_samples_split': [2,3,5,10],\n",
    "    'learning_rate':[0.05,0.1,0.2]\n",
    "}\n",
    "\n",
    "gb_grid = GridSearchCV(gb_c, params, cv=5, scoring='accuracy', n_jobs=-1)\n",
    "gb_grid.fit(x,y)\n",
    "print(f'최적 파라메터:',gb_grid.best_params_)\n",
    "print(f'평균정확도: {gb_grid.best_score_}')"
   ]
  },
  {
   "cell_type": "code",
   "execution_count": 23,
   "id": "c4927338-9ef2-45ae-a74f-c466b95accb6",
   "metadata": {},
   "outputs": [
    {
     "name": "stdout",
     "output_type": "stream",
     "text": [
      "정확도:1.000\n",
      "AUC: 1.000\n"
     ]
    }
   ],
   "source": [
    "estimator = gb_grid.best_estimator_\n",
    "y_hat = estimator.predict(x_test)\n",
    "print(f'정확도:{accuracy_score(y_test,y_hat):.3f}')\n",
    "print(f'AUC: {roc_auc_score(y_test, estimator.predict_proba(x_test)[:,1]):.3f}')"
   ]
  },
  {
   "cell_type": "markdown",
   "id": "25010f51-c316-4f4b-a970-6027d46da379",
   "metadata": {},
   "source": [
    "### XGBoost (사이킷런 래퍼)"
   ]
  },
  {
   "cell_type": "code",
   "execution_count": 18,
   "id": "8121f863-41a3-4f9e-a706-d8320f3acc9f",
   "metadata": {},
   "outputs": [],
   "source": [
    "# 학습데이터로부터 10퍼센트의 검증용 데이터를 분리\n",
    "x_train, x_val, y_train, y_val = train_test_split(x_train,y_train,train_size=0.9,random_state=10, stratify=y_train)"
   ]
  },
  {
   "cell_type": "code",
   "execution_count": 19,
   "id": "1c60310d-cc8e-412f-8f43-edb51b1cbf1c",
   "metadata": {
    "scrolled": true
   },
   "outputs": [
    {
     "name": "stdout",
     "output_type": "stream",
     "text": [
      "[0]\tvalidation_0-logloss:0.61900\tvalidation_1-logloss:0.62001\n",
      "[1]\tvalidation_0-logloss:0.58116\tvalidation_1-logloss:0.58546\n",
      "[2]\tvalidation_0-logloss:0.54623\tvalidation_1-logloss:0.55312\n",
      "[3]\tvalidation_0-logloss:0.51507\tvalidation_1-logloss:0.52506\n",
      "[4]\tvalidation_0-logloss:0.48661\tvalidation_1-logloss:0.49810\n",
      "[5]\tvalidation_0-logloss:0.46025\tvalidation_1-logloss:0.47340\n",
      "[6]\tvalidation_0-logloss:0.43610\tvalidation_1-logloss:0.45175\n"
     ]
    },
    {
     "name": "stderr",
     "output_type": "stream",
     "text": [
      "C:\\Users\\user\\anaconda3\\Lib\\site-packages\\xgboost\\sklearn.py:889: UserWarning: `eval_metric` in `fit` method is deprecated for better compatibility with scikit-learn, use `eval_metric` in constructor or`set_params` instead.\n",
      "  warnings.warn(\n",
      "C:\\Users\\user\\anaconda3\\Lib\\site-packages\\xgboost\\sklearn.py:889: UserWarning: `early_stopping_rounds` in `fit` method is deprecated for better compatibility with scikit-learn, use `early_stopping_rounds` in constructor or`set_params` instead.\n",
      "  warnings.warn(\n"
     ]
    },
    {
     "name": "stdout",
     "output_type": "stream",
     "text": [
      "[7]\tvalidation_0-logloss:0.41358\tvalidation_1-logloss:0.43120\n",
      "[8]\tvalidation_0-logloss:0.39286\tvalidation_1-logloss:0.41211\n",
      "[9]\tvalidation_0-logloss:0.37402\tvalidation_1-logloss:0.39391\n",
      "[10]\tvalidation_0-logloss:0.35586\tvalidation_1-logloss:0.37862\n",
      "[11]\tvalidation_0-logloss:0.33951\tvalidation_1-logloss:0.36225\n",
      "[12]\tvalidation_0-logloss:0.32365\tvalidation_1-logloss:0.34959\n",
      "[13]\tvalidation_0-logloss:0.30898\tvalidation_1-logloss:0.33336\n",
      "[14]\tvalidation_0-logloss:0.29553\tvalidation_1-logloss:0.31960\n",
      "[15]\tvalidation_0-logloss:0.28260\tvalidation_1-logloss:0.30523\n",
      "[16]\tvalidation_0-logloss:0.27076\tvalidation_1-logloss:0.29306\n",
      "[17]\tvalidation_0-logloss:0.25931\tvalidation_1-logloss:0.28031\n",
      "[18]\tvalidation_0-logloss:0.24883\tvalidation_1-logloss:0.27070\n",
      "[19]\tvalidation_0-logloss:0.23863\tvalidation_1-logloss:0.25921\n",
      "[20]\tvalidation_0-logloss:0.22930\tvalidation_1-logloss:0.24964\n",
      "[21]\tvalidation_0-logloss:0.22018\tvalidation_1-logloss:0.23936\n",
      "[22]\tvalidation_0-logloss:0.21133\tvalidation_1-logloss:0.23322\n",
      "[23]\tvalidation_0-logloss:0.20315\tvalidation_1-logloss:0.22569\n",
      "[24]\tvalidation_0-logloss:0.19507\tvalidation_1-logloss:0.21734\n",
      "[25]\tvalidation_0-logloss:0.18786\tvalidation_1-logloss:0.21066\n",
      "[26]\tvalidation_0-logloss:0.18117\tvalidation_1-logloss:0.20494\n",
      "[27]\tvalidation_0-logloss:0.17442\tvalidation_1-logloss:0.19857\n",
      "[28]\tvalidation_0-logloss:0.16816\tvalidation_1-logloss:0.19270\n",
      "[29]\tvalidation_0-logloss:0.16193\tvalidation_1-logloss:0.18772\n",
      "[30]\tvalidation_0-logloss:0.15632\tvalidation_1-logloss:0.18260\n",
      "[31]\tvalidation_0-logloss:0.15103\tvalidation_1-logloss:0.17775\n",
      "[32]\tvalidation_0-logloss:0.14552\tvalidation_1-logloss:0.17352\n",
      "[33]\tvalidation_0-logloss:0.14048\tvalidation_1-logloss:0.16917\n",
      "[34]\tvalidation_0-logloss:0.13597\tvalidation_1-logloss:0.16499\n",
      "[35]\tvalidation_0-logloss:0.13171\tvalidation_1-logloss:0.16104\n",
      "[36]\tvalidation_0-logloss:0.12716\tvalidation_1-logloss:0.15702\n",
      "[37]\tvalidation_0-logloss:0.12332\tvalidation_1-logloss:0.15424\n",
      "[38]\tvalidation_0-logloss:0.11921\tvalidation_1-logloss:0.15046\n",
      "[39]\tvalidation_0-logloss:0.11532\tvalidation_1-logloss:0.14658\n",
      "[40]\tvalidation_0-logloss:0.11155\tvalidation_1-logloss:0.14325\n",
      "[41]\tvalidation_0-logloss:0.10797\tvalidation_1-logloss:0.13900\n",
      "[42]\tvalidation_0-logloss:0.10493\tvalidation_1-logloss:0.13631\n",
      "[43]\tvalidation_0-logloss:0.10176\tvalidation_1-logloss:0.13400\n",
      "[44]\tvalidation_0-logloss:0.09874\tvalidation_1-logloss:0.13131\n",
      "[45]\tvalidation_0-logloss:0.09582\tvalidation_1-logloss:0.12917\n",
      "[46]\tvalidation_0-logloss:0.09308\tvalidation_1-logloss:0.12643\n",
      "[47]\tvalidation_0-logloss:0.09033\tvalidation_1-logloss:0.12405\n",
      "[48]\tvalidation_0-logloss:0.08781\tvalidation_1-logloss:0.12193\n",
      "[49]\tvalidation_0-logloss:0.08524\tvalidation_1-logloss:0.11915\n",
      "[50]\tvalidation_0-logloss:0.08283\tvalidation_1-logloss:0.11587\n",
      "[51]\tvalidation_0-logloss:0.08054\tvalidation_1-logloss:0.11302\n",
      "[52]\tvalidation_0-logloss:0.07829\tvalidation_1-logloss:0.11077\n",
      "[53]\tvalidation_0-logloss:0.07630\tvalidation_1-logloss:0.10810\n",
      "[54]\tvalidation_0-logloss:0.07425\tvalidation_1-logloss:0.10545\n",
      "[55]\tvalidation_0-logloss:0.07229\tvalidation_1-logloss:0.10319\n",
      "[56]\tvalidation_0-logloss:0.07052\tvalidation_1-logloss:0.10166\n",
      "[57]\tvalidation_0-logloss:0.06875\tvalidation_1-logloss:0.09899\n",
      "[58]\tvalidation_0-logloss:0.06702\tvalidation_1-logloss:0.09641\n",
      "[59]\tvalidation_0-logloss:0.06534\tvalidation_1-logloss:0.09414\n",
      "[60]\tvalidation_0-logloss:0.06384\tvalidation_1-logloss:0.09239\n",
      "[61]\tvalidation_0-logloss:0.06247\tvalidation_1-logloss:0.08995\n",
      "[62]\tvalidation_0-logloss:0.06095\tvalidation_1-logloss:0.08826\n",
      "[63]\tvalidation_0-logloss:0.05951\tvalidation_1-logloss:0.08667\n",
      "[64]\tvalidation_0-logloss:0.05820\tvalidation_1-logloss:0.08550\n",
      "[65]\tvalidation_0-logloss:0.05684\tvalidation_1-logloss:0.08397\n",
      "[66]\tvalidation_0-logloss:0.05573\tvalidation_1-logloss:0.08237\n",
      "[67]\tvalidation_0-logloss:0.05450\tvalidation_1-logloss:0.08177\n",
      "[68]\tvalidation_0-logloss:0.05339\tvalidation_1-logloss:0.08072\n",
      "[69]\tvalidation_0-logloss:0.05242\tvalidation_1-logloss:0.08009\n",
      "[70]\tvalidation_0-logloss:0.05132\tvalidation_1-logloss:0.07871\n",
      "[71]\tvalidation_0-logloss:0.05019\tvalidation_1-logloss:0.07745\n",
      "[72]\tvalidation_0-logloss:0.04933\tvalidation_1-logloss:0.07577\n",
      "[73]\tvalidation_0-logloss:0.04830\tvalidation_1-logloss:0.07456\n",
      "[74]\tvalidation_0-logloss:0.04751\tvalidation_1-logloss:0.07281\n",
      "[75]\tvalidation_0-logloss:0.04659\tvalidation_1-logloss:0.07215\n",
      "[76]\tvalidation_0-logloss:0.04584\tvalidation_1-logloss:0.07063\n",
      "[77]\tvalidation_0-logloss:0.04488\tvalidation_1-logloss:0.06955\n",
      "[78]\tvalidation_0-logloss:0.04414\tvalidation_1-logloss:0.06895\n",
      "[79]\tvalidation_0-logloss:0.04335\tvalidation_1-logloss:0.06889\n",
      "[80]\tvalidation_0-logloss:0.04268\tvalidation_1-logloss:0.06720\n",
      "[81]\tvalidation_0-logloss:0.04202\tvalidation_1-logloss:0.06594\n",
      "[82]\tvalidation_0-logloss:0.04118\tvalidation_1-logloss:0.06535\n",
      "[83]\tvalidation_0-logloss:0.04049\tvalidation_1-logloss:0.06471\n",
      "[84]\tvalidation_0-logloss:0.03982\tvalidation_1-logloss:0.06373\n",
      "[85]\tvalidation_0-logloss:0.03905\tvalidation_1-logloss:0.06325\n",
      "[86]\tvalidation_0-logloss:0.03847\tvalidation_1-logloss:0.06210\n",
      "[87]\tvalidation_0-logloss:0.03779\tvalidation_1-logloss:0.06119\n",
      "[88]\tvalidation_0-logloss:0.03708\tvalidation_1-logloss:0.06030\n",
      "[89]\tvalidation_0-logloss:0.03644\tvalidation_1-logloss:0.05945\n",
      "[90]\tvalidation_0-logloss:0.03589\tvalidation_1-logloss:0.05871\n",
      "[91]\tvalidation_0-logloss:0.03539\tvalidation_1-logloss:0.05825\n",
      "[92]\tvalidation_0-logloss:0.03476\tvalidation_1-logloss:0.05757\n",
      "[93]\tvalidation_0-logloss:0.03418\tvalidation_1-logloss:0.05691\n",
      "[94]\tvalidation_0-logloss:0.03366\tvalidation_1-logloss:0.05602\n",
      "[95]\tvalidation_0-logloss:0.03318\tvalidation_1-logloss:0.05540\n",
      "[96]\tvalidation_0-logloss:0.03269\tvalidation_1-logloss:0.05460\n",
      "[97]\tvalidation_0-logloss:0.03218\tvalidation_1-logloss:0.05400\n",
      "[98]\tvalidation_0-logloss:0.03176\tvalidation_1-logloss:0.05367\n",
      "[99]\tvalidation_0-logloss:0.03133\tvalidation_1-logloss:0.05333\n",
      "[100]\tvalidation_0-logloss:0.03077\tvalidation_1-logloss:0.05284\n",
      "[101]\tvalidation_0-logloss:0.03035\tvalidation_1-logloss:0.05230\n",
      "[102]\tvalidation_0-logloss:0.02983\tvalidation_1-logloss:0.05184\n",
      "[103]\tvalidation_0-logloss:0.02941\tvalidation_1-logloss:0.05111\n",
      "[104]\tvalidation_0-logloss:0.02905\tvalidation_1-logloss:0.05129\n",
      "[105]\tvalidation_0-logloss:0.02865\tvalidation_1-logloss:0.05013\n",
      "[106]\tvalidation_0-logloss:0.02826\tvalidation_1-logloss:0.04946\n",
      "[107]\tvalidation_0-logloss:0.02787\tvalidation_1-logloss:0.04901\n",
      "[108]\tvalidation_0-logloss:0.02749\tvalidation_1-logloss:0.04855\n",
      "[109]\tvalidation_0-logloss:0.02709\tvalidation_1-logloss:0.04785\n",
      "[110]\tvalidation_0-logloss:0.02673\tvalidation_1-logloss:0.04678\n",
      "[111]\tvalidation_0-logloss:0.02637\tvalidation_1-logloss:0.04665\n",
      "[112]\tvalidation_0-logloss:0.02597\tvalidation_1-logloss:0.04632\n",
      "[113]\tvalidation_0-logloss:0.02567\tvalidation_1-logloss:0.04629\n",
      "[114]\tvalidation_0-logloss:0.02525\tvalidation_1-logloss:0.04596\n",
      "[115]\tvalidation_0-logloss:0.02486\tvalidation_1-logloss:0.04564\n",
      "[116]\tvalidation_0-logloss:0.02453\tvalidation_1-logloss:0.04526\n",
      "[117]\tvalidation_0-logloss:0.02423\tvalidation_1-logloss:0.04487\n",
      "[118]\tvalidation_0-logloss:0.02387\tvalidation_1-logloss:0.04458\n",
      "[119]\tvalidation_0-logloss:0.02360\tvalidation_1-logloss:0.04410\n",
      "[120]\tvalidation_0-logloss:0.02332\tvalidation_1-logloss:0.04374\n",
      "[121]\tvalidation_0-logloss:0.02297\tvalidation_1-logloss:0.04347\n",
      "[122]\tvalidation_0-logloss:0.02270\tvalidation_1-logloss:0.04333\n",
      "[123]\tvalidation_0-logloss:0.02244\tvalidation_1-logloss:0.04300\n",
      "[124]\tvalidation_0-logloss:0.02219\tvalidation_1-logloss:0.04300\n",
      "[125]\tvalidation_0-logloss:0.02195\tvalidation_1-logloss:0.04269\n",
      "[126]\tvalidation_0-logloss:0.02167\tvalidation_1-logloss:0.04254\n",
      "[127]\tvalidation_0-logloss:0.02141\tvalidation_1-logloss:0.04167\n",
      "[128]\tvalidation_0-logloss:0.02115\tvalidation_1-logloss:0.04176\n",
      "[129]\tvalidation_0-logloss:0.02090\tvalidation_1-logloss:0.04083\n",
      "[130]\tvalidation_0-logloss:0.02066\tvalidation_1-logloss:0.04071\n",
      "[131]\tvalidation_0-logloss:0.02038\tvalidation_1-logloss:0.04057\n",
      "[132]\tvalidation_0-logloss:0.02021\tvalidation_1-logloss:0.04038\n",
      "[133]\tvalidation_0-logloss:0.02000\tvalidation_1-logloss:0.04013\n",
      "[134]\tvalidation_0-logloss:0.01974\tvalidation_1-logloss:0.04009\n",
      "[135]\tvalidation_0-logloss:0.01953\tvalidation_1-logloss:0.03987\n",
      "[136]\tvalidation_0-logloss:0.01928\tvalidation_1-logloss:0.03979\n",
      "[137]\tvalidation_0-logloss:0.01907\tvalidation_1-logloss:0.03903\n",
      "[138]\tvalidation_0-logloss:0.01886\tvalidation_1-logloss:0.03897\n",
      "[139]\tvalidation_0-logloss:0.01864\tvalidation_1-logloss:0.03889\n",
      "[140]\tvalidation_0-logloss:0.01844\tvalidation_1-logloss:0.03891\n",
      "[141]\tvalidation_0-logloss:0.01830\tvalidation_1-logloss:0.03871\n",
      "[142]\tvalidation_0-logloss:0.01812\tvalidation_1-logloss:0.03849\n",
      "[143]\tvalidation_0-logloss:0.01794\tvalidation_1-logloss:0.03828\n",
      "[144]\tvalidation_0-logloss:0.01779\tvalidation_1-logloss:0.03842\n",
      "[145]\tvalidation_0-logloss:0.01763\tvalidation_1-logloss:0.03822\n",
      "[146]\tvalidation_0-logloss:0.01748\tvalidation_1-logloss:0.03853\n",
      "[147]\tvalidation_0-logloss:0.01731\tvalidation_1-logloss:0.03786\n",
      "[148]\tvalidation_0-logloss:0.01717\tvalidation_1-logloss:0.03816\n",
      "[149]\tvalidation_0-logloss:0.01705\tvalidation_1-logloss:0.03800\n",
      "[150]\tvalidation_0-logloss:0.01688\tvalidation_1-logloss:0.03816\n",
      "[151]\tvalidation_0-logloss:0.01678\tvalidation_1-logloss:0.03791\n",
      "[152]\tvalidation_0-logloss:0.01663\tvalidation_1-logloss:0.03777\n",
      "[153]\tvalidation_0-logloss:0.01648\tvalidation_1-logloss:0.03759\n",
      "[154]\tvalidation_0-logloss:0.01640\tvalidation_1-logloss:0.03747\n",
      "[155]\tvalidation_0-logloss:0.01629\tvalidation_1-logloss:0.03775\n",
      "[156]\tvalidation_0-logloss:0.01617\tvalidation_1-logloss:0.03739\n",
      "[157]\tvalidation_0-logloss:0.01604\tvalidation_1-logloss:0.03718\n",
      "[158]\tvalidation_0-logloss:0.01593\tvalidation_1-logloss:0.03685\n",
      "[159]\tvalidation_0-logloss:0.01584\tvalidation_1-logloss:0.03714\n",
      "[160]\tvalidation_0-logloss:0.01570\tvalidation_1-logloss:0.03702\n",
      "[161]\tvalidation_0-logloss:0.01560\tvalidation_1-logloss:0.03718\n",
      "[162]\tvalidation_0-logloss:0.01553\tvalidation_1-logloss:0.03707\n",
      "[163]\tvalidation_0-logloss:0.01542\tvalidation_1-logloss:0.03673\n",
      "[164]\tvalidation_0-logloss:0.01533\tvalidation_1-logloss:0.03653\n",
      "[165]\tvalidation_0-logloss:0.01523\tvalidation_1-logloss:0.03622\n",
      "[166]\tvalidation_0-logloss:0.01516\tvalidation_1-logloss:0.03612\n",
      "[167]\tvalidation_0-logloss:0.01507\tvalidation_1-logloss:0.03639\n",
      "[168]\tvalidation_0-logloss:0.01499\tvalidation_1-logloss:0.03657\n",
      "[169]\tvalidation_0-logloss:0.01489\tvalidation_1-logloss:0.03625\n",
      "[170]\tvalidation_0-logloss:0.01477\tvalidation_1-logloss:0.03595\n",
      "[171]\tvalidation_0-logloss:0.01469\tvalidation_1-logloss:0.03576\n",
      "[172]\tvalidation_0-logloss:0.01462\tvalidation_1-logloss:0.03567\n",
      "[173]\tvalidation_0-logloss:0.01454\tvalidation_1-logloss:0.03584\n",
      "[174]\tvalidation_0-logloss:0.01445\tvalidation_1-logloss:0.03555\n",
      "[175]\tvalidation_0-logloss:0.01439\tvalidation_1-logloss:0.03546\n",
      "[176]\tvalidation_0-logloss:0.01431\tvalidation_1-logloss:0.03572\n",
      "[177]\tvalidation_0-logloss:0.01425\tvalidation_1-logloss:0.03563\n",
      "[178]\tvalidation_0-logloss:0.01415\tvalidation_1-logloss:0.03561\n",
      "[179]\tvalidation_0-logloss:0.01408\tvalidation_1-logloss:0.03576\n",
      "[180]\tvalidation_0-logloss:0.01402\tvalidation_1-logloss:0.03558\n",
      "[181]\tvalidation_0-logloss:0.01396\tvalidation_1-logloss:0.03550\n",
      "[182]\tvalidation_0-logloss:0.01389\tvalidation_1-logloss:0.03576\n",
      "[183]\tvalidation_0-logloss:0.01382\tvalidation_1-logloss:0.03591\n",
      "[184]\tvalidation_0-logloss:0.01376\tvalidation_1-logloss:0.03573\n",
      "[185]\tvalidation_0-logloss:0.01371\tvalidation_1-logloss:0.03566\n"
     ]
    },
    {
     "data": {
      "text/html": [
       "<style>#sk-container-id-3 {color: black;background-color: white;}#sk-container-id-3 pre{padding: 0;}#sk-container-id-3 div.sk-toggleable {background-color: white;}#sk-container-id-3 label.sk-toggleable__label {cursor: pointer;display: block;width: 100%;margin-bottom: 0;padding: 0.3em;box-sizing: border-box;text-align: center;}#sk-container-id-3 label.sk-toggleable__label-arrow:before {content: \"▸\";float: left;margin-right: 0.25em;color: #696969;}#sk-container-id-3 label.sk-toggleable__label-arrow:hover:before {color: black;}#sk-container-id-3 div.sk-estimator:hover label.sk-toggleable__label-arrow:before {color: black;}#sk-container-id-3 div.sk-toggleable__content {max-height: 0;max-width: 0;overflow: hidden;text-align: left;background-color: #f0f8ff;}#sk-container-id-3 div.sk-toggleable__content pre {margin: 0.2em;color: black;border-radius: 0.25em;background-color: #f0f8ff;}#sk-container-id-3 input.sk-toggleable__control:checked~div.sk-toggleable__content {max-height: 200px;max-width: 100%;overflow: auto;}#sk-container-id-3 input.sk-toggleable__control:checked~label.sk-toggleable__label-arrow:before {content: \"▾\";}#sk-container-id-3 div.sk-estimator input.sk-toggleable__control:checked~label.sk-toggleable__label {background-color: #d4ebff;}#sk-container-id-3 div.sk-label input.sk-toggleable__control:checked~label.sk-toggleable__label {background-color: #d4ebff;}#sk-container-id-3 input.sk-hidden--visually {border: 0;clip: rect(1px 1px 1px 1px);clip: rect(1px, 1px, 1px, 1px);height: 1px;margin: -1px;overflow: hidden;padding: 0;position: absolute;width: 1px;}#sk-container-id-3 div.sk-estimator {font-family: monospace;background-color: #f0f8ff;border: 1px dotted black;border-radius: 0.25em;box-sizing: border-box;margin-bottom: 0.5em;}#sk-container-id-3 div.sk-estimator:hover {background-color: #d4ebff;}#sk-container-id-3 div.sk-parallel-item::after {content: \"\";width: 100%;border-bottom: 1px solid gray;flex-grow: 1;}#sk-container-id-3 div.sk-label:hover label.sk-toggleable__label {background-color: #d4ebff;}#sk-container-id-3 div.sk-serial::before {content: \"\";position: absolute;border-left: 1px solid gray;box-sizing: border-box;top: 0;bottom: 0;left: 50%;z-index: 0;}#sk-container-id-3 div.sk-serial {display: flex;flex-direction: column;align-items: center;background-color: white;padding-right: 0.2em;padding-left: 0.2em;position: relative;}#sk-container-id-3 div.sk-item {position: relative;z-index: 1;}#sk-container-id-3 div.sk-parallel {display: flex;align-items: stretch;justify-content: center;background-color: white;position: relative;}#sk-container-id-3 div.sk-item::before, #sk-container-id-3 div.sk-parallel-item::before {content: \"\";position: absolute;border-left: 1px solid gray;box-sizing: border-box;top: 0;bottom: 0;left: 50%;z-index: -1;}#sk-container-id-3 div.sk-parallel-item {display: flex;flex-direction: column;z-index: 1;position: relative;background-color: white;}#sk-container-id-3 div.sk-parallel-item:first-child::after {align-self: flex-end;width: 50%;}#sk-container-id-3 div.sk-parallel-item:last-child::after {align-self: flex-start;width: 50%;}#sk-container-id-3 div.sk-parallel-item:only-child::after {width: 0;}#sk-container-id-3 div.sk-dashed-wrapped {border: 1px dashed gray;margin: 0 0.4em 0.5em 0.4em;box-sizing: border-box;padding-bottom: 0.4em;background-color: white;}#sk-container-id-3 div.sk-label label {font-family: monospace;font-weight: bold;display: inline-block;line-height: 1.2em;}#sk-container-id-3 div.sk-label-container {text-align: center;}#sk-container-id-3 div.sk-container {/* jupyter's `normalize.less` sets `[hidden] { display: none; }` but bootstrap.min.css set `[hidden] { display: none !important; }` so we also need the `!important` here to be able to override the default hidden behavior on the sphinx rendered scikit-learn.org. See: https://github.com/scikit-learn/scikit-learn/issues/21755 */display: inline-block !important;position: relative;}#sk-container-id-3 div.sk-text-repr-fallback {display: none;}</style><div id=\"sk-container-id-3\" class=\"sk-top-container\"><div class=\"sk-text-repr-fallback\"><pre>XGBClassifier(base_score=None, booster=None, callbacks=None,\n",
       "              colsample_bylevel=None, colsample_bynode=None,\n",
       "              colsample_bytree=None, device=None, early_stopping_rounds=None,\n",
       "              enable_categorical=False, eval_metric=None, feature_types=None,\n",
       "              gamma=None, grow_policy=None, importance_type=None,\n",
       "              interaction_constraints=None, learning_rate=0.05, max_bin=None,\n",
       "              max_cat_threshold=None, max_cat_to_onehot=None,\n",
       "              max_delta_step=None, max_depth=3, max_leaves=None,\n",
       "              min_child_weight=None, missing=nan, monotone_constraints=None,\n",
       "              multi_strategy=None, n_estimators=300, n_jobs=None,\n",
       "              num_parallel_tree=None, random_state=None, ...)</pre><b>In a Jupyter environment, please rerun this cell to show the HTML representation or trust the notebook. <br />On GitHub, the HTML representation is unable to render, please try loading this page with nbviewer.org.</b></div><div class=\"sk-container\" hidden><div class=\"sk-item\"><div class=\"sk-estimator sk-toggleable\"><input class=\"sk-toggleable__control sk-hidden--visually\" id=\"sk-estimator-id-3\" type=\"checkbox\" checked><label for=\"sk-estimator-id-3\" class=\"sk-toggleable__label sk-toggleable__label-arrow\">XGBClassifier</label><div class=\"sk-toggleable__content\"><pre>XGBClassifier(base_score=None, booster=None, callbacks=None,\n",
       "              colsample_bylevel=None, colsample_bynode=None,\n",
       "              colsample_bytree=None, device=None, early_stopping_rounds=None,\n",
       "              enable_categorical=False, eval_metric=None, feature_types=None,\n",
       "              gamma=None, grow_policy=None, importance_type=None,\n",
       "              interaction_constraints=None, learning_rate=0.05, max_bin=None,\n",
       "              max_cat_threshold=None, max_cat_to_onehot=None,\n",
       "              max_delta_step=None, max_depth=3, max_leaves=None,\n",
       "              min_child_weight=None, missing=nan, monotone_constraints=None,\n",
       "              multi_strategy=None, n_estimators=300, n_jobs=None,\n",
       "              num_parallel_tree=None, random_state=None, ...)</pre></div></div></div></div></div>"
      ],
      "text/plain": [
       "XGBClassifier(base_score=None, booster=None, callbacks=None,\n",
       "              colsample_bylevel=None, colsample_bynode=None,\n",
       "              colsample_bytree=None, device=None, early_stopping_rounds=None,\n",
       "              enable_categorical=False, eval_metric=None, feature_types=None,\n",
       "              gamma=None, grow_policy=None, importance_type=None,\n",
       "              interaction_constraints=None, learning_rate=0.05, max_bin=None,\n",
       "              max_cat_threshold=None, max_cat_to_onehot=None,\n",
       "              max_delta_step=None, max_depth=3, max_leaves=None,\n",
       "              min_child_weight=None, missing=nan, monotone_constraints=None,\n",
       "              multi_strategy=None, n_estimators=300, n_jobs=None,\n",
       "              num_parallel_tree=None, random_state=None, ...)"
      ]
     },
     "execution_count": 19,
     "metadata": {},
     "output_type": "execute_result"
    }
   ],
   "source": [
    "from xgboost import XGBClassifier\n",
    "\n",
    "xgb_c = XGBClassifier(n_estimators = 300, learning_rate = 0.05, max_depth=3)\n",
    "evals = [(x_train, y_train), (x_val,y_val)]\n",
    "# logloss 분류문제에 사용되는 손실함수, cross-entropy 에러라고도 한다\n",
    "xgb_c.fit(x_train, y_train, early_stopping_rounds=10, eval_metric='logloss', eval_set=evals, verbose=True)"
   ]
  },
  {
   "cell_type": "code",
   "execution_count": 20,
   "id": "97348867-169c-4080-a561-d663a45b46e1",
   "metadata": {},
   "outputs": [
    {
     "name": "stdout",
     "output_type": "stream",
     "text": [
      "정확도:0.974\n",
      "AUC: 0.996\n"
     ]
    }
   ],
   "source": [
    "y_hat = xgb_c.predict(x_test)\n",
    "print(f'정확도:{accuracy_score(y_test,y_hat):.3f}')\n",
    "print(f'AUC: {roc_auc_score(y_test, xgb_c.predict_proba(x_test)[:,1]):.3f}')"
   ]
  },
  {
   "cell_type": "code",
   "execution_count": 22,
   "id": "ad517aa3-1f08-48a6-812d-d06a71deda52",
   "metadata": {},
   "outputs": [
    {
     "data": {
      "image/png": "[encoded data removed]",
      "text/plain": [
       "<Figure size 1200x1000 with 1 Axes>"
      ]
     },
     "metadata": {},
     "output_type": "display_data"
    }
   ],
   "source": [
    "import matplotlib.pyplot as plt\n",
    "from xgboost import plot_importance\n",
    "\n",
    "fig, ax = plt.subplots(figsize = (12,10))\n",
    "plot_importance(xgb_c,ax=ax)\n",
    "plt.show()"
   ]
  },
  {
   "cell_type": "markdown",
   "id": "c73cff92-230f-474d-960c-0d3d80d065e8",
   "metadata": {},
   "source": [
    "### LightGBM (사이킷런 래퍼)"
   ]
  },
  {
   "cell_type": "code",
   "execution_count": 23,
   "id": "56d2da41-2bc4-4f73-97e2-38973d6bcf32",
   "metadata": {},
   "outputs": [
    {
     "name": "stdout",
     "output_type": "stream",
     "text": [
      "[LightGBM] [Warning] Found whitespace in feature_names, replace with underlines\n",
      "[LightGBM] [Info] Number of positive: 28, number of negative: 17\n",
      "[LightGBM] [Info] Auto-choosing col-wise multi-threading, the overhead of testing was 0.000181 seconds.\n",
      "You can set `force_col_wise=true` to remove the overhead.\n",
      "[LightGBM] [Info] Total Bins 480\n",
      "[LightGBM] [Info] Number of data points in the train set: 45, number of used features: 30\n",
      "[LightGBM] [Warning] Found whitespace in feature_names, replace with underlines\n",
      "[LightGBM] [Info] [binary:BoostFromScore]: pavg=0.622222 -> initscore=0.498991\n",
      "[LightGBM] [Info] Start training from score 0.498991\n",
      "[LightGBM] [Warning] No further splits with positive gain, best gain: -inf\n",
      "Training until validation scores don't improve for 10 rounds\n",
      "[LightGBM] [Warning] No further splits with positive gain, best gain: -inf\n",
      "[LightGBM] [Warning] No further splits with positive gain, best gain: -inf\n",
      "[LightGBM] [Warning] No further splits with positive gain, best gain: -inf\n",
      "[LightGBM] [Warning] No further splits with positive gain, best gain: -inf\n",
      "[LightGBM] [Warning] No further splits with positive gain, best gain: -inf\n",
      "[LightGBM] [Warning] No further splits with positive gain, best gain: -inf\n",
      "[LightGBM] [Warning] No further splits with positive gain, best gain: -inf\n",
      "[LightGBM] [Warning] No further splits with positive gain, best gain: -inf\n",
      "[LightGBM] [Warning] No further splits with positive gain, best gain: -inf\n",
      "[LightGBM] [Warning] No further splits with positive gain, best gain: -inf\n",
      "[LightGBM] [Warning] No further splits with positive gain, best gain: -inf\n",
      "[LightGBM] [Warning] No further splits with positive gain, best gain: -inf\n",
      "[LightGBM] [Warning] No further splits with positive gain, best gain: -inf\n",
      "[LightGBM] [Warning] No further splits with positive gain, best gain: -inf\n",
      "[LightGBM] [Warning] No further splits with positive gain, best gain: -inf\n",
      "[LightGBM] [Warning] No further splits with positive gain, best gain: -inf\n",
      "[LightGBM] [Warning] No further splits with positive gain, best gain: -inf\n",
      "[LightGBM] [Warning] No further splits with positive gain, best gain: -inf\n",
      "[LightGBM] [Warning] No further splits with positive gain, best gain: -inf\n",
      "[LightGBM] [Warning] No further splits with positive gain, best gain: -inf\n",
      "[LightGBM] [Warning] No further splits with positive gain, best gain: -inf\n",
      "[LightGBM] [Warning] No further splits with positive gain, best gain: -inf\n",
      "[LightGBM] [Warning] No further splits with positive gain, best gain: -inf\n",
      "[LightGBM] [Warning] No further splits with positive gain, best gain: -inf\n",
      "[LightGBM] [Warning] No further splits with positive gain, best gain: -inf\n",
      "[LightGBM] [Warning] No further splits with positive gain, best gain: -inf\n",
      "[LightGBM] [Warning] No further splits with positive gain, best gain: -inf\n",
      "[LightGBM] [Warning] No further splits with positive gain, best gain: -inf\n",
      "[LightGBM] [Warning] No further splits with positive gain, best gain: -inf\n",
      "[LightGBM] [Warning] No further splits with positive gain, best gain: -inf\n",
      "[LightGBM] [Warning] No further splits with positive gain, best gain: -inf\n",
      "[LightGBM] [Warning] No further splits with positive gain, best gain: -inf\n",
      "[LightGBM] [Warning] No further splits with positive gain, best gain: -inf\n",
      "[LightGBM] [Warning] No further splits with positive gain, best gain: -inf\n",
      "[LightGBM] [Warning] No further splits with positive gain, best gain: -inf\n",
      "[LightGBM] [Warning] No further splits with positive gain, best gain: -inf\n",
      "[LightGBM] [Warning] No further splits with positive gain, best gain: -inf\n",
      "[LightGBM] [Warning] No further splits with positive gain, best gain: -inf\n",
      "[LightGBM] [Warning] No further splits with positive gain, best gain: -inf\n",
      "[LightGBM] [Warning] No further splits with positive gain, best gain: -inf\n",
      "[LightGBM] [Warning] No further splits with positive gain, best gain: -inf\n",
      "[LightGBM] [Warning] No further splits with positive gain, best gain: -inf\n",
      "[LightGBM] [Warning] No further splits with positive gain, best gain: -inf\n",
      "[LightGBM] [Warning] No further splits with positive gain, best gain: -inf\n",
      "[LightGBM] [Warning] No further splits with positive gain, best gain: -inf\n",
      "[LightGBM] [Warning] No further splits with positive gain, best gain: -inf\n",
      "[LightGBM] [Warning] No further splits with positive gain, best gain: -inf\n",
      "[LightGBM] [Warning] No further splits with positive gain, best gain: -inf\n",
      "[LightGBM] [Warning] No further splits with positive gain, best gain: -inf\n",
      "[LightGBM] [Warning] No further splits with positive gain, best gain: -inf\n",
      "[LightGBM] [Warning] No further splits with positive gain, best gain: -inf\n",
      "[LightGBM] [Warning] No further splits with positive gain, best gain: -inf\n",
      "[LightGBM] [Warning] No further splits with positive gain, best gain: -inf\n",
      "[LightGBM] [Warning] No further splits with positive gain, best gain: -inf\n",
      "[LightGBM] [Warning] No further splits with positive gain, best gain: -inf\n",
      "[LightGBM] [Warning] No further splits with positive gain, best gain: -inf\n",
      "[LightGBM] [Warning] No further splits with positive gain, best gain: -inf\n",
      "[LightGBM] [Warning] No further splits with positive gain, best gain: -inf\n",
      "[LightGBM] [Warning] No further splits with positive gain, best gain: -inf\n",
      "[LightGBM] [Warning] No further splits with positive gain, best gain: -inf\n",
      "[LightGBM] [Warning] No further splits with positive gain, best gain: -inf\n",
      "[LightGBM] [Warning] No further splits with positive gain, best gain: -inf\n",
      "[LightGBM] [Warning] No further splits with positive gain, best gain: -inf\n",
      "[LightGBM] [Warning] No further splits with positive gain, best gain: -inf\n",
      "[LightGBM] [Warning] No further splits with positive gain, best gain: -inf\n",
      "[LightGBM] [Warning] No further splits with positive gain, best gain: -inf\n",
      "[LightGBM] [Warning] No further splits with positive gain, best gain: -inf\n",
      "[LightGBM] [Warning] No further splits with positive gain, best gain: -inf\n",
      "[LightGBM] [Warning] No further splits with positive gain, best gain: -inf\n",
      "[LightGBM] [Warning] No further splits with positive gain, best gain: -inf\n",
      "[LightGBM] [Warning] No further splits with positive gain, best gain: -inf\n",
      "[LightGBM] [Warning] No further splits with positive gain, best gain: -inf\n",
      "[LightGBM] [Warning] No further splits with positive gain, best gain: -inf\n",
      "Early stopping, best iteration is:\n",
      "[64]\ttraining's binary_logloss: 0.036361\tvalid_1's binary_logloss: 0.232808\n"
     ]
    },
    {
     "data": {
      "text/html": [
       "<style>#sk-container-id-3 {color: black;background-color: white;}#sk-container-id-3 pre{padding: 0;}#sk-container-id-3 div.sk-toggleable {background-color: white;}#sk-container-id-3 label.sk-toggleable__label {cursor: pointer;display: block;width: 100%;margin-bottom: 0;padding: 0.3em;box-sizing: border-box;text-align: center;}#sk-container-id-3 label.sk-toggleable__label-arrow:before {content: \"▸\";float: left;margin-right: 0.25em;color: #696969;}#sk-container-id-3 label.sk-toggleable__label-arrow:hover:before {color: black;}#sk-container-id-3 div.sk-estimator:hover label.sk-toggleable__label-arrow:before {color: black;}#sk-container-id-3 div.sk-toggleable__content {max-height: 0;max-width: 0;overflow: hidden;text-align: left;background-color: #f0f8ff;}#sk-container-id-3 div.sk-toggleable__content pre {margin: 0.2em;color: black;border-radius: 0.25em;background-color: #f0f8ff;}#sk-container-id-3 input.sk-toggleable__control:checked~div.sk-toggleable__content {max-height: 200px;max-width: 100%;overflow: auto;}#sk-container-id-3 input.sk-toggleable__control:checked~label.sk-toggleable__label-arrow:before {content: \"▾\";}#sk-container-id-3 div.sk-estimator input.sk-toggleable__control:checked~label.sk-toggleable__label {background-color: #d4ebff;}#sk-container-id-3 div.sk-label input.sk-toggleable__control:checked~label.sk-toggleable__label {background-color: #d4ebff;}#sk-container-id-3 input.sk-hidden--visually {border: 0;clip: rect(1px 1px 1px 1px);clip: rect(1px, 1px, 1px, 1px);height: 1px;margin: -1px;overflow: hidden;padding: 0;position: absolute;width: 1px;}#sk-container-id-3 div.sk-estimator {font-family: monospace;background-color: #f0f8ff;border: 1px dotted black;border-radius: 0.25em;box-sizing: border-box;margin-bottom: 0.5em;}#sk-container-id-3 div.sk-estimator:hover {background-color: #d4ebff;}#sk-container-id-3 div.sk-parallel-item::after {content: \"\";width: 100%;border-bottom: 1px solid gray;flex-grow: 1;}#sk-container-id-3 div.sk-label:hover label.sk-toggleable__label {background-color: #d4ebff;}#sk-container-id-3 div.sk-serial::before {content: \"\";position: absolute;border-left: 1px solid gray;box-sizing: border-box;top: 0;bottom: 0;left: 50%;z-index: 0;}#sk-container-id-3 div.sk-serial {display: flex;flex-direction: column;align-items: center;background-color: white;padding-right: 0.2em;padding-left: 0.2em;position: relative;}#sk-container-id-3 div.sk-item {position: relative;z-index: 1;}#sk-container-id-3 div.sk-parallel {display: flex;align-items: stretch;justify-content: center;background-color: white;position: relative;}#sk-container-id-3 div.sk-item::before, #sk-container-id-3 div.sk-parallel-item::before {content: \"\";position: absolute;border-left: 1px solid gray;box-sizing: border-box;top: 0;bottom: 0;left: 50%;z-index: -1;}#sk-container-id-3 div.sk-parallel-item {display: flex;flex-direction: column;z-index: 1;position: relative;background-color: white;}#sk-container-id-3 div.sk-parallel-item:first-child::after {align-self: flex-end;width: 50%;}#sk-container-id-3 div.sk-parallel-item:last-child::after {align-self: flex-start;width: 50%;}#sk-container-id-3 div.sk-parallel-item:only-child::after {width: 0;}#sk-container-id-3 div.sk-dashed-wrapped {border: 1px dashed gray;margin: 0 0.4em 0.5em 0.4em;box-sizing: border-box;padding-bottom: 0.4em;background-color: white;}#sk-container-id-3 div.sk-label label {font-family: monospace;font-weight: bold;display: inline-block;line-height: 1.2em;}#sk-container-id-3 div.sk-label-container {text-align: center;}#sk-container-id-3 div.sk-container {/* jupyter's `normalize.less` sets `[hidden] { display: none; }` but bootstrap.min.css set `[hidden] { display: none !important; }` so we also need the `!important` here to be able to override the default hidden behavior on the sphinx rendered scikit-learn.org. See: https://github.com/scikit-learn/scikit-learn/issues/21755 */display: inline-block !important;position: relative;}#sk-container-id-3 div.sk-text-repr-fallback {display: none;}</style><div id=\"sk-container-id-3\" class=\"sk-top-container\"><div class=\"sk-text-repr-fallback\"><pre>LGBMClassifier(learning_rate=0.05, n_estimators=300)</pre><b>In a Jupyter environment, please rerun this cell to show the HTML representation or trust the notebook. <br />On GitHub, the HTML representation is unable to render, please try loading this page with nbviewer.org.</b></div><div class=\"sk-container\" hidden><div class=\"sk-item\"><div class=\"sk-estimator sk-toggleable\"><input class=\"sk-toggleable__control sk-hidden--visually\" id=\"sk-estimator-id-3\" type=\"checkbox\" checked><label for=\"sk-estimator-id-3\" class=\"sk-toggleable__label sk-toggleable__label-arrow\">LGBMClassifier</label><div class=\"sk-toggleable__content\"><pre>LGBMClassifier(learning_rate=0.05, n_estimators=300)</pre></div></div></div></div></div>"
      ],
      "text/plain": [
       "LGBMClassifier(learning_rate=0.05, n_estimators=300)"
      ]
     },
     "execution_count": 23,
     "metadata": {},
     "output_type": "execute_result"
    }
   ],
   "source": [
    "from lightgbm import LGBMClassifier, early_stopping\n",
    "from sklearn.metrics import mean_squared_error, mean_absolute_error, r2_score\n",
    "lgbm_c = LGBMClassifier(n_estimators = 300, learning_rate = 0.05)\n",
    "evals = [(x_train, y_train), (x_val,y_val)]\n",
    "callbacks = [early_stopping(stopping_rounds=10)]\n",
    "lgbm_c.fit(x_train, y_train, eval_metric='logloss',callbacks=callbacks, eval_set=evals)"
   ]
  },
  {
   "cell_type": "code",
   "execution_count": 24,
   "id": "d693b3b1-0fe0-4793-a7fa-acc0c0babb15",
   "metadata": {},
   "outputs": [
    {
     "name": "stdout",
     "output_type": "stream",
     "text": [
      "RMSE:0.3244428422615251\n",
      "R2-score:0.548\n"
     ]
    }
   ],
   "source": [
    "y_hat = lgbm_c.predict(x_test)\n",
    "print(f'RMSE:{np.sqrt(mean_squared_error(y_test, y_hat))}')\n",
    "print(f'R2-score:{r2_score(y_test, y_hat):.3f}')"
   ]
  },
  {
   "cell_type": "markdown",
   "id": "810c2e43-5a07-4cf4-8778-534c5171c3cc",
   "metadata": {},
   "source": [
    "## Stacking"
   ]
  },
  {
   "cell_type": "markdown",
   "id": "1938ca39-f39e-423b-b4b8-7367388bc9d7",
   "metadata": {},
   "source": [
    "### 패키지로딩"
   ]
  },
  {
   "cell_type": "code",
   "execution_count": 7,
   "id": "0f5e4c9a-61ca-41e9-a25a-90f021493b54",
   "metadata": {},
   "outputs": [],
   "source": [
    "from sklearn.neighbors import KNeighborsClassifier\n",
    "from sklearn.ensemble import RandomForestClassifier\n",
    "from sklearn.ensemble import AdaBoostClassifier\n",
    "from sklearn.tree import DecisionTreeClassifier\n",
    "\n",
    "from sklearn.linear_model import LogisticRegression  # 2번쨰 메타모델"
   ]
  },
  {
   "cell_type": "markdown",
   "id": "a94bc6e3-768d-4615-a3f5-fea12a116c23",
   "metadata": {},
   "source": [
    "### 모델생성"
   ]
  },
  {
   "cell_type": "code",
   "execution_count": 8,
   "id": "81f20c27-a2bf-47df-914f-62653481b6fe",
   "metadata": {},
   "outputs": [],
   "source": [
    "knn_1st = KNeighborsClassifier(n_neighbors=3)\n",
    "rf_1st = RandomForestClassifier(random_state=0)\n",
    "dt_1st = DecisionTreeClassifier()\n",
    "ada_1st = AdaBoostClassifier(n_estimators=200)\n",
    "\n",
    "lr_final = LogisticRegression()"
   ]
  },
  {
   "cell_type": "markdown",
   "id": "e752aec7-00ae-4037-a9b6-3c0dc1451b7f",
   "metadata": {},
   "source": [
    "### 학습 및 평가"
   ]
  },
  {
   "cell_type": "code",
   "execution_count": 10,
   "id": "bec4046a-8457-4e97-a684-5706d28b5cf9",
   "metadata": {},
   "outputs": [
    {
     "data": {
      "text/html": [
       "<style>#sk-container-id-1 {color: black;background-color: white;}#sk-container-id-1 pre{padding: 0;}#sk-container-id-1 div.sk-toggleable {background-color: white;}#sk-container-id-1 label.sk-toggleable__label {cursor: pointer;display: block;width: 100%;margin-bottom: 0;padding: 0.3em;box-sizing: border-box;text-align: center;}#sk-container-id-1 label.sk-toggleable__label-arrow:before {content: \"▸\";float: left;margin-right: 0.25em;color: #696969;}#sk-container-id-1 label.sk-toggleable__label-arrow:hover:before {color: black;}#sk-container-id-1 div.sk-estimator:hover label.sk-toggleable__label-arrow:before {color: black;}#sk-container-id-1 div.sk-toggleable__content {max-height: 0;max-width: 0;overflow: hidden;text-align: left;background-color: #f0f8ff;}#sk-container-id-1 div.sk-toggleable__content pre {margin: 0.2em;color: black;border-radius: 0.25em;background-color: #f0f8ff;}#sk-container-id-1 input.sk-toggleable__control:checked~div.sk-toggleable__content {max-height: 200px;max-width: 100%;overflow: auto;}#sk-container-id-1 input.sk-toggleable__control:checked~label.sk-toggleable__label-arrow:before {content: \"▾\";}#sk-container-id-1 div.sk-estimator input.sk-toggleable__control:checked~label.sk-toggleable__label {background-color: #d4ebff;}#sk-container-id-1 div.sk-label input.sk-toggleable__control:checked~label.sk-toggleable__label {background-color: #d4ebff;}#sk-container-id-1 input.sk-hidden--visually {border: 0;clip: rect(1px 1px 1px 1px);clip: rect(1px, 1px, 1px, 1px);height: 1px;margin: -1px;overflow: hidden;padding: 0;position: absolute;width: 1px;}#sk-container-id-1 div.sk-estimator {font-family: monospace;background-color: #f0f8ff;border: 1px dotted black;border-radius: 0.25em;box-sizing: border-box;margin-bottom: 0.5em;}#sk-container-id-1 div.sk-estimator:hover {background-color: #d4ebff;}#sk-container-id-1 div.sk-parallel-item::after {content: \"\";width: 100%;border-bottom: 1px solid gray;flex-grow: 1;}#sk-container-id-1 div.sk-label:hover label.sk-toggleable__label {background-color: #d4ebff;}#sk-container-id-1 div.sk-serial::before {content: \"\";position: absolute;border-left: 1px solid gray;box-sizing: border-box;top: 0;bottom: 0;left: 50%;z-index: 0;}#sk-container-id-1 div.sk-serial {display: flex;flex-direction: column;align-items: center;background-color: white;padding-right: 0.2em;padding-left: 0.2em;position: relative;}#sk-container-id-1 div.sk-item {position: relative;z-index: 1;}#sk-container-id-1 div.sk-parallel {display: flex;align-items: stretch;justify-content: center;background-color: white;position: relative;}#sk-container-id-1 div.sk-item::before, #sk-container-id-1 div.sk-parallel-item::before {content: \"\";position: absolute;border-left: 1px solid gray;box-sizing: border-box;top: 0;bottom: 0;left: 50%;z-index: -1;}#sk-container-id-1 div.sk-parallel-item {display: flex;flex-direction: column;z-index: 1;position: relative;background-color: white;}#sk-container-id-1 div.sk-parallel-item:first-child::after {align-self: flex-end;width: 50%;}#sk-container-id-1 div.sk-parallel-item:last-child::after {align-self: flex-start;width: 50%;}#sk-container-id-1 div.sk-parallel-item:only-child::after {width: 0;}#sk-container-id-1 div.sk-dashed-wrapped {border: 1px dashed gray;margin: 0 0.4em 0.5em 0.4em;box-sizing: border-box;padding-bottom: 0.4em;background-color: white;}#sk-container-id-1 div.sk-label label {font-family: monospace;font-weight: bold;display: inline-block;line-height: 1.2em;}#sk-container-id-1 div.sk-label-container {text-align: center;}#sk-container-id-1 div.sk-container {/* jupyter's `normalize.less` sets `[hidden] { display: none; }` but bootstrap.min.css set `[hidden] { display: none !important; }` so we also need the `!important` here to be able to override the default hidden behavior on the sphinx rendered scikit-learn.org. See: https://github.com/scikit-learn/scikit-learn/issues/21755 */display: inline-block !important;position: relative;}#sk-container-id-1 div.sk-text-repr-fallback {display: none;}</style><div id=\"sk-container-id-1\" class=\"sk-top-container\"><div class=\"sk-text-repr-fallback\"><pre>DecisionTreeClassifier()</pre><b>In a Jupyter environment, please rerun this cell to show the HTML representation or trust the notebook. <br />On GitHub, the HTML representation is unable to render, please try loading this page with nbviewer.org.</b></div><div class=\"sk-container\" hidden><div class=\"sk-item\"><div class=\"sk-estimator sk-toggleable\"><input class=\"sk-toggleable__control sk-hidden--visually\" id=\"sk-estimator-id-1\" type=\"checkbox\" checked><label for=\"sk-estimator-id-1\" class=\"sk-toggleable__label sk-toggleable__label-arrow\">DecisionTreeClassifier</label><div class=\"sk-toggleable__content\"><pre>DecisionTreeClassifier()</pre></div></div></div></div></div>"
      ],
      "text/plain": [
       "DecisionTreeClassifier()"
      ]
     },
     "execution_count": 10,
     "metadata": {},
     "output_type": "execute_result"
    }
   ],
   "source": [
    "knn_1st.fit(x_train,y_train)\n",
    "rf_1st.fit(x_train,y_train)\n",
    "ada_1st.fit(x_train,y_train)\n",
    "dt_1st.fit(x_train,y_train)"
   ]
  },
  {
   "cell_type": "code",
   "execution_count": 11,
   "id": "230ec0cf-f96f-412c-bb44-746819cd1985",
   "metadata": {},
   "outputs": [],
   "source": [
    "knn_pred = knn_1st.predict(x_test)\n",
    "rf_pred = rf_1st.predict(x_test)\n",
    "ada_pred = ada_1st.predict(x_test)\n",
    "dt_pred = dt_1st.predict(x_test)"
   ]
  },
  {
   "cell_type": "markdown",
   "id": "681b54fa-4a37-42cd-b3ed-76235474a6b5",
   "metadata": {},
   "source": [
    "### 스태킹 (Stacking)"
   ]
  },
  {
   "cell_type": "code",
   "execution_count": 13,
   "id": "eb0c91c1-91d8-4f63-a7bb-28b58ed7067b",
   "metadata": {},
   "outputs": [
    {
     "name": "stdout",
     "output_type": "stream",
     "text": [
      "(114,)\n",
      "(4, 114)\n",
      "(114, 4)\n"
     ]
    }
   ],
   "source": [
    "print(knn_pred.shape)\n",
    "y_hat = np.array([knn_pred,rf_pred,dt_pred,ada_pred])\n",
    "print(y_hat.shape)\n",
    "y_hat = np.transpose(y_hat)\n",
    "print(y_hat.shape)"
   ]
  },
  {
   "cell_type": "markdown",
   "id": "76444ecd-0be8-4721-a4ca-91d22febc46d",
   "metadata": {},
   "source": [
    "### 메타모델 학습 및 평가"
   ]
  },
  {
   "cell_type": "code",
   "execution_count": 17,
   "id": "9fd4fb9b-3b32-4c36-bc5c-4f67fb064024",
   "metadata": {},
   "outputs": [
    {
     "name": "stdout",
     "output_type": "stream",
     "text": [
      "최종메타모델의 예측 정확도:  0.9736842105263158\n"
     ]
    }
   ],
   "source": [
    "lr_final.fit(y_hat, y_test)\n",
    "final_y_hat = lr_final.predict(y_hat)\n",
    "print('최종메타모델의 예측 정확도: ',accuracy_score(y_test,final_y_hat))"
   ]
  }
 ],
 "metadata": {
  "kernelspec": {
   "display_name": "Python 3 (ipykernel)",
   "language": "python",
   "name": "python3"
  },
  "language_info": {
   "codemirror_mode": {
    "name": "ipython",
    "version": 3
   },
   "file_extension": ".py",
   "mimetype": "text/x-python",
   "name": "python",
   "nbconvert_exporter": "python",
   "pygments_lexer": "ipython3",
   "version": "3.11.7"
  }
 },
 "nbformat": 4,
 "nbformat_minor": 5
}
