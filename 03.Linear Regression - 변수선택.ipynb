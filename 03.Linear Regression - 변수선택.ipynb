{
 "cells": [
  {
   "cell_type": "markdown",
   "id": "42902242-4dc7-4b2c-b3c8-3897314d1fb3",
   "metadata": {},
   "source": [
    "# 캘리포니아 집값 예측"
   ]
  },
  {
   "cell_type": "markdown",
   "id": "9119ee17-ae34-4a9c-a2b3-2889536824a2",
   "metadata": {},
   "source": [
    "## 패키지로딩"
   ]
  },
  {
   "cell_type": "code",
   "execution_count": 2,
   "id": "f0bf8e7f-9fb3-4c77-8eb3-29360414eb4f",
   "metadata": {},
   "outputs": [],
   "source": [
    "from sklearn.datasets import fetch_california_housing\n",
    "from sklearn.model_selection import train_test_split\n",
    "from sklearn.linear_model import LinearRegression\n",
    "from sklearn.preprocessing import StandardScaler\n",
    "\n",
    "import numpy as np\n",
    "import pandas as pd\n",
    "import matplotlib.pyplot as plt"
   ]
  },
  {
   "cell_type": "markdown",
   "id": "d47a832a-cee7-4f2f-8f4f-70a72f0ddbd9",
   "metadata": {},
   "source": [
    "## 데이터로드 및 확인"
   ]
  },
  {
   "cell_type": "code",
   "execution_count": 4,
   "id": "a1afce22-3e1b-4d4d-b046-08c4cc84af0c",
   "metadata": {},
   "outputs": [
    {
     "data": {
      "text/html": [
       "<div>\n",
       "<style scoped>\n",
       "    .dataframe tbody tr th:only-of-type {\n",
       "        vertical-align: middle;\n",
       "    }\n",
       "\n",
       "    .dataframe tbody tr th {\n",
       "        vertical-align: top;\n",
       "    }\n",
       "\n",
       "    .dataframe thead th {\n",
       "        text-align: right;\n",
       "    }\n",
       "</style>\n",
       "<table border=\"1\" class=\"dataframe\">\n",
       "  <thead>\n",
       "    <tr style=\"text-align: right;\">\n",
       "      <th></th>\n",
       "      <th>MedInc</th>\n",
       "      <th>HouseAge</th>\n",
       "      <th>AveRooms</th>\n",
       "      <th>AveBedrms</th>\n",
       "      <th>Population</th>\n",
       "      <th>AveOccup</th>\n",
       "      <th>Latitude</th>\n",
       "      <th>Longitude</th>\n",
       "    </tr>\n",
       "  </thead>\n",
       "  <tbody>\n",
       "    <tr>\n",
       "      <th>0</th>\n",
       "      <td>8.3252</td>\n",
       "      <td>41.0</td>\n",
       "      <td>6.984127</td>\n",
       "      <td>1.023810</td>\n",
       "      <td>322.0</td>\n",
       "      <td>2.555556</td>\n",
       "      <td>37.88</td>\n",
       "      <td>-122.23</td>\n",
       "    </tr>\n",
       "    <tr>\n",
       "      <th>1</th>\n",
       "      <td>8.3014</td>\n",
       "      <td>21.0</td>\n",
       "      <td>6.238137</td>\n",
       "      <td>0.971880</td>\n",
       "      <td>2401.0</td>\n",
       "      <td>2.109842</td>\n",
       "      <td>37.86</td>\n",
       "      <td>-122.22</td>\n",
       "    </tr>\n",
       "    <tr>\n",
       "      <th>2</th>\n",
       "      <td>7.2574</td>\n",
       "      <td>52.0</td>\n",
       "      <td>8.288136</td>\n",
       "      <td>1.073446</td>\n",
       "      <td>496.0</td>\n",
       "      <td>2.802260</td>\n",
       "      <td>37.85</td>\n",
       "      <td>-122.24</td>\n",
       "    </tr>\n",
       "    <tr>\n",
       "      <th>3</th>\n",
       "      <td>5.6431</td>\n",
       "      <td>52.0</td>\n",
       "      <td>5.817352</td>\n",
       "      <td>1.073059</td>\n",
       "      <td>558.0</td>\n",
       "      <td>2.547945</td>\n",
       "      <td>37.85</td>\n",
       "      <td>-122.25</td>\n",
       "    </tr>\n",
       "    <tr>\n",
       "      <th>4</th>\n",
       "      <td>3.8462</td>\n",
       "      <td>52.0</td>\n",
       "      <td>6.281853</td>\n",
       "      <td>1.081081</td>\n",
       "      <td>565.0</td>\n",
       "      <td>2.181467</td>\n",
       "      <td>37.85</td>\n",
       "      <td>-122.25</td>\n",
       "    </tr>\n",
       "  </tbody>\n",
       "</table>\n",
       "</div>"
      ],
      "text/plain": [
       "   MedInc  HouseAge  AveRooms  AveBedrms  Population  AveOccup  Latitude  \\\n",
       "0  8.3252      41.0  6.984127   1.023810       322.0  2.555556     37.88   \n",
       "1  8.3014      21.0  6.238137   0.971880      2401.0  2.109842     37.86   \n",
       "2  7.2574      52.0  8.288136   1.073446       496.0  2.802260     37.85   \n",
       "3  5.6431      52.0  5.817352   1.073059       558.0  2.547945     37.85   \n",
       "4  3.8462      52.0  6.281853   1.081081       565.0  2.181467     37.85   \n",
       "\n",
       "   Longitude  \n",
       "0    -122.23  \n",
       "1    -122.22  \n",
       "2    -122.24  \n",
       "3    -122.25  \n",
       "4    -122.25  "
      ]
     },
     "metadata": {},
     "output_type": "display_data"
    }
   ],
   "source": [
    "import warnings\n",
    "warnings.filterwarnings(action='ignore')\n",
    "data = fetch_california_housing()\n",
    "df = pd.DataFrame(data.data, columns=data.feature_names)\n",
    "display(df.head())\n",
    "\n",
    "x = df.drop(['Latitude','Longitude'],axis =1)\n",
    "y = data.target # 전체데이터의 종속변수 가져온당"
   ]
  },
  {
   "cell_type": "markdown",
   "id": "6a0590d0-8830-4e3f-86e7-2d3f126ea42e",
   "metadata": {},
   "source": [
    "## 데이터 스케일링"
   ]
  },
  {
   "cell_type": "code",
   "execution_count": 5,
   "id": "ed4b69b5-230e-4ac4-adc7-dcd00a0945ff",
   "metadata": {},
   "outputs": [
    {
     "name": "stdout",
     "output_type": "stream",
     "text": [
      "[[ 2.34476576  0.98214266  0.62855945 -0.15375759 -0.9744286  -0.04959654]\n",
      " [ 2.33223796 -0.60701891  0.32704136 -0.26333577  0.86143887 -0.09251223]\n",
      " [ 1.7826994   1.85618152  1.15562047 -0.04901636 -0.82077735 -0.02584253]\n",
      " ...\n",
      " [-1.14259331 -0.92485123 -0.09031802  0.04941393 -0.3695372  -0.0717345 ]\n",
      " [-1.05458292 -0.84539315 -0.04021111  0.15877763 -0.60442933 -0.09122515]\n",
      " [-0.78012947 -1.00430931 -0.07044252  0.1384028  -0.03397701 -0.04368215]]\n"
     ]
    },
    {
     "data": {
      "text/html": [
       "<div>\n",
       "<style scoped>\n",
       "    .dataframe tbody tr th:only-of-type {\n",
       "        vertical-align: middle;\n",
       "    }\n",
       "\n",
       "    .dataframe tbody tr th {\n",
       "        vertical-align: top;\n",
       "    }\n",
       "\n",
       "    .dataframe thead th {\n",
       "        text-align: right;\n",
       "    }\n",
       "</style>\n",
       "<table border=\"1\" class=\"dataframe\">\n",
       "  <thead>\n",
       "    <tr style=\"text-align: right;\">\n",
       "      <th></th>\n",
       "      <th>MedInc</th>\n",
       "      <th>HouseAge</th>\n",
       "      <th>AveRooms</th>\n",
       "      <th>AveBedrms</th>\n",
       "      <th>Population</th>\n",
       "      <th>AveOccup</th>\n",
       "    </tr>\n",
       "  </thead>\n",
       "  <tbody>\n",
       "    <tr>\n",
       "      <th>0</th>\n",
       "      <td>2.344766</td>\n",
       "      <td>0.982143</td>\n",
       "      <td>0.628559</td>\n",
       "      <td>-0.153758</td>\n",
       "      <td>-0.974429</td>\n",
       "      <td>-0.049597</td>\n",
       "    </tr>\n",
       "    <tr>\n",
       "      <th>1</th>\n",
       "      <td>2.332238</td>\n",
       "      <td>-0.607019</td>\n",
       "      <td>0.327041</td>\n",
       "      <td>-0.263336</td>\n",
       "      <td>0.861439</td>\n",
       "      <td>-0.092512</td>\n",
       "    </tr>\n",
       "    <tr>\n",
       "      <th>2</th>\n",
       "      <td>1.782699</td>\n",
       "      <td>1.856182</td>\n",
       "      <td>1.155620</td>\n",
       "      <td>-0.049016</td>\n",
       "      <td>-0.820777</td>\n",
       "      <td>-0.025843</td>\n",
       "    </tr>\n",
       "    <tr>\n",
       "      <th>3</th>\n",
       "      <td>0.932968</td>\n",
       "      <td>1.856182</td>\n",
       "      <td>0.156966</td>\n",
       "      <td>-0.049833</td>\n",
       "      <td>-0.766028</td>\n",
       "      <td>-0.050329</td>\n",
       "    </tr>\n",
       "    <tr>\n",
       "      <th>4</th>\n",
       "      <td>-0.012881</td>\n",
       "      <td>1.856182</td>\n",
       "      <td>0.344711</td>\n",
       "      <td>-0.032906</td>\n",
       "      <td>-0.759847</td>\n",
       "      <td>-0.085616</td>\n",
       "    </tr>\n",
       "  </tbody>\n",
       "</table>\n",
       "</div>"
      ],
      "text/plain": [
       "     MedInc  HouseAge  AveRooms  AveBedrms  Population  AveOccup\n",
       "0  2.344766  0.982143  0.628559  -0.153758   -0.974429 -0.049597\n",
       "1  2.332238 -0.607019  0.327041  -0.263336    0.861439 -0.092512\n",
       "2  1.782699  1.856182  1.155620  -0.049016   -0.820777 -0.025843\n",
       "3  0.932968  1.856182  0.156966  -0.049833   -0.766028 -0.050329\n",
       "4 -0.012881  1.856182  0.344711  -0.032906   -0.759847 -0.085616"
      ]
     },
     "metadata": {},
     "output_type": "display_data"
    },
    {
     "name": "stdout",
     "output_type": "stream",
     "text": [
      "             MedInc      HouseAge      AveRooms     AveBedrms    Population  \\\n",
      "count  2.064000e+04  2.064000e+04  2.064000e+04  2.064000e+04  2.064000e+04   \n",
      "mean   6.609700e-17  5.508083e-18  6.609700e-17 -1.060306e-16 -1.101617e-17   \n",
      "std    1.000024e+00  1.000024e+00  1.000024e+00  1.000024e+00  1.000024e+00   \n",
      "min   -1.774299e+00 -2.196180e+00 -1.852319e+00 -1.610768e+00 -1.256123e+00   \n",
      "25%   -6.881186e-01 -8.453931e-01 -3.994496e-01 -1.911716e-01 -5.638089e-01   \n",
      "50%   -1.767951e-01  2.864572e-02 -8.078489e-02 -1.010650e-01 -2.291318e-01   \n",
      "75%    4.593063e-01  6.643103e-01  2.519615e-01  6.015869e-03  2.644949e-01   \n",
      "max    5.858286e+00  1.856182e+00  5.516324e+01  6.957171e+01  3.025033e+01   \n",
      "\n",
      "           AveOccup  \n",
      "count  2.064000e+04  \n",
      "mean   3.442552e-18  \n",
      "std    1.000024e+00  \n",
      "min   -2.290000e-01  \n",
      "25%   -6.171062e-02  \n",
      "50%   -2.431585e-02  \n",
      "75%    2.037453e-02  \n",
      "max    1.194191e+02  \n"
     ]
    }
   ],
   "source": [
    "scaled_data = StandardScaler().fit_transform(x)\n",
    "print(scaled_data)\n",
    "scaled_data_df = pd.DataFrame(scaled_data,columns=data.feature_names[:6])\n",
    "display(scaled_data_df.head())\n",
    "print(scaled_data_df.describe())"
   ]
  },
  {
   "cell_type": "markdown",
   "id": "2112b828-2532-4905-b206-19a3d01a5d69",
   "metadata": {},
   "source": [
    "# 변수간 상관관계 시각화"
   ]
  },
  {
   "cell_type": "code",
   "execution_count": 6,
   "id": "1b884fb0-cf02-4e7f-9d07-21a7fc4a6976",
   "metadata": {},
   "outputs": [],
   "source": [
    "import seaborn as sns"
   ]
  },
  {
   "cell_type": "code",
   "execution_count": 7,
   "id": "2b16d96e-8bbe-4450-a0d7-eb3f7e888197",
   "metadata": {},
   "outputs": [
    {
     "name": "stdout",
     "output_type": "stream",
     "text": [
      "              MedInc  HouseAge  AveRooms  AveBedrms  Population  AveOccup\n",
      "MedInc      1.000000 -0.119034  0.326895  -0.062040    0.004834  0.018766\n",
      "HouseAge   -0.119034  1.000000 -0.153277  -0.077747   -0.296244  0.013191\n",
      "AveRooms    0.326895 -0.153277  1.000000   0.847621   -0.072213 -0.004852\n",
      "AveBedrms  -0.062040 -0.077747  0.847621   1.000000   -0.066197 -0.006181\n",
      "Population  0.004834 -0.296244 -0.072213  -0.066197    1.000000  0.069863\n",
      "AveOccup    0.018766  0.013191 -0.004852  -0.006181    0.069863  1.000000\n"
     ]
    },
    {
     "data": {
      "text/plain": [
       "<Axes: >"
      ]
     },
     "execution_count": 7,
     "metadata": {},
     "output_type": "execute_result"
    },
    {
     "data": {
      "image/png": "[encoded data removed]",
      "text/plain": [
       "<Figure size 640x480 with 2 Axes>"
      ]
     },
     "metadata": {},
     "output_type": "display_data"
    }
   ],
   "source": [
    "corr = scaled_data_df.corr() #변수간 상관관계 값 산출\n",
    "print(corr)\n",
    "cmap = sns.light_palette('black',as_cmap=True)\n",
    "sns.heatmap(corr,annot=True,fmt='3.1f',cmap=cmap)"
   ]
  },
  {
   "cell_type": "markdown",
   "id": "d0c53b32-02fc-4ac5-8368-bf927194f218",
   "metadata": {},
   "source": [
    "## 학습/평가 데이터 분할"
   ]
  },
  {
   "cell_type": "markdown",
   "id": "750f8604-7b41-4fa0-b374-e20dbb485be0",
   "metadata": {},
   "source": [
    "### 표준화된 데이터 분할"
   ]
  },
  {
   "cell_type": "code",
   "execution_count": 8,
   "id": "21f1686d-bfe0-4c5b-b919-27885a667524",
   "metadata": {},
   "outputs": [],
   "source": [
    "x_train, x_test, y_train, y_test = train_test_split(scaled_data,y,test_size=0.3,random_state=10)"
   ]
  },
  {
   "cell_type": "markdown",
   "id": "9dc06b25-3c67-481e-9715-322972a1d2bc",
   "metadata": {},
   "source": [
    "### 표준화 하지 않은 데이터 분할"
   ]
  },
  {
   "cell_type": "code",
   "execution_count": 9,
   "id": "c29f43ba-afab-47ac-a14e-7f3b48a16a87",
   "metadata": {},
   "outputs": [],
   "source": [
    "x_train, x_test, y_train, y_test = train_test_split(x,y,test_size=0.3,random_state=10)"
   ]
  },
  {
   "cell_type": "markdown",
   "id": "9df1398c-a974-4755-be37-04cc379222aa",
   "metadata": {},
   "source": [
    "## 회귀모델 생성 및 학습"
   ]
  },
  {
   "cell_type": "code",
   "execution_count": 10,
   "id": "d58f720c-57a0-4352-9278-b86c7de53dbc",
   "metadata": {},
   "outputs": [
    {
     "data": {
      "text/html": [
       "<style>#sk-container-id-1 {color: black;background-color: white;}#sk-container-id-1 pre{padding: 0;}#sk-container-id-1 div.sk-toggleable {background-color: white;}#sk-container-id-1 label.sk-toggleable__label {cursor: pointer;display: block;width: 100%;margin-bottom: 0;padding: 0.3em;box-sizing: border-box;text-align: center;}#sk-container-id-1 label.sk-toggleable__label-arrow:before {content: \"▸\";float: left;margin-right: 0.25em;color: #696969;}#sk-container-id-1 label.sk-toggleable__label-arrow:hover:before {color: black;}#sk-container-id-1 div.sk-estimator:hover label.sk-toggleable__label-arrow:before {color: black;}#sk-container-id-1 div.sk-toggleable__content {max-height: 0;max-width: 0;overflow: hidden;text-align: left;background-color: #f0f8ff;}#sk-container-id-1 div.sk-toggleable__content pre {margin: 0.2em;color: black;border-radius: 0.25em;background-color: #f0f8ff;}#sk-container-id-1 input.sk-toggleable__control:checked~div.sk-toggleable__content {max-height: 200px;max-width: 100%;overflow: auto;}#sk-container-id-1 input.sk-toggleable__control:checked~label.sk-toggleable__label-arrow:before {content: \"▾\";}#sk-container-id-1 div.sk-estimator input.sk-toggleable__control:checked~label.sk-toggleable__label {background-color: #d4ebff;}#sk-container-id-1 div.sk-label input.sk-toggleable__control:checked~label.sk-toggleable__label {background-color: #d4ebff;}#sk-container-id-1 input.sk-hidden--visually {border: 0;clip: rect(1px 1px 1px 1px);clip: rect(1px, 1px, 1px, 1px);height: 1px;margin: -1px;overflow: hidden;padding: 0;position: absolute;width: 1px;}#sk-container-id-1 div.sk-estimator {font-family: monospace;background-color: #f0f8ff;border: 1px dotted black;border-radius: 0.25em;box-sizing: border-box;margin-bottom: 0.5em;}#sk-container-id-1 div.sk-estimator:hover {background-color: #d4ebff;}#sk-container-id-1 div.sk-parallel-item::after {content: \"\";width: 100%;border-bottom: 1px solid gray;flex-grow: 1;}#sk-container-id-1 div.sk-label:hover label.sk-toggleable__label {background-color: #d4ebff;}#sk-container-id-1 div.sk-serial::before {content: \"\";position: absolute;border-left: 1px solid gray;box-sizing: border-box;top: 0;bottom: 0;left: 50%;z-index: 0;}#sk-container-id-1 div.sk-serial {display: flex;flex-direction: column;align-items: center;background-color: white;padding-right: 0.2em;padding-left: 0.2em;position: relative;}#sk-container-id-1 div.sk-item {position: relative;z-index: 1;}#sk-container-id-1 div.sk-parallel {display: flex;align-items: stretch;justify-content: center;background-color: white;position: relative;}#sk-container-id-1 div.sk-item::before, #sk-container-id-1 div.sk-parallel-item::before {content: \"\";position: absolute;border-left: 1px solid gray;box-sizing: border-box;top: 0;bottom: 0;left: 50%;z-index: -1;}#sk-container-id-1 div.sk-parallel-item {display: flex;flex-direction: column;z-index: 1;position: relative;background-color: white;}#sk-container-id-1 div.sk-parallel-item:first-child::after {align-self: flex-end;width: 50%;}#sk-container-id-1 div.sk-parallel-item:last-child::after {align-self: flex-start;width: 50%;}#sk-container-id-1 div.sk-parallel-item:only-child::after {width: 0;}#sk-container-id-1 div.sk-dashed-wrapped {border: 1px dashed gray;margin: 0 0.4em 0.5em 0.4em;box-sizing: border-box;padding-bottom: 0.4em;background-color: white;}#sk-container-id-1 div.sk-label label {font-family: monospace;font-weight: bold;display: inline-block;line-height: 1.2em;}#sk-container-id-1 div.sk-label-container {text-align: center;}#sk-container-id-1 div.sk-container {/* jupyter's `normalize.less` sets `[hidden] { display: none; }` but bootstrap.min.css set `[hidden] { display: none !important; }` so we also need the `!important` here to be able to override the default hidden behavior on the sphinx rendered scikit-learn.org. See: https://github.com/scikit-learn/scikit-learn/issues/21755 */display: inline-block !important;position: relative;}#sk-container-id-1 div.sk-text-repr-fallback {display: none;}</style><div id=\"sk-container-id-1\" class=\"sk-top-container\"><div class=\"sk-text-repr-fallback\"><pre>LinearRegression()</pre><b>In a Jupyter environment, please rerun this cell to show the HTML representation or trust the notebook. <br />On GitHub, the HTML representation is unable to render, please try loading this page with nbviewer.org.</b></div><div class=\"sk-container\" hidden><div class=\"sk-item\"><div class=\"sk-estimator sk-toggleable\"><input class=\"sk-toggleable__control sk-hidden--visually\" id=\"sk-estimator-id-1\" type=\"checkbox\" checked><label for=\"sk-estimator-id-1\" class=\"sk-toggleable__label sk-toggleable__label-arrow\">LinearRegression</label><div class=\"sk-toggleable__content\"><pre>LinearRegression()</pre></div></div></div></div></div>"
      ],
      "text/plain": [
       "LinearRegression()"
      ]
     },
     "execution_count": 10,
     "metadata": {},
     "output_type": "execute_result"
    }
   ],
   "source": [
    "model = LinearRegression()\n",
    "model.fit(x_train,y_train)\n",
    "LinearRegression()"
   ]
  },
  {
   "cell_type": "markdown",
   "id": "b6ff01f0-6717-4789-ad1b-a6deed508048",
   "metadata": {},
   "source": [
    "## 모델 예측 및 검증"
   ]
  },
  {
   "cell_type": "code",
   "execution_count": 12,
   "id": "9c974574-3aa3-4c46-b934-520abd4dfb99",
   "metadata": {},
   "outputs": [
    {
     "name": "stdout",
     "output_type": "stream",
     "text": [
      "MSE0.634\n",
      "RMSE0.796\n",
      "결정계수0.532\n"
     ]
    }
   ],
   "source": [
    "y_hat = model.predict(x_test)\n",
    "from sklearn.metrics import mean_squared_error,r2_score\n",
    "y_hat = model.predict(x_test)\n",
    "mse = mean_squared_error(y_test,y_hat)\n",
    "print(f'MSE{mse:.3f}')\n",
    "print(f'RMSE{np.sqrt(mse):.3f}')\n",
    "print(f'결정계수{r2_score(y_test,y_hat):.3f}')"
   ]
  },
  {
   "cell_type": "code",
   "execution_count": 13,
   "id": "6a7f5fe3-d029-417e-aeba-d50577a8aa8e",
   "metadata": {},
   "outputs": [
    {
     "name": "stdout",
     "output_type": "stream",
     "text": [
      "추정계수(가중치)\n",
      "AveBedrms     1.103587\n",
      "MedInc        0.542363\n",
      "HouseAge      0.016855\n",
      "Population    0.000027\n",
      "AveOccup     -0.005831\n",
      "AveRooms     -0.216814\n",
      "dtype: float64\n"
     ]
    }
   ],
   "source": [
    "weight = { f:w for f, w in zip (x.columns, model.coef_)}\n",
    "print('추정계수(가중치)')\n",
    "print(pd.Series(weight).sort_values(ascending=False))"
   ]
  },
  {
   "cell_type": "code",
   "execution_count": 14,
   "id": "8848b263-0c73-44dd-9059-90a0ebd7d7a5",
   "metadata": {},
   "outputs": [
    {
     "data": {
      "image/png": "[encoded data removed]",
      "text/plain": [
       "<Figure size 640x480 with 1 Axes>"
      ]
     },
     "metadata": {},
     "output_type": "display_data"
    }
   ],
   "source": [
    "plt.scatter(np.arange(15),y_hat[:15],marker='v', color='r',label = 'y_hat')\n",
    "plt.scatter(np.arange(15),y_test[:15],marker='o', color='b',label = 'y')\n",
    "plt.legend()\n",
    "plt.show()"
   ]
  },
  {
   "cell_type": "markdown",
   "id": "25da3a3d-c150-4566-8614-fef7ad40a1d8",
   "metadata": {},
   "source": [
    "# 학습곡선 시각화"
   ]
  },
  {
   "cell_type": "code",
   "execution_count": 15,
   "id": "627421ef-176b-4265-98aa-75f1d1d6c8cb",
   "metadata": {},
   "outputs": [],
   "source": [
    "# 학습 데이터의 크기 변화에 따른 학습과 평가의 오차변화 시각화\n",
    "from sklearn.metrics import mean_squared_error\n",
    "def plot_learning_curve(model, x, y):\n",
    "    x_train, x_test, y_train, y_test = train_test_split(x,y,test_size=0.3,random_state=10)\n",
    "    train_error = []\n",
    "    test_error = []\n",
    "    for n in range(1, len(x)+10):\n",
    "        model.fit(x_train[:n], y_train[:n])\n",
    "        y_train_hat = model.predict(x_train[:n])\n",
    "        y_test_hat = model.predict(x_test[:n])\n",
    "        train_error.append(mean_squared_error(y_train[:n],y_train_hat))\n",
    "        test_error.append(mean_squared_error(y_test[:n], y_test_hat))\n",
    "    plt.plot(np.sqrt(train_error), 'r', label = 'train')\n",
    "    plt.plot(np.sqrt(test_error), 'b', label = 'test')\n",
    "    plt.xlabel('training set size')\n",
    "    plt.ylabel('RMSE')\n",
    "    plt.legend()\n",
    "    plt.show()"
   ]
  },
  {
   "cell_type": "code",
   "execution_count": 16,
   "id": "625d0e73-f262-4e0e-b8a5-027c5e5ade5c",
   "metadata": {},
   "outputs": [
    {
     "data": {
      "image/png": "[encoded data removed]",
      "text/plain": [
       "<Figure size 640x480 with 1 Axes>"
      ]
     },
     "metadata": {},
     "output_type": "display_data"
    }
   ],
   "source": [
    "model = LinearRegression()\n",
    "plot_learning_curve(model, x, y)"
   ]
  },
  {
   "cell_type": "markdown",
   "id": "b06ccaae-bd96-419d-aa55-5a7ee2168b09",
   "metadata": {},
   "source": [
    "# 다중공선성 및 변수선택 후 학습\n",
    "- VIF 값 확인"
   ]
  },
  {
   "cell_type": "code",
   "execution_count": 1,
   "id": "6c3d7b64-21ec-493f-82b4-259f66fae2a6",
   "metadata": {},
   "outputs": [
    {
     "name": "stdout",
     "output_type": "stream",
     "text": [
      "Requirement already satisfied: statsmodels in c:\\users\\user\\anaconda3\\lib\\site-packages (0.14.0)\n",
      "Requirement already satisfied: numpy>=1.18 in c:\\users\\user\\anaconda3\\lib\\site-packages (from statsmodels) (1.26.4)\n",
      "Requirement already satisfied: scipy!=1.9.2,>=1.4 in c:\\users\\user\\anaconda3\\lib\\site-packages (from statsmodels) (1.11.4)\n",
      "Requirement already satisfied: pandas>=1.0 in c:\\users\\user\\anaconda3\\lib\\site-packages (from statsmodels) (2.1.4)\n",
      "Requirement already satisfied: patsy>=0.5.2 in c:\\users\\user\\anaconda3\\lib\\site-packages (from statsmodels) (0.5.3)\n",
      "Requirement already satisfied: packaging>=21.3 in c:\\users\\user\\anaconda3\\lib\\site-packages (from statsmodels) (23.1)\n",
      "Requirement already satisfied: python-dateutil>=2.8.2 in c:\\users\\user\\anaconda3\\lib\\site-packages (from pandas>=1.0->statsmodels) (2.8.2)\n",
      "Requirement already satisfied: pytz>=2020.1 in c:\\users\\user\\anaconda3\\lib\\site-packages (from pandas>=1.0->statsmodels) (2023.3.post1)\n",
      "Requirement already satisfied: tzdata>=2022.1 in c:\\users\\user\\anaconda3\\lib\\site-packages (from pandas>=1.0->statsmodels) (2023.3)\n",
      "Requirement already satisfied: six in c:\\users\\user\\anaconda3\\lib\\site-packages (from patsy>=0.5.2->statsmodels) (1.16.0)\n"
     ]
    }
   ],
   "source": [
    "!pip install statsmodels"
   ]
  },
  {
   "cell_type": "code",
   "execution_count": 19,
   "id": "6ab83a21-c400-44d2-b284-2dfe10f9ebbb",
   "metadata": {},
   "outputs": [
    {
     "name": "stdout",
     "output_type": "stream",
     "text": [
      "   VIF Factor    features\n",
      "0    1.094793    AveOccup\n",
      "1    2.322315  Population\n",
      "2    4.309941    HouseAge\n",
      "3    7.766787      MedInc\n",
      "4   34.118257   AveBedrms\n",
      "5   41.111592    AveRooms\n"
     ]
    }
   ],
   "source": [
    "from statsmodels.stats.outliers_influence import variance_inflation_factor\n",
    "\n",
    "vif = pd.DataFrame()\n",
    "vif['VIF Factor'] = [variance_inflation_factor(x, i) for i in range(x.shape[1])]\n",
    "vif['features'] = x.columns\n",
    "vif = vif.sort_values('VIF Factor').reset_index(drop=True)\n",
    "print(vif)"
   ]
  },
  {
   "cell_type": "markdown",
   "id": "e35258ff-cab9-4928-bce7-531111494ac2",
   "metadata": {},
   "source": [
    "# 분산팽창지수가 높은 변수 삭제"
   ]
  },
  {
   "cell_type": "code",
   "execution_count": null,
   "id": "b891632e-60e2-4cf8-93b7-ed3bebc20a9f",
   "metadata": {},
   "outputs": [],
   "source": [
    "x = x.drop('AveBedrms', axis=1)\n",
    "scaled_data = StandardScaler().fit_transform(x)\n",
    "x_train, x_test, y_train, y_test = train_test_split(x,y,test_size=0.3,random_state=10)"
   ]
  },
  {
   "cell_type": "code",
   "execution_count": 24,
   "id": "62e80992-eab9-4b1b-a01a-571e11a539db",
   "metadata": {},
   "outputs": [
    {
     "data": {
      "text/html": [
       "<style>#sk-container-id-3 {color: black;background-color: white;}#sk-container-id-3 pre{padding: 0;}#sk-container-id-3 div.sk-toggleable {background-color: white;}#sk-container-id-3 label.sk-toggleable__label {cursor: pointer;display: block;width: 100%;margin-bottom: 0;padding: 0.3em;box-sizing: border-box;text-align: center;}#sk-container-id-3 label.sk-toggleable__label-arrow:before {content: \"▸\";float: left;margin-right: 0.25em;color: #696969;}#sk-container-id-3 label.sk-toggleable__label-arrow:hover:before {color: black;}#sk-container-id-3 div.sk-estimator:hover label.sk-toggleable__label-arrow:before {color: black;}#sk-container-id-3 div.sk-toggleable__content {max-height: 0;max-width: 0;overflow: hidden;text-align: left;background-color: #f0f8ff;}#sk-container-id-3 div.sk-toggleable__content pre {margin: 0.2em;color: black;border-radius: 0.25em;background-color: #f0f8ff;}#sk-container-id-3 input.sk-toggleable__control:checked~div.sk-toggleable__content {max-height: 200px;max-width: 100%;overflow: auto;}#sk-container-id-3 input.sk-toggleable__control:checked~label.sk-toggleable__label-arrow:before {content: \"▾\";}#sk-container-id-3 div.sk-estimator input.sk-toggleable__control:checked~label.sk-toggleable__label {background-color: #d4ebff;}#sk-container-id-3 div.sk-label input.sk-toggleable__control:checked~label.sk-toggleable__label {background-color: #d4ebff;}#sk-container-id-3 input.sk-hidden--visually {border: 0;clip: rect(1px 1px 1px 1px);clip: rect(1px, 1px, 1px, 1px);height: 1px;margin: -1px;overflow: hidden;padding: 0;position: absolute;width: 1px;}#sk-container-id-3 div.sk-estimator {font-family: monospace;background-color: #f0f8ff;border: 1px dotted black;border-radius: 0.25em;box-sizing: border-box;margin-bottom: 0.5em;}#sk-container-id-3 div.sk-estimator:hover {background-color: #d4ebff;}#sk-container-id-3 div.sk-parallel-item::after {content: \"\";width: 100%;border-bottom: 1px solid gray;flex-grow: 1;}#sk-container-id-3 div.sk-label:hover label.sk-toggleable__label {background-color: #d4ebff;}#sk-container-id-3 div.sk-serial::before {content: \"\";position: absolute;border-left: 1px solid gray;box-sizing: border-box;top: 0;bottom: 0;left: 50%;z-index: 0;}#sk-container-id-3 div.sk-serial {display: flex;flex-direction: column;align-items: center;background-color: white;padding-right: 0.2em;padding-left: 0.2em;position: relative;}#sk-container-id-3 div.sk-item {position: relative;z-index: 1;}#sk-container-id-3 div.sk-parallel {display: flex;align-items: stretch;justify-content: center;background-color: white;position: relative;}#sk-container-id-3 div.sk-item::before, #sk-container-id-3 div.sk-parallel-item::before {content: \"\";position: absolute;border-left: 1px solid gray;box-sizing: border-box;top: 0;bottom: 0;left: 50%;z-index: -1;}#sk-container-id-3 div.sk-parallel-item {display: flex;flex-direction: column;z-index: 1;position: relative;background-color: white;}#sk-container-id-3 div.sk-parallel-item:first-child::after {align-self: flex-end;width: 50%;}#sk-container-id-3 div.sk-parallel-item:last-child::after {align-self: flex-start;width: 50%;}#sk-container-id-3 div.sk-parallel-item:only-child::after {width: 0;}#sk-container-id-3 div.sk-dashed-wrapped {border: 1px dashed gray;margin: 0 0.4em 0.5em 0.4em;box-sizing: border-box;padding-bottom: 0.4em;background-color: white;}#sk-container-id-3 div.sk-label label {font-family: monospace;font-weight: bold;display: inline-block;line-height: 1.2em;}#sk-container-id-3 div.sk-label-container {text-align: center;}#sk-container-id-3 div.sk-container {/* jupyter's `normalize.less` sets `[hidden] { display: none; }` but bootstrap.min.css set `[hidden] { display: none !important; }` so we also need the `!important` here to be able to override the default hidden behavior on the sphinx rendered scikit-learn.org. See: https://github.com/scikit-learn/scikit-learn/issues/21755 */display: inline-block !important;position: relative;}#sk-container-id-3 div.sk-text-repr-fallback {display: none;}</style><div id=\"sk-container-id-3\" class=\"sk-top-container\"><div class=\"sk-text-repr-fallback\"><pre>LinearRegression()</pre><b>In a Jupyter environment, please rerun this cell to show the HTML representation or trust the notebook. <br />On GitHub, the HTML representation is unable to render, please try loading this page with nbviewer.org.</b></div><div class=\"sk-container\" hidden><div class=\"sk-item\"><div class=\"sk-estimator sk-toggleable\"><input class=\"sk-toggleable__control sk-hidden--visually\" id=\"sk-estimator-id-3\" type=\"checkbox\" checked><label for=\"sk-estimator-id-3\" class=\"sk-toggleable__label sk-toggleable__label-arrow\">LinearRegression</label><div class=\"sk-toggleable__content\"><pre>LinearRegression()</pre></div></div></div></div></div>"
      ],
      "text/plain": [
       "LinearRegression()"
      ]
     },
     "execution_count": 24,
     "metadata": {},
     "output_type": "execute_result"
    }
   ],
   "source": [
    "model = LinearRegression()\n",
    "model.fit(x_train, y_train)"
   ]
  },
  {
   "cell_type": "code",
   "execution_count": 25,
   "id": "56c80b18-3a26-4fb8-bc4e-44fd8548bfa1",
   "metadata": {},
   "outputs": [
    {
     "name": "stdout",
     "output_type": "stream",
     "text": [
      "결정계수: 0.52\n"
     ]
    }
   ],
   "source": [
    "r_square = model.score(x_test,y_test)\n",
    "print(f'결정계수: {r_square:.2f}')"
   ]
  },
  {
   "cell_type": "markdown",
   "id": "388302fc-67fc-45f3-96a7-9baf312ae526",
   "metadata": {},
   "source": [
    "[문제] 강남역 전철 출근시간(07~08) 승하차 인원 예측하기\n",
    "- 패키지 로딩\n",
    "- 데이터 로딩 및 확인 (결측치)\n",
    "- 데이터 전처리\n",
    "    >- 'Date'컬럼 삭제\n",
    "    >- 'Type'컬럼 인코딩\n",
    "    >- 'DoW'컬럼 인코딩\n",
    "- 독립변수와 종속변수 분리\n",
    "- 학습데이터와 평가데이터 분리\n",
    "- 모델 생성 및 예측\n",
    "- 모델 평가 (R2, MSE, RMSE)"
   ]
  },
  {
   "cell_type": "code",
   "execution_count": 1,
   "id": "f7d6ac6a-c59c-46e6-a3af-663c67dec3cc",
   "metadata": {},
   "outputs": [],
   "source": [
    "from sklearn.model_selection import train_test_split\n",
    "from sklearn.preprocessing import StandardScaler\n",
    "\n",
    "import numpy as np\n",
    "import pandas as pd\n",
    "import matplotlib.pyplot as plt\n",
    "from sklearn.ensemble import RandomForestRegressor\n",
    "from sklearn.metrics import mean_squared_error,r2_score\n",
    "import seaborn as sns\n",
    "from sklearn.tree import DecisionTreeClassifier"
   ]
  },
  {
   "cell_type": "code",
   "execution_count": 28,
   "id": "3a7302e2-cf8d-4bbf-8a96-c94d4aa90074",
   "metadata": {},
   "outputs": [
    {
     "name": "stdout",
     "output_type": "stream",
     "text": [
      "Date       0\n",
      "Type       0\n",
      "DoW        0\n",
      "05 ~ 06    0\n",
      "06 ~ 07    0\n",
      "07 ~ 08    0\n",
      "08 ~ 09    0\n",
      "09 ~ 10    0\n",
      "10 ~ 11    0\n",
      "11 ~ 12    0\n",
      "12 ~ 13    0\n",
      "13 ~ 14    0\n",
      "14 ~ 15    0\n",
      "15 ~ 16    0\n",
      "16 ~ 17    0\n",
      "17 ~ 18    0\n",
      "18 ~ 19    0\n",
      "19 ~ 20    0\n",
      "20 ~ 21    0\n",
      "21 ~ 22    0\n",
      "22 ~ 23    0\n",
      "23 ~ 24    0\n",
      "00 ~ 01    0\n",
      "01 ~ 02    0\n",
      "dtype: int64\n",
      "Model Accuracy: 0.8627087794998647\n",
      "Predictions: [7556.11622441 2026.20812876 7399.58635055 1973.92396357 2089.5073124\n",
      " 7171.04939111 1851.2461472  7399.58635055 1851.2461472  7556.11622441\n",
      " 1938.40507095 2089.5073124  1938.40507095  824.6887379  1973.92396357\n",
      " 2089.5073124  1938.40507095 1851.2461472  1973.92396357  824.6887379\n",
      " 1973.92396357 1620.0774451  7774.51654793 2026.20812876  853.19275038\n",
      "  853.19275038 2026.20812876 7774.51654793  853.19275038 2026.20812876\n",
      " 1851.2461472  1938.40507095 7833.51112934 7399.58635055 7399.58635055\n",
      "  593.91159772 1620.0774451  2026.20812876 7556.11622441  824.6887379\n",
      "  853.19275038 7171.04939111  824.6887379   853.19275038 1620.0774451\n",
      "  593.91159772 7399.58635055 1851.2461472  1938.40507095 1973.92396357\n",
      "  824.6887379  7399.58635055 2026.20812876 2089.5073124  1620.0774451\n",
      " 7833.51112934 1620.0774451   824.6887379  7171.04939111 2089.5073124\n",
      " 7171.04939111 1973.92396357 7556.11622441 2026.20812876  853.19275038\n",
      " 1938.40507095 7774.51654793  824.6887379  7556.11622441  824.6887379\n",
      " 1851.2461472  7774.51654793 7833.51112934 2026.20812876  824.6887379\n",
      " 1620.0774451  2026.20812876 1973.92396357 1620.0774451  1620.0774451\n",
      "  593.91159772 7171.04939111 1620.0774451  1851.2461472  7774.51654793\n",
      "  853.19275038 2089.5073124  7556.11622441 2089.5073124   824.6887379\n",
      " 2089.5073124  7399.58635055  853.19275038 1620.0774451  7399.58635055\n",
      "  853.19275038 7399.58635055 1620.0774451  1620.0774451  7556.11622441\n",
      " 1938.40507095 7833.51112934 1973.92396357 1851.2461472  7774.51654793\n",
      " 1973.92396357 1620.0774451   593.91159772 7556.11622441 1851.2461472\n",
      " 1851.2461472   593.91159772 7556.11622441  593.91159772 7399.58635055\n",
      " 1851.2461472  7171.04939111 2026.20812876 7171.04939111 1973.92396357\n",
      " 1851.2461472  7774.51654793 7774.51654793 2026.20812876 7833.51112934\n",
      " 1938.40507095 1851.2461472  1851.2461472   824.6887379  7774.51654793\n",
      "  593.91159772 7556.11622441  593.91159772 7774.51654793 7774.51654793\n",
      " 7399.58635055 1973.92396357 2026.20812876 7774.51654793 1938.40507095\n",
      " 1851.2461472  1620.0774451  7399.58635055 1620.0774451  7774.51654793\n",
      " 1938.40507095  853.19275038 2026.20812876 2026.20812876 2089.5073124\n",
      " 7171.04939111 7171.04939111 7556.11622441  593.91159772 7833.51112934\n",
      "  853.19275038 7171.04939111 7556.11622441  853.19275038 1938.40507095\n",
      " 7171.04939111 1938.40507095  593.91159772  593.91159772 7556.11622441\n",
      "  853.19275038 2026.20812876  853.19275038  593.91159772  853.19275038\n",
      " 1938.40507095  824.6887379   593.91159772  824.6887379  1851.2461472\n",
      "  593.91159772  824.6887379  1938.40507095  593.91159772 1851.2461472\n",
      " 7833.51112934 7833.51112934  593.91159772]\n",
      "결정계수:0.86\n",
      "RMSE:1097.46\n",
      "07-08시 평균 승하차 인원:3645.36\n"
     ]
    }
   ],
   "source": [
    "# 데이터 불러오기\n",
    "df = pd.read_csv(\"GangnamTrainData.csv\")\n",
    "print(df.isna().sum())\n",
    "\n",
    "# 'Date' 열 제거\n",
    "df.drop('Date', axis=1, inplace=True)\n",
    "\n",
    "# 'Type'을 원-핫 인코딩\n",
    "df_train = pd.get_dummies(df['Type'])\n",
    "\n",
    "# 'DoW'를 라벨링\n",
    "week = np.sort(df['DoW'].unique())\n",
    "df_train['DoW'] = df['DoW'].map({w: i for i, w in enumerate(week)})\n",
    "\n",
    "# Feature와 Target 데이터 지정\n",
    "x = df_train\n",
    "y = df['07 ~ 08']  # 원본 데이터에서 타겟 값 가져오기\n",
    "\n",
    "# 데이터 분할\n",
    "X_train, X_test, y_train, y_test = train_test_split(x, y, test_size=0.3, random_state=42)\n",
    "\n",
    "# 모델 초기화 및 학습\n",
    "model = RandomForestRegressor(random_state=42)\n",
    "model.fit(X_train, y_train)\n",
    "\n",
    "# 모델 정확도 평가\n",
    "accuracy = model.score(X_test, y_test)\n",
    "print(\"Model Accuracy:\", accuracy)\n",
    "\n",
    "# 예측 결과 출력\n",
    "predictions = model.predict(X_test)\n",
    "print(\"Predictions:\", predictions)\n",
    "\n",
    "# 추가 평가 지표 계산\n",
    "r_square = model.score(X_test, y_test)\n",
    "print(f'결정계수:{r_square:.2f}')\n",
    "print(f'RMSE:{np.sqrt(mean_squared_error(y_test,predictions)):.2f}')\n",
    "print(f'07-08시 평균 승하차 인원:{np.mean(y):.2f}')"
   ]
  },
  {
   "cell_type": "markdown",
   "id": "6c9a6cbf-e9dd-4211-8595-facf7b30730e",
   "metadata": {},
   "source": [
    "# 보스턴 집값 예측"
   ]
  },
  {
   "cell_type": "markdown",
   "id": "bc41943b-04b4-4ba5-8e00-cb97d27316a6",
   "metadata": {},
   "source": [
    "## 패키지 로딩"
   ]
  },
  {
   "cell_type": "code",
   "execution_count": 30,
   "id": "4068c3f0-70c2-4e46-a9de-c920cfcbb262",
   "metadata": {},
   "outputs": [],
   "source": [
    "from sklearn.linear_model import LinearRegression, Lasso, Ridge, ElasticNet\n",
    "from sklearn.model_selection import train_test_split\n",
    "from sklearn.preprocessing import StandardScaler\n",
    "from sklearn.metrics import mean_squared_error\n",
    "\n",
    "import numpy as np\n",
    "import pandas as pd"
   ]
  },
  {
   "cell_type": "markdown",
   "id": "551b3c08-62fb-4898-aa56-93668f81d3cc",
   "metadata": {},
   "source": [
    "# 데이터 로드 및 확인\n",
    "- CRIM : 범죄율\n",
    "- ZN : 25,000 평피트를 초과하는 거주지역 비율\n",
    "- INDUS : 상업지역 면적 비율\n",
    "- CHAS : 찰스강 경계 위치\n",
    "- NDX : 일산화질소 농도\n",
    "- RM : 주택당 방 수\n",
    "- AGE : 주택연령\n",
    "- DIS : 직업센터까지 거리\n",
    "- RAD : 고속도로까지의 거리\n",
    "- TAX : 재산세율\n",
    "- PTRATIO : 학생과 교사 비율\n",
    "- B : 인구 중 흑인 비율\n",
    "- LSTAT : 인구 중 하위계층 비율\n",
    "- MEDV : 주택가격(종속변수)"
   ]
  },
  {
   "cell_type": "code",
   "execution_count": 47,
   "id": "c0e9a2ed-d1a6-48ac-a5a6-c236063e11ca",
   "metadata": {},
   "outputs": [
    {
     "data": {
      "text/html": [
       "<div>\n",
       "<style scoped>\n",
       "    .dataframe tbody tr th:only-of-type {\n",
       "        vertical-align: middle;\n",
       "    }\n",
       "\n",
       "    .dataframe tbody tr th {\n",
       "        vertical-align: top;\n",
       "    }\n",
       "\n",
       "    .dataframe thead th {\n",
       "        text-align: right;\n",
       "    }\n",
       "</style>\n",
       "<table border=\"1\" class=\"dataframe\">\n",
       "  <thead>\n",
       "    <tr style=\"text-align: right;\">\n",
       "      <th></th>\n",
       "      <th>CRIM</th>\n",
       "      <th>ZN</th>\n",
       "      <th>INDUS</th>\n",
       "      <th>CHAS</th>\n",
       "      <th>NOX</th>\n",
       "      <th>RM</th>\n",
       "      <th>AGE</th>\n",
       "      <th>DIS</th>\n",
       "      <th>RAD</th>\n",
       "      <th>TAX</th>\n",
       "      <th>PTRATIO</th>\n",
       "      <th>B</th>\n",
       "      <th>LSTAT</th>\n",
       "      <th>MEDV</th>\n",
       "    </tr>\n",
       "  </thead>\n",
       "  <tbody>\n",
       "    <tr>\n",
       "      <th>0</th>\n",
       "      <td>0.00632</td>\n",
       "      <td>18.0</td>\n",
       "      <td>2.31</td>\n",
       "      <td>0.0</td>\n",
       "      <td>0.538</td>\n",
       "      <td>6.575</td>\n",
       "      <td>65.2</td>\n",
       "      <td>4.0900</td>\n",
       "      <td>1</td>\n",
       "      <td>296</td>\n",
       "      <td>15.3</td>\n",
       "      <td>396.90</td>\n",
       "      <td>4.98</td>\n",
       "      <td>24.0</td>\n",
       "    </tr>\n",
       "    <tr>\n",
       "      <th>1</th>\n",
       "      <td>0.02731</td>\n",
       "      <td>0.0</td>\n",
       "      <td>7.07</td>\n",
       "      <td>0.0</td>\n",
       "      <td>0.469</td>\n",
       "      <td>6.421</td>\n",
       "      <td>78.9</td>\n",
       "      <td>4.9671</td>\n",
       "      <td>2</td>\n",
       "      <td>242</td>\n",
       "      <td>17.8</td>\n",
       "      <td>396.90</td>\n",
       "      <td>9.14</td>\n",
       "      <td>21.6</td>\n",
       "    </tr>\n",
       "    <tr>\n",
       "      <th>2</th>\n",
       "      <td>0.02729</td>\n",
       "      <td>0.0</td>\n",
       "      <td>7.07</td>\n",
       "      <td>0.0</td>\n",
       "      <td>0.469</td>\n",
       "      <td>7.185</td>\n",
       "      <td>61.1</td>\n",
       "      <td>4.9671</td>\n",
       "      <td>2</td>\n",
       "      <td>242</td>\n",
       "      <td>17.8</td>\n",
       "      <td>392.83</td>\n",
       "      <td>4.03</td>\n",
       "      <td>34.7</td>\n",
       "    </tr>\n",
       "    <tr>\n",
       "      <th>3</th>\n",
       "      <td>0.03237</td>\n",
       "      <td>0.0</td>\n",
       "      <td>2.18</td>\n",
       "      <td>0.0</td>\n",
       "      <td>0.458</td>\n",
       "      <td>6.998</td>\n",
       "      <td>45.8</td>\n",
       "      <td>6.0622</td>\n",
       "      <td>3</td>\n",
       "      <td>222</td>\n",
       "      <td>18.7</td>\n",
       "      <td>394.63</td>\n",
       "      <td>2.94</td>\n",
       "      <td>33.4</td>\n",
       "    </tr>\n",
       "    <tr>\n",
       "      <th>5</th>\n",
       "      <td>0.02985</td>\n",
       "      <td>0.0</td>\n",
       "      <td>2.18</td>\n",
       "      <td>0.0</td>\n",
       "      <td>0.458</td>\n",
       "      <td>6.430</td>\n",
       "      <td>58.7</td>\n",
       "      <td>6.0622</td>\n",
       "      <td>3</td>\n",
       "      <td>222</td>\n",
       "      <td>18.7</td>\n",
       "      <td>394.12</td>\n",
       "      <td>5.21</td>\n",
       "      <td>28.7</td>\n",
       "    </tr>\n",
       "  </tbody>\n",
       "</table>\n",
       "</div>"
      ],
      "text/plain": [
       "      CRIM    ZN  INDUS  CHAS    NOX     RM   AGE     DIS  RAD  TAX  PTRATIO  \\\n",
       "0  0.00632  18.0   2.31   0.0  0.538  6.575  65.2  4.0900    1  296     15.3   \n",
       "1  0.02731   0.0   7.07   0.0  0.469  6.421  78.9  4.9671    2  242     17.8   \n",
       "2  0.02729   0.0   7.07   0.0  0.469  7.185  61.1  4.9671    2  242     17.8   \n",
       "3  0.03237   0.0   2.18   0.0  0.458  6.998  45.8  6.0622    3  222     18.7   \n",
       "5  0.02985   0.0   2.18   0.0  0.458  6.430  58.7  6.0622    3  222     18.7   \n",
       "\n",
       "        B  LSTAT  MEDV  \n",
       "0  396.90   4.98  24.0  \n",
       "1  396.90   9.14  21.6  \n",
       "2  392.83   4.03  34.7  \n",
       "3  394.63   2.94  33.4  \n",
       "5  394.12   5.21  28.7  "
      ]
     },
     "metadata": {},
     "output_type": "display_data"
    }
   ],
   "source": [
    "df = pd.read_csv('./데이터셋/HousingData.csv')\n",
    "# 결측치 처리\n",
    "df.dropna(inplace=True)\n",
    "display(df.head())\n",
    "x = df.drop('MEDV',axis=1)\n",
    "y = df['MEDV']"
   ]
  },
  {
   "cell_type": "code",
   "execution_count": 48,
   "id": "9e650f8f-4cf5-4425-95e1-2337e1557a8f",
   "metadata": {
    "scrolled": true
   },
   "outputs": [
    {
     "name": "stdout",
     "output_type": "stream",
     "text": [
      "             CRIM          ZN       INDUS        CHAS         NOX          RM  \\\n",
      "count  394.000000  394.000000  394.000000  394.000000  394.000000  394.000000   \n",
      "mean     3.690136   11.460660   11.000863    0.068528    0.553215    6.280015   \n",
      "std      9.202423   23.954082    6.908364    0.252971    0.113112    0.697985   \n",
      "min      0.006320    0.000000    0.460000    0.000000    0.389000    3.561000   \n",
      "25%      0.081955    0.000000    5.130000    0.000000    0.453000    5.879250   \n",
      "50%      0.268880    0.000000    8.560000    0.000000    0.538000    6.201500   \n",
      "75%      3.435973   12.500000   18.100000    0.000000    0.624000    6.605500   \n",
      "max     88.976200  100.000000   27.740000    1.000000    0.871000    8.780000   \n",
      "\n",
      "              AGE         DIS         RAD         TAX     PTRATIO           B  \\\n",
      "count  394.000000  394.000000  394.000000  394.000000  394.000000  394.000000   \n",
      "mean    68.932741    3.805268    9.403553  406.431472   18.537563  358.490939   \n",
      "std     27.888705    2.098571    8.633451  168.312419    2.166460   89.283295   \n",
      "min      2.900000    1.129600    1.000000  187.000000   12.600000    2.600000   \n",
      "25%     45.475000    2.110100    4.000000  280.250000   17.400000  376.707500   \n",
      "50%     77.700000    3.199200    5.000000  330.000000   19.100000  392.190000   \n",
      "75%     94.250000    5.116700   24.000000  666.000000   20.200000  396.900000   \n",
      "max    100.000000   12.126500   24.000000  711.000000   22.000000  396.900000   \n",
      "\n",
      "            LSTAT        MEDV  \n",
      "count  394.000000  394.000000  \n",
      "mean    12.769112   22.359645  \n",
      "std      7.308430    9.142979  \n",
      "min      1.730000    5.000000  \n",
      "25%      7.125000   16.800000  \n",
      "50%     11.300000   21.050000  \n",
      "75%     17.117500   25.000000  \n",
      "max     37.970000   50.000000  \n",
      "CRIM       0\n",
      "ZN         0\n",
      "INDUS      0\n",
      "CHAS       0\n",
      "NOX        0\n",
      "RM         0\n",
      "AGE        0\n",
      "DIS        0\n",
      "RAD        0\n",
      "TAX        0\n",
      "PTRATIO    0\n",
      "B          0\n",
      "LSTAT      0\n",
      "MEDV       0\n",
      "dtype: int64\n"
     ]
    }
   ],
   "source": [
    "print(df.describe())\n",
    "print(df.isna().sum())"
   ]
  },
  {
   "cell_type": "markdown",
   "id": "7adaef90-7605-441d-ac3c-9dd6ab0d1f2e",
   "metadata": {},
   "source": [
    "## 학습/평가 데이터 분할"
   ]
  },
  {
   "cell_type": "markdown",
   "id": "8c643272-81e6-4609-836f-74e7897fb61c",
   "metadata": {},
   "source": [
    "### 스케일링 된 데이터 분할"
   ]
  },
  {
   "cell_type": "code",
   "execution_count": 49,
   "id": "1a6b9582-2855-4a43-b35c-54ae4e45d74e",
   "metadata": {},
   "outputs": [],
   "source": [
    "scaled_data = StandardScaler().fit_transform(x)\n",
    "x_train, x_test, y_train, y_test = train_test_split(scaled_data, y, test_size=0.3, random_state=10)"
   ]
  },
  {
   "cell_type": "markdown",
   "id": "5f21d019-81ae-4805-9590-5b6c1b21815f",
   "metadata": {},
   "source": [
    "### 스케일링 안된 데이터 분할"
   ]
  },
  {
   "cell_type": "code",
   "execution_count": 50,
   "id": "fa23001e-430f-43b5-b3dc-a728b7d73491",
   "metadata": {},
   "outputs": [],
   "source": [
    "x_train, x_test, y_train, y_test = train_test_split(x, y, test_size=0.3, random_state=10)"
   ]
  },
  {
   "cell_type": "markdown",
   "id": "0dd98892-592d-467a-af47-654f733198de",
   "metadata": {},
   "source": [
    "## 알파값 변화에 따른 회귀계수 및 상관계수 값 계산"
   ]
  },
  {
   "cell_type": "markdown",
   "id": "df3a3d46-1678-485d-bfb8-8a7f78c0af24",
   "metadata": {},
   "source": [
    "## 알파값 변화에 따른 회귀계수 및 상관계수 값 계산\n",
    "- 알파값은 규제강도를 제어하는 상수로 [0,int) 범위의 부동 소수점 값을 사용할 수 있다.\n",
    "- alpha=0 이면 LinearRegression에서 사용되는 일반적인 최소제곱법과 같아진다."
   ]
  },
  {
   "cell_type": "code",
   "execution_count": 59,
   "id": "6eddce5c-17cd-45de-b55c-3d147c8fa2dc",
   "metadata": {},
   "outputs": [],
   "source": [
    "def regulation_compare (alpha, model_name):\n",
    "    df = pd.DataFrame()\n",
    "    for a in alpha:\n",
    "        print('회귀모형:',model_name)\n",
    "        print('알파값:',a)\n",
    "\n",
    "        if model_name == 'Lasso':\n",
    "            model = Lasso(alpha=a)\n",
    "        elif model_name == 'Ridge':\n",
    "            model = Ridge(alpha=a)\n",
    "        elif model_name == 'ElasticNet':\n",
    "            model = ElasticNet(alpha=a,l1_ratio=0.5)\n",
    "        model.fit(x_train, y_train)\n",
    "        r_square = model.score(x_test,y_test)\n",
    "        print(f'결정계쑤:{r_square:.2f}')\n",
    "        weight = {f:w for f,w in zip(x.columns, model.coef_)}\n",
    "        y_hat = model.predict(x_test)\n",
    "        print(f'RMSE:{np.sqrt(mean_squared_error(y_test, y_hat)):.2f}')\n",
    "        df['alpha='+str(a)] = pd.Series(weight)\n",
    "    return df"
   ]
  },
  {
   "cell_type": "markdown",
   "id": "d6867928-01d8-47c8-b579-2c222363a568",
   "metadata": {},
   "source": [
    "## 라쏘 회귀모델 생성 ( L1규제)"
   ]
  },
  {
   "cell_type": "code",
   "execution_count": 61,
   "id": "49a8e68a-47e4-4e95-8b9b-06253ba86823",
   "metadata": {},
   "outputs": [
    {
     "name": "stdout",
     "output_type": "stream",
     "text": [
      "회귀모형: Lasso\n",
      "알파값: 0\n",
      "결정계쑤:0.78\n",
      "RMSE:3.50\n",
      "회귀모형: Lasso\n",
      "알파값: 0.07\n",
      "결정계쑤:0.78\n",
      "RMSE:3.47\n",
      "회귀모형: Lasso\n",
      "알파값: 0.1\n",
      "결정계쑤:0.78\n",
      "RMSE:3.47\n",
      "회귀모형: Lasso\n",
      "알파값: 9.8\n",
      "결정계쑤:0.52\n",
      "RMSE:5.17\n",
      "회귀모형: Lasso\n",
      "알파값: 1.3\n",
      "결정계쑤:0.68\n",
      "RMSE:4.23\n"
     ]
    },
    {
     "data": {
      "text/html": [
       "<div>\n",
       "<style scoped>\n",
       "    .dataframe tbody tr th:only-of-type {\n",
       "        vertical-align: middle;\n",
       "    }\n",
       "\n",
       "    .dataframe tbody tr th {\n",
       "        vertical-align: top;\n",
       "    }\n",
       "\n",
       "    .dataframe thead th {\n",
       "        text-align: right;\n",
       "    }\n",
       "</style>\n",
       "<table border=\"1\" class=\"dataframe\">\n",
       "  <thead>\n",
       "    <tr style=\"text-align: right;\">\n",
       "      <th></th>\n",
       "      <th>alpha=0</th>\n",
       "      <th>alpha=0.07</th>\n",
       "      <th>alpha=0.1</th>\n",
       "      <th>alpha=9.8</th>\n",
       "      <th>alpha=1.3</th>\n",
       "    </tr>\n",
       "  </thead>\n",
       "  <tbody>\n",
       "    <tr>\n",
       "      <th>CRIM</th>\n",
       "      <td>-0.106486</td>\n",
       "      <td>-0.092427</td>\n",
       "      <td>-0.092260</td>\n",
       "      <td>-0.000000</td>\n",
       "      <td>-0.049286</td>\n",
       "    </tr>\n",
       "    <tr>\n",
       "      <th>ZN</th>\n",
       "      <td>0.052928</td>\n",
       "      <td>0.058980</td>\n",
       "      <td>0.059567</td>\n",
       "      <td>0.038954</td>\n",
       "      <td>0.063294</td>\n",
       "    </tr>\n",
       "    <tr>\n",
       "      <th>INDUS</th>\n",
       "      <td>0.001940</td>\n",
       "      <td>-0.079933</td>\n",
       "      <td>-0.073311</td>\n",
       "      <td>-0.000000</td>\n",
       "      <td>-0.000000</td>\n",
       "    </tr>\n",
       "    <tr>\n",
       "      <th>CHAS</th>\n",
       "      <td>3.665629</td>\n",
       "      <td>2.311969</td>\n",
       "      <td>1.830581</td>\n",
       "      <td>0.000000</td>\n",
       "      <td>0.000000</td>\n",
       "    </tr>\n",
       "    <tr>\n",
       "      <th>NOX</th>\n",
       "      <td>-22.298586</td>\n",
       "      <td>-0.000000</td>\n",
       "      <td>-0.000000</td>\n",
       "      <td>0.000000</td>\n",
       "      <td>-0.000000</td>\n",
       "    </tr>\n",
       "    <tr>\n",
       "      <th>RM</th>\n",
       "      <td>3.753820</td>\n",
       "      <td>3.726716</td>\n",
       "      <td>3.656931</td>\n",
       "      <td>0.000000</td>\n",
       "      <td>0.408483</td>\n",
       "    </tr>\n",
       "    <tr>\n",
       "      <th>AGE</th>\n",
       "      <td>-0.010788</td>\n",
       "      <td>-0.026374</td>\n",
       "      <td>-0.024769</td>\n",
       "      <td>0.000000</td>\n",
       "      <td>0.015319</td>\n",
       "    </tr>\n",
       "    <tr>\n",
       "      <th>DIS</th>\n",
       "      <td>-1.653172</td>\n",
       "      <td>-1.307589</td>\n",
       "      <td>-1.293585</td>\n",
       "      <td>-0.000000</td>\n",
       "      <td>-0.655532</td>\n",
       "    </tr>\n",
       "    <tr>\n",
       "      <th>RAD</th>\n",
       "      <td>0.348607</td>\n",
       "      <td>0.299485</td>\n",
       "      <td>0.302712</td>\n",
       "      <td>0.000000</td>\n",
       "      <td>0.265699</td>\n",
       "    </tr>\n",
       "    <tr>\n",
       "      <th>TAX</th>\n",
       "      <td>-0.015921</td>\n",
       "      <td>-0.018305</td>\n",
       "      <td>-0.018590</td>\n",
       "      <td>-0.011863</td>\n",
       "      <td>-0.019444</td>\n",
       "    </tr>\n",
       "    <tr>\n",
       "      <th>PTRATIO</th>\n",
       "      <td>-0.935376</td>\n",
       "      <td>-0.685461</td>\n",
       "      <td>-0.687818</td>\n",
       "      <td>-0.000000</td>\n",
       "      <td>-0.574140</td>\n",
       "    </tr>\n",
       "    <tr>\n",
       "      <th>B</th>\n",
       "      <td>0.007924</td>\n",
       "      <td>0.008516</td>\n",
       "      <td>0.008531</td>\n",
       "      <td>0.004845</td>\n",
       "      <td>0.005069</td>\n",
       "    </tr>\n",
       "    <tr>\n",
       "      <th>LSTAT</th>\n",
       "      <td>-0.458173</td>\n",
       "      <td>-0.500357</td>\n",
       "      <td>-0.507704</td>\n",
       "      <td>-0.580039</td>\n",
       "      <td>-0.759233</td>\n",
       "    </tr>\n",
       "  </tbody>\n",
       "</table>\n",
       "</div>"
      ],
      "text/plain": [
       "           alpha=0  alpha=0.07  alpha=0.1  alpha=9.8  alpha=1.3\n",
       "CRIM     -0.106486   -0.092427  -0.092260  -0.000000  -0.049286\n",
       "ZN        0.052928    0.058980   0.059567   0.038954   0.063294\n",
       "INDUS     0.001940   -0.079933  -0.073311  -0.000000  -0.000000\n",
       "CHAS      3.665629    2.311969   1.830581   0.000000   0.000000\n",
       "NOX     -22.298586   -0.000000  -0.000000   0.000000  -0.000000\n",
       "RM        3.753820    3.726716   3.656931   0.000000   0.408483\n",
       "AGE      -0.010788   -0.026374  -0.024769   0.000000   0.015319\n",
       "DIS      -1.653172   -1.307589  -1.293585  -0.000000  -0.655532\n",
       "RAD       0.348607    0.299485   0.302712   0.000000   0.265699\n",
       "TAX      -0.015921   -0.018305  -0.018590  -0.011863  -0.019444\n",
       "PTRATIO  -0.935376   -0.685461  -0.687818  -0.000000  -0.574140\n",
       "B         0.007924    0.008516   0.008531   0.004845   0.005069\n",
       "LSTAT    -0.458173   -0.500357  -0.507704  -0.580039  -0.759233"
      ]
     },
     "execution_count": 61,
     "metadata": {},
     "output_type": "execute_result"
    }
   ],
   "source": [
    "# 알파값이 커질수록 제거되는 항이 많아져 결정계수의 값이 낮아지는 결과\n",
    "# 독립변수로 사용되는 14개의 특성값이 집 값을 결정짓는 중요한 요소를 하고있는 것으로 판단\n",
    "alpha = [0,0.07,0.1,9.8,1.3]\n",
    "regulation_compare(alpha,'Lasso')"
   ]
  },
  {
   "cell_type": "markdown",
   "id": "b366d6bb-dd13-44a5-8468-8c275614d02b",
   "metadata": {},
   "source": [
    "## 릿지 회귀모델 사용(l2규정 사용)"
   ]
  },
  {
   "cell_type": "code",
   "execution_count": 62,
   "id": "1ceeb566-6521-4b29-9a70-d5654f5883d7",
   "metadata": {},
   "outputs": [
    {
     "name": "stdout",
     "output_type": "stream",
     "text": [
      "회귀모형: Ridge\n",
      "알파값: 0\n",
      "결정계쑤:0.78\n",
      "RMSE:3.50\n",
      "회귀모형: Ridge\n",
      "알파값: 1\n",
      "결정계쑤:0.79\n",
      "RMSE:3.44\n",
      "회귀모형: Ridge\n",
      "알파값: 5\n",
      "결정계쑤:0.79\n",
      "RMSE:3.47\n",
      "회귀모형: Ridge\n",
      "알파값: 10\n",
      "결정계쑤:0.78\n",
      "RMSE:3.50\n",
      "회귀모형: Ridge\n",
      "알파값: 100\n",
      "결정계쑤:0.74\n",
      "RMSE:3.80\n"
     ]
    },
    {
     "data": {
      "text/html": [
       "<div>\n",
       "<style scoped>\n",
       "    .dataframe tbody tr th:only-of-type {\n",
       "        vertical-align: middle;\n",
       "    }\n",
       "\n",
       "    .dataframe tbody tr th {\n",
       "        vertical-align: top;\n",
       "    }\n",
       "\n",
       "    .dataframe thead th {\n",
       "        text-align: right;\n",
       "    }\n",
       "</style>\n",
       "<table border=\"1\" class=\"dataframe\">\n",
       "  <thead>\n",
       "    <tr style=\"text-align: right;\">\n",
       "      <th></th>\n",
       "      <th>alpha=0</th>\n",
       "      <th>alpha=1</th>\n",
       "      <th>alpha=5</th>\n",
       "      <th>alpha=10</th>\n",
       "      <th>alpha=100</th>\n",
       "    </tr>\n",
       "  </thead>\n",
       "  <tbody>\n",
       "    <tr>\n",
       "      <th>CRIM</th>\n",
       "      <td>-0.106486</td>\n",
       "      <td>-0.098989</td>\n",
       "      <td>-0.095897</td>\n",
       "      <td>-0.095761</td>\n",
       "      <td>-0.093036</td>\n",
       "    </tr>\n",
       "    <tr>\n",
       "      <th>ZN</th>\n",
       "      <td>0.052928</td>\n",
       "      <td>0.055982</td>\n",
       "      <td>0.058614</td>\n",
       "      <td>0.060075</td>\n",
       "      <td>0.065512</td>\n",
       "    </tr>\n",
       "    <tr>\n",
       "      <th>INDUS</th>\n",
       "      <td>0.001940</td>\n",
       "      <td>-0.052383</td>\n",
       "      <td>-0.077356</td>\n",
       "      <td>-0.080624</td>\n",
       "      <td>-0.084117</td>\n",
       "    </tr>\n",
       "    <tr>\n",
       "      <th>CHAS</th>\n",
       "      <td>3.665629</td>\n",
       "      <td>3.336114</td>\n",
       "      <td>2.679254</td>\n",
       "      <td>2.182534</td>\n",
       "      <td>0.544736</td>\n",
       "    </tr>\n",
       "    <tr>\n",
       "      <th>NOX</th>\n",
       "      <td>-22.298586</td>\n",
       "      <td>-9.501731</td>\n",
       "      <td>-2.865365</td>\n",
       "      <td>-1.520838</td>\n",
       "      <td>-0.145625</td>\n",
       "    </tr>\n",
       "    <tr>\n",
       "      <th>RM</th>\n",
       "      <td>3.753820</td>\n",
       "      <td>3.791013</td>\n",
       "      <td>3.670303</td>\n",
       "      <td>3.490921</td>\n",
       "      <td>1.830721</td>\n",
       "    </tr>\n",
       "    <tr>\n",
       "      <th>AGE</th>\n",
       "      <td>-0.010788</td>\n",
       "      <td>-0.021339</td>\n",
       "      <td>-0.025173</td>\n",
       "      <td>-0.024268</td>\n",
       "      <td>-0.005687</td>\n",
       "    </tr>\n",
       "    <tr>\n",
       "      <th>DIS</th>\n",
       "      <td>-1.653172</td>\n",
       "      <td>-1.474036</td>\n",
       "      <td>-1.381711</td>\n",
       "      <td>-1.360840</td>\n",
       "      <td>-1.184691</td>\n",
       "    </tr>\n",
       "    <tr>\n",
       "      <th>RAD</th>\n",
       "      <td>0.348607</td>\n",
       "      <td>0.318864</td>\n",
       "      <td>0.310956</td>\n",
       "      <td>0.315844</td>\n",
       "      <td>0.351776</td>\n",
       "    </tr>\n",
       "    <tr>\n",
       "      <th>TAX</th>\n",
       "      <td>-0.015921</td>\n",
       "      <td>-0.017058</td>\n",
       "      <td>-0.018044</td>\n",
       "      <td>-0.018572</td>\n",
       "      <td>-0.020522</td>\n",
       "    </tr>\n",
       "    <tr>\n",
       "      <th>PTRATIO</th>\n",
       "      <td>-0.935376</td>\n",
       "      <td>-0.792539</td>\n",
       "      <td>-0.728965</td>\n",
       "      <td>-0.725167</td>\n",
       "      <td>-0.752583</td>\n",
       "    </tr>\n",
       "    <tr>\n",
       "      <th>B</th>\n",
       "      <td>0.007924</td>\n",
       "      <td>0.008247</td>\n",
       "      <td>0.008386</td>\n",
       "      <td>0.008343</td>\n",
       "      <td>0.007052</td>\n",
       "    </tr>\n",
       "    <tr>\n",
       "      <th>LSTAT</th>\n",
       "      <td>-0.458173</td>\n",
       "      <td>-0.476222</td>\n",
       "      <td>-0.497467</td>\n",
       "      <td>-0.514288</td>\n",
       "      <td>-0.643020</td>\n",
       "    </tr>\n",
       "  </tbody>\n",
       "</table>\n",
       "</div>"
      ],
      "text/plain": [
       "           alpha=0   alpha=1   alpha=5  alpha=10  alpha=100\n",
       "CRIM     -0.106486 -0.098989 -0.095897 -0.095761  -0.093036\n",
       "ZN        0.052928  0.055982  0.058614  0.060075   0.065512\n",
       "INDUS     0.001940 -0.052383 -0.077356 -0.080624  -0.084117\n",
       "CHAS      3.665629  3.336114  2.679254  2.182534   0.544736\n",
       "NOX     -22.298586 -9.501731 -2.865365 -1.520838  -0.145625\n",
       "RM        3.753820  3.791013  3.670303  3.490921   1.830721\n",
       "AGE      -0.010788 -0.021339 -0.025173 -0.024268  -0.005687\n",
       "DIS      -1.653172 -1.474036 -1.381711 -1.360840  -1.184691\n",
       "RAD       0.348607  0.318864  0.310956  0.315844   0.351776\n",
       "TAX      -0.015921 -0.017058 -0.018044 -0.018572  -0.020522\n",
       "PTRATIO  -0.935376 -0.792539 -0.728965 -0.725167  -0.752583\n",
       "B         0.007924  0.008247  0.008386  0.008343   0.007052\n",
       "LSTAT    -0.458173 -0.476222 -0.497467 -0.514288  -0.643020"
      ]
     },
     "execution_count": 62,
     "metadata": {},
     "output_type": "execute_result"
    }
   ],
   "source": [
    "alpha = [0,1,5,10,100]\n",
    "regulation_compare(alpha,'Ridge')"
   ]
  },
  {
   "cell_type": "markdown",
   "id": "5e152f2b-5bb7-4793-a793-68de89354e89",
   "metadata": {},
   "source": [
    "## 엘라스틱 회귀모델 생성 (L1 + L2)"
   ]
  },
  {
   "cell_type": "markdown",
   "id": "144ff31e-8e3b-4494-9853-915c3d862504",
   "metadata": {},
   "source": [
    "# [실습] 대한민국 육군 몸무게 예측"
   ]
  },
  {
   "cell_type": "code",
   "execution_count": null,
   "id": "5436a166-20f6-4b75-a7b8-0cbc931cc682",
   "metadata": {},
   "outputs": [],
   "source": [
    "- 다음 3가지 회귀모형 결과 비교하기\n",
    ">- 일반 선형회귀\n",
    ">- L1 규제가 적용된 Lasso 모형(알파값 1)\n",
    ">- L2 규제가 적용된 Ridge 모형(알파값 10)\n",
    ">- 평가지표: 결정계수, MAE, RMSE"
   ]
  },
  {
   "cell_type": "code",
   "execution_count": 96,
   "id": "25269444-d297-448a-b8b7-34b2243cc8d9",
   "metadata": {},
   "outputs": [
    {
     "name": "stdout",
     "output_type": "stream",
     "text": [
      "0.8851306594230461\n",
      "0.8834842331462016\n",
      "0.88513071873077\n",
      "RMSE:21.98\n",
      "RMSE:22.30\n",
      "RMSE:21.98\n",
      "MAE:3.54\n",
      "MAE:3.55\n",
      "MAE:3.54\n"
     ]
    }
   ],
   "source": [
    "from sklearn.metrics import mean_absolute_error, mean_squared_error, r2_score\n",
    "df = pd.read_csv(\"./데이터셋/Army-Dataset.csv\")\n",
    "df.drop('Seq', axis=1, inplace=True)\n",
    "x = df.loc[:,'Chest':'Foot'] # df.drop('weight',axis=1)\n",
    "y = df['Weight']\n",
    "\n",
    "x_train, x_test, y_train, y_test = train_test_split(x,y,train_size=0.8,random_state=10)\n",
    "model = LinearRegression()\n",
    "lasso = Lasso(alpha=1)\n",
    "ridge = Ridge(alpha=10)\n",
    "\n",
    "model.fit(x_train, y_train)\n",
    "lasso.fit(x_train, y_train)\n",
    "ridge.fit(x_train, y_train)\n",
    "\n",
    "linearhat = model.predict(x_test)\n",
    "lassohat = lasso.predict(x_test)\n",
    "ridgehat = ridge.predict(x_test)\n",
    "\n",
    "r_square = model.score(x_test, y_test)\n",
    "lasso_square = lasso.score(x_test, y_test)\n",
    "ridge_square = ridge.score(x_test, y_test)\n",
    "print(r_square)\n",
    "print(lasso_square)\n",
    "print(ridge_square)\n",
    "\n",
    "\n",
    "print(f'RMSE:{(mean_squared_error(y_test,linearhat)):.2f}')\n",
    "print(f'RMSE:{(mean_squared_error(y_test,lassohat)):.2f}')\n",
    "print(f'RMSE:{(mean_squared_error(y_test,ridgehat)):.2f}')\n",
    "\n",
    "\n",
    "print(f'MAE:{mean_absolute_error(y_test,linearhat):.2f}')\n",
    "print(f'MAE:{mean_absolute_error(y_test,lassohat):.2f}')\n",
    "print(f'MAE:{mean_absolute_error(y_test,ridgehat):.2f}')"
   ]
  },
  {
   "cell_type": "markdown",
   "id": "34027bef-4736-4d1c-a6d8-ce4426ab256a",
   "metadata": {},
   "source": [
    "## 알파값 변화에 따른 모델 성능 변화 시각화"
   ]
  },
  {
   "cell_type": "code",
   "execution_count": 99,
   "id": "a5ea045d-5d71-4622-b13a-b120c084fa44",
   "metadata": {},
   "outputs": [],
   "source": [
    "ridge_result = []\n",
    "lasso_result = []\n",
    "alpha = [0.001, 0.01,0.1,1,5,7,10,30]\n",
    "\n",
    "for a in alpha:\n",
    "    ridge = Ridge(alpha=a)\n",
    "    lasso = Lasso(alpha=a)\n",
    "\n",
    "    ridge.fit(x_train,y_train)\n",
    "    lasso.fit(x_train,y_train)\n",
    "\n",
    "    ridge_r2 = ridge.score(x_test, y_test)\n",
    "    lasso_r2 = lasso.score(x_test, y_test)\n",
    "    ridge_result.append(ridge_r2)\n",
    "    lasso_result.append(lasso_r2)"
   ]
  },
  {
   "cell_type": "code",
   "execution_count": 101,
   "id": "1012e4cd-a7be-471c-b4d1-021a02faff34",
   "metadata": {},
   "outputs": [
    {
     "data": {
      "image/png": "[encoded data removed]",
      "text/plain": [
       "<Figure size 640x480 with 1 Axes>"
      ]
     },
     "metadata": {},
     "output_type": "display_data"
    }
   ],
   "source": [
    "import matplotlib.pyplot as plt\n",
    "plt.plot(range(len(alpha)), ridge_result, '-xb', label = 'R2 of Ridge')\n",
    "plt.plot(range(len(alpha)), lasso_result, '-xr', label = 'R2 of Lasso')\n",
    "plt.xticks(range(len(alpha)), alpha)\n",
    "plt.xlabel('Alpha')\n",
    "plt.xlabel('R2 score')\n",
    "plt.legend()\n",
    "plt.show()"
   ]
  }
 ],
 "metadata": {
  "kernelspec": {
   "display_name": "Python 3 (ipykernel)",
   "language": "python",
   "name": "python3"
  },
  "language_info": {
   "codemirror_mode": {
    "name": "ipython",
    "version": 3
   },
   "file_extension": ".py",
   "mimetype": "text/x-python",
   "name": "python",
   "nbconvert_exporter": "python",
   "pygments_lexer": "ipython3",
   "version": "3.11.7"
  }
 },
 "nbformat": 4,
 "nbformat_minor": 5
}
