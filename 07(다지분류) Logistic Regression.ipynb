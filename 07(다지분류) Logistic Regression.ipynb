{
 "cells": [
  {
   "cell_type": "markdown",
   "id": "e8522f05-3d3c-4000-8432-6909fc41bb7c",
   "metadata": {},
   "source": [
    "# 붓꽃 판별"
   ]
  },
  {
   "cell_type": "markdown",
   "id": "f5ddb040-4ba5-49be-9592-fce06b6343e1",
   "metadata": {},
   "source": [
    "## 패키지 로딩"
   ]
  },
  {
   "cell_type": "code",
   "execution_count": 1,
   "id": "fa813c16-38e7-49eb-95bd-85ff2902a218",
   "metadata": {},
   "outputs": [
    {
     "name": "stdout",
     "output_type": "stream",
     "text": [
      "Requirement already satisfied: seaborn in c:\\users\\user\\anaconda3\\lib\\site-packages (0.12.2)\n",
      "Collecting seaborn\n",
      "  Downloading seaborn-0.13.2-py3-none-any.whl.metadata (5.4 kB)\n",
      "Requirement already satisfied: numpy!=1.24.0,>=1.20 in c:\\users\\user\\anaconda3\\lib\\site-packages (from seaborn) (1.26.4)\n",
      "Requirement already satisfied: pandas>=1.2 in c:\\users\\user\\anaconda3\\lib\\site-packages (from seaborn) (2.1.4)\n",
      "Requirement already satisfied: matplotlib!=3.6.1,>=3.4 in c:\\users\\user\\anaconda3\\lib\\site-packages (from seaborn) (3.8.0)\n",
      "Requirement already satisfied: contourpy>=1.0.1 in c:\\users\\user\\anaconda3\\lib\\site-packages (from matplotlib!=3.6.1,>=3.4->seaborn) (1.2.0)\n",
      "Requirement already satisfied: cycler>=0.10 in c:\\users\\user\\anaconda3\\lib\\site-packages (from matplotlib!=3.6.1,>=3.4->seaborn) (0.11.0)\n",
      "Requirement already satisfied: fonttools>=4.22.0 in c:\\users\\user\\anaconda3\\lib\\site-packages (from matplotlib!=3.6.1,>=3.4->seaborn) (4.25.0)\n",
      "Requirement already satisfied: kiwisolver>=1.0.1 in c:\\users\\user\\anaconda3\\lib\\site-packages (from matplotlib!=3.6.1,>=3.4->seaborn) (1.4.4)\n",
      "Requirement already satisfied: packaging>=20.0 in c:\\users\\user\\anaconda3\\lib\\site-packages (from matplotlib!=3.6.1,>=3.4->seaborn) (23.1)\n",
      "Requirement already satisfied: pillow>=6.2.0 in c:\\users\\user\\anaconda3\\lib\\site-packages (from matplotlib!=3.6.1,>=3.4->seaborn) (10.2.0)\n",
      "Requirement already satisfied: pyparsing>=2.3.1 in c:\\users\\user\\anaconda3\\lib\\site-packages (from matplotlib!=3.6.1,>=3.4->seaborn) (3.0.9)\n",
      "Requirement already satisfied: python-dateutil>=2.7 in c:\\users\\user\\anaconda3\\lib\\site-packages (from matplotlib!=3.6.1,>=3.4->seaborn) (2.8.2)\n",
      "Requirement already satisfied: pytz>=2020.1 in c:\\users\\user\\anaconda3\\lib\\site-packages (from pandas>=1.2->seaborn) (2023.3.post1)\n",
      "Requirement already satisfied: tzdata>=2022.1 in c:\\users\\user\\anaconda3\\lib\\site-packages (from pandas>=1.2->seaborn) (2023.3)\n",
      "Requirement already satisfied: six>=1.5 in c:\\users\\user\\anaconda3\\lib\\site-packages (from python-dateutil>=2.7->matplotlib!=3.6.1,>=3.4->seaborn) (1.16.0)\n",
      "Downloading seaborn-0.13.2-py3-none-any.whl (294 kB)\n",
      "   ---------------------------------------- 0.0/294.9 kB ? eta -:--:--\n",
      "   ---- ----------------------------------- 30.7/294.9 kB ? eta -:--:--\n",
      "   -------------------------- ------------- 194.6/294.9 kB 3.0 MB/s eta 0:00:01\n",
      "   ---------------------------------------- 294.9/294.9 kB 3.1 MB/s eta 0:00:00\n",
      "Installing collected packages: seaborn\n",
      "  Attempting uninstall: seaborn\n",
      "    Found existing installation: seaborn 0.12.2\n",
      "    Uninstalling seaborn-0.12.2:\n",
      "      Successfully uninstalled seaborn-0.12.2\n",
      "Successfully installed seaborn-0.13.2\n"
     ]
    }
   ],
   "source": [
    "!pip install seaborn --upgrade"
   ]
  },
  {
   "cell_type": "code",
   "execution_count": 19,
   "id": "0bbb7bc6-c6ce-40fa-90f0-6de7ad0c8d71",
   "metadata": {},
   "outputs": [],
   "source": [
    "import numpy as np\n",
    "import pandas as pd \n",
    "from sklearn.linear_model import LogisticRegression\n",
    "from sklearn.datasets import load_iris\n",
    "from sklearn.model_selection import train_test_split\n",
    "from sklearn.metrics import accuracy_score, f1_score, precision_score, confusion_matrix, classification_report, roc_auc_score"
   ]
  },
  {
   "cell_type": "markdown",
   "id": "cb683163-63ee-412f-b0df-8936dea2036e",
   "metadata": {},
   "source": [
    "## 데이터 로드 및 확인"
   ]
  },
  {
   "cell_type": "code",
   "execution_count": 4,
   "id": "6bb1e397-826c-40e6-a3e2-7f999720e905",
   "metadata": {},
   "outputs": [],
   "source": [
    "iris = load_iris()\n",
    "x = iris.data\n",
    "y = iris.target\n",
    "#print(x.shape)"
   ]
  },
  {
   "cell_type": "markdown",
   "id": "f340f350-15cb-4bfd-ab59-7577fc6eff9c",
   "metadata": {},
   "source": [
    "## 학습 데이터/평가 데이터 분리"
   ]
  },
  {
   "cell_type": "code",
   "execution_count": 5,
   "id": "8065735a-de3c-44c6-8701-a043d4ef13e8",
   "metadata": {},
   "outputs": [
    {
     "name": "stdout",
     "output_type": "stream",
     "text": [
      "y의 클래스별 데이터: [50 50 50]\n",
      "y의 클래스별 데이터: [40 40 40]\n",
      "y의 클래스별 데이터: [10 10 10]\n"
     ]
    }
   ],
   "source": [
    "x_train, x_test, y_train, y_test = train_test_split(x,y, test_size=0.2,random_state=10, stratify=y ) # stratify=y를 사용하여 데이터를 분할하면, 훈련 세트와 테스트 세트 모두에 클래스 A와 클래스 B가 유사한 비율로 포함됩니다. 즉, 훈련 세트와 테스트 세트에 있는 클래스 A와 클래스 B의 비율은 원래 데이터셋과 유사하게 유지\n",
    "print('y의 클래스별 데이터:', np.bincount(y))\n",
    "print('y의 클래스별 데이터:', np.bincount(y_train))\n",
    "print('y의 클래스별 데이터:', np.bincount(y_test))"
   ]
  },
  {
   "cell_type": "markdown",
   "id": "f18c292a-8210-4886-8722-8b7916a4cfac",
   "metadata": {},
   "source": [
    "## 모델생성\n",
    "- multi-class : 다중분류 문제를 처리하기 위한 방식을 지정\n",
    "  >- solver 가 liblinear로 지정된 경우 OVR(OneVSRest) 방식으로 제한된다.\n",
    "- "
   ]
  },
  {
   "cell_type": "code",
   "execution_count": 6,
   "id": "839fee52-0992-41b8-8b8e-15074f4d8287",
   "metadata": {},
   "outputs": [
    {
     "data": {
      "text/html": [
       "<style>#sk-container-id-1 {color: black;background-color: white;}#sk-container-id-1 pre{padding: 0;}#sk-container-id-1 div.sk-toggleable {background-color: white;}#sk-container-id-1 label.sk-toggleable__label {cursor: pointer;display: block;width: 100%;margin-bottom: 0;padding: 0.3em;box-sizing: border-box;text-align: center;}#sk-container-id-1 label.sk-toggleable__label-arrow:before {content: \"▸\";float: left;margin-right: 0.25em;color: #696969;}#sk-container-id-1 label.sk-toggleable__label-arrow:hover:before {color: black;}#sk-container-id-1 div.sk-estimator:hover label.sk-toggleable__label-arrow:before {color: black;}#sk-container-id-1 div.sk-toggleable__content {max-height: 0;max-width: 0;overflow: hidden;text-align: left;background-color: #f0f8ff;}#sk-container-id-1 div.sk-toggleable__content pre {margin: 0.2em;color: black;border-radius: 0.25em;background-color: #f0f8ff;}#sk-container-id-1 input.sk-toggleable__control:checked~div.sk-toggleable__content {max-height: 200px;max-width: 100%;overflow: auto;}#sk-container-id-1 input.sk-toggleable__control:checked~label.sk-toggleable__label-arrow:before {content: \"▾\";}#sk-container-id-1 div.sk-estimator input.sk-toggleable__control:checked~label.sk-toggleable__label {background-color: #d4ebff;}#sk-container-id-1 div.sk-label input.sk-toggleable__control:checked~label.sk-toggleable__label {background-color: #d4ebff;}#sk-container-id-1 input.sk-hidden--visually {border: 0;clip: rect(1px 1px 1px 1px);clip: rect(1px, 1px, 1px, 1px);height: 1px;margin: -1px;overflow: hidden;padding: 0;position: absolute;width: 1px;}#sk-container-id-1 div.sk-estimator {font-family: monospace;background-color: #f0f8ff;border: 1px dotted black;border-radius: 0.25em;box-sizing: border-box;margin-bottom: 0.5em;}#sk-container-id-1 div.sk-estimator:hover {background-color: #d4ebff;}#sk-container-id-1 div.sk-parallel-item::after {content: \"\";width: 100%;border-bottom: 1px solid gray;flex-grow: 1;}#sk-container-id-1 div.sk-label:hover label.sk-toggleable__label {background-color: #d4ebff;}#sk-container-id-1 div.sk-serial::before {content: \"\";position: absolute;border-left: 1px solid gray;box-sizing: border-box;top: 0;bottom: 0;left: 50%;z-index: 0;}#sk-container-id-1 div.sk-serial {display: flex;flex-direction: column;align-items: center;background-color: white;padding-right: 0.2em;padding-left: 0.2em;position: relative;}#sk-container-id-1 div.sk-item {position: relative;z-index: 1;}#sk-container-id-1 div.sk-parallel {display: flex;align-items: stretch;justify-content: center;background-color: white;position: relative;}#sk-container-id-1 div.sk-item::before, #sk-container-id-1 div.sk-parallel-item::before {content: \"\";position: absolute;border-left: 1px solid gray;box-sizing: border-box;top: 0;bottom: 0;left: 50%;z-index: -1;}#sk-container-id-1 div.sk-parallel-item {display: flex;flex-direction: column;z-index: 1;position: relative;background-color: white;}#sk-container-id-1 div.sk-parallel-item:first-child::after {align-self: flex-end;width: 50%;}#sk-container-id-1 div.sk-parallel-item:last-child::after {align-self: flex-start;width: 50%;}#sk-container-id-1 div.sk-parallel-item:only-child::after {width: 0;}#sk-container-id-1 div.sk-dashed-wrapped {border: 1px dashed gray;margin: 0 0.4em 0.5em 0.4em;box-sizing: border-box;padding-bottom: 0.4em;background-color: white;}#sk-container-id-1 div.sk-label label {font-family: monospace;font-weight: bold;display: inline-block;line-height: 1.2em;}#sk-container-id-1 div.sk-label-container {text-align: center;}#sk-container-id-1 div.sk-container {/* jupyter's `normalize.less` sets `[hidden] { display: none; }` but bootstrap.min.css set `[hidden] { display: none !important; }` so we also need the `!important` here to be able to override the default hidden behavior on the sphinx rendered scikit-learn.org. See: https://github.com/scikit-learn/scikit-learn/issues/21755 */display: inline-block !important;position: relative;}#sk-container-id-1 div.sk-text-repr-fallback {display: none;}</style><div id=\"sk-container-id-1\" class=\"sk-top-container\"><div class=\"sk-text-repr-fallback\"><pre>LogisticRegression(max_iter=2000, multi_class=&#x27;ovr&#x27;, solver=&#x27;liblinear&#x27;)</pre><b>In a Jupyter environment, please rerun this cell to show the HTML representation or trust the notebook. <br />On GitHub, the HTML representation is unable to render, please try loading this page with nbviewer.org.</b></div><div class=\"sk-container\" hidden><div class=\"sk-item\"><div class=\"sk-estimator sk-toggleable\"><input class=\"sk-toggleable__control sk-hidden--visually\" id=\"sk-estimator-id-1\" type=\"checkbox\" checked><label for=\"sk-estimator-id-1\" class=\"sk-toggleable__label sk-toggleable__label-arrow\">LogisticRegression</label><div class=\"sk-toggleable__content\"><pre>LogisticRegression(max_iter=2000, multi_class=&#x27;ovr&#x27;, solver=&#x27;liblinear&#x27;)</pre></div></div></div></div></div>"
      ],
      "text/plain": [
       "LogisticRegression(max_iter=2000, multi_class='ovr', solver='liblinear')"
      ]
     },
     "execution_count": 6,
     "metadata": {},
     "output_type": "execute_result"
    }
   ],
   "source": [
    "model = LogisticRegression(solver='liblinear',multi_class='ovr',max_iter=2000)\n",
    "model.fit(x_train, y_train)# max iter 반복하는 최대 횟수를 제한, 무한루트 빠지지 않도록"
   ]
  },
  {
   "cell_type": "markdown",
   "id": "5ad08e29-ef09-4227-921d-a56aa0a38619",
   "metadata": {},
   "source": [
    "## 모델예측"
   ]
  },
  {
   "cell_type": "code",
   "execution_count": 7,
   "id": "20e7e872-9039-4ae1-9a15-16782dad4cd7",
   "metadata": {},
   "outputs": [
    {
     "name": "stdout",
     "output_type": "stream",
     "text": [
      "['setosa' 'versicolor' 'virginica']\n"
     ]
    }
   ],
   "source": [
    "print(iris.target_names)"
   ]
  },
  {
   "cell_type": "code",
   "execution_count": 8,
   "id": "dd2b232d-a9ba-4871-ab9a-f0cd50f2d0f1",
   "metadata": {},
   "outputs": [
    {
     "name": "stdout",
     "output_type": "stream",
     "text": [
      "[1 0 2 2 1]\n"
     ]
    }
   ],
   "source": [
    "y_hat = model.predict(x_test)\n",
    "print(y_hat[:5])"
   ]
  },
  {
   "cell_type": "code",
   "execution_count": 9,
   "id": "33676afd-0cfc-4342-af53-fbbf38dac1d3",
   "metadata": {},
   "outputs": [
    {
     "name": "stdout",
     "output_type": "stream",
     "text": [
      "[[0.015 0.548 0.437]\n",
      " [0.902 0.097 0.   ]\n",
      " [0.014 0.348 0.638]\n",
      " [0.005 0.395 0.601]\n",
      " [0.129 0.723 0.149]]\n"
     ]
    }
   ],
   "source": [
    "prob = model.predict_proba(x_test)\n",
    "print(np.round(prob[:5],3))"
   ]
  },
  {
   "cell_type": "markdown",
   "id": "e493d482-b10c-4a04-b620-036e23ce0d03",
   "metadata": {},
   "source": [
    "## 모델평가\n",
    "- 다중 클래스의 분류의 경우 average 속성에 집계방식 (macro, micro, weight ) 지정해야함"
   ]
  },
  {
   "cell_type": "code",
   "execution_count": 10,
   "id": "710d824b-7c85-4a96-ae3f-a2dd7bc9f3f6",
   "metadata": {},
   "outputs": [
    {
     "name": "stdout",
     "output_type": "stream",
     "text": [
      "정확도:0.967\n",
      "정밀도:0.970\n",
      "F1-SCORE:0.967\n"
     ]
    }
   ],
   "source": [
    "print(f'정확도:{accuracy_score(y_test,y_hat):.3f}')\n",
    "print(f'정밀도:{precision_score(y_test,y_hat,average=\"macro\"):.3f}')\n",
    "print(f'F1-SCORE:{f1_score(y_test,y_hat,average=\"macro\"):.3f}')"
   ]
  },
  {
   "cell_type": "markdown",
   "id": "c595ee9e-6182-4e3c-8154-81a699a089ce",
   "metadata": {},
   "source": [
    "- 다중 클래스 분류의 ROC\n",
    " >- ROC곡선은 일반적으로 TPR과 FPR을 명확하게 정의할 수 있는 이진분류에 사용된다.\n",
    " >- 다중클래스 분류의 경우 출력을 이진화 하고 TPR과 FPR의 값을 얻을 수 있다.\n",
    " >- One Vs Rest One Vs One 방법으로 수행 할 수 있다."
   ]
  },
  {
   "cell_type": "code",
   "execution_count": 11,
   "id": "ebe2eaf2-899b-47b4-84db-cc58a5bffe9f",
   "metadata": {},
   "outputs": [
    {
     "name": "stdout",
     "output_type": "stream",
     "text": [
      "AUC:0.988\n"
     ]
    }
   ],
   "source": [
    "auc = roc_auc_score(y_test, model.predict_proba(x_test),multi_class='ovr')\n",
    "print(f'AUC:{auc:.3f}')"
   ]
  },
  {
   "cell_type": "code",
   "execution_count": 12,
   "id": "44dab764-62c7-44f6-af0e-24baad3222ee",
   "metadata": {},
   "outputs": [
    {
     "name": "stdout",
     "output_type": "stream",
     "text": [
      "              precision    recall  f1-score   support\n",
      "\n",
      "           0       1.00      1.00      1.00        10\n",
      "           1       1.00      0.90      0.95        10\n",
      "           2       0.91      1.00      0.95        10\n",
      "\n",
      "    accuracy                           0.97        30\n",
      "   macro avg       0.97      0.97      0.97        30\n",
      "weighted avg       0.97      0.97      0.97        30\n",
      "\n"
     ]
    }
   ],
   "source": [
    "report = classification_report(y_test,y_hat)\n",
    "print(report)"
   ]
  },
  {
   "cell_type": "markdown",
   "id": "8694ebcd-01a1-4087-a502-e88efb08ff82",
   "metadata": {},
   "source": [
    "## 다중 클래스 혼동행렬 시각화"
   ]
  },
  {
   "cell_type": "code",
   "execution_count": 20,
   "id": "c3398019-ba96-43d0-9a9c-229d701edd83",
   "metadata": {},
   "outputs": [
    {
     "data": {
      "image/png": "[encoded data removed]",
      "text/plain": [
       "<Figure size 640x480 with 2 Axes>"
      ]
     },
     "metadata": {},
     "output_type": "display_data"
    }
   ],
   "source": [
    "import seaborn as sns\n",
    "import matplotlib.pyplot as plt\n",
    "\n",
    "sns.heatmap(confusion_matrix(y_test,y_hat), annot=True, fmt=\".2f\", linewidths=1)\n",
    "\n",
    "plt.xlabel('Actual')\n",
    "plt.ylabel('Predict')\n",
    "plt.show()"
   ]
  },
  {
   "cell_type": "markdown",
   "id": "f7876488-a195-47b2-807e-d034f387dade",
   "metadata": {},
   "source": [
    "## 하이퍼 파라메터 튜닝"
   ]
  },
  {
   "cell_type": "code",
   "execution_count": 22,
   "id": "c4c7b40b-74cf-411d-b275-d9b7b49c3b72",
   "metadata": {},
   "outputs": [
    {
     "name": "stdout",
     "output_type": "stream",
     "text": [
      "최적 파라메터: {'C': 1, 'multi_class': 'multinomial', 'solver': 'saga'}\n",
      "최적 정확도: 0.9866666666666667\n"
     ]
    },
    {
     "name": "stderr",
     "output_type": "stream",
     "text": [
      "C:\\Users\\user\\anaconda3\\Lib\\site-packages\\sklearn\\model_selection\\_validation.py:378: FitFailedWarning: \n",
      "30 fits failed out of a total of 300.\n",
      "The score on these train-test partitions for these parameters will be set to nan.\n",
      "If these failures are not expected, you can try to debug them by setting error_score='raise'.\n",
      "\n",
      "Below are more details about the failures:\n",
      "--------------------------------------------------------------------------------\n",
      "30 fits failed with the following error:\n",
      "Traceback (most recent call last):\n",
      "  File \"C:\\Users\\user\\anaconda3\\Lib\\site-packages\\sklearn\\model_selection\\_validation.py\", line 686, in _fit_and_score\n",
      "    estimator.fit(X_train, y_train, **fit_params)\n",
      "  File \"C:\\Users\\user\\anaconda3\\Lib\\site-packages\\sklearn\\linear_model\\_logistic.py\", line 1207, in fit\n",
      "    multi_class = _check_multi_class(self.multi_class, solver, len(self.classes_))\n",
      "                  ^^^^^^^^^^^^^^^^^^^^^^^^^^^^^^^^^^^^^^^^^^^^^^^^^^^^^^^^^^^^^^^^\n",
      "  File \"C:\\Users\\user\\anaconda3\\Lib\\site-packages\\sklearn\\linear_model\\_logistic.py\", line 90, in _check_multi_class\n",
      "    raise ValueError(\"Solver %s does not support a multinomial backend.\" % solver)\n",
      "ValueError: Solver liblinear does not support a multinomial backend.\n",
      "\n",
      "  warnings.warn(some_fits_failed_message, FitFailedWarning)\n",
      "C:\\Users\\user\\anaconda3\\Lib\\site-packages\\sklearn\\model_selection\\_search.py:952: UserWarning: One or more of the test scores are non-finite: [0.79333333 0.79333333 0.79333333 0.78666667 0.66666667 0.86\n",
      " 0.86       0.86       0.86              nan 0.88666667 0.88666667\n",
      " 0.86666667 0.88       0.82       0.94666667 0.94666667 0.95333333\n",
      " 0.96666667        nan 0.94       0.94       0.94666667 0.96666667\n",
      " 0.96       0.97333333 0.97333333 0.98       0.98666667        nan\n",
      " 0.94666667 0.94666667 0.96       0.96       0.96       0.97333333\n",
      " 0.97333333 0.98       0.98              nan 0.94666667 0.94666667\n",
      " 0.96666667 0.96       0.96666667 0.97333333 0.97333333 0.98\n",
      " 0.98              nan 0.96       0.96       0.96666667 0.96\n",
      " 0.96666667 0.97333333 0.98       0.98       0.98              nan]\n",
      "  warnings.warn(\n",
      "C:\\Users\\user\\anaconda3\\Lib\\site-packages\\sklearn\\linear_model\\_sag.py:350: ConvergenceWarning: The max_iter was reached which means the coef_ did not converge\n",
      "  warnings.warn(\n"
     ]
    }
   ],
   "source": [
    "from sklearn.model_selection import GridSearchCV\n",
    "\n",
    "model = LogisticRegression()\n",
    "params = {\n",
    "    'C': [0.01,0.1,1,3,5,10],\n",
    "    'solver':['newton-cg','lbfgs','sag','saga','liblinear'],\n",
    "    'multi_class':['ovr','multinomial']\n",
    "}\n",
    "gs = GridSearchCV(model,params,cv=5,scoring='accuracy',n_jobs=-1)\n",
    "#GridSearch는 머신러닝 모델에서 최적의 하이퍼파라미터를 찾기 위한 기법 중 하나입니다. 하이퍼파라미터는 모델 학습 과정에서 사용자가 직접 지정해야 하는 매개변수로, 모델의 성능에 큰 영향을 미칩니다.\n",
    "gs.fit(x,y)\n",
    "print('최적 파라메터:', gs.best_params_)\n",
    "print('최적 정확도:', gs.best_score_)"
   ]
  },
  {
   "cell_type": "markdown",
   "id": "003ce262-0be2-45cd-a3a7-0bf626f72bc9",
   "metadata": {},
   "source": [
    "## 최적 파라메터를 이용한 모델평가"
   ]
  },
  {
   "cell_type": "code",
   "execution_count": 25,
   "id": "f7b2231b-11cf-438c-88c3-5d8d5dc0978c",
   "metadata": {},
   "outputs": [
    {
     "name": "stdout",
     "output_type": "stream",
     "text": [
      "정확도:1.000\n",
      "AUC: 1.0\n"
     ]
    }
   ],
   "source": [
    "y_hat = gs.best_estimator_.predict(x_test)\n",
    "print(f'정확도:{accuracy_score(y_test,y_hat):.3f}')\n",
    "auc = roc_auc_score(y_test,gs.best_estimator_.predict_proba(x_test),multi_class='ovr')\n",
    "print('AUC:',auc)"
   ]
  },
  {
   "cell_type": "code",
   "execution_count": null,
   "id": "de96eff5-953d-4a10-9c71-05a6a5a3368d",
   "metadata": {},
   "outputs": [],
   "source": []
  }
 ],
 "metadata": {
  "kernelspec": {
   "display_name": "Python 3 (ipykernel)",
   "language": "python",
   "name": "python3"
  },
  "language_info": {
   "codemirror_mode": {
    "name": "ipython",
    "version": 3
   },
   "file_extension": ".py",
   "mimetype": "text/x-python",
   "name": "python",
   "nbconvert_exporter": "python",
   "pygments_lexer": "ipython3",
   "version": "3.11.7"
  }
 },
 "nbformat": 4,
 "nbformat_minor": 5
}
