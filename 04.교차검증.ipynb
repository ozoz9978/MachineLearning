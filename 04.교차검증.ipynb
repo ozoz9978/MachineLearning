{
 "cells": [
  {
   "cell_type": "markdown",
   "id": "058404c9-828b-428f-833e-7e87b4f52f03",
   "metadata": {},
   "source": [
    "# 패키지 로딩"
   ]
  },
  {
   "cell_type": "code",
   "execution_count": 16,
   "id": "e4080238-c4a3-48e6-90f8-2ff54470acce",
   "metadata": {},
   "outputs": [],
   "source": [
    "import numpy as np\n",
    "import pandas as pd\n",
    "\n",
    "from sklearn.datasets import load_iris\n",
    "from sklearn.model_selection import KFold, StratifiedKFold, cross_val_predict, cross_val_score\n",
    "from sklearn.model_selection import train_test_split\n",
    "from sklearn.tree import DecisionTreeClassifier\n",
    "from sklearn.metrics import accuracy_score"
   ]
  },
  {
   "cell_type": "markdown",
   "id": "38786ef3-43d0-487d-97f4-adfbc9dc5425",
   "metadata": {},
   "source": [
    "# None Cross Validation"
   ]
  },
  {
   "cell_type": "code",
   "execution_count": 7,
   "id": "f849eed8-4bb8-45da-86f9-ef1a9f8b7af2",
   "metadata": {},
   "outputs": [
    {
     "name": "stdout",
     "output_type": "stream",
     "text": [
      "정확도:0.98\n"
     ]
    }
   ],
   "source": [
    "iris = load_iris()\n",
    "x_train, x_test, y_train, y_test = train_test_split (iris.data, iris.target, test_size = 0.3, random_state=10)\n",
    "model = DecisionTreeClassifier(random_state=1)\n",
    "model.fit(x_train, y_train)\n",
    "y_hat = model.predict(x_test)\n",
    "print(f'정확도:{accuracy_score(y_test,y_hat):.2f}')"
   ]
  },
  {
   "cell_type": "markdown",
   "id": "2db1c6ee-1d99-4675-9e02-92c67e9bc89d",
   "metadata": {},
   "source": [
    "# K-fold Cross Validation"
   ]
  },
  {
   "cell_type": "code",
   "execution_count": 10,
   "id": "2dc6ec4b-8802-4805-88fc-bdfdef6a960c",
   "metadata": {},
   "outputs": [
    {
     "name": "stdout",
     "output_type": "stream",
     "text": [
      "(150, 4)\n",
      "[0 0 0 0 0 0 0 0 0 0 0 0 0 0 0 0 0 0 0 0 0 0 0 0 0 0 0 0 0 0 0 0 0 0 0 0 0\n",
      " 0 0 0 0 0 0 0 0 0 0 0 0 0 1 1 1 1 1 1 1 1 1 1 1 1 1 1 1 1 1 1 1 1 1 1 1 1\n",
      " 1 1 1 1 1 1 1 1 1 1 1 1 1 1 1 1 1 1 1 1 1 1 1 1 1 1 2 2 2 2 2 2 2 2 2 2 2\n",
      " 2 2 2 2 2 2 2 2 2 2 2 2 2 2 2 2 2 2 2 2 2 2 2 2 2 2 2 2 2 2 2 2 2 2 2 2 2\n",
      " 2 2]\n",
      "{0: 50, 1: 50, 2: 50}\n"
     ]
    }
   ],
   "source": [
    "print(iris.data.shape)\n",
    "print(iris.target)\n",
    "unique,counts = np.unique(iris.target,return_counts=True)\n",
    "print(dict(zip(unique,counts)))"
   ]
  },
  {
   "cell_type": "code",
   "execution_count": 13,
   "id": "1aa56321-9be7-42fb-afab-33921cd692cf",
   "metadata": {
    "scrolled": true
   },
   "outputs": [
    {
     "name": "stdout",
     "output_type": "stream",
     "text": [
      "1번째 교차 검증 데이터 셋\n",
      "Train: [ 30  31  32  33  34  35  36  37  38  39  40  41  42  43  44  45  46  47\n",
      "  48  49  50  51  52  53  54  55  56  57  58  59  60  61  62  63  64  65\n",
      "  66  67  68  69  70  71  72  73  74  75  76  77  78  79  80  81  82  83\n",
      "  84  85  86  87  88  89  90  91  92  93  94  95  96  97  98  99 100 101\n",
      " 102 103 104 105 106 107 108 109 110 111 112 113 114 115 116 117 118 119\n",
      " 120 121 122 123 124 125 126 127 128 129 130 131 132 133 134 135 136 137\n",
      " 138 139 140 141 142 143 144 145 146 147 148 149]\n",
      "Test [ 0  1  2  3  4  5  6  7  8  9 10 11 12 13 14 15 16 17 18 19 20 21 22 23\n",
      " 24 25 26 27 28 29]\n",
      "1번째 교차검증 정확도: 1.00\n",
      "2번째 교차 검증 데이터 셋\n",
      "Train: [  0   1   2   3   4   5   6   7   8   9  10  11  12  13  14  15  16  17\n",
      "  18  19  20  21  22  23  24  25  26  27  28  29  60  61  62  63  64  65\n",
      "  66  67  68  69  70  71  72  73  74  75  76  77  78  79  80  81  82  83\n",
      "  84  85  86  87  88  89  90  91  92  93  94  95  96  97  98  99 100 101\n",
      " 102 103 104 105 106 107 108 109 110 111 112 113 114 115 116 117 118 119\n",
      " 120 121 122 123 124 125 126 127 128 129 130 131 132 133 134 135 136 137\n",
      " 138 139 140 141 142 143 144 145 146 147 148 149]\n",
      "Test [30 31 32 33 34 35 36 37 38 39 40 41 42 43 44 45 46 47 48 49 50 51 52 53\n",
      " 54 55 56 57 58 59]\n",
      "2번째 교차검증 정확도: 1.00\n",
      "3번째 교차 검증 데이터 셋\n",
      "Train: [  0   1   2   3   4   5   6   7   8   9  10  11  12  13  14  15  16  17\n",
      "  18  19  20  21  22  23  24  25  26  27  28  29  30  31  32  33  34  35\n",
      "  36  37  38  39  40  41  42  43  44  45  46  47  48  49  50  51  52  53\n",
      "  54  55  56  57  58  59  90  91  92  93  94  95  96  97  98  99 100 101\n",
      " 102 103 104 105 106 107 108 109 110 111 112 113 114 115 116 117 118 119\n",
      " 120 121 122 123 124 125 126 127 128 129 130 131 132 133 134 135 136 137\n",
      " 138 139 140 141 142 143 144 145 146 147 148 149]\n",
      "Test [60 61 62 63 64 65 66 67 68 69 70 71 72 73 74 75 76 77 78 79 80 81 82 83\n",
      " 84 85 86 87 88 89]\n",
      "3번째 교차검증 정확도: 0.90\n",
      "4번째 교차 검증 데이터 셋\n",
      "Train: [  0   1   2   3   4   5   6   7   8   9  10  11  12  13  14  15  16  17\n",
      "  18  19  20  21  22  23  24  25  26  27  28  29  30  31  32  33  34  35\n",
      "  36  37  38  39  40  41  42  43  44  45  46  47  48  49  50  51  52  53\n",
      "  54  55  56  57  58  59  60  61  62  63  64  65  66  67  68  69  70  71\n",
      "  72  73  74  75  76  77  78  79  80  81  82  83  84  85  86  87  88  89\n",
      " 120 121 122 123 124 125 126 127 128 129 130 131 132 133 134 135 136 137\n",
      " 138 139 140 141 142 143 144 145 146 147 148 149]\n",
      "Test [ 90  91  92  93  94  95  96  97  98  99 100 101 102 103 104 105 106 107\n",
      " 108 109 110 111 112 113 114 115 116 117 118 119]\n",
      "4번째 교차검증 정확도: 0.93\n",
      "5번째 교차 검증 데이터 셋\n",
      "Train: [  0   1   2   3   4   5   6   7   8   9  10  11  12  13  14  15  16  17\n",
      "  18  19  20  21  22  23  24  25  26  27  28  29  30  31  32  33  34  35\n",
      "  36  37  38  39  40  41  42  43  44  45  46  47  48  49  50  51  52  53\n",
      "  54  55  56  57  58  59  60  61  62  63  64  65  66  67  68  69  70  71\n",
      "  72  73  74  75  76  77  78  79  80  81  82  83  84  85  86  87  88  89\n",
      "  90  91  92  93  94  95  96  97  98  99 100 101 102 103 104 105 106 107\n",
      " 108 109 110 111 112 113 114 115 116 117 118 119]\n",
      "Test [120 121 122 123 124 125 126 127 128 129 130 131 132 133 134 135 136 137\n",
      " 138 139 140 141 142 143 144 145 146 147 148 149]\n",
      "5번째 교차검증 정확도: 0.73\n",
      "\n",
      "평균정확도:0.91\n"
     ]
    }
   ],
   "source": [
    "k_fold = KFold(n_splits=5)\n",
    "x = iris.data\n",
    "y = iris.target\n",
    "\n",
    "k = 0 # 교차검증횟수\n",
    "cv_acc = [] # 교차 검증마다 정확도 저장\n",
    "model = DecisionTreeClassifier(random_state=1)\n",
    "for train_idx, test_idx in k_fold.split(x):\n",
    "    k+=1\n",
    "    print(f'{k}번째 교차 검증 데이터 셋')\n",
    "    print('Train:',train_idx)\n",
    "    print('Test', test_idx)\n",
    "    x_train, x_test = x[train_idx], x[test_idx]\n",
    "    y_train, y_test = y[train_idx], y[test_idx]\n",
    "\n",
    "    model.fit(x_train, y_train)\n",
    "    y_hat = model.predict(x_test)\n",
    "    acc = accuracy_score(y_test, y_hat)\n",
    "    print(f'{k}번째 교차검증 정확도: {acc:.2f}')\n",
    "    cv_acc.append(acc)\n",
    "print()\n",
    "print(f'평균정확도:{np.mean(cv_acc):.2f}')"
   ]
  },
  {
   "cell_type": "markdown",
   "id": "7290e16c-deb7-4ef8-af3f-09964a6747ca",
   "metadata": {},
   "source": [
    "# Strarified K-FOLD Cross Validation"
   ]
  },
  {
   "cell_type": "code",
   "execution_count": null,
   "id": "ae287717-0e18-44da-bb8f-625f01561da1",
   "metadata": {},
   "outputs": [],
   "source": [
    "stratified_fold = StratifiedKFold(n_splits=5)\n",
    "x = iris.data\n",
    "y = iris.target\n",
    "\n",
    "k = 0 # 교차검증횟수\n",
    "cv_acc = [] # 교차 검증마다 정확도 저장\n",
    "model = DecisionTreeClassifier(random_state=1)\n",
    "for train_idx, test_idx in stratified_fold.split(x, y):\n",
    "    k+=1\n",
    "    print(f'{k}번째 교차 검증 데이터 셋')\n",
    "    print('Train:',train_idx)\n",
    "    print('Test', test_idx)\n",
    "    x_train, x_test = x[train_idx], x[test_idx]\n",
    "    y_train, y_test = y[train_idx], y[test_idx]\n",
    "\n",
    "    model.fit(x_train, y_train)\n",
    "    y_hat = model.predict(x_test)\n",
    "    acc = accuracy_score(y_test, y_hat)\n",
    "    print(f'{k}번째 교차검증 정확도: {acc:.2f}')\n",
    "    cv_acc.append(acc)\n",
    "print()\n",
    "print(f'평균정확도:{np.mean(cv_acc):.2f}')"
   ]
  },
  {
   "cell_type": "markdown",
   "id": "b3286273-67c9-41f5-be88-9f27277fd3c6",
   "metadata": {},
   "source": [
    "# cross_val_score()"
   ]
  },
  {
   "cell_type": "code",
   "execution_count": null,
   "id": "c8dc79c2-6708-429f-b82d-ac25361d960b",
   "metadata": {},
   "outputs": [],
   "source": [
    "- estimator : 학습할 모델 객체\n",
    "- x : 독립변수 데이터 셋\n",
    "- y : 종속변수 데이터 셋\n",
    "- cv : 교차검증 k 값 (default 5) 교차검증 클랙스 객체"
   ]
  },
  {
   "cell_type": "code",
   "execution_count": 22,
   "id": "01c44d4d-7e48-4ce7-94bb-cf34754db877",
   "metadata": {},
   "outputs": [
    {
     "name": "stdout",
     "output_type": "stream",
     "text": [
      "score: [0.96666667 0.96666667 0.9        1.         1.        ]\n",
      "평균 정확도: 0.97\n"
     ]
    }
   ],
   "source": [
    "score = cross_val_score(model, x, y)\n",
    "print(f'score:',score)\n",
    "print(f'평균 정확도: {np.mean(score):.2f}')"
   ]
  },
  {
   "cell_type": "markdown",
   "id": "a12f1f4e-f463-4776-890f-c3977574769b",
   "metadata": {},
   "source": [
    "# cross_validate()\n",
    "- 매 검증마다 소요된 학습 시간과 검증 시간을 딕셔너리로 반환한다.\n",
    "- 여러가지 평가지표를 리스트 형태로 전달 가능"
   ]
  },
  {
   "cell_type": "code",
   "execution_count": 33,
   "id": "e4cba448-256d-48b9-9929-2c5240deafb9",
   "metadata": {},
   "outputs": [
    {
     "name": "stdout",
     "output_type": "stream",
     "text": [
      "dict_keys(['explained_variance', 'r2', 'max_error', 'matthews_corrcoef', 'neg_median_absolute_error', 'neg_mean_absolute_error', 'neg_mean_absolute_percentage_error', 'neg_mean_squared_error', 'neg_mean_squared_log_error', 'neg_root_mean_squared_error', 'neg_mean_poisson_deviance', 'neg_mean_gamma_deviance', 'accuracy', 'top_k_accuracy', 'roc_auc', 'roc_auc_ovr', 'roc_auc_ovo', 'roc_auc_ovr_weighted', 'roc_auc_ovo_weighted', 'balanced_accuracy', 'average_precision', 'neg_log_loss', 'neg_brier_score', 'positive_likelihood_ratio', 'neg_negative_likelihood_ratio', 'adjusted_rand_score', 'rand_score', 'homogeneity_score', 'completeness_score', 'v_measure_score', 'mutual_info_score', 'adjusted_mutual_info_score', 'normalized_mutual_info_score', 'fowlkes_mallows_score', 'precision', 'precision_macro', 'precision_micro', 'precision_samples', 'precision_weighted', 'recall', 'recall_macro', 'recall_micro', 'recall_samples', 'recall_weighted', 'f1', 'f1_macro', 'f1_micro', 'f1_samples', 'f1_weighted', 'jaccard', 'jaccard_macro', 'jaccard_micro', 'jaccard_samples', 'jaccard_weighted'])\n"
     ]
    }
   ],
   "source": [
    "import sklearn\n",
    "from sklearn.model_selection import cross_validate"
   ]
  },
  {
   "cell_type": "code",
   "execution_count": 34,
   "id": "36549505-196d-43ab-8229-66d757bf7ae2",
   "metadata": {},
   "outputs": [
    {
     "name": "stdout",
     "output_type": "stream",
     "text": [
      "평가지표: fit_time\n",
      "평균값: 0.00\n",
      "평가지표: score_time\n",
      "평균값: 0.01\n",
      "평가지표: test_accuracy\n",
      "평균값: 0.97\n",
      "평가지표: test_precision_macro\n",
      "평균값: 0.97\n",
      "평가지표: test_roc_auc_ovr\n",
      "평균값: 0.97\n"
     ]
    }
   ],
   "source": [
    "result = cross_validate(model, x, y, cv=5, scoring=['accuracy', 'precision_macro', 'roc_auc_ovr'])\n",
    "for key, val in result.items():\n",
    "    print('평가지표:', key)\n",
    "    print(f'평균값: {np.mean(val):.2f}')"
   ]
  },
  {
   "cell_type": "markdown",
   "id": "4b5a5624-645a-49dc-bc61-5e95e3457da9",
   "metadata": {},
   "source": [
    "# 시그모이드 함수 그리기"
   ]
  },
  {
   "cell_type": "code",
   "execution_count": 1,
   "id": "4cf01302-68f9-410f-8c37-bf73668110bd",
   "metadata": {},
   "outputs": [],
   "source": [
    "import numpy as np\n",
    "import matplotlib.pyplot as plt "
   ]
  },
  {
   "cell_type": "code",
   "execution_count": 3,
   "id": "5a5f0f9d-a805-45f1-8ba9-826527ba7edb",
   "metadata": {},
   "outputs": [],
   "source": [
    "def sigmoid(x):\n",
    "    return 1 / (1+np.exp(-x))"
   ]
  },
  {
   "cell_type": "code",
   "execution_count": 6,
   "id": "8d1022b3-e195-4018-ae01-5e48d9cb96ec",
   "metadata": {},
   "outputs": [
    {
     "data": {
      "image/png": "[encoded data removed]",
      "text/plain": [
       "<Figure size 640x480 with 1 Axes>"
      ]
     },
     "metadata": {},
     "output_type": "display_data"
    }
   ],
   "source": [
    "# w 값에 따라 경사도가 변해 주어진 데이터에 적합한 w와 b를 구하는 것이 목적\n",
    "x = np.arange(-5,5,0.1)\n",
    "y = sigmoid(x)\n",
    "\n",
    "plt.plot(x,y,'g')\n",
    "plt.plot([0,0],[0,1],\":\") # 세로선\n",
    "plt.plot([-5,5],[0.5,0.5],\"r\")\n",
    "plt.title('Sigmoid Function')\n",
    "plt.show()"
   ]
  },
  {
   "cell_type": "code",
   "execution_count": 7,
   "id": "225982a0-5966-4bdf-9add-3d1e61578852",
   "metadata": {},
   "outputs": [
    {
     "data": {
      "image/png": "[encoded data removed]",
      "text/plain": [
       "<Figure size 640x480 with 1 Axes>"
      ]
     },
     "metadata": {},
     "output_type": "display_data"
    }
   ],
   "source": [
    "# w 값에 따라 경사도가 변해 주어진 데이터에 적합한 w와 b를 구하는 것이 목적\n",
    "x = np.arange(-5,5,0.1)\n",
    "y1 = sigmoid(0.5*x)\n",
    "y2 = sigmoid(1.0*x)\n",
    "y3 = sigmoid(2*x)\n",
    "\n",
    "plt.plot(x,y1,'r--', label = 'w:0.5')\n",
    "plt.plot(x,y2,'g', label = 'w:1.0')\n",
    "plt.plot(x,y3,'b-', label = 'w:2.0')\n",
    "plt.plot([0,0],[0,1],\":\") # 세로선\n",
    "plt.plot([-5,5],[0.5,0.5],\"r\")\n",
    "plt.title('Sigmoid Function')\n",
    "plt.show()"
   ]
  },
  {
   "cell_type": "markdown",
   "id": "4203c828-3e3b-41f7-906f-93f531e99408",
   "metadata": {},
   "source": [
    "# 유방암 판별 예측"
   ]
  },
  {
   "cell_type": "markdown",
   "id": "2a7f1987-cf9c-4278-85a2-744bc2d65e6e",
   "metadata": {},
   "source": [
    "## 패키지 로딩"
   ]
  },
  {
   "cell_type": "code",
   "execution_count": 10,
   "id": "7827f129-8d97-4c6f-b57f-0758e9614f38",
   "metadata": {},
   "outputs": [],
   "source": [
    "from sklearn.datasets import load_breast_cancer\n",
    "from sklearn.linear_model import LogisticRegression\n",
    "from sklearn.preprocessing import StandardScaler\n",
    "from sklearn.model_selection import train_test_split\n",
    "from sklearn.metrics import accuracy_score, precision_score, recall_score, roc_curve, roc_auc_score, confusion_matrix\n",
    "import numpy as np\n",
    "import pandas as pd"
   ]
  },
  {
   "cell_type": "markdown",
   "id": "41b5138b-242b-4e1b-acf9-1d0215232d2d",
   "metadata": {},
   "source": [
    "## 데이터 로드 및 확인"
   ]
  },
  {
   "cell_type": "code",
   "execution_count": 14,
   "id": "6531722c-73bc-407c-b8dd-df2ed5ed18da",
   "metadata": {},
   "outputs": [
    {
     "data": {
      "text/html": [
       "<div>\n",
       "<style scoped>\n",
       "    .dataframe tbody tr th:only-of-type {\n",
       "        vertical-align: middle;\n",
       "    }\n",
       "\n",
       "    .dataframe tbody tr th {\n",
       "        vertical-align: top;\n",
       "    }\n",
       "\n",
       "    .dataframe thead th {\n",
       "        text-align: right;\n",
       "    }\n",
       "</style>\n",
       "<table border=\"1\" class=\"dataframe\">\n",
       "  <thead>\n",
       "    <tr style=\"text-align: right;\">\n",
       "      <th></th>\n",
       "      <th>mean radius</th>\n",
       "      <th>mean texture</th>\n",
       "      <th>mean perimeter</th>\n",
       "      <th>mean area</th>\n",
       "      <th>mean smoothness</th>\n",
       "      <th>mean compactness</th>\n",
       "      <th>mean concavity</th>\n",
       "      <th>mean concave points</th>\n",
       "      <th>mean symmetry</th>\n",
       "      <th>mean fractal dimension</th>\n",
       "      <th>...</th>\n",
       "      <th>worst texture</th>\n",
       "      <th>worst perimeter</th>\n",
       "      <th>worst area</th>\n",
       "      <th>worst smoothness</th>\n",
       "      <th>worst compactness</th>\n",
       "      <th>worst concavity</th>\n",
       "      <th>worst concave points</th>\n",
       "      <th>worst symmetry</th>\n",
       "      <th>worst fractal dimension</th>\n",
       "      <th>target</th>\n",
       "    </tr>\n",
       "  </thead>\n",
       "  <tbody>\n",
       "    <tr>\n",
       "      <th>0</th>\n",
       "      <td>17.99</td>\n",
       "      <td>10.38</td>\n",
       "      <td>122.80</td>\n",
       "      <td>1001.0</td>\n",
       "      <td>0.11840</td>\n",
       "      <td>0.27760</td>\n",
       "      <td>0.3001</td>\n",
       "      <td>0.14710</td>\n",
       "      <td>0.2419</td>\n",
       "      <td>0.07871</td>\n",
       "      <td>...</td>\n",
       "      <td>17.33</td>\n",
       "      <td>184.60</td>\n",
       "      <td>2019.0</td>\n",
       "      <td>0.1622</td>\n",
       "      <td>0.6656</td>\n",
       "      <td>0.7119</td>\n",
       "      <td>0.2654</td>\n",
       "      <td>0.4601</td>\n",
       "      <td>0.11890</td>\n",
       "      <td>0</td>\n",
       "    </tr>\n",
       "    <tr>\n",
       "      <th>1</th>\n",
       "      <td>20.57</td>\n",
       "      <td>17.77</td>\n",
       "      <td>132.90</td>\n",
       "      <td>1326.0</td>\n",
       "      <td>0.08474</td>\n",
       "      <td>0.07864</td>\n",
       "      <td>0.0869</td>\n",
       "      <td>0.07017</td>\n",
       "      <td>0.1812</td>\n",
       "      <td>0.05667</td>\n",
       "      <td>...</td>\n",
       "      <td>23.41</td>\n",
       "      <td>158.80</td>\n",
       "      <td>1956.0</td>\n",
       "      <td>0.1238</td>\n",
       "      <td>0.1866</td>\n",
       "      <td>0.2416</td>\n",
       "      <td>0.1860</td>\n",
       "      <td>0.2750</td>\n",
       "      <td>0.08902</td>\n",
       "      <td>0</td>\n",
       "    </tr>\n",
       "    <tr>\n",
       "      <th>2</th>\n",
       "      <td>19.69</td>\n",
       "      <td>21.25</td>\n",
       "      <td>130.00</td>\n",
       "      <td>1203.0</td>\n",
       "      <td>0.10960</td>\n",
       "      <td>0.15990</td>\n",
       "      <td>0.1974</td>\n",
       "      <td>0.12790</td>\n",
       "      <td>0.2069</td>\n",
       "      <td>0.05999</td>\n",
       "      <td>...</td>\n",
       "      <td>25.53</td>\n",
       "      <td>152.50</td>\n",
       "      <td>1709.0</td>\n",
       "      <td>0.1444</td>\n",
       "      <td>0.4245</td>\n",
       "      <td>0.4504</td>\n",
       "      <td>0.2430</td>\n",
       "      <td>0.3613</td>\n",
       "      <td>0.08758</td>\n",
       "      <td>0</td>\n",
       "    </tr>\n",
       "    <tr>\n",
       "      <th>3</th>\n",
       "      <td>11.42</td>\n",
       "      <td>20.38</td>\n",
       "      <td>77.58</td>\n",
       "      <td>386.1</td>\n",
       "      <td>0.14250</td>\n",
       "      <td>0.28390</td>\n",
       "      <td>0.2414</td>\n",
       "      <td>0.10520</td>\n",
       "      <td>0.2597</td>\n",
       "      <td>0.09744</td>\n",
       "      <td>...</td>\n",
       "      <td>26.50</td>\n",
       "      <td>98.87</td>\n",
       "      <td>567.7</td>\n",
       "      <td>0.2098</td>\n",
       "      <td>0.8663</td>\n",
       "      <td>0.6869</td>\n",
       "      <td>0.2575</td>\n",
       "      <td>0.6638</td>\n",
       "      <td>0.17300</td>\n",
       "      <td>0</td>\n",
       "    </tr>\n",
       "    <tr>\n",
       "      <th>4</th>\n",
       "      <td>20.29</td>\n",
       "      <td>14.34</td>\n",
       "      <td>135.10</td>\n",
       "      <td>1297.0</td>\n",
       "      <td>0.10030</td>\n",
       "      <td>0.13280</td>\n",
       "      <td>0.1980</td>\n",
       "      <td>0.10430</td>\n",
       "      <td>0.1809</td>\n",
       "      <td>0.05883</td>\n",
       "      <td>...</td>\n",
       "      <td>16.67</td>\n",
       "      <td>152.20</td>\n",
       "      <td>1575.0</td>\n",
       "      <td>0.1374</td>\n",
       "      <td>0.2050</td>\n",
       "      <td>0.4000</td>\n",
       "      <td>0.1625</td>\n",
       "      <td>0.2364</td>\n",
       "      <td>0.07678</td>\n",
       "      <td>0</td>\n",
       "    </tr>\n",
       "  </tbody>\n",
       "</table>\n",
       "<p>5 rows × 31 columns</p>\n",
       "</div>"
      ],
      "text/plain": [
       "   mean radius  mean texture  mean perimeter  mean area  mean smoothness  \\\n",
       "0        17.99         10.38          122.80     1001.0          0.11840   \n",
       "1        20.57         17.77          132.90     1326.0          0.08474   \n",
       "2        19.69         21.25          130.00     1203.0          0.10960   \n",
       "3        11.42         20.38           77.58      386.1          0.14250   \n",
       "4        20.29         14.34          135.10     1297.0          0.10030   \n",
       "\n",
       "   mean compactness  mean concavity  mean concave points  mean symmetry  \\\n",
       "0           0.27760          0.3001              0.14710         0.2419   \n",
       "1           0.07864          0.0869              0.07017         0.1812   \n",
       "2           0.15990          0.1974              0.12790         0.2069   \n",
       "3           0.28390          0.2414              0.10520         0.2597   \n",
       "4           0.13280          0.1980              0.10430         0.1809   \n",
       "\n",
       "   mean fractal dimension  ...  worst texture  worst perimeter  worst area  \\\n",
       "0                 0.07871  ...          17.33           184.60      2019.0   \n",
       "1                 0.05667  ...          23.41           158.80      1956.0   \n",
       "2                 0.05999  ...          25.53           152.50      1709.0   \n",
       "3                 0.09744  ...          26.50            98.87       567.7   \n",
       "4                 0.05883  ...          16.67           152.20      1575.0   \n",
       "\n",
       "   worst smoothness  worst compactness  worst concavity  worst concave points  \\\n",
       "0            0.1622             0.6656           0.7119                0.2654   \n",
       "1            0.1238             0.1866           0.2416                0.1860   \n",
       "2            0.1444             0.4245           0.4504                0.2430   \n",
       "3            0.2098             0.8663           0.6869                0.2575   \n",
       "4            0.1374             0.2050           0.4000                0.1625   \n",
       "\n",
       "   worst symmetry  worst fractal dimension  target  \n",
       "0          0.4601                  0.11890       0  \n",
       "1          0.2750                  0.08902       0  \n",
       "2          0.3613                  0.08758       0  \n",
       "3          0.6638                  0.17300       0  \n",
       "4          0.2364                  0.07678       0  \n",
       "\n",
       "[5 rows x 31 columns]"
      ]
     },
     "metadata": {},
     "output_type": "display_data"
    },
    {
     "name": "stdout",
     "output_type": "stream",
     "text": [
      "(569, 31)\n",
      "<bound method IndexOpsMixin.value_counts of 0      0\n",
      "1      0\n",
      "2      0\n",
      "3      0\n",
      "4      0\n",
      "      ..\n",
      "564    0\n",
      "565    0\n",
      "566    0\n",
      "567    0\n",
      "568    1\n",
      "Name: target, Length: 569, dtype: int32>\n"
     ]
    }
   ],
   "source": [
    "breast = load_breast_cancer()\n",
    "#print(breast.DESCR)\n",
    "df = pd.DataFrame(breast.data, columns=breast.feature_names)\n",
    "df['target'] = breast.target\n",
    "display(df.head())\n",
    "print(df.shape)\n",
    "print(df['target'].value_counts)"
   ]
  },
  {
   "cell_type": "code",
   "execution_count": 18,
   "id": "eb2777a0-82d2-4b64-956f-0013dadeda54",
   "metadata": {},
   "outputs": [
    {
     "name": "stdout",
     "output_type": "stream",
     "text": [
      "       mean radius  mean texture  mean perimeter    mean area  \\\n",
      "count   569.000000    569.000000      569.000000   569.000000   \n",
      "mean     14.127292     19.289649       91.969033   654.889104   \n",
      "std       3.524049      4.301036       24.298981   351.914129   \n",
      "min       6.981000      9.710000       43.790000   143.500000   \n",
      "25%      11.700000     16.170000       75.170000   420.300000   \n",
      "50%      13.370000     18.840000       86.240000   551.100000   \n",
      "75%      15.780000     21.800000      104.100000   782.700000   \n",
      "max      28.110000     39.280000      188.500000  2501.000000   \n",
      "\n",
      "       mean smoothness  mean compactness  mean concavity  mean concave points  \\\n",
      "count       569.000000        569.000000      569.000000           569.000000   \n",
      "mean          0.096360          0.104341        0.088799             0.048919   \n",
      "std           0.014064          0.052813        0.079720             0.038803   \n",
      "min           0.052630          0.019380        0.000000             0.000000   \n",
      "25%           0.086370          0.064920        0.029560             0.020310   \n",
      "50%           0.095870          0.092630        0.061540             0.033500   \n",
      "75%           0.105300          0.130400        0.130700             0.074000   \n",
      "max           0.163400          0.345400        0.426800             0.201200   \n",
      "\n",
      "       mean symmetry  mean fractal dimension  ...  worst texture  \\\n",
      "count     569.000000              569.000000  ...     569.000000   \n",
      "mean        0.181162                0.062798  ...      25.677223   \n",
      "std         0.027414                0.007060  ...       6.146258   \n",
      "min         0.106000                0.049960  ...      12.020000   \n",
      "25%         0.161900                0.057700  ...      21.080000   \n",
      "50%         0.179200                0.061540  ...      25.410000   \n",
      "75%         0.195700                0.066120  ...      29.720000   \n",
      "max         0.304000                0.097440  ...      49.540000   \n",
      "\n",
      "       worst perimeter   worst area  worst smoothness  worst compactness  \\\n",
      "count       569.000000   569.000000        569.000000         569.000000   \n",
      "mean        107.261213   880.583128          0.132369           0.254265   \n",
      "std          33.602542   569.356993          0.022832           0.157336   \n",
      "min          50.410000   185.200000          0.071170           0.027290   \n",
      "25%          84.110000   515.300000          0.116600           0.147200   \n",
      "50%          97.660000   686.500000          0.131300           0.211900   \n",
      "75%         125.400000  1084.000000          0.146000           0.339100   \n",
      "max         251.200000  4254.000000          0.222600           1.058000   \n",
      "\n",
      "       worst concavity  worst concave points  worst symmetry  \\\n",
      "count       569.000000            569.000000      569.000000   \n",
      "mean          0.272188              0.114606        0.290076   \n",
      "std           0.208624              0.065732        0.061867   \n",
      "min           0.000000              0.000000        0.156500   \n",
      "25%           0.114500              0.064930        0.250400   \n",
      "50%           0.226700              0.099930        0.282200   \n",
      "75%           0.382900              0.161400        0.317900   \n",
      "max           1.252000              0.291000        0.663800   \n",
      "\n",
      "       worst fractal dimension      target  \n",
      "count               569.000000  569.000000  \n",
      "mean                  0.083946    0.627417  \n",
      "std                   0.018061    0.483918  \n",
      "min                   0.055040    0.000000  \n",
      "25%                   0.071460    0.000000  \n",
      "50%                   0.080040    1.000000  \n",
      "75%                   0.092080    1.000000  \n",
      "max                   0.207500    1.000000  \n",
      "\n",
      "[8 rows x 31 columns]\n"
     ]
    }
   ],
   "source": [
    "# print(df.isna().sum())\n",
    "print(df.describe())"
   ]
  },
  {
   "cell_type": "markdown",
   "id": "252f9667-fd0e-4dd7-9efc-4a76ac22010c",
   "metadata": {},
   "source": [
    "## 종속변수/독립변수 선택"
   ]
  },
  {
   "cell_type": "code",
   "execution_count": 19,
   "id": "0d22316d-4eff-4800-b782-9cb6ad5ab696",
   "metadata": {},
   "outputs": [],
   "source": [
    "x = breast.data\n",
    "y = breast.target"
   ]
  },
  {
   "cell_type": "markdown",
   "id": "010a09a2-9f1c-425f-b3f6-400df5d36008",
   "metadata": {},
   "source": [
    "## 데이터 스케일링"
   ]
  },
  {
   "cell_type": "code",
   "execution_count": 21,
   "id": "950aae27-1767-4d79-b52d-dbd4f4da96d8",
   "metadata": {},
   "outputs": [],
   "source": [
    "scaled_x = StandardScaler().fit_transform(x)"
   ]
  },
  {
   "cell_type": "markdown",
   "id": "f032be91-d826-4dc4-b32d-08b2415b1e18",
   "metadata": {},
   "source": [
    "## 학습 데이터 / 평가 데이터 분리"
   ]
  },
  {
   "cell_type": "code",
   "execution_count": 33,
   "id": "d0be48af-e346-4121-9064-d2139e2814c6",
   "metadata": {},
   "outputs": [],
   "source": [
    "x_train, x_test, y_train, y_test = train_test_split(scaled_x, y, test_size=0.3, random_state=0, stratify=y) # stratify는 학습/평가 데이터 분리시 종속변수의 클래스 별 비율을 고려해서 분리"
   ]
  },
  {
   "cell_type": "code",
   "execution_count": 32,
   "id": "10d56903-67a2-4a61-8bc3-e7dc10ec1786",
   "metadata": {},
   "outputs": [
    {
     "name": "stdout",
     "output_type": "stream",
     "text": [
      "{0: 149, 1: 249}\n"
     ]
    }
   ],
   "source": [
    "unique, counts = np.unique(y_train, return_counts=True)\n",
    "print(dict(zip(unique, counts)))"
   ]
  },
  {
   "cell_type": "markdown",
   "id": "72eb18d2-1781-4ac7-b97b-a0e36ef2d38a",
   "metadata": {},
   "source": [
    "## 모델 생성\n",
    "- 회귀계수 최적화 옵션\n",
    "  - solver: 최적화 문제에 사용할 알고리즘\n",
    "  - 'lbfgs' : solver의 기본값, cpu코어수가 많으면 최적화를 병렬로 수행할 수 있다\n",
    "  - 'liblinear' : 작은 데이터에 적합한 알고리즘\n",
    "  - 'sag','saga' : 확률적경사하강법을 기반으로 한 알고리즘으로 대용량 데이터에 적합\n",
    "  - 'newton-cg','sag','saga','linlinear'만 다항 손실을 처리할 수 있다. 멀티클래스 분류 모델에 사용가능\n",
    "  - solver에 따른 규제 지원 사항\n",
    "  - newton-cg, lbfgs, sag :L2\n",
    "  - liblinear, saga : L1, L2\n",
    "- multi_class : 다중클래스 분류 문제 상황에서 접근방식을 지정\n",
    "    - 'ovr' : 이진분류문제인 sigmoid 함수를 이용하여 결과 예측\n",
    "    - 'multinomial' : 각 클래스에 대한 softmax확률값으로 다중분류를 수행\n",
    "- C : 규제 강도의 역수, c의 값이 작을수록 규제 강도가 커지고 모델이 단순해진다.\n",
    "    - 'max_iter': solver가 수렴하는데 필요한 반복 횟수 (default:100)"
   ]
  },
  {
   "cell_type": "code",
   "execution_count": 30,
   "id": "48f88009-3885-44b4-825f-6f0037176432",
   "metadata": {},
   "outputs": [
    {
     "data": {
      "text/html": [
       "<style>#sk-container-id-2 {color: black;background-color: white;}#sk-container-id-2 pre{padding: 0;}#sk-container-id-2 div.sk-toggleable {background-color: white;}#sk-container-id-2 label.sk-toggleable__label {cursor: pointer;display: block;width: 100%;margin-bottom: 0;padding: 0.3em;box-sizing: border-box;text-align: center;}#sk-container-id-2 label.sk-toggleable__label-arrow:before {content: \"▸\";float: left;margin-right: 0.25em;color: #696969;}#sk-container-id-2 label.sk-toggleable__label-arrow:hover:before {color: black;}#sk-container-id-2 div.sk-estimator:hover label.sk-toggleable__label-arrow:before {color: black;}#sk-container-id-2 div.sk-toggleable__content {max-height: 0;max-width: 0;overflow: hidden;text-align: left;background-color: #f0f8ff;}#sk-container-id-2 div.sk-toggleable__content pre {margin: 0.2em;color: black;border-radius: 0.25em;background-color: #f0f8ff;}#sk-container-id-2 input.sk-toggleable__control:checked~div.sk-toggleable__content {max-height: 200px;max-width: 100%;overflow: auto;}#sk-container-id-2 input.sk-toggleable__control:checked~label.sk-toggleable__label-arrow:before {content: \"▾\";}#sk-container-id-2 div.sk-estimator input.sk-toggleable__control:checked~label.sk-toggleable__label {background-color: #d4ebff;}#sk-container-id-2 div.sk-label input.sk-toggleable__control:checked~label.sk-toggleable__label {background-color: #d4ebff;}#sk-container-id-2 input.sk-hidden--visually {border: 0;clip: rect(1px 1px 1px 1px);clip: rect(1px, 1px, 1px, 1px);height: 1px;margin: -1px;overflow: hidden;padding: 0;position: absolute;width: 1px;}#sk-container-id-2 div.sk-estimator {font-family: monospace;background-color: #f0f8ff;border: 1px dotted black;border-radius: 0.25em;box-sizing: border-box;margin-bottom: 0.5em;}#sk-container-id-2 div.sk-estimator:hover {background-color: #d4ebff;}#sk-container-id-2 div.sk-parallel-item::after {content: \"\";width: 100%;border-bottom: 1px solid gray;flex-grow: 1;}#sk-container-id-2 div.sk-label:hover label.sk-toggleable__label {background-color: #d4ebff;}#sk-container-id-2 div.sk-serial::before {content: \"\";position: absolute;border-left: 1px solid gray;box-sizing: border-box;top: 0;bottom: 0;left: 50%;z-index: 0;}#sk-container-id-2 div.sk-serial {display: flex;flex-direction: column;align-items: center;background-color: white;padding-right: 0.2em;padding-left: 0.2em;position: relative;}#sk-container-id-2 div.sk-item {position: relative;z-index: 1;}#sk-container-id-2 div.sk-parallel {display: flex;align-items: stretch;justify-content: center;background-color: white;position: relative;}#sk-container-id-2 div.sk-item::before, #sk-container-id-2 div.sk-parallel-item::before {content: \"\";position: absolute;border-left: 1px solid gray;box-sizing: border-box;top: 0;bottom: 0;left: 50%;z-index: -1;}#sk-container-id-2 div.sk-parallel-item {display: flex;flex-direction: column;z-index: 1;position: relative;background-color: white;}#sk-container-id-2 div.sk-parallel-item:first-child::after {align-self: flex-end;width: 50%;}#sk-container-id-2 div.sk-parallel-item:last-child::after {align-self: flex-start;width: 50%;}#sk-container-id-2 div.sk-parallel-item:only-child::after {width: 0;}#sk-container-id-2 div.sk-dashed-wrapped {border: 1px dashed gray;margin: 0 0.4em 0.5em 0.4em;box-sizing: border-box;padding-bottom: 0.4em;background-color: white;}#sk-container-id-2 div.sk-label label {font-family: monospace;font-weight: bold;display: inline-block;line-height: 1.2em;}#sk-container-id-2 div.sk-label-container {text-align: center;}#sk-container-id-2 div.sk-container {/* jupyter's `normalize.less` sets `[hidden] { display: none; }` but bootstrap.min.css set `[hidden] { display: none !important; }` so we also need the `!important` here to be able to override the default hidden behavior on the sphinx rendered scikit-learn.org. See: https://github.com/scikit-learn/scikit-learn/issues/21755 */display: inline-block !important;position: relative;}#sk-container-id-2 div.sk-text-repr-fallback {display: none;}</style><div id=\"sk-container-id-2\" class=\"sk-top-container\"><div class=\"sk-text-repr-fallback\"><pre>LogisticRegression()</pre><b>In a Jupyter environment, please rerun this cell to show the HTML representation or trust the notebook. <br />On GitHub, the HTML representation is unable to render, please try loading this page with nbviewer.org.</b></div><div class=\"sk-container\" hidden><div class=\"sk-item\"><div class=\"sk-estimator sk-toggleable\"><input class=\"sk-toggleable__control sk-hidden--visually\" id=\"sk-estimator-id-2\" type=\"checkbox\" checked><label for=\"sk-estimator-id-2\" class=\"sk-toggleable__label sk-toggleable__label-arrow\">LogisticRegression</label><div class=\"sk-toggleable__content\"><pre>LogisticRegression()</pre></div></div></div></div></div>"
      ],
      "text/plain": [
       "LogisticRegression()"
      ]
     },
     "execution_count": 30,
     "metadata": {},
     "output_type": "execute_result"
    }
   ],
   "source": [
    "model = LogisticRegression()\n",
    "model.fit(x_train, y_train)"
   ]
  },
  {
   "cell_type": "markdown",
   "id": "24b402f2-90df-453c-922c-76383aa45f57",
   "metadata": {},
   "source": [
    "## 모델 예측"
   ]
  },
  {
   "cell_type": "code",
   "execution_count": 50,
   "id": "689a251f-edf6-4d86-88ef-93f1315a64ea",
   "metadata": {},
   "outputs": [
    {
     "name": "stdout",
     "output_type": "stream",
     "text": [
      "[0 1 0 1 0 1 0 0 0 0 1 1 1 1 0 0 0 1 0 0]\n",
      "[0 0 0 1 0 1 0 0 0 0 0 1 1 1 0 0 0 1 0 0]\n"
     ]
    }
   ],
   "source": [
    "y_hat = model.predict(x_test)\n",
    "print(y_hat[:20])\n",
    "print(y_test[:20])"
   ]
  },
  {
   "cell_type": "markdown",
   "id": "d456aca5-1ee2-4809-b05f-1bd02482a63b",
   "metadata": {},
   "source": [
    "## confusion_matrix\n",
    "- 혼동 행렬 함수는 행을 True(실제), 열을 Predict(예측) 값으로 이용하고 양성과 음성의 구분은 별도의 레이블을 지정하지 않으면 레이블 값을 정렬된 순서로 사용한다. ( 0 - negative, 1 - positive)\n",
    "![cf](confusion_matrix.jpg)"
   ]
  },
  {
   "cell_type": "code",
   "execution_count": 49,
   "id": "95d2573b-1331-4e5d-9505-1c03f57f5583",
   "metadata": {},
   "outputs": [
    {
     "name": "stdout",
     "output_type": "stream",
     "text": [
      "[[ 62   2]\n",
      " [  1 106]]\n"
     ]
    }
   ],
   "source": [
    "matrix = confusion_matrix(y_test, y_hat)\n",
    "print(matrix)"
   ]
  },
  {
   "cell_type": "markdown",
   "id": "1405d78f-d6ce-467a-86af-28523a3740d1",
   "metadata": {},
   "source": [
    "## 평가지표"
   ]
  },
  {
   "cell_type": "code",
   "execution_count": 57,
   "id": "ae382244-a0e4-4ee0-ade3-60829f3a4c7b",
   "metadata": {},
   "outputs": [
    {
     "name": "stdout",
     "output_type": "stream",
     "text": [
      "정확도:  0.98\n",
      "정밀도: 0.98\n",
      "재현율: 0.99\n"
     ]
    },
    {
     "data": {
      "text/html": [
       "<div>\n",
       "<style scoped>\n",
       "    .dataframe tbody tr th:only-of-type {\n",
       "        vertical-align: middle;\n",
       "    }\n",
       "\n",
       "    .dataframe tbody tr th {\n",
       "        vertical-align: top;\n",
       "    }\n",
       "\n",
       "    .dataframe thead th {\n",
       "        text-align: right;\n",
       "    }\n",
       "</style>\n",
       "<table border=\"1\" class=\"dataframe\">\n",
       "  <thead>\n",
       "    <tr style=\"text-align: right;\">\n",
       "      <th></th>\n",
       "      <th>FPR</th>\n",
       "      <th>TPR</th>\n",
       "      <th>THRESHOLDS</th>\n",
       "    </tr>\n",
       "  </thead>\n",
       "  <tbody>\n",
       "    <tr>\n",
       "      <th>0</th>\n",
       "      <td>0.000000</td>\n",
       "      <td>0.000000</td>\n",
       "      <td>1.999998e+00</td>\n",
       "    </tr>\n",
       "    <tr>\n",
       "      <th>1</th>\n",
       "      <td>0.000000</td>\n",
       "      <td>0.009346</td>\n",
       "      <td>9.999982e-01</td>\n",
       "    </tr>\n",
       "    <tr>\n",
       "      <th>2</th>\n",
       "      <td>0.000000</td>\n",
       "      <td>0.906542</td>\n",
       "      <td>8.773112e-01</td>\n",
       "    </tr>\n",
       "    <tr>\n",
       "      <th>3</th>\n",
       "      <td>0.015625</td>\n",
       "      <td>0.906542</td>\n",
       "      <td>8.761200e-01</td>\n",
       "    </tr>\n",
       "    <tr>\n",
       "      <th>4</th>\n",
       "      <td>0.015625</td>\n",
       "      <td>0.934579</td>\n",
       "      <td>8.377020e-01</td>\n",
       "    </tr>\n",
       "    <tr>\n",
       "      <th>5</th>\n",
       "      <td>0.031250</td>\n",
       "      <td>0.934579</td>\n",
       "      <td>8.280931e-01</td>\n",
       "    </tr>\n",
       "    <tr>\n",
       "      <th>6</th>\n",
       "      <td>0.031250</td>\n",
       "      <td>1.000000</td>\n",
       "      <td>3.623408e-01</td>\n",
       "    </tr>\n",
       "    <tr>\n",
       "      <th>7</th>\n",
       "      <td>1.000000</td>\n",
       "      <td>1.000000</td>\n",
       "      <td>2.459355e-13</td>\n",
       "    </tr>\n",
       "  </tbody>\n",
       "</table>\n",
       "</div>"
      ],
      "text/plain": [
       "        FPR       TPR    THRESHOLDS\n",
       "0  0.000000  0.000000  1.999998e+00\n",
       "1  0.000000  0.009346  9.999982e-01\n",
       "2  0.000000  0.906542  8.773112e-01\n",
       "3  0.015625  0.906542  8.761200e-01\n",
       "4  0.015625  0.934579  8.377020e-01\n",
       "5  0.031250  0.934579  8.280931e-01\n",
       "6  0.031250  1.000000  3.623408e-01\n",
       "7  1.000000  1.000000  2.459355e-13"
      ]
     },
     "metadata": {},
     "output_type": "display_data"
    },
    {
     "name": "stdout",
     "output_type": "stream",
     "text": [
      "0.997517523364486\n"
     ]
    }
   ],
   "source": [
    "accuracy = accuracy_score (y_test, y_hat)\n",
    "print(f'정확도: {accuracy: .2f}') # 62+106 / 62+2+1+106\n",
    "precision = precision_score(y_test, y_hat)\n",
    "print(f'정밀도: {precision:.2f}') # 106 / 2+106\n",
    "recall = recall_score(y_test, y_hat)\n",
    "print(f'재현율: {recall:.2f}') # 106 / 1+106\n",
    "pred_proba_positive = model.predict_proba(x_test)[:,1]\n",
    "#print(pred_proba_positive[:4])\n",
    "#pred_proba_positive에는 각 테스트 샘플에 대해 양성 클래스에 속할 확률이 포함되어 있습니다. 코드에서 [:4]는 첫 번째부터 네 번째까지의 예측 확률을 출력한다는 의미입니다.\n",
    "# [[0.2, 0.8],\n",
    "# 이 경우 첫 번째 샘플은 음성 클래스에 속할 확률이 0.2이고 양성 클래스에 속할 확률이 0.8입니다. 따라서 이 모델은 이 샘플을 양성으로 분류할 것으로 예상됩니다.\n",
    "fpr, tpr, thresholds = roc_curve(y_test, pred_proba_positive)\n",
    "roc_data = pd.DataFrame(np.concatenate([fpr.reshape(-1,1), tpr.reshape(-1,1), thresholds.reshape(-1,1)], axis =1), columns = ['FPR','TPR','THRESHOLDS'])\n",
    "display(roc_data)\n",
    "auc = roc_auc_score(y_test, pred_proba_positive)\n",
    "print(auc)\n",
    "# 거짓양성률 fpr, "
   ]
  },
  {
   "cell_type": "code",
   "execution_count": 58,
   "id": "edbba44c-81c0-43e5-a6e8-f24315461fe3",
   "metadata": {},
   "outputs": [
    {
     "data": {
      "image/png": "[encoded data removed]",
      "text/plain": [
       "<Figure size 640x480 with 1 Axes>"
      ]
     },
     "metadata": {},
     "output_type": "display_data"
    }
   ],
   "source": [
    "import matplotlib.pyplot as plt\n",
    "plt.plot (fpr,tpr)\n",
    "plt.xlabel('FPR')\n",
    "plt.ylabel('TPR')\n",
    "plt.show()"
   ]
  },
  {
   "cell_type": "markdown",
   "id": "81a5e50d-1ba6-4afa-97fa-4661d23866be",
   "metadata": {},
   "source": [
    "## 최적의 임계값 찾기\n",
    "- TPR(실제 양성을 양성이라고 판단한 비율)과 FPR(음성을 양성이라고 잘못판단한 위 양성률)\n",
    "TPR FPR 차가 가장 큰 경우 임계치가 최적의 값임"
   ]
  },
  {
   "cell_type": "code",
   "execution_count": 64,
   "id": "68f64bf0-f92f-4c8b-8023-7c92ff664d99",
   "metadata": {},
   "outputs": [
    {
     "name": "stdout",
     "output_type": "stream",
     "text": [
      "0.36234077995056846\n"
     ]
    }
   ],
   "source": [
    "optimal_threshold = thresholds[np.argmax(tpr-fpr)]\n",
    "print(optimal_threshold)"
   ]
  },
  {
   "cell_type": "markdown",
   "id": "61096b9d-1be4-4e3a-ba92-bbe35f4c639e",
   "metadata": {},
   "source": [
    "## 예측 확률\n",
    "- 평가데이터의 각 레코드별 개별 클래스 예측 확률값 확인\n",
    "- 분류 임계값 : 0.5"
   ]
  },
  {
   "cell_type": "code",
   "execution_count": 63,
   "id": "23bda4d1-b9c2-4027-adc0-137d6d1a6650",
   "metadata": {},
   "outputs": [
    {
     "name": "stdout",
     "output_type": "stream",
     "text": [
      "     negative(0)   positive(1)  predict class\n",
      "0       0.999999  9.115543e-07            0.0\n",
      "1       0.123880  8.761200e-01            1.0\n",
      "2       0.999216  7.835702e-04            0.0\n",
      "3       0.029945  9.700551e-01            1.0\n",
      "4       0.999964  3.567069e-05            0.0\n",
      "..           ...           ...            ...\n",
      "166     0.009005  9.909947e-01            1.0\n",
      "167     0.953915  4.608461e-02            0.0\n",
      "168     0.145595  8.544048e-01            1.0\n",
      "169     0.002469  9.975306e-01            1.0\n",
      "170     0.000002  9.999976e-01            1.0\n",
      "\n",
      "[171 rows x 3 columns]\n"
     ]
    }
   ],
   "source": [
    "prob = model.predict_proba(x_test)\n",
    "prob_df = pd.DataFrame(data=np.concatenate([prob, y_hat.reshape(-1, 1)], axis=1), columns=['negative(0)', 'positive(1)', 'predict class'])\n",
    "\n",
    "print(prob_df)"
   ]
  },
  {
   "cell_type": "markdown",
   "id": "e19b950e-e9a5-433d-8bec-416850141fd2",
   "metadata": {},
   "source": [
    "## 임계값 변화에 따른 재현율과 정밀도 변환 확인"
   ]
  },
  {
   "cell_type": "code",
   "execution_count": 74,
   "id": "bed02721-a1c9-4f79-85fd-3e9523b229bf",
   "metadata": {},
   "outputs": [
    {
     "name": "stdout",
     "output_type": "stream",
     "text": [
      "===================== Threshold: 0.5 ============================\n",
      "              precision    recall  f1-score   support\n",
      "\n",
      "           0       0.98      0.97      0.98        64\n",
      "           1       0.98      0.99      0.99       107\n",
      "\n",
      "    accuracy                           0.98       171\n",
      "   macro avg       0.98      0.98      0.98       171\n",
      "weighted avg       0.98      0.98      0.98       171\n",
      "\n",
      "===================== Threshold: 0.6 ============================\n",
      "              precision    recall  f1-score   support\n",
      "\n",
      "           0       0.93      0.97      0.95        64\n",
      "           1       0.98      0.95      0.97       107\n",
      "\n",
      "    accuracy                           0.96       171\n",
      "   macro avg       0.95      0.96      0.96       171\n",
      "weighted avg       0.96      0.96      0.96       171\n",
      "\n",
      "===================== Threshold: 0.8 ============================\n",
      "              precision    recall  f1-score   support\n",
      "\n",
      "           0       0.90      0.97      0.93        64\n",
      "           1       0.98      0.93      0.96       107\n",
      "\n",
      "    accuracy                           0.95       171\n",
      "   macro avg       0.94      0.95      0.94       171\n",
      "weighted avg       0.95      0.95      0.95       171\n",
      "\n"
     ]
    }
   ],
   "source": [
    "from sklearn.metrics import classification_report\n",
    "\n",
    "def threshold_filter(prob,threshold) :\n",
    "    return np.where(prob >= threshold, 1, 0)\n",
    "    \n",
    "pred_1 = threshold_filter(pred_proba_positive, 0.5)\n",
    "pred_2 = threshold_filter(pred_proba_positive, 0.6)\n",
    "pred_3 = threshold_filter(pred_proba_positive, 0.8)\n",
    "\n",
    "print('===================== Threshold: 0.5 ============================')\n",
    "print(classification_report(y_test, pred_1))\n",
    "print('===================== Threshold: 0.6 ============================')\n",
    "print(classification_report(y_test, pred_2))\n",
    "print('===================== Threshold: 0.8 ============================')\n",
    "print(classification_report(y_test, pred_3))\n"
   ]
  },
  {
   "cell_type": "markdown",
   "id": "ca34b3c0-4617-4c36-8aea-dca4719ca3e5",
   "metadata": {},
   "source": [
    "# solver 별 성능평가 비교"
   ]
  },
  {
   "cell_type": "code",
   "execution_count": 76,
   "id": "ee77eec7-cc63-4eba-821e-554f394f2a7a",
   "metadata": {},
   "outputs": [
    {
     "name": "stdout",
     "output_type": "stream",
     "text": [
      "solver:lbfgs, accuracy:0.959,auc:0.996\n",
      "solver:liblinear, accuracy:0.959,auc:0.996\n",
      "solver:newton-cg, accuracy:0.959,auc:0.996\n",
      "solver:sag, accuracy:0.959,auc:0.996\n",
      "solver:saga, accuracy:0.959,auc:0.996\n"
     ]
    }
   ],
   "source": [
    "solvers = ['lbfgs','liblinear','newton-cg','sag','saga']\n",
    "for solver in solvers :\n",
    "    model = LogisticRegression(solver=solver, max_iter=600)\n",
    "    model.fit(x_train,y_train)\n",
    "    y_hat = model.predict(x_test)\n",
    "    pred_proba_positive = model.predict_proba(x_test)[:,1]\n",
    "    print(f'solver:{solver}, accuracy:{accuracy_score(y_test,y_hat):.3f},auc:{roc_auc_score(y_test,pred_proba_positive):.3f}')"
   ]
  },
  {
   "cell_type": "markdown",
   "id": "b86c5a96-e286-4564-9e92-f2fea3f93a4a",
   "metadata": {},
   "source": [
    "# 개인 신용도 예측"
   ]
  },
  {
   "cell_type": "markdown",
   "id": "c55abe4d-edb1-4906-9a92-6e1996ab4260",
   "metadata": {},
   "source": [
    "## 패키지 로딩"
   ]
  },
  {
   "cell_type": "code",
   "execution_count": 108,
   "id": "18b9606d-53e3-4474-a4ae-ba76bf464b85",
   "metadata": {},
   "outputs": [],
   "source": [
    "from sklearn.linear_model import LogisticRegression\n",
    "from sklearn.preprocessing import StandardScaler\n",
    "from sklearn.model_selection import train_test_split, cross_validate\n",
    "from sklearn.metrics import accuracy_score, precision_score, roc_curve, roc_auc_score, confusion_matrix\n",
    "\n",
    "import numpy as np\n",
    "import pandas as pd\n",
    "import matplotlib.pyplot as plt\n",
    "\n",
    "from sklearn.model_selection import KFold, StratifiedKFold, cross_val_predict, cross_val_score\n",
    "from sklearn.ensemble import RandomForestRegressor\n",
    "from sklearn.tree import DecisionTreeClassifier"
   ]
  },
  {
   "cell_type": "code",
   "execution_count": 109,
   "id": "977f9589-0982-4ac2-8441-63e8be41e9e3",
   "metadata": {},
   "outputs": [],
   "source": [
    "import warnings\n",
    "warnings.filterwarnings(action='ignore')"
   ]
  },
  {
   "cell_type": "code",
   "execution_count": null,
   "id": "24533e5a-65ce-489e-9fe0-f066a86740ac",
   "metadata": {},
   "outputs": [],
   "source": [
    "## 모델 예측\n",
    "y_hat = model.predict(x_test)\n",
    "print('실제값:', y_test[:20].values)\n",
    "print('예측값:', y_hat[:20])"
   ]
  },
  {
   "cell_type": "code",
   "execution_count": 135,
   "id": "05f060fb-f895-4b0c-9853-f572b0438418",
   "metadata": {},
   "outputs": [
    {
     "data": {
      "text/html": [
       "<div>\n",
       "<style scoped>\n",
       "    .dataframe tbody tr th:only-of-type {\n",
       "        vertical-align: middle;\n",
       "    }\n",
       "\n",
       "    .dataframe tbody tr th {\n",
       "        vertical-align: top;\n",
       "    }\n",
       "\n",
       "    .dataframe thead tr th {\n",
       "        text-align: left;\n",
       "    }\n",
       "</style>\n",
       "<table border=\"1\" class=\"dataframe\">\n",
       "  <thead>\n",
       "    <tr>\n",
       "      <th></th>\n",
       "      <th></th>\n",
       "      <th colspan=\"2\" halign=\"left\">Predict</th>\n",
       "    </tr>\n",
       "    <tr>\n",
       "      <th></th>\n",
       "      <th></th>\n",
       "      <th>대출불허(0)</th>\n",
       "      <th>대출승인(1)</th>\n",
       "    </tr>\n",
       "  </thead>\n",
       "  <tbody>\n",
       "    <tr>\n",
       "      <th rowspan=\"2\" valign=\"top\">Actual</th>\n",
       "      <th>대출불허(0)</th>\n",
       "      <td>1335</td>\n",
       "      <td>21</td>\n",
       "    </tr>\n",
       "    <tr>\n",
       "      <th>대출승인(1)</th>\n",
       "      <td>55</td>\n",
       "      <td>89</td>\n",
       "    </tr>\n",
       "  </tbody>\n",
       "</table>\n",
       "</div>"
      ],
      "text/plain": [
       "               Predict        \n",
       "               대출불허(0) 대출승인(1)\n",
       "Actual 대출불허(0)    1335      21\n",
       "       대출승인(1)      55      89"
      ]
     },
     "metadata": {},
     "output_type": "display_data"
    },
    {
     "name": "stdout",
     "output_type": "stream",
     "text": [
      "정확도:0.949\n",
      "정밀도:0.809\n"
     ]
    },
    {
     "data": {
      "image/png": "[encoded data removed]",
      "text/plain": [
       "<Figure size 640x480 with 1 Axes>"
      ]
     },
     "metadata": {},
     "output_type": "display_data"
    },
    {
     "name": "stdout",
     "output_type": "stream",
     "text": [
      "AUC:0.957\n"
     ]
    }
   ],
   "source": [
    "## 모델 성능 측정\n",
    "cf = confusion_matrix(y_test,y_hat)\n",
    "cf_df = pd.DataFrame(cf, index=[['Actual','Actual'],['대출불허(0)','대출승인(1)']],columns=[['Predict','Predict'],['대출불허(0)','대출승인(1)']])\n",
    "display(cf_df)\n",
    "print(f'정확도:{accuracy_score(y_test, y_hat):.3f}')\n",
    "print(f'정밀도:{precision_score(y_test, y_hat):.3f}')\n",
    "fpr, tpr, thresholds = roc_curve(y_test,model.predict_proba(x_test)[:,1])\n",
    "plt.plot(fpr, tpr)\n",
    "plt.xlabel('FPR')\n",
    "plt.xlabel('TPR')\n",
    "plt.show()\n",
    "print(f'AUC:{roc_auc_score(y_test,model.predict_proba(x_test)[:,1]):.3f}')"
   ]
  },
  {
   "cell_type": "markdown",
   "id": "a7c95911-1bc6-41d3-bc9f-bcf32b06fc58",
   "metadata": {},
   "source": [
    "## 교차검증"
   ]
  },
  {
   "cell_type": "code",
   "execution_count": 133,
   "id": "cff75c6a-1edb-4ec0-8f22-56087f6daafa",
   "metadata": {},
   "outputs": [
    {
     "name": "stdout",
     "output_type": "stream",
     "text": [
      "평가지표: fit_time\n",
      "평균값:0.029\n",
      "평가지표: score_time\n",
      "평균값:0.006\n",
      "평가지표: test_accuracy\n",
      "평균값:0.950\n",
      "평가지표: test_precision\n",
      "평균값:0.812\n",
      "평가지표: test_roc_auc\n",
      "평균값:0.958\n"
     ]
    }
   ],
   "source": [
    "scores = cross_validate(model, scaled_x, y, cv=10, scoring=['accuracy','precision','roc_auc'])\n",
    "#print(scores)\n",
    "for key, val in scores.items():\n",
    "    print('평가지표:',key)\n",
    "    print(f'평균값:{np.mean(val):.3f}')"
   ]
  },
  {
   "cell_type": "markdown",
   "id": "87cbdd63-01b9-4251-8921-5a2fb7758e1d",
   "metadata": {},
   "source": [
    "## 학습이 완료된 모델을 파일로 저장"
   ]
  },
  {
   "cell_type": "code",
   "execution_count": 136,
   "id": "e6a24f2a-8090-4f44-8762-4577b89cbc34",
   "metadata": {},
   "outputs": [
    {
     "data": {
      "text/plain": [
       "['./loan.pkl']"
      ]
     },
     "execution_count": 136,
     "metadata": {},
     "output_type": "execute_result"
    }
   ],
   "source": [
    "import joblib\n",
    "joblib.dump(model, './loan.pkl') # 모델학습 결과를 피클파일로 저장"
   ]
  },
  {
   "cell_type": "code",
   "execution_count": 137,
   "id": "25abf353-8851-412d-892c-4227b5dc7a09",
   "metadata": {},
   "outputs": [
    {
     "name": "stdout",
     "output_type": "stream",
     "text": [
      "0.9493333333333334\n"
     ]
    }
   ],
   "source": [
    "loaded_model = joblib.load('./loan.pkl')\n",
    "score = loaded_model.score(x_test,y_test)\n",
    "print(score)"
   ]
  }
 ],
 "metadata": {
  "kernelspec": {
   "display_name": "Python 3 (ipykernel)",
   "language": "python",
   "name": "python3"
  },
  "language_info": {
   "codemirror_mode": {
    "name": "ipython",
    "version": 3
   },
   "file_extension": ".py",
   "mimetype": "text/x-python",
   "name": "python",
   "nbconvert_exporter": "python",
   "pygments_lexer": "ipython3",
   "version": "3.11.7"
  }
 },
 "nbformat": 4,
 "nbformat_minor": 5
}
