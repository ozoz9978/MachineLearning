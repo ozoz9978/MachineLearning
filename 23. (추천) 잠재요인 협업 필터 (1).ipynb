{
 "cells": [
  {
   "cell_type": "markdown",
   "id": "a175a655-3f4c-427d-818f-8731cc9cb375",
   "metadata": {},
   "source": [
    "# 경사하강법을 이용한 행렬 분해\n",
    "- SVD(Singular Vector Decomposition, 특이값 분해)는 NaN 값이 없는 행렬에만 적용할 수 있다. \n",
    "- 하지만 R행렬(사용자-영화 평점 행렬)에는 아직 평점되지 않은 많은 Null값이 있기 때문에 일반적인 SVD방식으로 P(사용자-잠재요인 행렬)와 Q행렬(아이템-잠재요인 행렬)로 분해할 수 없다.\n",
    "- 따라서 확률적 경사하강법을 이용하여 SVD를 수행한다."
   ]
  },
  {
   "cell_type": "markdown",
   "id": "d6d45cd5-cf28-40fd-8eb0-0cef54efda9e",
   "metadata": {},
   "source": [
    "# 행렬 분해 로직 함수\n",
    "- R_hat(m x n) = P(m x K) * Q.T(K x n) [m:유저 수, n:아이템 수, K:잠재요인 수] #하면 최종적으로 n * n\n",
    ">- R_hat: 사용자-아이템 평점 행렬\n",
    ">- P: 사용자-잠재요인 행렬(초기 값은 랜덤 값)\n",
    ">- Q: 아이템-잠재요인 행렬(초기 값은 랜덤 )"
   ]
  },
  {
   "attachments": {
    "b6e79b2e-ee1c-431a-82d0-a60f366e37dd.png": {
     "image/png": "[encoded data removed]"
    }
   },
   "cell_type": "markdown",
   "id": "ce5f602f-8d17-46fe-affe-3c8b17e4f43c",
   "metadata": {},
   "source": [
    "- 행렬 분해 함수 매개 변수\n",
    ">- R: 사용자-아이템 평점 행렬\n",
    ">- K: 잠재요인의 차원 수\n",
    ">- steps: SGD(경사하강) 반복 횟수\n",
    ">- learning_rate: 학습률\n",
    ">- r_lambda: L1규제 계수\n",
    "\n",
    "![SVD_cost_function.png](attachment:b6e79b2e-ee1c-431a-82d0-a60f366e37dd.png)"
   ]
  },
  {
   "cell_type": "code",
   "execution_count": 12,
   "id": "2835e928-86dc-4309-876e-66dbf4a99cb7",
   "metadata": {},
   "outputs": [],
   "source": [
    "import numpy as np \n",
    "\n",
    "def matrix_factorization(R, K, steps=200, learning_rate=0.01, r_lambda=0.01):\n",
    "    num_users, num_items = R.shape\n",
    "    np.random.seed(1)\n",
    "    P = np.random.normal(scale=1/K, size=(num_users, K)) #사용자의 잠재적인 요인 행렬인 P를 생성, scale:표준편차\n",
    "    Q = np.random.normal(scale=1/K, size=(num_items, K)) #아이템의 잠재적인 요인 행렬인 Q를 생성, scale:표준편차\n",
    "\n",
    "    # R > 0(실제 평점이 있는 위치)인 행, 열 위치값을 저장(평점이 있는 위치정보 및 평점정보 저장 )\n",
    "    non_zeros= [ (i, j, R[i, j]) for i in range(num_users) for j in range(num_items) if R[i,j] > 0] #이중 포문-행포문 열포문\n",
    "\n",
    "    # SGD 기법으로 P와 Q 행렬을 업데이트\n",
    "    for step in range(steps):\n",
    "        for i, j, r in non_zeros:\n",
    "            #  eij: 실제값과 예측 값의 차이인 오차 값 계산 \n",
    "            eij = r - np.dot(P[i,:], Q[j,:].T)\n",
    "            # L2 규제가 적용된 손실함수를 각각 Q와 P에 대해 미분한 미분식  \n",
    "            P[i, :] = P[i, :] + learning_rate*(eij * Q[j,:] - r_lambda * P[i,:])\n",
    "            Q[j, :] = Q[j, :] + learning_rate*(eij *P[i,:] - r_lambda * Q[j, :])\n",
    "\n",
    "    return P, Q "
   ]
  },
  {
   "cell_type": "code",
   "execution_count": 13,
   "id": "221539d4-e866-4505-9f17-5c99a21f24fb",
   "metadata": {},
   "outputs": [],
   "source": [
    "np.set_printoptions(precision=2,suppress=True)"
   ]
  },
  {
   "cell_type": "markdown",
   "id": "aebae01c-a8cd-4955-97f5-93a43d486d15",
   "metadata": {},
   "source": [
    "# SGD를 이용한 행렬분해 실습"
   ]
  },
  {
   "cell_type": "code",
   "execution_count": 14,
   "id": "4d8e8041-81ba-4a0b-8c60-2fb9fee73795",
   "metadata": {},
   "outputs": [
    {
     "name": "stdout",
     "output_type": "stream",
     "text": [
      "[[ 4. nan nan  2. nan]\n",
      " [nan  5. nan  3.  1.]\n",
      " [nan nan  3.  4.  4.]\n",
      " [ 5.  2.  1.  2. nan]]\n",
      "\n",
      "[[3.99 1.51 1.15 2.   1.2 ]\n",
      " [4.85 4.98 1.29 2.99 1.  ]\n",
      " [3.05 1.41 2.99 3.98 3.98]\n",
      " [4.97 2.   1.   2.   0.82]]\n"
     ]
    }
   ],
   "source": [
    "R = np.array([[4, np.NaN, np.NaN, 2, np.NaN],\n",
    "              [np.NaN, 5, np.NaN, 3, 1],\n",
    "             [np.NaN, np.NaN, 3, 4, 4],\n",
    "             [5, 2, 1, 2, np.NaN]])\n",
    "P, Q = matrix_factorization(R, K=5, steps=1000, learning_rate=0.01, r_lambda=0.01)\n",
    "R_hat = np.dot(P, Q.T)\n",
    "print(R)\n",
    "print()\n",
    "print(R_hat)"
   ]
  },
  {
   "cell_type": "markdown",
   "id": "446e6a21-0824-4199-a0a0-e63002878971",
   "metadata": {},
   "source": [
    "# 데이터로딩"
   ]
  },
  {
   "cell_type": "code",
   "execution_count": 15,
   "id": "1d0a8539-f2e8-4c05-b894-8aee637a93a9",
   "metadata": {},
   "outputs": [],
   "source": [
    "import pandas as pd\n",
    "import numpy as np\n",
    "\n",
    "movies = pd.read_csv(\"./데이터셋/movies.csv\")\n",
    "ratings = pd.read_csv(\"./데이터셋/ratings.csv\")\n",
    "ratings = ratings.drop('timestamp',axis=1)\n",
    "\n",
    "ratings_movies = pd.merge(ratings, movies)\n",
    "ratings_matrix = pd.pivot_table(ratings_movies, index='userId', columns='title',values='rating')\n",
    "ratings_matrix.fillna(0,inplace=True)"
   ]
  },
  {
   "cell_type": "markdown",
   "id": "0a047750-5e34-4c13-bc5f-2329b3cd43c0",
   "metadata": {},
   "source": [
    "# SGD를 이용한 사용자-영화 평점 행렬 분해 및 예측 평점 행렬생성\n",
    "- R_hat = P * Q.T"
   ]
  },
  {
   "cell_type": "code",
   "execution_count": 16,
   "id": "c583d2b6-519e-489d-a7d4-fdcbad28f6a9",
   "metadata": {},
   "outputs": [],
   "source": [
    "P, Q = matrix_factorization(ratings_matrix.values, K=50, steps=200, learning_rate=0.01, r_lambda=0.01)"
   ]
  },
  {
   "cell_type": "code",
   "execution_count": 17,
   "id": "a313a0f1-3613-4705-8914-0cceaf0c583b",
   "metadata": {},
   "outputs": [],
   "source": [
    "R_hat = np.dot(P,Q.T)"
   ]
  },
  {
   "cell_type": "code",
   "execution_count": 21,
   "id": "daaddfc0-f9f9-441f-b296-c97251d0e7f0",
   "metadata": {},
   "outputs": [
    {
     "data": {
      "text/html": [
       "<div>\n",
       "<style scoped>\n",
       "    .dataframe tbody tr th:only-of-type {\n",
       "        vertical-align: middle;\n",
       "    }\n",
       "\n",
       "    .dataframe tbody tr th {\n",
       "        vertical-align: top;\n",
       "    }\n",
       "\n",
       "    .dataframe thead th {\n",
       "        text-align: right;\n",
       "    }\n",
       "</style>\n",
       "<table border=\"1\" class=\"dataframe\">\n",
       "  <thead>\n",
       "    <tr style=\"text-align: right;\">\n",
       "      <th>title</th>\n",
       "      <th>'71 (2014)</th>\n",
       "      <th>'Hellboy': The Seeds of Creation (2004)</th>\n",
       "      <th>'Round Midnight (1986)</th>\n",
       "      <th>'Salem's Lot (2004)</th>\n",
       "      <th>'Til There Was You (1997)</th>\n",
       "      <th>'Tis the Season for Love (2015)</th>\n",
       "      <th>'burbs, The (1989)</th>\n",
       "      <th>'night Mother (1986)</th>\n",
       "      <th>(500) Days of Summer (2009)</th>\n",
       "      <th>*batteries not included (1987)</th>\n",
       "      <th>...</th>\n",
       "      <th>Zulu (2013)</th>\n",
       "      <th>[REC] (2007)</th>\n",
       "      <th>[REC]² (2009)</th>\n",
       "      <th>[REC]³ 3 Génesis (2012)</th>\n",
       "      <th>anohana: The Flower We Saw That Day - The Movie (2013)</th>\n",
       "      <th>eXistenZ (1999)</th>\n",
       "      <th>xXx (2002)</th>\n",
       "      <th>xXx: State of the Union (2005)</th>\n",
       "      <th>¡Three Amigos! (1986)</th>\n",
       "      <th>À nous la liberté (Freedom for Us) (1931)</th>\n",
       "    </tr>\n",
       "    <tr>\n",
       "      <th>userId</th>\n",
       "      <th></th>\n",
       "      <th></th>\n",
       "      <th></th>\n",
       "      <th></th>\n",
       "      <th></th>\n",
       "      <th></th>\n",
       "      <th></th>\n",
       "      <th></th>\n",
       "      <th></th>\n",
       "      <th></th>\n",
       "      <th></th>\n",
       "      <th></th>\n",
       "      <th></th>\n",
       "      <th></th>\n",
       "      <th></th>\n",
       "      <th></th>\n",
       "      <th></th>\n",
       "      <th></th>\n",
       "      <th></th>\n",
       "      <th></th>\n",
       "      <th></th>\n",
       "    </tr>\n",
       "  </thead>\n",
       "  <tbody>\n",
       "    <tr>\n",
       "      <th>1</th>\n",
       "      <td>3.055084</td>\n",
       "      <td>4.092018</td>\n",
       "      <td>3.564130</td>\n",
       "      <td>4.502167</td>\n",
       "      <td>3.981215</td>\n",
       "      <td>1.271694</td>\n",
       "      <td>3.603274</td>\n",
       "      <td>2.333266</td>\n",
       "      <td>5.091749</td>\n",
       "      <td>3.972454</td>\n",
       "      <td>...</td>\n",
       "      <td>1.402608</td>\n",
       "      <td>4.208382</td>\n",
       "      <td>3.705957</td>\n",
       "      <td>2.720514</td>\n",
       "      <td>2.787331</td>\n",
       "      <td>3.475076</td>\n",
       "      <td>3.253458</td>\n",
       "      <td>2.161087</td>\n",
       "      <td>4.010495</td>\n",
       "      <td>0.859474</td>\n",
       "    </tr>\n",
       "    <tr>\n",
       "      <th>2</th>\n",
       "      <td>3.170119</td>\n",
       "      <td>3.657992</td>\n",
       "      <td>3.308707</td>\n",
       "      <td>4.166521</td>\n",
       "      <td>4.311890</td>\n",
       "      <td>1.275469</td>\n",
       "      <td>4.237972</td>\n",
       "      <td>1.900366</td>\n",
       "      <td>3.392859</td>\n",
       "      <td>3.647421</td>\n",
       "      <td>...</td>\n",
       "      <td>0.973811</td>\n",
       "      <td>3.528264</td>\n",
       "      <td>3.361532</td>\n",
       "      <td>2.672535</td>\n",
       "      <td>2.404456</td>\n",
       "      <td>4.232789</td>\n",
       "      <td>2.911602</td>\n",
       "      <td>1.634576</td>\n",
       "      <td>4.135735</td>\n",
       "      <td>0.725684</td>\n",
       "    </tr>\n",
       "    <tr>\n",
       "      <th>3</th>\n",
       "      <td>2.307073</td>\n",
       "      <td>1.658853</td>\n",
       "      <td>1.443538</td>\n",
       "      <td>2.208859</td>\n",
       "      <td>2.229486</td>\n",
       "      <td>0.780760</td>\n",
       "      <td>1.997043</td>\n",
       "      <td>0.924908</td>\n",
       "      <td>2.970700</td>\n",
       "      <td>2.551446</td>\n",
       "      <td>...</td>\n",
       "      <td>0.520354</td>\n",
       "      <td>1.709494</td>\n",
       "      <td>2.281596</td>\n",
       "      <td>1.782833</td>\n",
       "      <td>1.635173</td>\n",
       "      <td>1.323276</td>\n",
       "      <td>2.887580</td>\n",
       "      <td>1.042618</td>\n",
       "      <td>2.293890</td>\n",
       "      <td>0.396941</td>\n",
       "    </tr>\n",
       "  </tbody>\n",
       "</table>\n",
       "<p>3 rows × 9719 columns</p>\n",
       "</div>"
      ],
      "text/plain": [
       "title   '71 (2014)  'Hellboy': The Seeds of Creation (2004)  \\\n",
       "userId                                                        \n",
       "1         3.055084                                 4.092018   \n",
       "2         3.170119                                 3.657992   \n",
       "3         2.307073                                 1.658853   \n",
       "\n",
       "title   'Round Midnight (1986)  'Salem's Lot (2004)  \\\n",
       "userId                                                \n",
       "1                     3.564130             4.502167   \n",
       "2                     3.308707             4.166521   \n",
       "3                     1.443538             2.208859   \n",
       "\n",
       "title   'Til There Was You (1997)  'Tis the Season for Love (2015)  \\\n",
       "userId                                                               \n",
       "1                        3.981215                         1.271694   \n",
       "2                        4.311890                         1.275469   \n",
       "3                        2.229486                         0.780760   \n",
       "\n",
       "title   'burbs, The (1989)  'night Mother (1986)  (500) Days of Summer (2009)  \\\n",
       "userId                                                                          \n",
       "1                 3.603274              2.333266                     5.091749   \n",
       "2                 4.237972              1.900366                     3.392859   \n",
       "3                 1.997043              0.924908                     2.970700   \n",
       "\n",
       "title   *batteries not included (1987)  ...  Zulu (2013)  [REC] (2007)  \\\n",
       "userId                                  ...                              \n",
       "1                             3.972454  ...     1.402608      4.208382   \n",
       "2                             3.647421  ...     0.973811      3.528264   \n",
       "3                             2.551446  ...     0.520354      1.709494   \n",
       "\n",
       "title   [REC]² (2009)  [REC]³ 3 Génesis (2012)  \\\n",
       "userId                                           \n",
       "1            3.705957                 2.720514   \n",
       "2            3.361532                 2.672535   \n",
       "3            2.281596                 1.782833   \n",
       "\n",
       "title   anohana: The Flower We Saw That Day - The Movie (2013)  \\\n",
       "userId                                                           \n",
       "1                                                2.787331        \n",
       "2                                                2.404456        \n",
       "3                                                1.635173        \n",
       "\n",
       "title   eXistenZ (1999)  xXx (2002)  xXx: State of the Union (2005)  \\\n",
       "userId                                                                \n",
       "1              3.475076    3.253458                        2.161087   \n",
       "2              4.232789    2.911602                        1.634576   \n",
       "3              1.323276    2.887580                        1.042618   \n",
       "\n",
       "title   ¡Three Amigos! (1986)  À nous la liberté (Freedom for Us) (1931)  \n",
       "userId                                                                    \n",
       "1                    4.010495                                   0.859474  \n",
       "2                    4.135735                                   0.725684  \n",
       "3                    2.293890                                   0.396941  \n",
       "\n",
       "[3 rows x 9719 columns]"
      ]
     },
     "metadata": {},
     "output_type": "display_data"
    }
   ],
   "source": [
    "ratings_pred_matrix = pd.DataFrame(R_hat, index=ratings_matrix.index,columns=ratings_matrix.columns)\n",
    "display(ratings_pred_matrix.head(3))"
   ]
  },
  {
   "cell_type": "markdown",
   "id": "90c2ebf7-80d2-4b4c-a31b-835510c2d5ff",
   "metadata": {},
   "source": [
    "# 평점을 주지 않은 영화 리스트 반환 함수 정의"
   ]
  },
  {
   "cell_type": "code",
   "execution_count": 22,
   "id": "1e8c408e-ebde-4aaa-8811-119f4d5a2ed0",
   "metadata": {},
   "outputs": [],
   "source": [
    "def get_unseen_movies(ratings_matrix,userId):\n",
    "    user_rating = ratings_matrix.loc[userId]\n",
    "    unseen_list = user_rating[user_rating == 0].index.values\n",
    "    return unseen_list"
   ]
  },
  {
   "cell_type": "code",
   "execution_count": 23,
   "id": "fcbc5907-5898-4afe-8b68-a713aae426e1",
   "metadata": {},
   "outputs": [
    {
     "name": "stdout",
     "output_type": "stream",
     "text": [
      "9673\n"
     ]
    }
   ],
   "source": [
    "a = get_unseen_movies(ratings_matrix,9)\n",
    "print(len(a)) # 9번 유저가 보지 않은 영화 개수"
   ]
  },
  {
   "cell_type": "markdown",
   "id": "52bae705-1df4-4c2a-898a-1da00836e714",
   "metadata": {},
   "source": [
    "# 특정 사용자가 관람하지 않은 영화에 대해 예측 평점 기반으로 추천하기"
   ]
  },
  {
   "cell_type": "code",
   "execution_count": 25,
   "id": "a0f63a5b-0dc9-4b5a-b271-66cdb2601b8a",
   "metadata": {},
   "outputs": [],
   "source": [
    "def recomm_movie_by_userid(pred_df,userId,unseen_list,top_n=10):\n",
    "    return pred_df.loc[userId, unseen_list].sort_values(ascending=False)[:top_n]    "
   ]
  },
  {
   "cell_type": "code",
   "execution_count": 27,
   "id": "18218bd0-9535-4510-9cc5-fa739487ff4d",
   "metadata": {},
   "outputs": [
    {
     "data": {
      "text/html": [
       "<div>\n",
       "<style scoped>\n",
       "    .dataframe tbody tr th:only-of-type {\n",
       "        vertical-align: middle;\n",
       "    }\n",
       "\n",
       "    .dataframe tbody tr th {\n",
       "        vertical-align: top;\n",
       "    }\n",
       "\n",
       "    .dataframe thead th {\n",
       "        text-align: right;\n",
       "    }\n",
       "</style>\n",
       "<table border=\"1\" class=\"dataframe\">\n",
       "  <thead>\n",
       "    <tr style=\"text-align: right;\">\n",
       "      <th></th>\n",
       "      <th>pred_score</th>\n",
       "    </tr>\n",
       "    <tr>\n",
       "      <th>title</th>\n",
       "      <th></th>\n",
       "    </tr>\n",
       "  </thead>\n",
       "  <tbody>\n",
       "    <tr>\n",
       "      <th>Rear Window (1954)</th>\n",
       "      <td>5.704612</td>\n",
       "    </tr>\n",
       "    <tr>\n",
       "      <th>South Park: Bigger, Longer and Uncut (1999)</th>\n",
       "      <td>5.451100</td>\n",
       "    </tr>\n",
       "    <tr>\n",
       "      <th>Rounders (1998)</th>\n",
       "      <td>5.298393</td>\n",
       "    </tr>\n",
       "    <tr>\n",
       "      <th>Blade Runner (1982)</th>\n",
       "      <td>5.244951</td>\n",
       "    </tr>\n",
       "    <tr>\n",
       "      <th>Roger &amp; Me (1989)</th>\n",
       "      <td>5.191962</td>\n",
       "    </tr>\n",
       "    <tr>\n",
       "      <th>Gattaca (1997)</th>\n",
       "      <td>5.183179</td>\n",
       "    </tr>\n",
       "    <tr>\n",
       "      <th>Ben-Hur (1959)</th>\n",
       "      <td>5.130463</td>\n",
       "    </tr>\n",
       "    <tr>\n",
       "      <th>Rosencrantz and Guildenstern Are Dead (1990)</th>\n",
       "      <td>5.087375</td>\n",
       "    </tr>\n",
       "    <tr>\n",
       "      <th>Big Lebowski, The (1998)</th>\n",
       "      <td>5.038690</td>\n",
       "    </tr>\n",
       "    <tr>\n",
       "      <th>Star Wars: Episode V - The Empire Strikes Back (1980)</th>\n",
       "      <td>4.989601</td>\n",
       "    </tr>\n",
       "  </tbody>\n",
       "</table>\n",
       "</div>"
      ],
      "text/plain": [
       "                                                    pred_score\n",
       "title                                                         \n",
       "Rear Window (1954)                                    5.704612\n",
       "South Park: Bigger, Longer and Uncut (1999)           5.451100\n",
       "Rounders (1998)                                       5.298393\n",
       "Blade Runner (1982)                                   5.244951\n",
       "Roger & Me (1989)                                     5.191962\n",
       "Gattaca (1997)                                        5.183179\n",
       "Ben-Hur (1959)                                        5.130463\n",
       "Rosencrantz and Guildenstern Are Dead (1990)          5.087375\n",
       "Big Lebowski, The (1998)                              5.038690\n",
       "Star Wars: Episode V - The Empire Strikes Back ...    4.989601"
      ]
     },
     "metadata": {},
     "output_type": "display_data"
    }
   ],
   "source": [
    "unseen_list = get_unseen_movies(ratings_matrix,userId=9)\n",
    "recomm_movies = recomm_movie_by_userid(ratings_pred_matrix, 9, unseen_list, top_n=10)\n",
    "recomm_movies = pd.DataFrame(recomm_movies.values,index=recomm_movies.index,columns=['pred_score'])\n",
    "display(recomm_movies)"
   ]
  }
 ],
 "metadata": {
  "kernelspec": {
   "display_name": "Python 3 (ipykernel)",
   "language": "python",
   "name": "python3"
  },
  "language_info": {
   "codemirror_mode": {
    "name": "ipython",
    "version": 3
   },
   "file_extension": ".py",
   "mimetype": "text/x-python",
   "name": "python",
   "nbconvert_exporter": "python",
   "pygments_lexer": "ipython3",
   "version": "3.11.7"
  }
 },
 "nbformat": 4,
 "nbformat_minor": 5
}
