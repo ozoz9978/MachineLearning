{
 "cells": [
  {
   "cell_type": "code",
   "execution_count": 9,
   "id": "7e30236b-df7d-4243-83fb-f3aab02a988c",
   "metadata": {},
   "outputs": [],
   "source": [
    "from sklearn.model_selection import train_test_split\n",
    "import numpy as np\n",
    "import pandas as pd\n",
    "import matplotlib.pyplot as plt\n",
    "from sklearn.preprocessing import OneHotEncoder,LabelEncoder\n",
    "from sklearn.linear_model import LogisticRegression\n",
    "from sklearn.metrics import accuracy_score, roc_auc_score, confusion_matrix"
   ]
  },
  {
   "cell_type": "code",
   "execution_count": 17,
   "id": "bd5cac23-3ff9-463d-8e4a-b8fd6d6aa6b7",
   "metadata": {},
   "outputs": [
    {
     "name": "stdout",
     "output_type": "stream",
     "text": [
      "정확도: 0.860\n",
      "AUC: 0.928\n",
      "정확도: 0.860\n",
      "AUC: 0.928\n"
     ]
    }
   ],
   "source": [
    "df_job = pd.read_csv(\"./데이터셋/Placement_Data_Full_Class.csv\")\n",
    "# print(df_job.isna().sum())\n",
    "# print(df_job.shape)\n",
    "# display(df_job.head())\n",
    "df_job.drop(['salary','sl_no'],axis=1, inplace=True)\n",
    "\n",
    "# 인코딩\n",
    "df_job2 = df_job.copy()\n",
    "df_job2 = df_job2.apply(lambda col:LabelEncoder().fit_transform(col) if col.dtype == object else col)\n",
    "\n",
    "df_job2.head()\n",
    "\n",
    "# 판다스를 이용한 원-핫 인코딩\n",
    "df_job2 = df_job.copy()\n",
    "cols =['gender','ssc_b','hsc_b','hsc_s','degree_t', 'workex', 'specialisation']\n",
    "df_job2 = pd.get_dummies(df_job2, columns=cols)\n",
    "df_job2.head()\n",
    "\n",
    "df_job2['status'] = df_job2['status'].map({'Not Placed' : 0, 'Placed' : 1})\n",
    "\n",
    "# 데이터 분리\n",
    "x = df_job2.drop('status', axis =1)\n",
    "y = df_job2['status']\n",
    "\n",
    "x_train, x_test, y_train, y_test = train_test_split(x, y, test_size=0.2, random_state=0, stratify=y)\n",
    "\n",
    "# 학습 및 평가 1 - 로지스틱회귀\n",
    "model = LogisticRegression(max_iter=2000)\n",
    "model.fit(x_train,y_train)\n",
    "y_hat=model.predict(x_test)\n",
    "cm = confusion_matrix(y_test, y_hat)\n",
    "print(f'정확도: {accuracy_score(y_test,y_hat):.3f}')\n",
    "print(f'AUC: {roc_auc_score(y_test, model.predict_proba(x_test)[:,1]):.3f}')\n",
    "\n",
    "# 학습 및 평가 2 - 그레디언트\n",
    "from sklearn.ensemble import GradientBoostingClassifier\n",
    "gbc = GradientBoostingClassifier()\n",
    "gbc.fit(x_train, y_train)\n",
    "y_hat = gbc.predict(x_test)\n",
    "cm = confusion_matrix(y_test, y_hat)\n",
    "print(f'정확도: {accuracy_score(y_test,y_hat):.3f}')\n",
    "print(f'AUC: {roc_auc_score(y_test, model.predict_proba(x_test)[:,1]):.3f}')"
   ]
  }
 ],
 "metadata": {
  "kernelspec": {
   "display_name": "Python 3 (ipykernel)",
   "language": "python",
   "name": "python3"
  },
  "language_info": {
   "codemirror_mode": {
    "name": "ipython",
    "version": 3
   },
   "file_extension": ".py",
   "mimetype": "text/x-python",
   "name": "python",
   "nbconvert_exporter": "python",
   "pygments_lexer": "ipython3",
   "version": "3.11.7"
  }
 },
 "nbformat": 4,
 "nbformat_minor": 5
}
