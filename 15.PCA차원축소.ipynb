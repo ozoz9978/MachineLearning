{
 "cells": [
  {
   "cell_type": "markdown",
   "id": "7718a85c-f09a-4186-a8f7-3a9d73a1fce2",
   "metadata": {},
   "source": [
    "#패키지 로딩"
   ]
  },
  {
   "cell_type": "code",
   "execution_count": 3,
   "id": "f73da8a8-c583-4b60-b769-e38490308564",
   "metadata": {},
   "outputs": [],
   "source": [
    "from sklearn.datasets import load_iris\n",
    "import numpy as np\n",
    "import pandas as pd"
   ]
  },
  {
   "cell_type": "code",
   "execution_count": 4,
   "id": "e7672f14-f0fc-423b-b5d8-6eed6ec73191",
   "metadata": {},
   "outputs": [],
   "source": [
    "x, y = load_iris(return_X_y=True) "
   ]
  },
  {
   "cell_type": "code",
   "execution_count": 5,
   "id": "b8cd0380-e309-486d-bd74-2e4539b81e33",
   "metadata": {},
   "outputs": [],
   "source": [
    "from sklearn.preprocessing import StandardScaler\n",
    "\n",
    "iris_scaled = StandardScaler().fit_transform(x)"
   ]
  },
  {
   "cell_type": "code",
   "execution_count": null,
   "id": "5b418c6c-cc43-4691-ab2d-530373be9758",
   "metadata": {},
   "outputs": [],
   "source": [
    "# 주성분 분석\n",
    "- 차원축소: 4차원 -> 2차원"
   ]
  },
  {
   "cell_type": "code",
   "execution_count": 6,
   "id": "8f2379ad-d57e-44b3-87cd-4164423c513d",
   "metadata": {},
   "outputs": [
    {
     "name": "stdout",
     "output_type": "stream",
     "text": [
      "(150, 2)\n"
     ]
    }
   ],
   "source": [
    "#데이터 로딩\n",
    "from sklearn.decomposition import PCA\n",
    "pca = PCA(n_components=2)\n",
    "iris_pca = pca.fit_transform(iris_scaled)\n",
    "print(iris_pca.shape)"
   ]
  },
  {
   "cell_type": "markdown",
   "id": "acc9aa73-227a-492a-9ea8-85ebaaa73284",
   "metadata": {},
   "source": [
    "# 주성분 확인"
   ]
  },
  {
   "cell_type": "code",
   "execution_count": 7,
   "id": "61253cac-d8ce-418c-98ef-227da88a8ad1",
   "metadata": {},
   "outputs": [
    {
     "data": {
      "text/html": [
       "<div>\n",
       "<style scoped>\n",
       "    .dataframe tbody tr th:only-of-type {\n",
       "        vertical-align: middle;\n",
       "    }\n",
       "\n",
       "    .dataframe tbody tr th {\n",
       "        vertical-align: top;\n",
       "    }\n",
       "\n",
       "    .dataframe thead th {\n",
       "        text-align: right;\n",
       "    }\n",
       "</style>\n",
       "<table border=\"1\" class=\"dataframe\">\n",
       "  <thead>\n",
       "    <tr style=\"text-align: right;\">\n",
       "      <th></th>\n",
       "      <th>PCA1</th>\n",
       "      <th>PCA2</th>\n",
       "      <th>class</th>\n",
       "    </tr>\n",
       "  </thead>\n",
       "  <tbody>\n",
       "    <tr>\n",
       "      <th>0</th>\n",
       "      <td>-2.264703</td>\n",
       "      <td>0.480027</td>\n",
       "      <td>0</td>\n",
       "    </tr>\n",
       "    <tr>\n",
       "      <th>1</th>\n",
       "      <td>-2.080961</td>\n",
       "      <td>-0.674134</td>\n",
       "      <td>0</td>\n",
       "    </tr>\n",
       "    <tr>\n",
       "      <th>2</th>\n",
       "      <td>-2.364229</td>\n",
       "      <td>-0.341908</td>\n",
       "      <td>0</td>\n",
       "    </tr>\n",
       "    <tr>\n",
       "      <th>3</th>\n",
       "      <td>-2.299384</td>\n",
       "      <td>-0.597395</td>\n",
       "      <td>0</td>\n",
       "    </tr>\n",
       "    <tr>\n",
       "      <th>4</th>\n",
       "      <td>-2.389842</td>\n",
       "      <td>0.646835</td>\n",
       "      <td>0</td>\n",
       "    </tr>\n",
       "  </tbody>\n",
       "</table>\n",
       "</div>"
      ],
      "text/plain": [
       "       PCA1      PCA2  class\n",
       "0 -2.264703  0.480027      0\n",
       "1 -2.080961 -0.674134      0\n",
       "2 -2.364229 -0.341908      0\n",
       "3 -2.299384 -0.597395      0\n",
       "4 -2.389842  0.646835      0"
      ]
     },
     "metadata": {},
     "output_type": "display_data"
    }
   ],
   "source": [
    "df_pca = pd.DataFrame(iris_pca, columns=['PCA1','PCA2'])\n",
    "df_pca['class'] = y\n",
    "display(df_pca.head())"
   ]
  },
  {
   "cell_type": "markdown",
   "id": "1dbb0261-a2cb-4468-b96e-5560e710aaee",
   "metadata": {},
   "source": [
    "# 2개 차원으로 데이터 시각화"
   ]
  },
  {
   "cell_type": "code",
   "execution_count": 12,
   "id": "48ddaa2b-c59f-473a-a29f-0846a66c6eee",
   "metadata": {},
   "outputs": [
    {
     "data": {
      "image/png": "[encoded data removed]",
      "text/plain": [
       "<Figure size 640x480 with 1 Axes>"
      ]
     },
     "metadata": {},
     "output_type": "display_data"
    }
   ],
   "source": [
    "import matplotlib.pyplot as plt\n",
    "marker = ['o','s','^']\n",
    "for i, m in enumerate(marker):\n",
    "    xdata = df_pca[df_pca['class'] == i]['PCA1']\n",
    "    ydata = df_pca[df_pca['class'] == i]['PCA2']\n",
    "    plt.scatter(xdata, ydata, marker=m, label=load_iris().target_names[i])\n",
    "plt.legend()\n",
    "plt.xlabel('PCA1')\n",
    "plt.ylabel('PCA2')\n",
    "plt.show()"
   ]
  },
  {
   "cell_type": "markdown",
   "id": "d95c8fb5-8726-4741-ad69-f5b2c2c2f687",
   "metadata": {},
   "source": [
    "# 꽃받침의 길이와 넓이 데이터로 시각화(비교)"
   ]
  },
  {
   "cell_type": "code",
   "execution_count": 22,
   "id": "1fa7d518-ee6e-4a2a-bdac-1462bc27a3f1",
   "metadata": {},
   "outputs": [
    {
     "data": {
      "text/html": [
       "<div>\n",
       "<style scoped>\n",
       "    .dataframe tbody tr th:only-of-type {\n",
       "        vertical-align: middle;\n",
       "    }\n",
       "\n",
       "    .dataframe tbody tr th {\n",
       "        vertical-align: top;\n",
       "    }\n",
       "\n",
       "    .dataframe thead th {\n",
       "        text-align: right;\n",
       "    }\n",
       "</style>\n",
       "<table border=\"1\" class=\"dataframe\">\n",
       "  <thead>\n",
       "    <tr style=\"text-align: right;\">\n",
       "      <th></th>\n",
       "      <th>sepal length (cm)</th>\n",
       "      <th>sepal width (cm)</th>\n",
       "      <th>class</th>\n",
       "    </tr>\n",
       "  </thead>\n",
       "  <tbody>\n",
       "    <tr>\n",
       "      <th>0</th>\n",
       "      <td>5.1</td>\n",
       "      <td>3.5</td>\n",
       "      <td>0</td>\n",
       "    </tr>\n",
       "    <tr>\n",
       "      <th>1</th>\n",
       "      <td>4.9</td>\n",
       "      <td>3.0</td>\n",
       "      <td>0</td>\n",
       "    </tr>\n",
       "    <tr>\n",
       "      <th>2</th>\n",
       "      <td>4.7</td>\n",
       "      <td>3.2</td>\n",
       "      <td>0</td>\n",
       "    </tr>\n",
       "    <tr>\n",
       "      <th>3</th>\n",
       "      <td>4.6</td>\n",
       "      <td>3.1</td>\n",
       "      <td>0</td>\n",
       "    </tr>\n",
       "    <tr>\n",
       "      <th>4</th>\n",
       "      <td>5.0</td>\n",
       "      <td>3.6</td>\n",
       "      <td>0</td>\n",
       "    </tr>\n",
       "  </tbody>\n",
       "</table>\n",
       "</div>"
      ],
      "text/plain": [
       "   sepal length (cm)  sepal width (cm)  class\n",
       "0                5.1               3.5      0\n",
       "1                4.9               3.0      0\n",
       "2                4.7               3.2      0\n",
       "3                4.6               3.1      0\n",
       "4                5.0               3.6      0"
      ]
     },
     "metadata": {},
     "output_type": "display_data"
    }
   ],
   "source": [
    "iris = load_iris()\n",
    "iris_df = pd.DataFrame(iris.data[:,:2],columns=iris.feature_names[:2])\n",
    "iris_df['class'] = iris.target\n",
    "display(iris_df.head())"
   ]
  },
  {
   "cell_type": "code",
   "execution_count": 24,
   "id": "245cb8c5-cebb-415b-9dcf-5df98979dfe7",
   "metadata": {},
   "outputs": [
    {
     "data": {
      "image/png": "[encoded data removed]",
      "text/plain": [
       "<Figure size 640x480 with 1 Axes>"
      ]
     },
     "metadata": {},
     "output_type": "display_data"
    }
   ],
   "source": [
    "marker = ['o','s','^']\n",
    "for i, m in enumerate(marker):\n",
    "    xdata = iris_df[iris_df['class'] == i]['sepal length (cm)']\n",
    "    ydata = iris_df[iris_df['class'] == i]['sepal width (cm)']\n",
    "    plt.scatter(xdata, ydata, marker=m, label=load_iris().target_names[i])\n",
    "plt.legend()\n",
    "plt.xlabel('sepal length (cm)')\n",
    "plt.ylabel('sepal width (cm)')\n",
    "plt.show()"
   ]
  },
  {
   "cell_type": "markdown",
   "id": "1ecf9051-0016-4c5e-a694-7a27268aaa64",
   "metadata": {},
   "source": [
    "# PCA에 따른 각각의 PC가 차지하는 변동성, 분산 확인"
   ]
  },
  {
   "cell_type": "code",
   "execution_count": 20,
   "id": "766a6b99-2060-4010-b07d-6407f1babdc9",
   "metadata": {},
   "outputs": [
    {
     "name": "stdout",
     "output_type": "stream",
     "text": [
      "[0.72962445 0.22850762]\n",
      "분산합계:0.96%\n"
     ]
    }
   ],
   "source": [
    "print(pca.explained_variance_ratio_)\n",
    "print(f'분산합계:{np.sum(pca.explained_variance_ratio_):.2f}%')"
   ]
  },
  {
   "cell_type": "markdown",
   "id": "2bf17a84-6482-4e83-83bd-fe7fb87e5ad4",
   "metadata": {},
   "source": [
    "# 적절한 차원 수 선택하기"
   ]
  },
  {
   "cell_type": "code",
   "execution_count": 26,
   "id": "f8237c8c-ba23-42cb-877e-2b2f8909cc33",
   "metadata": {},
   "outputs": [
    {
     "name": "stdout",
     "output_type": "stream",
     "text": [
      "[0.72962445 0.95813207 0.99482129 1.        ]\n"
     ]
    }
   ],
   "source": [
    "pca = PCA()\n",
    "pca.fit(iris_scaled)\n",
    "cusum = np.cumsum(pca.explained_variance_ratio_)\n",
    "print(cusum)\n",
    "# 누적 설명력 = 분산이 0.95를 넘어서는 pc의 개수\n",
    "d = np.argmax(cusum >= 0.95) + 1\n",
    "print(d)"
   ]
  },
  {
   "cell_type": "markdown",
   "id": "ea2a0f96-e380-4109-925f-145be82e5d45",
   "metadata": {},
   "source": [
    "# 주성분 수 선택을 위한 스크리 플롯 (엘보우 메서드) 그리기"
   ]
  },
  {
   "cell_type": "code",
   "execution_count": 28,
   "id": "2656a72b-a3a3-4ff9-b7c6-e398224cddc5",
   "metadata": {},
   "outputs": [
    {
     "data": {
      "image/png": "[encoded data removed]",
      "text/plain": [
       "<Figure size 640x480 with 1 Axes>"
      ]
     },
     "metadata": {},
     "output_type": "display_data"
    }
   ],
   "source": [
    "plt.plot(np.arange(1,5),cusum)\n",
    "plt.axis([1,4,cusum[0],1])\n",
    "plt.xlabel('Dimensions')\n",
    "plt.ylabel('Explained Variance')\n",
    "plt.grid(True)\n",
    "plt.show()"
   ]
  },
  {
   "cell_type": "markdown",
   "id": "5149503f-8655-4734-b235-b263ea84ee7c",
   "metadata": {},
   "source": [
    "# PCA 성능비교\n",
    "- 원본데이터와 PCA가 적용된 데이터를 활용한 분류 알고리즘 적용 결과 비교"
   ]
  },
  {
   "cell_type": "code",
   "execution_count": 30,
   "id": "1efbeea8-06cd-4dfa-877e-5bc54cba6e2a",
   "metadata": {},
   "outputs": [
    {
     "name": "stdout",
     "output_type": "stream",
     "text": [
      "평가지표: fit_time\n",
      "평균값: 0.1869964599609375\n",
      "평가지표: score_time\n",
      "평균값: 0.03297080993652344\n",
      "평가지표: test_accuracy\n",
      "평균값: 0.96\n",
      "평가지표: test_roc_auc_ovr\n",
      "평균값: 0.9890000000000001\n"
     ]
    }
   ],
   "source": [
    "from sklearn.ensemble import RandomForestClassifier\n",
    "from sklearn.model_selection import cross_validate\n",
    "model1 = RandomForestClassifier(random_state=10)\n",
    "score = cross_validate(model1, iris_scaled, y, scoring=['accuracy','roc_auc_ovr'], cv=5)\n",
    "for k, v in score.items():\n",
    "    print('평가지표:',k)\n",
    "    print('평균값:',np.mean(v))"
   ]
  },
  {
   "cell_type": "code",
   "execution_count": 32,
   "id": "664d04c3-d341-4f0c-9184-6c7605579a92",
   "metadata": {},
   "outputs": [
    {
     "name": "stdout",
     "output_type": "stream",
     "text": [
      "평가지표: fit_time\n",
      "평균값: 0.19086070060729982\n",
      "평가지표: score_time\n",
      "평균값: 0.028203487396240234\n",
      "평가지표: test_accuracy\n",
      "평균값: 0.8866666666666667\n",
      "평가지표: test_roc_auc_ovr\n",
      "평균값: 0.9720000000000001\n"
     ]
    }
   ],
   "source": [
    "model2 = RandomForestClassifier(random_state=10)\n",
    "score = cross_validate(model2, iris_pca, y, scoring=['accuracy','roc_auc_ovr'], cv=5)\n",
    "for k, v in score.items():\n",
    "    print('평가지표:',k)\n",
    "    print('평균값:',np.mean(v))"
   ]
  },
  {
   "cell_type": "code",
   "execution_count": null,
   "id": "0c8a6fb4-1f0b-42e2-b3b9-7a1c5ec09c49",
   "metadata": {},
   "outputs": [],
   "source": []
  }
 ],
 "metadata": {
  "kernelspec": {
   "display_name": "Python 3 (ipykernel)",
   "language": "python",
   "name": "python3"
  },
  "language_info": {
   "codemirror_mode": {
    "name": "ipython",
    "version": 3
   },
   "file_extension": ".py",
   "mimetype": "text/x-python",
   "name": "python",
   "nbconvert_exporter": "python",
   "pygments_lexer": "ipython3",
   "version": "3.11.7"
  }
 },
 "nbformat": 4,
 "nbformat_minor": 5
}
